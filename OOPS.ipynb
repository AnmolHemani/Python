{
  "nbformat": 4,
  "nbformat_minor": 0,
  "metadata": {
    "colab": {
      "provenance": [],
      "authorship_tag": "ABX9TyMEbxJeWYGablcRm4QH3Cuy",
      "include_colab_link": true
    },
    "kernelspec": {
      "name": "python3",
      "display_name": "Python 3"
    },
    "language_info": {
      "name": "python"
    }
  },
  "cells": [
    {
      "cell_type": "markdown",
      "metadata": {
        "id": "view-in-github",
        "colab_type": "text"
      },
      "source": [
        "<a href=\"https://colab.research.google.com/github/AnmolHemani/Python/blob/main/OOPS.ipynb\" target=\"_parent\"><img src=\"https://colab.research.google.com/assets/colab-badge.svg\" alt=\"Open In Colab\"/></a>"
      ]
    },
    {
      "cell_type": "code",
      "execution_count": null,
      "metadata": {
        "id": "4LBdFWuJp3UD"
      },
      "outputs": [],
      "source": [
        "# OOPS => Object Oriented Programming System => Classes and Object\n",
        "\n",
        "# Object is real-time entity => characteristics and behaviour/functionality\n",
        "# Object is the instance of the class which has characteristics and behaviour/functionality\n",
        "# We create characteristics using the variable\n",
        "\n",
        "# Classes => Template => Blue-Print\n",
        "# Classes are the blue-print of an object or we can say Classes is the collection of the objects"
      ]
    },
    {
      "cell_type": "code",
      "source": [
        "class HouseMaking:\n",
        "  color=\"white\"\n",
        "  room=6\n",
        "\n",
        "# Objectname=classname()\n",
        "h1=HouseMaking()\n",
        "print(h1)\n",
        "print(h1.color)\n",
        "print(h1.room)"
      ],
      "metadata": {
        "colab": {
          "base_uri": "https://localhost:8080/"
        },
        "id": "Tx2oBIrip5uA",
        "outputId": "51bfcf0a-ce3c-48d6-8853-09033d248c5e"
      },
      "execution_count": null,
      "outputs": [
        {
          "output_type": "stream",
          "name": "stdout",
          "text": [
            "<__main__.HouseMaking object at 0x7bbae9788e50>\n",
            "white\n",
            "6\n"
          ]
        }
      ]
    },
    {
      "cell_type": "code",
      "source": [
        "h2=HouseMaking()\n",
        "h2.color=\"pink\" # change the value of object without constructor\n",
        "print(h2.color)"
      ],
      "metadata": {
        "colab": {
          "base_uri": "https://localhost:8080/"
        },
        "id": "yiPpNHh8sQjt",
        "outputId": "a5a572a6-1ae9-4b25-acbd-fd9796f148e4"
      },
      "execution_count": null,
      "outputs": [
        {
          "output_type": "stream",
          "name": "stdout",
          "text": [
            "pink\n"
          ]
        }
      ]
    },
    {
      "cell_type": "code",
      "source": [
        "print(h1,h2) #Every object have different address\n",
        "print(h1.color)\n",
        "print(h2.color)"
      ],
      "metadata": {
        "colab": {
          "base_uri": "https://localhost:8080/"
        },
        "id": "ftFRDaOFskZ_",
        "outputId": "bd84437e-5244-44ff-c524-b4f82a13de9c"
      },
      "execution_count": null,
      "outputs": [
        {
          "output_type": "stream",
          "name": "stdout",
          "text": [
            "<__main__.HouseMaking object at 0x7bbae9788e50> <__main__.HouseMaking object at 0x7bbae98f2610>\n",
            "white\n",
            "pink\n"
          ]
        }
      ]
    },
    {
      "cell_type": "code",
      "source": [
        "class HouseMaking:\n",
        "  color=\"white\" #Variable in the class are the class variable\n",
        "  room=6  # Class variable is shares among all the object\n",
        "\n",
        "  def hinfo(self):\n",
        "    print(\"House info :\",self.color,self.room)\n",
        "\n",
        "h1=HouseMaking()\n",
        "h1.hinfo()"
      ],
      "metadata": {
        "colab": {
          "base_uri": "https://localhost:8080/"
        },
        "id": "BvPy7FMJtJe4",
        "outputId": "5cb146c3-ab3a-4133-c866-3f675e5656fc"
      },
      "execution_count": null,
      "outputs": [
        {
          "output_type": "stream",
          "name": "stdout",
          "text": [
            "House info : white 6\n"
          ]
        }
      ]
    },
    {
      "cell_type": "code",
      "source": [
        "# Constructor => is a function that is used to assign the memory to object\n",
        "# Default constructor in which value are fixed and not defined\n",
        "# Self is var that contains the current obj address inside the constructor\n",
        "# we can take any var name in place of self var\n",
        "\n",
        "class HouseMaking:\n",
        "  def __init__(self): #definind constructor which is __init__ function with def\n",
        "    print(\"called constructor\",self)\n",
        "\n",
        "h1=HouseMaking()\n",
        "print(h1)"
      ],
      "metadata": {
        "colab": {
          "base_uri": "https://localhost:8080/"
        },
        "id": "eS8MLmHgwket",
        "outputId": "eafd51d5-0f7c-4db6-9215-5fb52646c6fe"
      },
      "execution_count": null,
      "outputs": [
        {
          "output_type": "stream",
          "name": "stdout",
          "text": [
            "called constructor <__main__.HouseMaking object at 0x7bbae98ca4d0>\n",
            "<__main__.HouseMaking object at 0x7bbae98ca4d0>\n"
          ]
        }
      ]
    },
    {
      "cell_type": "code",
      "source": [
        "# How to convert a number into hexa-decimal and binary."
      ],
      "metadata": {
        "id": "gUa9Xudrss_d"
      },
      "execution_count": null,
      "outputs": []
    },
    {
      "cell_type": "code",
      "source": [
        "# leetcode reverse str\n",
        "# leetcode shortest word distance\n",
        "# leetcode move zeros\n",
        "# contains duplicate II\n",
        "# remove duplicates from sorted array\n",
        "\n",
        "# doc string function calling of doc string"
      ],
      "metadata": {
        "id": "4gftZN9Z1Teb"
      },
      "execution_count": null,
      "outputs": []
    }
  ]
}