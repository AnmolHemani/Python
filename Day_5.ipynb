{
  "nbformat": 4,
  "nbformat_minor": 0,
  "metadata": {
    "colab": {
      "provenance": [],
      "authorship_tag": "ABX9TyOHP+K0/xf+r2JGk6L3INNO",
      "include_colab_link": true
    },
    "kernelspec": {
      "name": "python3",
      "display_name": "Python 3"
    },
    "language_info": {
      "name": "python"
    }
  },
  "cells": [
    {
      "cell_type": "markdown",
      "metadata": {
        "id": "view-in-github",
        "colab_type": "text"
      },
      "source": [
        "<a href=\"https://colab.research.google.com/github/AnmolHemani/Python/blob/main/Day_5.ipynb\" target=\"_parent\"><img src=\"https://colab.research.google.com/assets/colab-badge.svg\" alt=\"Open In Colab\"/></a>"
      ]
    },
    {
      "cell_type": "code",
      "execution_count": null,
      "metadata": {
        "colab": {
          "base_uri": "https://localhost:8080/"
        },
        "id": "benbEhvLlXVF",
        "outputId": "f254fc0c-3fe5-438f-aa90-9f8593135dcf"
      },
      "outputs": [
        {
          "output_type": "stream",
          "name": "stdout",
          "text": [
            "42\n",
            "84\n",
            "126\n",
            "168\n",
            "210\n",
            "252\n",
            "294\n",
            "336\n",
            "378\n",
            "420\n"
          ]
        }
      ],
      "source": [
        "# num is div by all 2,6,7 using while loop\n",
        "\n",
        "n=42\n",
        "count=0\n",
        "while(count<10):\n",
        "  if(n%2==0 and n%6==0 and n%7==0):\n",
        "    print(n)\n",
        "    count+=1\n",
        "  n+=1\n"
      ]
    },
    {
      "cell_type": "code",
      "source": [
        "# we have value of a and b find the first num which is div by both a and b\n",
        "# using while loop\n",
        "\n",
        "a=3\n",
        "b=7\n",
        "num=1\n",
        "while(True):\n",
        "  if num%a==0 and num%b==0:\n",
        "    print(num)\n",
        "    break\n",
        "  num+=1"
      ],
      "metadata": {
        "colab": {
          "base_uri": "https://localhost:8080/"
        },
        "id": "tYLOVe89nxds",
        "outputId": "5f04266a-dfc8-485d-8743-2798442c591d"
      },
      "execution_count": null,
      "outputs": [
        {
          "output_type": "stream",
          "name": "stdout",
          "text": [
            "21\n"
          ]
        }
      ]
    },
    {
      "cell_type": "code",
      "source": [
        "# to take two num and find out the lcm of the num\n",
        "\n",
        "a=5\n",
        "b=9\n",
        "if a>b:\n",
        "  num=a\n",
        "else:\n",
        "  num=b\n",
        "while(True):\n",
        "  if num%a==0 and num%b==0:\n",
        "    print(\"lcm : \",num)\n",
        "    break\n",
        "  num+=1"
      ],
      "metadata": {
        "colab": {
          "base_uri": "https://localhost:8080/"
        },
        "id": "qLdaP8GHopwp",
        "outputId": "a552568d-2892-4ee9-9c93-bcbf61b38322"
      },
      "execution_count": null,
      "outputs": [
        {
          "output_type": "stream",
          "name": "stdout",
          "text": [
            "lcm :  45\n"
          ]
        }
      ]
    },
    {
      "cell_type": "code",
      "source": [
        "# palindrome str\n",
        "\n",
        "# 1 method\n",
        "# data='NAMAN'\n",
        "# start=0\n",
        "# end=len(data)-1\n",
        "# x=0\n",
        "# while(start<end):\n",
        "#   if data[start]==data[end]:\n",
        "#     x=0\n",
        "#   else:\n",
        "#     x+=1\n",
        "#     break\n",
        "#   start+=1\n",
        "#   end-=1\n",
        "# if x==1:\n",
        "#   print('not a valid palindrome')\n",
        "# else:\n",
        "#   print('valid palindrome')\n",
        "\n",
        "# 2 method\n",
        "data='NAMAN'\n",
        "start=0\n",
        "end=len(data)-1\n",
        "x=0\n",
        "while(start<end):\n",
        "  if data[start]!=data[end]:\n",
        "    x+=1\n",
        "    break\n",
        "  start+=1\n",
        "  end-=1\n",
        "if x==1:\n",
        "  print('not a valid palindrome')\n",
        "else:\n",
        "  print('valid palindrome')\n",
        "\n"
      ],
      "metadata": {
        "colab": {
          "base_uri": "https://localhost:8080/"
        },
        "id": "Jfn5q6LQuSoD",
        "outputId": "acedc49e-f4e8-4a64-809a-965160806825"
      },
      "execution_count": null,
      "outputs": [
        {
          "output_type": "stream",
          "name": "stdout",
          "text": [
            "valid palindrome\n"
          ]
        }
      ]
    },
    {
      "cell_type": "code",
      "source": [
        "# str is SAARAS check whether it is a palindrome or not\n",
        "\n",
        "# data='SARRAS'\n",
        "# start=0\n",
        "# end=len(data)-1\n",
        "# x=0\n",
        "# while(start<end):\n",
        "#   if data[start]==data[end]:\n",
        "#     x=0\n",
        "#   else:\n",
        "#     x+=1\n",
        "#     break\n",
        "#   start+=1\n",
        "#   end-=1\n",
        "# if x==0:\n",
        "#   print(\"valid palindrome\")\n",
        "# else:\n",
        "#   print(\"Not a valid palindrome\")\n",
        "\n",
        "# 2 method\n",
        "data='SARRAS'\n",
        "if data==data[::-1]:\n",
        "  print(\"Valid palindrome\")\n",
        "else:\n",
        "  print(\"Not a valid palindrome\")"
      ],
      "metadata": {
        "colab": {
          "base_uri": "https://localhost:8080/"
        },
        "id": "BkPoxpleyuZz",
        "outputId": "a1de287e-f94e-4bf7-9f90-ef8a0124645b"
      },
      "execution_count": null,
      "outputs": [
        {
          "output_type": "stream",
          "name": "stdout",
          "text": [
            "Valid palindrome\n"
          ]
        }
      ]
    },
    {
      "cell_type": "code",
      "source": [
        "# nested loops\n",
        "# loop inside the loop\n",
        "\n",
        "# 1 method\n",
        "# for x in range(1,5):\n",
        "#   print('employee',x)\n",
        "#   for y in range(1,x+1):\n",
        "#     print('food coupon',y)\n",
        "\n",
        "# 2 method\n",
        "# num=1\n",
        "# for x in range(1,5):\n",
        "#   print('employee',x)\n",
        "#   for y in range(1,num+1):\n",
        "#     print('food coupon',y)\n",
        "#   num+=1\n",
        "\n",
        "# reverse the same\n",
        "for x in range(1,5):\n",
        "  print('employee',x)\n",
        "  for y in range(x,5): #4,x-1,-1    5,x,-1\n",
        "    print('food coupon',y)"
      ],
      "metadata": {
        "colab": {
          "base_uri": "https://localhost:8080/"
        },
        "id": "ZWWiT96P1Qvj",
        "outputId": "e4472aac-6655-430f-e2d4-63c1268d1574"
      },
      "execution_count": null,
      "outputs": [
        {
          "output_type": "stream",
          "name": "stdout",
          "text": [
            "employee 1\n",
            "food coupon 1\n",
            "food coupon 2\n",
            "food coupon 3\n",
            "food coupon 4\n",
            "employee 2\n",
            "food coupon 2\n",
            "food coupon 3\n",
            "food coupon 4\n",
            "employee 3\n",
            "food coupon 3\n",
            "food coupon 4\n",
            "employee 4\n",
            "food coupon 4\n"
          ]
        }
      ]
    },
    {
      "cell_type": "code",
      "source": [
        "for i in range(2,8):\n",
        "  for j in range(1,11):\n",
        "    print(i*j,end=\" \")"
      ],
      "metadata": {
        "colab": {
          "base_uri": "https://localhost:8080/"
        },
        "id": "H5_VE4Lf52k8",
        "outputId": "fab95f45-ebd9-41d0-fa26-3b9b41a360c8"
      },
      "execution_count": null,
      "outputs": [
        {
          "output_type": "stream",
          "name": "stdout",
          "text": [
            "2 4 6 8 10 12 14 16 18 20 3 6 9 12 15 18 21 24 27 30 4 8 12 16 20 24 28 32 36 40 5 10 15 20 25 30 35 40 45 50 6 12 18 24 30 36 42 48 54 60 7 14 21 28 35 42 49 56 63 70 "
          ]
        }
      ]
    }
  ]
}