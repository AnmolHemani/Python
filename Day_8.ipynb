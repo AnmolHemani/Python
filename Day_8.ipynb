{
  "nbformat": 4,
  "nbformat_minor": 0,
  "metadata": {
    "colab": {
      "provenance": [],
      "authorship_tag": "ABX9TyN0UP+L+bKN5cX6hFGrtfYc",
      "include_colab_link": true
    },
    "kernelspec": {
      "name": "python3",
      "display_name": "Python 3"
    },
    "language_info": {
      "name": "python"
    }
  },
  "cells": [
    {
      "cell_type": "markdown",
      "metadata": {
        "id": "view-in-github",
        "colab_type": "text"
      },
      "source": [
        "<a href=\"https://colab.research.google.com/github/AnmolHemani/Python/blob/main/Day_8.ipynb\" target=\"_parent\"><img src=\"https://colab.research.google.com/assets/colab-badge.svg\" alt=\"Open In Colab\"/></a>"
      ]
    },
    {
      "cell_type": "code",
      "source": [
        "mylist=[10,20,4,7,5,12]\n",
        "x=[]\n",
        "for i in range(0,len(mylist)-1):\n",
        "  if(mylist[i]>mylist[i-1]):\n",
        "    # print(mylist[i])\n",
        "    x.append(mylist[i])\n",
        "print(\"X=\",x)"
      ],
      "metadata": {
        "colab": {
          "base_uri": "https://localhost:8080/"
        },
        "id": "nJgfAkjAj6aM",
        "outputId": "a766ce44-11a6-4f7e-8b6f-bc44b657570d"
      },
      "execution_count": 20,
      "outputs": [
        {
          "output_type": "stream",
          "name": "stdout",
          "text": [
            "X= [20, 7]\n"
          ]
        }
      ]
    },
    {
      "cell_type": "code",
      "source": [
        "mylist=[10,20,4,70,500,12,850]\n",
        "# for i in range(0,1):\n",
        "#   for j in range(i+1,len(mylist)):\n",
        "#     if(mylist[i]<mylist[j]):\n",
        "#       temp=mylist[j]\n",
        "#       mylist[i]=mylist[j]\n",
        "#       mylist[j]=temp\n",
        "#     else:\n",
        "#       temp=mylist[i]\n",
        "#       mylist[j]=mylist[i]\n",
        "#       mylist[i]=temp\n",
        "#   print(\"Greatest\",temp)\n",
        "\n",
        "# 2 method\n",
        "max=mylist[0]\n",
        "for i in range(1,len(mylist)):\n",
        "  if(mylist[i]>max):\n",
        "    max=mylist[i]\n",
        "print(\"Greatest\",max)"
      ],
      "metadata": {
        "colab": {
          "base_uri": "https://localhost:8080/"
        },
        "id": "HOFu6Qpmk37L",
        "outputId": "5f93cb7b-db27-4cc9-b31f-dd4012ebf5d1"
      },
      "execution_count": null,
      "outputs": [
        {
          "output_type": "stream",
          "name": "stdout",
          "text": [
            "Greatest 850\n"
          ]
        }
      ]
    },
    {
      "cell_type": "code",
      "source": [
        "mylist=[10,30,500,70,60,100]\n",
        "# find second max num in the list\n",
        "x=mylist[0]\n",
        "y=0\n",
        "for i in range(0,len(mylist)):\n",
        "  if(mylist[i]>x):\n",
        "    y=x\n",
        "    x=mylist[i]\n",
        "  elif(mylist[i]>y):\n",
        "    y=mylist[i]\n",
        "print(\"Second Greatest num in the list =\",y)"
      ],
      "metadata": {
        "colab": {
          "base_uri": "https://localhost:8080/"
        },
        "id": "Z8i8LTPRpA9D",
        "outputId": "4949a6b2-0d0e-495b-8473-0ed56bc11790"
      },
      "execution_count": null,
      "outputs": [
        {
          "output_type": "stream",
          "name": "stdout",
          "text": [
            "Second Greatest num in the list = 100\n"
          ]
        }
      ]
    },
    {
      "cell_type": "code",
      "source": [
        "mylist=[0,1,2,4,6,8,9,11]\n",
        "k=13\n",
        "for i in range(0,len(mylist)):\n",
        "  for j in range(i,len(mylist)):\n",
        "    if(mylist[i]+mylist[j]==k):\n",
        "      print(mylist[i],mylist[j])"
      ],
      "metadata": {
        "colab": {
          "base_uri": "https://localhost:8080/"
        },
        "id": "Z3UdVpflsxia",
        "outputId": "5290da50-a41f-4099-aace-4f32e50fb6c6"
      },
      "execution_count": null,
      "outputs": [
        {
          "output_type": "stream",
          "name": "stdout",
          "text": [
            "2 11\n",
            "4 9\n"
          ]
        }
      ]
    },
    {
      "cell_type": "code",
      "source": [
        "mylist=[0,1,2,4,6,8,9,11]\n",
        "k=13\n",
        "# do this with the use of single loop\n",
        "a=0\n",
        "b=len(mylist)-1\n",
        "sum=0\n",
        "while(sum<k):\n",
        "  sum=mylist[a]+mylist[b]\n",
        "  if(sum==k):\n",
        "    print(mylist[a],\"+\",mylist[b],\"=\",k)\n",
        "    sum=0\n",
        "    break\n",
        "  elif(sum<k):\n",
        "    a+=1\n",
        "  else:\n",
        "    b-=1"
      ],
      "metadata": {
        "colab": {
          "base_uri": "https://localhost:8080/"
        },
        "id": "KoCqpRmqAJI7",
        "outputId": "ef8a75ac-8c91-4814-8caf-81b539b78429"
      },
      "execution_count": 4,
      "outputs": [
        {
          "output_type": "stream",
          "name": "stdout",
          "text": [
            "2 + 11 = 13\n"
          ]
        }
      ]
    },
    {
      "cell_type": "code",
      "source": [
        "# learning assignment\n",
        "\n",
        "# what is time complexity\n",
        "# --> It is the amount of time taken by an algorithm to run\n",
        "# --> as a function of length of the input\n",
        "# --> it is use to make better programs\n",
        "# --> it is use to compare the algorithm\n",
        "# --> for upper bound we have big O notation #this is imp for interview\n",
        "# --> for avg case complexity we have theta\n",
        "# --> for lower bound we have omega\n",
        "\n",
        "# how to calculate the time complexity\n",
        "# --> constant time : O(1) fixed time\n",
        "# --> linear time : O(n) for n times\n",
        "# --> logarithmic time : O(logn) for binary search\n",
        "# --> Quadratic time : O(n**2) like we run for loop again we run for loop inside it\n",
        "# --> cubic time : O(n**3) like we run for loop inside again for loop and again inside for loop\n",
        "# O(n!)       ^    High\n",
        "# O(2**n)     |\n",
        "# O(n**3)     |\n",
        "# O(n**2)     |\n",
        "# O(n logn)   |  Complexity\n",
        "# O(n)        |\n",
        "# O(logn)     |\n",
        "# O(1)        |    Low\n",
        "\n",
        "# enumerate vs zip function(interview)\n",
        "# --> enumerate : enumerate() is used to convert into a list of tuples using the list() method.\n",
        "#     syntax : enumerate(iterable,start=0)\n",
        "#     --> iterable is any object which support iteration.\n",
        "#     --> start by default it is 0 and the index value from where we have to start.\n",
        "# --> zip : zip() method takes iterable and returns a single iterator object which have mapped values.\n",
        "#     syntax : zip(*iterators)\n",
        "# --> using both at a time we can iterate two or more list or objects.\n",
        "#     syntax : enumerate(zip(list1,list2,......,listn))\n",
        "# --> we can iterate this in for loop.\n",
        "#     syntax : for var1,var2,...,var n in enumerate(zip(list1,list2,......,listn))\n",
        "#     in this list1,list2... are the input lists\n",
        "#     and var1,var2,..... are the iterators to iterate the lists\n",
        "# --> we can also do this by using tuplet(t).\n",
        "#     syntax : for i,t in enumerate(zip(list1,list2,..,listn))\n",
        "\n",
        "# revise list\n",
        "# -->done\n",
        "\n",
        "# what is dictionary and its uses\n",
        "# --> Dictionaries are ordered collection of data items. They store multiple items\n",
        "#     in a single variable. Dictionary items are key value pairs that are separated\n",
        "#     by commas and enclosed within curly brackets{}.\n",
        "#  Example\n",
        "info={'name':'Anmol','age':22,'eligible':True}\n",
        "print(info)\n",
        "\n",
        "# for accessing single values\n",
        "print(info['name'])\n",
        "# or\n",
        "print(info.get('name'))\n",
        "\n",
        "# for accessing multiple values and keys\n",
        "print(info.keys())\n",
        "print(info.values())\n",
        "# or\n",
        "for key in info.keys():\n",
        "  print(key ,\":\", info[key])\n",
        "\n",
        "# for accessing key value pairs\n",
        "print(info.items())\n",
        "# or\n",
        "for key,value in info.items():\n",
        "  print(key,\":\",value)"
      ],
      "metadata": {
        "id": "9_--5NpfxGCE",
        "colab": {
          "base_uri": "https://localhost:8080/"
        },
        "outputId": "1622c1c3-c93b-4d9d-f09d-2390cb01a6f1"
      },
      "execution_count": 3,
      "outputs": [
        {
          "output_type": "stream",
          "name": "stdout",
          "text": [
            "{'name': 'Anmol', 'age': 22, 'eligible': True}\n",
            "Anmol\n",
            "Anmol\n",
            "dict_keys(['name', 'age', 'eligible'])\n",
            "dict_values(['Anmol', 22, True])\n",
            "name : Anmol\n",
            "age : 22\n",
            "eligible : True\n",
            "dict_items([('name', 'Anmol'), ('age', 22), ('eligible', True)])\n",
            "name : Anmol\n",
            "age : 22\n",
            "eligible : True\n"
          ]
        }
      ]
    }
  ]
}