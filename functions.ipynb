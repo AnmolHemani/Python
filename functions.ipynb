{
  "nbformat": 4,
  "nbformat_minor": 0,
  "metadata": {
    "colab": {
      "provenance": [],
      "authorship_tag": "ABX9TyMsgiuLsR5QvIJ2Rlm84Y9p",
      "include_colab_link": true
    },
    "kernelspec": {
      "name": "python3",
      "display_name": "Python 3"
    },
    "language_info": {
      "name": "python"
    }
  },
  "cells": [
    {
      "cell_type": "markdown",
      "metadata": {
        "id": "view-in-github",
        "colab_type": "text"
      },
      "source": [
        "<a href=\"https://colab.research.google.com/github/AnmolHemani/Python/blob/main/functions.ipynb\" target=\"_parent\"><img src=\"https://colab.research.google.com/assets/colab-badge.svg\" alt=\"Open In Colab\"/></a>"
      ]
    },
    {
      "cell_type": "code",
      "execution_count": null,
      "metadata": {
        "id": "vPy15fjOtMQf"
      },
      "outputs": [],
      "source": [
        "# function\n",
        "# block of code\n",
        "# we can use it for converting your code into smaller portion of code\n",
        "# help in reusability\n",
        "# debugging\n",
        "# def is a keyword to define the function"
      ]
    },
    {
      "cell_type": "code",
      "source": [
        "def hello():  #funtion define\n",
        "  print(\"Hey\")   #block of code\n",
        "  print(\"Anmol\")\n",
        "hello()   #function call\n",
        "hello()"
      ],
      "metadata": {
        "colab": {
          "base_uri": "https://localhost:8080/"
        },
        "id": "SWOFxexSte06",
        "outputId": "e08ef34a-7fe8-4677-d7ff-36dbfdefcd5e"
      },
      "execution_count": null,
      "outputs": [
        {
          "output_type": "stream",
          "name": "stdout",
          "text": [
            "Hey\n",
            "Anmol\n",
            "Hey\n",
            "Anmol\n"
          ]
        }
      ]
    },
    {
      "cell_type": "code",
      "source": [
        "def hello():\n",
        "  z=\"Anmol\"  #local variable\n",
        "  print(\"Hey\",z)\n",
        "hello()"
      ],
      "metadata": {
        "colab": {
          "base_uri": "https://localhost:8080/"
        },
        "id": "Wj4w8DGlvhvW",
        "outputId": "68acb1e6-9197-4810-9622-c79038029e64"
      },
      "execution_count": null,
      "outputs": [
        {
          "output_type": "stream",
          "name": "stdout",
          "text": [
            "Hey Anmol\n"
          ]
        }
      ]
    },
    {
      "cell_type": "code",
      "source": [
        "def hello(z): #z is parameter / formal argument\n",
        "  print(\"Hey\",z)\n",
        "hello(\"Anmol\")  #Anmol is argument / formal parameter"
      ],
      "metadata": {
        "colab": {
          "base_uri": "https://localhost:8080/"
        },
        "id": "yzChAt0pw5s4",
        "outputId": "be9a6b81-4d1e-4910-a6bc-e60e315dda0c"
      },
      "execution_count": null,
      "outputs": [
        {
          "output_type": "stream",
          "name": "stdout",
          "text": [
            "Hey Anmol\n"
          ]
        }
      ]
    },
    {
      "cell_type": "code",
      "source": [
        "def hello(z,z1):\n",
        "  print(\"Hey\",z,z1)\n",
        "hello(\"Anmol\",100)"
      ],
      "metadata": {
        "colab": {
          "base_uri": "https://localhost:8080/"
        },
        "id": "A0ERFTwHxZp4",
        "outputId": "1e9062f1-741b-42cc-a56a-c5956d49a14b"
      },
      "execution_count": null,
      "outputs": [
        {
          "output_type": "stream",
          "name": "stdout",
          "text": [
            "Hey Anmol 100\n"
          ]
        }
      ]
    },
    {
      "cell_type": "code",
      "source": [
        "xGlobal=10   #Global Variable\n",
        "def hello():\n",
        "  print(\"Hey\",xGlobal)\n",
        "hello()\n",
        "print(xGlobal)"
      ],
      "metadata": {
        "colab": {
          "base_uri": "https://localhost:8080/"
        },
        "id": "1lWlasF6yZ5w",
        "outputId": "0775e267-3b3f-43ff-c616-5c0a2931d663"
      },
      "execution_count": null,
      "outputs": [
        {
          "output_type": "stream",
          "name": "stdout",
          "text": [
            "Hey 10\n",
            "10\n"
          ]
        }
      ]
    },
    {
      "cell_type": "code",
      "source": [
        "xGlobal=10   #Global Variable\n",
        "def hello():\n",
        "  xGlobal=\"abc\"  #Local Variable\n",
        "  print(\"Hey\",xGlobal)\n",
        "hello()\n",
        "print(xGlobal)"
      ],
      "metadata": {
        "colab": {
          "base_uri": "https://localhost:8080/"
        },
        "id": "X7z5JKvxylXn",
        "outputId": "f9cfe221-3e40-4eb5-a7f4-af1e9b057203"
      },
      "execution_count": null,
      "outputs": [
        {
          "output_type": "stream",
          "name": "stdout",
          "text": [
            "Hey abc\n",
            "10\n"
          ]
        }
      ]
    },
    {
      "cell_type": "code",
      "source": [
        "x=10   #Global Variable\n",
        "def hello():\n",
        "  global x    #it changes the local var to global var\n",
        "  x=\"abc\"   #Local variable changes to Global Variable\n",
        "  print(\"Hey\",x)\n",
        "hello()\n",
        "print(x)"
      ],
      "metadata": {
        "colab": {
          "base_uri": "https://localhost:8080/"
        },
        "id": "9FITvnjxy-is",
        "outputId": "539d8f7c-f93d-4789-c25d-5ffd515e27da"
      },
      "execution_count": null,
      "outputs": [
        {
          "output_type": "stream",
          "name": "stdout",
          "text": [
            "Hey abc\n",
            "abc\n"
          ]
        }
      ]
    },
    {
      "cell_type": "code",
      "source": [
        "x=10\n",
        "def func(x):   #x is local var\n",
        "  print(\"Hey\",x)\n",
        "func(500)"
      ],
      "metadata": {
        "colab": {
          "base_uri": "https://localhost:8080/"
        },
        "id": "H80yE-S2ztbu",
        "outputId": "ffc7d7dc-d749-4715-e370-94e6c2c022e0"
      },
      "execution_count": null,
      "outputs": [
        {
          "output_type": "stream",
          "name": "stdout",
          "text": [
            "Hey 500\n"
          ]
        }
      ]
    },
    {
      "cell_type": "code",
      "source": [
        "# learning assignment\n",
        "# Valid paranthesis we have done it with list but try to do it with dict\n",
        "# number to roman\n",
        "# list comprehension\n",
        "# dict comprehension"
      ],
      "metadata": {
        "id": "NJuKHdWm02Hw"
      },
      "execution_count": null,
      "outputs": []
    },
    {
      "cell_type": "code",
      "source": [
        "def func(num):\n",
        "  print(\"function is :\",num)\n",
        "  print(id(num))\n",
        "x=10\n",
        "func(x)\n",
        "print(id(x))"
      ],
      "metadata": {
        "colab": {
          "base_uri": "https://localhost:8080/"
        },
        "id": "UTSoRylWsRwi",
        "outputId": "c4c4f8ff-6d82-4826-cc82-81ec38e3bc55"
      },
      "execution_count": null,
      "outputs": [
        {
          "output_type": "stream",
          "name": "stdout",
          "text": [
            "function is : 10\n",
            "10751144\n",
            "10751144\n"
          ]
        }
      ]
    },
    {
      "cell_type": "code",
      "source": [
        "# Immutable datatype has no changed to global var when local var changed\n",
        "\n",
        "def func(num):\n",
        "  print(\"function is :\",id(num),num)\n",
        "  num=600\n",
        "  print(\"function new :\",id(num),num)\n",
        "num=10\n",
        "func(num)\n",
        "print(\"Before :\",id(num))\n",
        "print(\"After :\",id(num))"
      ],
      "metadata": {
        "colab": {
          "base_uri": "https://localhost:8080/"
        },
        "id": "QouOmuIeuWwA",
        "outputId": "f567d094-40e3-427b-c395-f1b94d98c7a7"
      },
      "execution_count": null,
      "outputs": [
        {
          "output_type": "stream",
          "name": "stdout",
          "text": [
            "function is : 10751144 10\n",
            "function new : 136849084393584 600\n",
            "Before : 10751144\n",
            "After : 10751144\n"
          ]
        }
      ]
    },
    {
      "cell_type": "code",
      "source": [
        "# Mutuable data type is vice versa of immutable data type\n",
        "\n",
        "def func(num1):\n",
        "  print(\"function is :\",id(num1),num1)\n",
        "  num1.append(30)\n",
        "  print(\"function new :\",id(num1),num1)\n",
        "num=[10,20]\n",
        "func(num)\n",
        "print(\"Before :\",id(num))\n",
        "print(\"After :\",id(num))"
      ],
      "metadata": {
        "colab": {
          "base_uri": "https://localhost:8080/"
        },
        "id": "l2otkkkdwJK8",
        "outputId": "86689f4d-7f38-4ef6-da19-e1ba76485899"
      },
      "execution_count": null,
      "outputs": [
        {
          "output_type": "stream",
          "name": "stdout",
          "text": [
            "function is : 136849094835200 [10, 20]\n",
            "function new : 136849094835200 [10, 20, 30]\n",
            "Before : 136849094835200\n",
            "After : 136849094835200\n"
          ]
        }
      ]
    },
    {
      "cell_type": "code",
      "source": [
        "def func(num1):\n",
        "  num1.append(30)\n",
        "num=[10,20]\n",
        "func(num)\n",
        "print(\"New num :\",num)"
      ],
      "metadata": {
        "colab": {
          "base_uri": "https://localhost:8080/"
        },
        "id": "X1NhpPSLxrkp",
        "outputId": "4cf35eb4-475c-4b42-a75e-43b580f200ba"
      },
      "execution_count": null,
      "outputs": [
        {
          "output_type": "stream",
          "name": "stdout",
          "text": [
            "New num : [10, 20, 30]\n"
          ]
        }
      ]
    },
    {
      "cell_type": "code",
      "source": [
        "# Type of argument passing in function\n",
        "\n",
        "def func(x,y,z):\n",
        "  print(\"x :\",x,\"y :\",y,\"z :\",z)\n",
        "func(10,20,30)  # Required argument is equal to parameter\n",
        "func(30,10,20)  # Positional argument is based on the position given in parameter"
      ],
      "metadata": {
        "colab": {
          "base_uri": "https://localhost:8080/"
        },
        "id": "OyvwzFTMyZZs",
        "outputId": "97624fd7-8f87-4f71-be83-b4cfdde727a0"
      },
      "execution_count": null,
      "outputs": [
        {
          "output_type": "stream",
          "name": "stdout",
          "text": [
            "x : 10 y : 20 z : 30\n",
            "x : 30 y : 10 z : 20\n"
          ]
        }
      ]
    },
    {
      "cell_type": "code",
      "source": [
        "def func(x,y,z):\n",
        "  print(\"x :\",x,\"y :\",y,\"z :\",z)\n",
        "func(y=20,x=10,z=30)  # keyword argument we have fixed the argument value of parameter\n",
        "func(10,z=20,y=30) # if we use both keyword and position argument give the position according to the parameter"
      ],
      "metadata": {
        "colab": {
          "base_uri": "https://localhost:8080/"
        },
        "id": "kwy9i8DMzYvK",
        "outputId": "bb8544f9-546d-4efc-9fa8-d9ccaf54b5d7"
      },
      "execution_count": null,
      "outputs": [
        {
          "output_type": "stream",
          "name": "stdout",
          "text": [
            "x : 10 y : 20 z : 30\n",
            "x : 10 y : 30 z : 20\n"
          ]
        }
      ]
    },
    {
      "cell_type": "code",
      "source": [
        "def func(x,y,z=30):\n",
        "  print(\"x :\",x,\"y :\",y,\"z :\",z)\n",
        "func(10,y=20)  # default argument"
      ],
      "metadata": {
        "colab": {
          "base_uri": "https://localhost:8080/"
        },
        "id": "s9Da6XbK0U4o",
        "outputId": "16b28dd3-027f-475b-dd04-c7af8cfbebcd"
      },
      "execution_count": null,
      "outputs": [
        {
          "output_type": "stream",
          "name": "stdout",
          "text": [
            "x : 10 y : 20 z : 30\n"
          ]
        }
      ]
    },
    {
      "cell_type": "code",
      "source": [
        "# Prime num\n",
        "\n",
        "def primeCheck(num):\n",
        "  x=0\n",
        "  for i in range(2,num):\n",
        "    if(num%i==0):\n",
        "      x=1\n",
        "      break\n",
        "  if(x==1):\n",
        "    print(\"Not a Prime num.\")\n",
        "  else:\n",
        "    print(\"Prime num.\")\n",
        "num=int(input(\"Enter the num :\"))\n",
        "primeCheck(num)"
      ],
      "metadata": {
        "colab": {
          "base_uri": "https://localhost:8080/"
        },
        "id": "3ImXooS92Gav",
        "outputId": "39a7d231-de8e-4185-ee77-b71483cd16e8"
      },
      "execution_count": null,
      "outputs": [
        {
          "output_type": "stream",
          "name": "stdout",
          "text": [
            "Enter the num :11\n",
            "Prime num.\n"
          ]
        }
      ]
    },
    {
      "cell_type": "code",
      "source": [
        "# Armstrong num\n",
        "\n",
        "def armStrong(num):\n",
        "  sum=0\n",
        "  temp=num\n",
        "  while(num>0):\n",
        "    rem=num%10\n",
        "    sum=sum+rem*rem*rem\n",
        "    num=num//10\n",
        "  if(temp==sum):\n",
        "    print(\"Armstrong num.\")\n",
        "  else:\n",
        "    print(\"Not a Armstrong num.\")\n",
        "num=int(input(\"Enter the num :\"))\n",
        "armStrong(num)"
      ],
      "metadata": {
        "colab": {
          "base_uri": "https://localhost:8080/"
        },
        "id": "MxOz_kDn3ita",
        "outputId": "517e7068-3b39-4f31-f125-e722494ea02d"
      },
      "execution_count": null,
      "outputs": [
        {
          "output_type": "stream",
          "name": "stdout",
          "text": [
            "Enter the num :153\n",
            "Armstrong num.\n"
          ]
        }
      ]
    },
    {
      "cell_type": "code",
      "source": [
        "def func(x):\n",
        "  print(x+10) # Print function just display the output and doesn't return and we can't store it's value in any var\n",
        "  return \"abc\" # return we give us the value and we can store it in var\n",
        "y=func(10)  #y=abc\n",
        "print(\"Y :\",y)"
      ],
      "metadata": {
        "colab": {
          "base_uri": "https://localhost:8080/"
        },
        "id": "_Hx1T5Y95KPT",
        "outputId": "4ec3cece-72b5-4a79-d531-114fab866c7d"
      },
      "execution_count": null,
      "outputs": [
        {
          "output_type": "stream",
          "name": "stdout",
          "text": [
            "20\n",
            "Y : abc\n"
          ]
        }
      ]
    },
    {
      "cell_type": "code",
      "source": [
        "# Learning Assignment\n",
        "\n",
        "# virtual environment\n",
        "# first class function vs high ordered function"
      ],
      "metadata": {
        "id": "RkWYq2RC6eyf"
      },
      "execution_count": null,
      "outputs": []
    },
    {
      "cell_type": "code",
      "source": [
        "def func(eid=20 , name=\"anmol\"):\n",
        "  print(\"eid:\",eid,\"name:\",name)\n",
        "\n",
        "func(eid=10)\n",
        "func(10,\"regex\")\n",
        "func()"
      ],
      "metadata": {
        "id": "8uGWr9eNJaU6",
        "colab": {
          "base_uri": "https://localhost:8080/"
        },
        "outputId": "44f34f78-967a-4083-deda-1e4db76005be"
      },
      "execution_count": 9,
      "outputs": [
        {
          "output_type": "stream",
          "name": "stdout",
          "text": [
            "eid: 10 name: anmol\n",
            "eid: 10 name: regex\n",
            "eid: 20 name: anmol\n"
          ]
        }
      ]
    },
    {
      "cell_type": "code",
      "source": [
        "# Variable length argument (*var) (*args)\n",
        "# we use this mostly when we want to keep the things optional\n",
        "\n",
        "def func(*data):\n",
        "  print(data,type(data))\n",
        "\n",
        "func()\n",
        "func(10,20)\n",
        "func(10,20,\"abc\")"
      ],
      "metadata": {
        "colab": {
          "base_uri": "https://localhost:8080/"
        },
        "id": "0AE3reABVKZW",
        "outputId": "4eb3171d-70ce-485d-96f2-e7e938d458e5"
      },
      "execution_count": 18,
      "outputs": [
        {
          "output_type": "stream",
          "name": "stdout",
          "text": [
            "() <class 'tuple'>\n",
            "(10, 20) <class 'tuple'>\n",
            "(10, 20, 'abc') <class 'tuple'>\n"
          ]
        }
      ]
    },
    {
      "cell_type": "code",
      "source": [
        "# Keyword variable length argument is used to keep better the things then var length argument\n",
        "# (**var) (**kwargs)\n",
        "\n",
        "# *args and **kwargs (for interview these var can be used for difference b/w var len arg and keyword var len arg)\n",
        "\n",
        "def func(**data):\n",
        "  print(data, type(data))\n",
        "\n",
        "func(eid=10, salary=20)\n",
        "func(eid=10, salary=20, name=\"abc\")"
      ],
      "metadata": {
        "colab": {
          "base_uri": "https://localhost:8080/"
        },
        "id": "vcLlMNWUWiWE",
        "outputId": "de9a83c4-ba57-46e0-f3c3-ea5f0a27be2e"
      },
      "execution_count": 19,
      "outputs": [
        {
          "output_type": "stream",
          "name": "stdout",
          "text": [
            "{'eid': 10, 'salary': 20} <class 'dict'>\n",
            "{'eid': 10, 'salary': 20, 'name': 'abc'} <class 'dict'>\n"
          ]
        }
      ]
    },
    {
      "cell_type": "code",
      "source": [
        "# First Class function\n",
        "\n",
        "# Assigned to Variables: We can assign functions to variables.\n",
        "# Passed as Arguments: We can pass functions as arguments to other functions.\n",
        "# Returned from Functions: Functions can return other functions.\n",
        "# Stored in Data Structures: Functions can be stored in data structures such as lists, dictionaries, etc.\n",
        "\n",
        "def func(num):\n",
        "  print(num+5)\n",
        "  return num+5\n",
        "\n",
        "y=func(20)\n",
        "print(\"Y:\",y)"
      ],
      "metadata": {
        "colab": {
          "base_uri": "https://localhost:8080/"
        },
        "id": "wmEqraAHXycy",
        "outputId": "9f9d52cc-7b11-4f8e-88f2-6d969b983eee"
      },
      "execution_count": 29,
      "outputs": [
        {
          "output_type": "stream",
          "name": "stdout",
          "text": [
            "25\n",
            "Y: 25\n"
          ]
        }
      ]
    },
    {
      "cell_type": "code",
      "source": [
        "# --> Assigned to Variables\n",
        "\n",
        "def func():\n",
        "  print(\"hello func\")\n",
        "\n",
        "x=func  # we have assigned func to a var\n",
        "print(func,x) #both have the same memory address\n",
        "func()\n",
        "x()"
      ],
      "metadata": {
        "colab": {
          "base_uri": "https://localhost:8080/"
        },
        "id": "uApkUPaoadSe",
        "outputId": "2e96f678-18c4-4b18-d344-dbc1b4cd59ce"
      },
      "execution_count": 34,
      "outputs": [
        {
          "output_type": "stream",
          "name": "stdout",
          "text": [
            "<function func at 0x79ce380fcae0> <function func at 0x79ce380fcae0>\n",
            "hello func\n",
            "hello func\n"
          ]
        }
      ]
    },
    {
      "cell_type": "code",
      "source": [
        "def square(num):\n",
        "  print(num**2)\n",
        "\n",
        "def cube(x,y):\n",
        "  print(\"cube:\",x,y)\n",
        "\n",
        "cube(10 , square(4))\n",
        "cube(10 , square)"
      ],
      "metadata": {
        "colab": {
          "base_uri": "https://localhost:8080/"
        },
        "id": "hnGpyG5Sbugo",
        "outputId": "00edd1fc-05b5-4720-c28a-d7571ef9ce3f"
      },
      "execution_count": 39,
      "outputs": [
        {
          "output_type": "stream",
          "name": "stdout",
          "text": [
            "16\n",
            "cube: 10 None\n",
            "cube: 10 <function square at 0x79ce4c69ff60>\n"
          ]
        }
      ]
    },
    {
      "cell_type": "code",
      "source": [
        "def square(num):\n",
        "  print(num**2)\n",
        "\n",
        "def cube(x,y):\n",
        "  print(\"cube:\",x,y)\n",
        "  y(4)\n",
        "\n",
        "cube(10 , square)"
      ],
      "metadata": {
        "colab": {
          "base_uri": "https://localhost:8080/"
        },
        "id": "WzPvyz_FeT0V",
        "outputId": "5401cc0c-5d36-4c51-a019-a6262072eb7b"
      },
      "execution_count": 40,
      "outputs": [
        {
          "output_type": "stream",
          "name": "stdout",
          "text": [
            "cube: 10 <function square at 0x79ce4c69f240>\n",
            "16\n"
          ]
        }
      ]
    },
    {
      "cell_type": "code",
      "source": [
        "# If a parameter of a func is passed to another func then it is also known as high order function.\n",
        "# all high order func are first class func but vice versa is not possible.\n",
        "\n",
        "def square(num):\n",
        "  return(num**2)\n",
        "\n",
        "def cube(x,y):\n",
        "  print(\"cube:\",x,y(x))\n",
        "  print(\"cube:\",x*y(x))\n",
        "\n",
        "cube(10 , square)"
      ],
      "metadata": {
        "colab": {
          "base_uri": "https://localhost:8080/"
        },
        "id": "_wovHkflezqd",
        "outputId": "5f272408-00fd-497a-b7ab-28a9a88748d7"
      },
      "execution_count": 54,
      "outputs": [
        {
          "output_type": "stream",
          "name": "stdout",
          "text": [
            "cube: 10 100\n",
            "cube: 1000\n"
          ]
        }
      ]
    },
    {
      "cell_type": "code",
      "source": [
        "# Category A1 (my category)\n",
        "\n",
        "# Leetcode\n",
        "# Three sum (ques 15)\n",
        "# Two Sum II (ques 167) --> done\n",
        "# Best buy to Buy and Sell Stock (ques 121) --> done\n",
        "\n",
        "# Pyramid Questions\n",
        "#    *\n",
        "#   * *\n",
        "#  *   *\n",
        "# *******\n",
        "\n",
        "for i in range(1,5):\n",
        "  for k in range(1,5-i):\n",
        "    print(\" \",end=\"\")\n",
        "  for j in range(1,2*i):\n",
        "    if(i==4 or j==1 or j==2*i-1):\n",
        "      print(\"*\",end=\"\")\n",
        "    else:\n",
        "      print(\" \",end=\"\")\n",
        "  print(\"\")\n",
        "print(\"\")\n",
        "\n",
        "#         1\n",
        "#       2 3 2\n",
        "#     3 4 5 4 3\n",
        "#   4 5 6 7 6 5 4\n",
        "# 5 6 7 8 9 8 7 6 5\n",
        "\n",
        "for i in range(1,6):\n",
        "  for k in range(i,5):\n",
        "    print(\" \",end=\" \")\n",
        "  for j in range(i,i*2):\n",
        "    print(j,end=\" \")\n",
        "  for l in range(i*2-2,i-1,-1):\n",
        "    print(l,end=\" \")\n",
        "  print(\"\")\n",
        "print(\"\")\n",
        "\n",
        "#         *\n",
        "#       * * *\n",
        "#     *   *   *\n",
        "#   *     *     *\n",
        "# * * * * * * * * *\n",
        "\n",
        "for i in range(1,6):\n",
        "  for k in range(1,6-i):\n",
        "    print(\" \",end=\" \")\n",
        "  for j in range(1,2*i):\n",
        "    if(i==5 or j==1 or j==2*i-1 or j==i):\n",
        "      print(\"*\",end=\" \")\n",
        "    else:\n",
        "      print(\" \",end=\" \")\n",
        "  print(\"\")\n",
        "print(\"\")\n",
        "\n",
        "#  Category A2\n",
        "\n",
        "# Nested loop overview\n",
        "# --> take a num from 2 to 5 and print its table\n",
        "for i in range(2,6):\n",
        "  for j in range(1,11):\n",
        "    print(i*j,end=\" \")\n",
        "print(\"\")\n",
        "print(\"\")\n",
        "\n",
        "# --> take a num from 6 to 2 and print its table\n",
        "for i in range(6,1,-1):\n",
        "  for j in range(1,11):\n",
        "    print(i*j,end=\" \")\n",
        "print(\"\")\n",
        "print(\"\")\n",
        "\n",
        "# --> take a num from 6 to 2 and print its table in reverse\n",
        "for i in range(6,1,-1):\n",
        "  for j in range(10,0,-1):\n",
        "    print(i*j,end=\" \")\n",
        "print(\"\")\n",
        "print(\"\")\n",
        "\n",
        "# Check a num is a prime num or not\n",
        "num=int(input(\"Enter the num :\"))\n",
        "a=0\n",
        "for i in range(2,num):\n",
        "  if(num%i==0):\n",
        "    a=1\n",
        "if(a==1):\n",
        "  print(\"Not a Prime num.\")\n",
        "else:\n",
        "  print(\"Prime num.\")\n",
        "print(\"\")\n",
        "\n",
        "# Take a range of values from 2 to 19 and print all prime num\n",
        "a=0\n",
        "for i in range(2,20):\n",
        "  for j in range(2,i):\n",
        "    if(i%j==0):\n",
        "      break\n",
        "  else:\n",
        "    print(i,end=\" \")\n",
        "print(\"\")\n",
        "print(\"\")\n",
        "# Patterns\n",
        "# --> ****\n",
        "#     ***\n",
        "#     **\n",
        "#     *\n",
        "for i in range(1,5):\n",
        "  for j in range(i,5):\n",
        "    print(\"*\",end=\"\")\n",
        "  print(\"\")\n",
        "print(\"\")\n",
        "\n",
        "# --> $$$*\n",
        "#     $$**\n",
        "#     $***\n",
        "#     ****\n",
        "for i in range(1,5):\n",
        "  for k in range(4,i,-1):\n",
        "    print(\"$\",end=\"\")\n",
        "  for j in range(1,i+1):\n",
        "    print(\"*\",end=\"\")\n",
        "  print(\"\")\n",
        "\n",
        "# Read about list and check all its func append pop remove sort insert."
      ],
      "metadata": {
        "colab": {
          "base_uri": "https://localhost:8080/"
        },
        "id": "bpthrYV5hEEj",
        "outputId": "fc6bd7c2-081d-4bd7-fff8-7bbc285c9355"
      },
      "execution_count": 1,
      "outputs": [
        {
          "output_type": "stream",
          "name": "stdout",
          "text": [
            "   *\n",
            "  * *\n",
            " *   *\n",
            "*******\n",
            "\n",
            "        1 \n",
            "      2 3 2 \n",
            "    3 4 5 4 3 \n",
            "  4 5 6 7 6 5 4 \n",
            "5 6 7 8 9 8 7 6 5 \n",
            "\n",
            "        * \n",
            "      * * * \n",
            "    *   *   * \n",
            "  *     *     * \n",
            "* * * * * * * * * \n",
            "\n",
            "2 4 6 8 10 12 14 16 18 20 3 6 9 12 15 18 21 24 27 30 4 8 12 16 20 24 28 32 36 40 5 10 15 20 25 30 35 40 45 50 \n",
            "\n",
            "6 12 18 24 30 36 42 48 54 60 5 10 15 20 25 30 35 40 45 50 4 8 12 16 20 24 28 32 36 40 3 6 9 12 15 18 21 24 27 30 2 4 6 8 10 12 14 16 18 20 \n",
            "\n",
            "60 54 48 42 36 30 24 18 12 6 50 45 40 35 30 25 20 15 10 5 40 36 32 28 24 20 16 12 8 4 30 27 24 21 18 15 12 9 6 3 20 18 16 14 12 10 8 6 4 2 \n",
            "\n",
            "Enter the num :5\n",
            "Prime num.\n",
            "\n",
            "2 3 5 7 11 13 17 19 \n",
            "\n",
            "****\n",
            "***\n",
            "**\n",
            "*\n",
            "\n",
            "$$$*\n",
            "$$**\n",
            "$***\n",
            "****\n"
          ]
        }
      ]
    },
    {
      "cell_type": "code",
      "source": [
        "# Lambda function\n",
        "# anonymous function => no name function\n",
        "# one line function\n",
        "# code readable"
      ],
      "metadata": {
        "id": "8sOD4Cv2ckTl"
      },
      "execution_count": 1,
      "outputs": []
    },
    {
      "cell_type": "code",
      "source": [
        "def func(x):\n",
        "  y=x.split(\" \")\n",
        "  print(y)\n",
        "\n",
        "a=func\n",
        "a(\"hey hyy\")"
      ],
      "metadata": {
        "colab": {
          "base_uri": "https://localhost:8080/"
        },
        "id": "PKu77XNAcuZ6",
        "outputId": "d37e389c-a5f9-4994-8e49-1c88334bf950"
      },
      "execution_count": 6,
      "outputs": [
        {
          "output_type": "stream",
          "name": "stdout",
          "text": [
            "['hey', 'hyy']\n"
          ]
        }
      ]
    },
    {
      "cell_type": "code",
      "source": [
        "# lambda parameter : expression\n",
        "a=lambda x: x.split(\" \")\n",
        "a(\"hey hyy\")"
      ],
      "metadata": {
        "colab": {
          "base_uri": "https://localhost:8080/"
        },
        "id": "NiAmufygdBcv",
        "outputId": "e8f07531-40f8-4ac2-8d4b-4b5f600c9f8f"
      },
      "execution_count": 9,
      "outputs": [
        {
          "output_type": "execute_result",
          "data": {
            "text/plain": [
              "['hey', 'hyy']"
            ]
          },
          "metadata": {},
          "execution_count": 9
        }
      ]
    },
    {
      "cell_type": "code",
      "source": [
        "# map, filter\n",
        "# [10,20,30,40,55,61]\n",
        "# map basically takes each element at a time and returns the value."
      ],
      "metadata": {
        "id": "as469vgQeTmj"
      },
      "execution_count": 10,
      "outputs": []
    },
    {
      "cell_type": "code",
      "source": [
        "def func5(num):\n",
        "  return num*5\n",
        "\n",
        "out=map(func5, [10,20,30,40,55,61] )\n",
        "next(out)"
      ],
      "metadata": {
        "colab": {
          "base_uri": "https://localhost:8080/"
        },
        "id": "B6QgXrCcf9kL",
        "outputId": "4d517956-7e47-4269-eb82-46086236c262"
      },
      "execution_count": 32,
      "outputs": [
        {
          "output_type": "execute_result",
          "data": {
            "text/plain": [
              "50"
            ]
          },
          "metadata": {},
          "execution_count": 32
        }
      ]
    },
    {
      "cell_type": "code",
      "source": [
        "list(map(lambda num: num*5, [10,20,30,40,55,61]))"
      ],
      "metadata": {
        "colab": {
          "base_uri": "https://localhost:8080/"
        },
        "id": "N8Bi6Z9MhHid",
        "outputId": "ba5f27c9-b8db-43f1-d4a3-48462d94e707"
      },
      "execution_count": 48,
      "outputs": [
        {
          "output_type": "execute_result",
          "data": {
            "text/plain": [
              "[50, 100, 150, 200, 275, 305]"
            ]
          },
          "metadata": {},
          "execution_count": 48
        }
      ]
    },
    {
      "cell_type": "code",
      "source": [
        "# Take a list of value and get only the even digit using filter\n",
        "list1=list(map(lambda num: num%2==0,[10,20,30,40,55,61]))\n",
        "list2=list(filter(lambda num: num%2==0,[10,20,30,40,55,61]))\n",
        "print(list1)\n",
        "print(list2) #filter will help us to get the true value output according to the condition."
      ],
      "metadata": {
        "colab": {
          "base_uri": "https://localhost:8080/"
        },
        "id": "AuxYjiDehQWB",
        "outputId": "60b33258-b84e-46e1-f4da-a3ab4fd8f217"
      },
      "execution_count": 55,
      "outputs": [
        {
          "output_type": "stream",
          "name": "stdout",
          "text": [
            "[True, True, True, True, False, False]\n",
            "[10, 20, 30, 40]\n"
          ]
        }
      ]
    }
  ]
}