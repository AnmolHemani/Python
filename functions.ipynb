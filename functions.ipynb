{
  "nbformat": 4,
  "nbformat_minor": 0,
  "metadata": {
    "colab": {
      "provenance": [],
      "authorship_tag": "ABX9TyME4xpqaTXVam1+K4QIXF+t",
      "include_colab_link": true
    },
    "kernelspec": {
      "name": "python3",
      "display_name": "Python 3"
    },
    "language_info": {
      "name": "python"
    }
  },
  "cells": [
    {
      "cell_type": "markdown",
      "metadata": {
        "id": "view-in-github",
        "colab_type": "text"
      },
      "source": [
        "<a href=\"https://colab.research.google.com/github/AnmolHemani/Python/blob/main/functions.ipynb\" target=\"_parent\"><img src=\"https://colab.research.google.com/assets/colab-badge.svg\" alt=\"Open In Colab\"/></a>"
      ]
    },
    {
      "cell_type": "code",
      "execution_count": null,
      "metadata": {
        "id": "vPy15fjOtMQf"
      },
      "outputs": [],
      "source": [
        "# function\n",
        "# block of code\n",
        "# we can use it for converting your code into smaller portion of code\n",
        "# help in reusability\n",
        "# debugging\n",
        "# def is a keyword to define the function"
      ]
    },
    {
      "cell_type": "code",
      "source": [
        "def hello():  #funtion define\n",
        "  print(\"Hey\")   #block of code\n",
        "  print(\"Anmol\")\n",
        "hello()   #function call\n",
        "hello()"
      ],
      "metadata": {
        "colab": {
          "base_uri": "https://localhost:8080/"
        },
        "id": "SWOFxexSte06",
        "outputId": "e08ef34a-7fe8-4677-d7ff-36dbfdefcd5e"
      },
      "execution_count": null,
      "outputs": [
        {
          "output_type": "stream",
          "name": "stdout",
          "text": [
            "Hey\n",
            "Anmol\n",
            "Hey\n",
            "Anmol\n"
          ]
        }
      ]
    },
    {
      "cell_type": "code",
      "source": [
        "def hello():\n",
        "  z=\"Anmol\"  #local variable\n",
        "  print(\"Hey\",z)\n",
        "hello()"
      ],
      "metadata": {
        "colab": {
          "base_uri": "https://localhost:8080/"
        },
        "id": "Wj4w8DGlvhvW",
        "outputId": "68acb1e6-9197-4810-9622-c79038029e64"
      },
      "execution_count": null,
      "outputs": [
        {
          "output_type": "stream",
          "name": "stdout",
          "text": [
            "Hey Anmol\n"
          ]
        }
      ]
    },
    {
      "cell_type": "code",
      "source": [
        "def hello(z): #z is parameter / formal argument\n",
        "  print(\"Hey\",z)\n",
        "hello(\"Anmol\")  #Anmol is argument / formal parameter"
      ],
      "metadata": {
        "colab": {
          "base_uri": "https://localhost:8080/"
        },
        "id": "yzChAt0pw5s4",
        "outputId": "be9a6b81-4d1e-4910-a6bc-e60e315dda0c"
      },
      "execution_count": 3,
      "outputs": [
        {
          "output_type": "stream",
          "name": "stdout",
          "text": [
            "Hey Anmol\n"
          ]
        }
      ]
    },
    {
      "cell_type": "code",
      "source": [
        "def hello(z,z1):\n",
        "  print(\"Hey\",z,z1)\n",
        "hello(\"Anmol\",100)"
      ],
      "metadata": {
        "colab": {
          "base_uri": "https://localhost:8080/"
        },
        "id": "A0ERFTwHxZp4",
        "outputId": "1e9062f1-741b-42cc-a56a-c5956d49a14b"
      },
      "execution_count": null,
      "outputs": [
        {
          "output_type": "stream",
          "name": "stdout",
          "text": [
            "Hey Anmol 100\n"
          ]
        }
      ]
    },
    {
      "cell_type": "code",
      "source": [
        "xGlobal=10   #Global Variable\n",
        "def hello():\n",
        "  print(\"Hey\",xGlobal)\n",
        "hello()\n",
        "print(xGlobal)"
      ],
      "metadata": {
        "colab": {
          "base_uri": "https://localhost:8080/"
        },
        "id": "1lWlasF6yZ5w",
        "outputId": "0775e267-3b3f-43ff-c616-5c0a2931d663"
      },
      "execution_count": null,
      "outputs": [
        {
          "output_type": "stream",
          "name": "stdout",
          "text": [
            "Hey 10\n",
            "10\n"
          ]
        }
      ]
    },
    {
      "cell_type": "code",
      "source": [
        "xGlobal=10   #Global Variable\n",
        "def hello():\n",
        "  xGlobal=\"abc\"  #Local Variable\n",
        "  print(\"Hey\",xGlobal)\n",
        "hello()\n",
        "print(xGlobal)"
      ],
      "metadata": {
        "colab": {
          "base_uri": "https://localhost:8080/"
        },
        "id": "X7z5JKvxylXn",
        "outputId": "f9cfe221-3e40-4eb5-a7f4-af1e9b057203"
      },
      "execution_count": null,
      "outputs": [
        {
          "output_type": "stream",
          "name": "stdout",
          "text": [
            "Hey abc\n",
            "10\n"
          ]
        }
      ]
    },
    {
      "cell_type": "code",
      "source": [
        "x=10   #Global Variable\n",
        "def hello():\n",
        "  global x    #it changes the local var to global var\n",
        "  x=\"abc\"   #Local variable changes to Global Variable\n",
        "  print(\"Hey\",x)\n",
        "hello()\n",
        "print(x)"
      ],
      "metadata": {
        "colab": {
          "base_uri": "https://localhost:8080/"
        },
        "id": "9FITvnjxy-is",
        "outputId": "539d8f7c-f93d-4789-c25d-5ffd515e27da"
      },
      "execution_count": null,
      "outputs": [
        {
          "output_type": "stream",
          "name": "stdout",
          "text": [
            "Hey abc\n",
            "abc\n"
          ]
        }
      ]
    },
    {
      "cell_type": "code",
      "source": [
        "x=10\n",
        "def func(x):   #x is local var\n",
        "  print(\"Hey\",x)\n",
        "func(500)"
      ],
      "metadata": {
        "colab": {
          "base_uri": "https://localhost:8080/"
        },
        "id": "H80yE-S2ztbu",
        "outputId": "ffc7d7dc-d749-4715-e370-94e6c2c022e0"
      },
      "execution_count": null,
      "outputs": [
        {
          "output_type": "stream",
          "name": "stdout",
          "text": [
            "Hey 500\n"
          ]
        }
      ]
    },
    {
      "cell_type": "code",
      "source": [
        "# learning assignment\n",
        "# Valid paranthesis we have done it with list but try to do it with dict\n",
        "# number to roman\n",
        "# list comprehension\n",
        "# dict comprehension"
      ],
      "metadata": {
        "id": "NJuKHdWm02Hw"
      },
      "execution_count": null,
      "outputs": []
    },
    {
      "cell_type": "code",
      "source": [
        "def func(num):\n",
        "  print(\"function is :\",num)\n",
        "  print(id(num))\n",
        "x=10\n",
        "func(x)\n",
        "print(id(x))"
      ],
      "metadata": {
        "colab": {
          "base_uri": "https://localhost:8080/"
        },
        "id": "UTSoRylWsRwi",
        "outputId": "c4c4f8ff-6d82-4826-cc82-81ec38e3bc55"
      },
      "execution_count": 5,
      "outputs": [
        {
          "output_type": "stream",
          "name": "stdout",
          "text": [
            "function is : 10\n",
            "10751144\n",
            "10751144\n"
          ]
        }
      ]
    },
    {
      "cell_type": "code",
      "source": [
        "# Immutable datatype has no changed to global var when local var changed\n",
        "\n",
        "def func(num):\n",
        "  print(\"function is :\",id(num),num)\n",
        "  num=600\n",
        "  print(\"function new :\",id(num),num)\n",
        "num=10\n",
        "func(num)\n",
        "print(\"Before :\",id(num))\n",
        "print(\"After :\",id(num))"
      ],
      "metadata": {
        "colab": {
          "base_uri": "https://localhost:8080/"
        },
        "id": "QouOmuIeuWwA",
        "outputId": "f567d094-40e3-427b-c395-f1b94d98c7a7"
      },
      "execution_count": 23,
      "outputs": [
        {
          "output_type": "stream",
          "name": "stdout",
          "text": [
            "function is : 10751144 10\n",
            "function new : 136849084393584 600\n",
            "Before : 10751144\n",
            "After : 10751144\n"
          ]
        }
      ]
    },
    {
      "cell_type": "code",
      "source": [
        "# Mutuable data type is vice versa of immutable data type\n",
        "\n",
        "def func(num1):\n",
        "  print(\"function is :\",id(num1),num1)\n",
        "  num1.append(30)\n",
        "  print(\"function new :\",id(num1),num1)\n",
        "num=[10,20]\n",
        "func(num)\n",
        "print(\"Before :\",id(num))\n",
        "print(\"After :\",id(num))"
      ],
      "metadata": {
        "colab": {
          "base_uri": "https://localhost:8080/"
        },
        "id": "l2otkkkdwJK8",
        "outputId": "86689f4d-7f38-4ef6-da19-e1ba76485899"
      },
      "execution_count": 24,
      "outputs": [
        {
          "output_type": "stream",
          "name": "stdout",
          "text": [
            "function is : 136849094835200 [10, 20]\n",
            "function new : 136849094835200 [10, 20, 30]\n",
            "Before : 136849094835200\n",
            "After : 136849094835200\n"
          ]
        }
      ]
    },
    {
      "cell_type": "code",
      "source": [
        "def func(num1):\n",
        "  num1.append(30)\n",
        "num=[10,20]\n",
        "func(num)\n",
        "print(\"New num :\",num)"
      ],
      "metadata": {
        "colab": {
          "base_uri": "https://localhost:8080/"
        },
        "id": "X1NhpPSLxrkp",
        "outputId": "4cf35eb4-475c-4b42-a75e-43b580f200ba"
      },
      "execution_count": 27,
      "outputs": [
        {
          "output_type": "stream",
          "name": "stdout",
          "text": [
            "New num : [10, 20, 30]\n"
          ]
        }
      ]
    },
    {
      "cell_type": "code",
      "source": [
        "# Type of argument passing in function\n",
        "\n",
        "def func(x,y,z):\n",
        "  print(\"x :\",x,\"y :\",y,\"z :\",z)\n",
        "func(10,20,30)  # Required argument is equal to parameter\n",
        "func(30,10,20)  # Positional argument is based on the position given in parameter"
      ],
      "metadata": {
        "colab": {
          "base_uri": "https://localhost:8080/"
        },
        "id": "OyvwzFTMyZZs",
        "outputId": "97624fd7-8f87-4f71-be83-b4cfdde727a0"
      },
      "execution_count": 33,
      "outputs": [
        {
          "output_type": "stream",
          "name": "stdout",
          "text": [
            "x : 10 y : 20 z : 30\n",
            "x : 30 y : 10 z : 20\n"
          ]
        }
      ]
    },
    {
      "cell_type": "code",
      "source": [
        "def func(x,y,z):\n",
        "  print(\"x :\",x,\"y :\",y,\"z :\",z)\n",
        "func(y=20,x=10,z=30)  # keyword argument we have fixed the argument value of parameter\n",
        "func(10,z=20,y=30) # if we use both keyword and position argument give the position according to the parameter"
      ],
      "metadata": {
        "colab": {
          "base_uri": "https://localhost:8080/"
        },
        "id": "kwy9i8DMzYvK",
        "outputId": "bb8544f9-546d-4efc-9fa8-d9ccaf54b5d7"
      },
      "execution_count": 36,
      "outputs": [
        {
          "output_type": "stream",
          "name": "stdout",
          "text": [
            "x : 10 y : 20 z : 30\n",
            "x : 10 y : 30 z : 20\n"
          ]
        }
      ]
    },
    {
      "cell_type": "code",
      "source": [
        "def func(x,y,z=30):\n",
        "  print(\"x :\",x,\"y :\",y,\"z :\",z)\n",
        "func(10,y=20)  # default argument"
      ],
      "metadata": {
        "colab": {
          "base_uri": "https://localhost:8080/"
        },
        "id": "s9Da6XbK0U4o",
        "outputId": "16b28dd3-027f-475b-dd04-c7af8cfbebcd"
      },
      "execution_count": 38,
      "outputs": [
        {
          "output_type": "stream",
          "name": "stdout",
          "text": [
            "x : 10 y : 20 z : 30\n"
          ]
        }
      ]
    },
    {
      "cell_type": "code",
      "source": [
        "# Prime num\n",
        "\n",
        "def primeCheck(num):\n",
        "  x=0\n",
        "  for i in range(2,num):\n",
        "    if(num%i==0):\n",
        "      x=1\n",
        "      break\n",
        "  if(x==1):\n",
        "    print(\"Not a Prime num.\")\n",
        "  else:\n",
        "    print(\"Prime num.\")\n",
        "num=int(input(\"Enter the num :\"))\n",
        "primeCheck(num)"
      ],
      "metadata": {
        "colab": {
          "base_uri": "https://localhost:8080/"
        },
        "id": "3ImXooS92Gav",
        "outputId": "39a7d231-de8e-4185-ee77-b71483cd16e8"
      },
      "execution_count": 50,
      "outputs": [
        {
          "output_type": "stream",
          "name": "stdout",
          "text": [
            "Enter the num :11\n",
            "Prime num.\n"
          ]
        }
      ]
    },
    {
      "cell_type": "code",
      "source": [
        "# Armstrong num\n",
        "\n",
        "def armStrong(num):\n",
        "  sum=0\n",
        "  temp=num\n",
        "  while(num>0):\n",
        "    rem=num%10\n",
        "    sum=sum+rem*rem*rem\n",
        "    num=num//10\n",
        "  if(temp==sum):\n",
        "    print(\"Armstrong num.\")\n",
        "  else:\n",
        "    print(\"Not a Armstrong num.\")\n",
        "num=int(input(\"Enter the num :\"))\n",
        "armStrong(num)"
      ],
      "metadata": {
        "colab": {
          "base_uri": "https://localhost:8080/"
        },
        "id": "MxOz_kDn3ita",
        "outputId": "517e7068-3b39-4f31-f125-e722494ea02d"
      },
      "execution_count": 51,
      "outputs": [
        {
          "output_type": "stream",
          "name": "stdout",
          "text": [
            "Enter the num :153\n",
            "Armstrong num.\n"
          ]
        }
      ]
    },
    {
      "cell_type": "code",
      "source": [
        "def func(x):\n",
        "  print(x+10) # Print function just display the output and doesn't return and we can't store it's value in any var\n",
        "  return \"abc\" # return we give us the value and we can store it in var\n",
        "y=func(10)  #y=abc\n",
        "print(\"Y :\",y)"
      ],
      "metadata": {
        "colab": {
          "base_uri": "https://localhost:8080/"
        },
        "id": "_Hx1T5Y95KPT",
        "outputId": "4ec3cece-72b5-4a79-d531-114fab866c7d"
      },
      "execution_count": 55,
      "outputs": [
        {
          "output_type": "stream",
          "name": "stdout",
          "text": [
            "20\n",
            "Y : abc\n"
          ]
        }
      ]
    },
    {
      "cell_type": "code",
      "source": [
        "# Learning Assignment\n",
        "\n",
        "# virtual environment\n",
        "# first class function vs high ordered function"
      ],
      "metadata": {
        "id": "RkWYq2RC6eyf"
      },
      "execution_count": 56,
      "outputs": []
    }
  ]
}