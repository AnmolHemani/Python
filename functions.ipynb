{
  "nbformat": 4,
  "nbformat_minor": 0,
  "metadata": {
    "colab": {
      "provenance": [],
      "authorship_tag": "ABX9TyMUQ4c7kYGqtdI4x0Lwufff",
      "include_colab_link": true
    },
    "kernelspec": {
      "name": "python3",
      "display_name": "Python 3"
    },
    "language_info": {
      "name": "python"
    }
  },
  "cells": [
    {
      "cell_type": "markdown",
      "metadata": {
        "id": "view-in-github",
        "colab_type": "text"
      },
      "source": [
        "<a href=\"https://colab.research.google.com/github/AnmolHemani/Python/blob/main/functions.ipynb\" target=\"_parent\"><img src=\"https://colab.research.google.com/assets/colab-badge.svg\" alt=\"Open In Colab\"/></a>"
      ]
    },
    {
      "cell_type": "code",
      "execution_count": null,
      "metadata": {
        "id": "vPy15fjOtMQf"
      },
      "outputs": [],
      "source": [
        "# function\n",
        "# block of code\n",
        "# we can use it for converting your code into smaller portion of code\n",
        "# help in reusability\n",
        "# debugging\n",
        "# def is a keyword to define the function"
      ]
    },
    {
      "cell_type": "code",
      "source": [
        "def hello():  #funtion define\n",
        "  print(\"Hey\")   #block of code\n",
        "  print(\"Anmol\")\n",
        "hello()   #function call\n",
        "hello()"
      ],
      "metadata": {
        "colab": {
          "base_uri": "https://localhost:8080/"
        },
        "id": "SWOFxexSte06",
        "outputId": "e08ef34a-7fe8-4677-d7ff-36dbfdefcd5e"
      },
      "execution_count": null,
      "outputs": [
        {
          "output_type": "stream",
          "name": "stdout",
          "text": [
            "Hey\n",
            "Anmol\n",
            "Hey\n",
            "Anmol\n"
          ]
        }
      ]
    },
    {
      "cell_type": "code",
      "source": [
        "def hello():\n",
        "  z=\"Anmol\"  #local variable\n",
        "  print(\"Hey\",z)\n",
        "hello()"
      ],
      "metadata": {
        "colab": {
          "base_uri": "https://localhost:8080/"
        },
        "id": "Wj4w8DGlvhvW",
        "outputId": "68acb1e6-9197-4810-9622-c79038029e64"
      },
      "execution_count": null,
      "outputs": [
        {
          "output_type": "stream",
          "name": "stdout",
          "text": [
            "Hey Anmol\n"
          ]
        }
      ]
    },
    {
      "cell_type": "code",
      "source": [
        "def hello(z):\n",
        "  print(\"Hey\",z)\n",
        "hello(\"Anmol\")"
      ],
      "metadata": {
        "colab": {
          "base_uri": "https://localhost:8080/"
        },
        "id": "yzChAt0pw5s4",
        "outputId": "2d2052e3-e21a-4371-e537-538fb354e4b6"
      },
      "execution_count": null,
      "outputs": [
        {
          "output_type": "stream",
          "name": "stdout",
          "text": [
            "Hey Anmol\n"
          ]
        }
      ]
    },
    {
      "cell_type": "code",
      "source": [
        "def hello(z,z1):\n",
        "  print(\"Hey\",z,z1)\n",
        "hello(\"Anmol\",100)"
      ],
      "metadata": {
        "colab": {
          "base_uri": "https://localhost:8080/"
        },
        "id": "A0ERFTwHxZp4",
        "outputId": "1e9062f1-741b-42cc-a56a-c5956d49a14b"
      },
      "execution_count": null,
      "outputs": [
        {
          "output_type": "stream",
          "name": "stdout",
          "text": [
            "Hey Anmol 100\n"
          ]
        }
      ]
    },
    {
      "cell_type": "code",
      "source": [
        "xGlobal=10   #Global Variable\n",
        "def hello():\n",
        "  print(\"Hey\",xGlobal)\n",
        "hello()\n",
        "print(xGlobal)"
      ],
      "metadata": {
        "colab": {
          "base_uri": "https://localhost:8080/"
        },
        "id": "1lWlasF6yZ5w",
        "outputId": "0775e267-3b3f-43ff-c616-5c0a2931d663"
      },
      "execution_count": null,
      "outputs": [
        {
          "output_type": "stream",
          "name": "stdout",
          "text": [
            "Hey 10\n",
            "10\n"
          ]
        }
      ]
    },
    {
      "cell_type": "code",
      "source": [
        "xGlobal=10   #Global Variable\n",
        "def hello():\n",
        "  xGlobal=\"abc\"  #Local Variable\n",
        "  print(\"Hey\",xGlobal)\n",
        "hello()\n",
        "print(xGlobal)"
      ],
      "metadata": {
        "colab": {
          "base_uri": "https://localhost:8080/"
        },
        "id": "X7z5JKvxylXn",
        "outputId": "f9cfe221-3e40-4eb5-a7f4-af1e9b057203"
      },
      "execution_count": null,
      "outputs": [
        {
          "output_type": "stream",
          "name": "stdout",
          "text": [
            "Hey abc\n",
            "10\n"
          ]
        }
      ]
    },
    {
      "cell_type": "code",
      "source": [
        "x=10   #Global Variable\n",
        "def hello():\n",
        "  global x    #it changes the local var to global var\n",
        "  x=\"abc\"   #Local variable changes to Global Variable\n",
        "  print(\"Hey\",x)\n",
        "hello()\n",
        "print(x)"
      ],
      "metadata": {
        "colab": {
          "base_uri": "https://localhost:8080/"
        },
        "id": "9FITvnjxy-is",
        "outputId": "539d8f7c-f93d-4789-c25d-5ffd515e27da"
      },
      "execution_count": null,
      "outputs": [
        {
          "output_type": "stream",
          "name": "stdout",
          "text": [
            "Hey abc\n",
            "abc\n"
          ]
        }
      ]
    },
    {
      "cell_type": "code",
      "source": [
        "x=10\n",
        "def func(x):   #x is local var\n",
        "  print(\"Hey\",x)\n",
        "func(500)"
      ],
      "metadata": {
        "colab": {
          "base_uri": "https://localhost:8080/"
        },
        "id": "H80yE-S2ztbu",
        "outputId": "ffc7d7dc-d749-4715-e370-94e6c2c022e0"
      },
      "execution_count": null,
      "outputs": [
        {
          "output_type": "stream",
          "name": "stdout",
          "text": [
            "Hey 500\n"
          ]
        }
      ]
    },
    {
      "cell_type": "code",
      "source": [
        "# learning assignment\n",
        "# Valid paranthesis we have done it with list but try to do it with dict\n",
        "# number to roman\n",
        "# list comprehension\n",
        "# dict comprehension"
      ],
      "metadata": {
        "id": "NJuKHdWm02Hw"
      },
      "execution_count": 33,
      "outputs": []
    }
  ]
}