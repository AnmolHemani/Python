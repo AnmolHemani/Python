{
  "nbformat": 4,
  "nbformat_minor": 0,
  "metadata": {
    "colab": {
      "provenance": [],
      "authorship_tag": "ABX9TyPJQ7aPpQLlohbpiYAa1i3Q",
      "include_colab_link": true
    },
    "kernelspec": {
      "name": "python3",
      "display_name": "Python 3"
    },
    "language_info": {
      "name": "python"
    }
  },
  "cells": [
    {
      "cell_type": "markdown",
      "metadata": {
        "id": "view-in-github",
        "colab_type": "text"
      },
      "source": [
        "<a href=\"https://colab.research.google.com/github/AnmolHemani/Python/blob/main/Day_9_Assignment.ipynb\" target=\"_parent\"><img src=\"https://colab.research.google.com/assets/colab-badge.svg\" alt=\"Open In Colab\"/></a>"
      ]
    },
    {
      "cell_type": "code",
      "execution_count": 9,
      "metadata": {
        "colab": {
          "base_uri": "https://localhost:8080/"
        },
        "id": "tTe8XX-6a_1E",
        "outputId": "03fce08a-5ef5-4cd1-bfd2-d605d5ed30e8"
      },
      "outputs": [
        {
          "output_type": "stream",
          "name": "stdout",
          "text": [
            "[1, 3, 5, 7, 9, 11, 13, 15, 17, 19, 21, 23, 25, 27, 29, 31, 33, 35, 37, 39, 41, 43, 45, 47, 49]\n"
          ]
        }
      ],
      "source": [
        "# 1. Write a program to print the first 25 odd numbers in list\n",
        "\n",
        "mylist=[]\n",
        "count=0\n",
        "num=1\n",
        "while(count<25):\n",
        "  if(num%2!=0):\n",
        "    mylist.append(num)\n",
        "    count+=1\n",
        "  num+=1\n",
        "print(mylist)"
      ]
    },
    {
      "cell_type": "code",
      "source": [
        "# 2. Arrange string characters such that lowercase letters should come first\n",
        "\n",
        "string=input(\"Enter the String : \")\n",
        "mylist=[]\n",
        "for i in string:\n",
        "  if(ord(i)>=97 and ord(i)<=123):\n",
        "    mylist.append(i)\n",
        "for i in string:\n",
        "  if(ord(i)>=65 and ord(i)<=90):\n",
        "    mylist.append(i)\n",
        "print(mylist)"
      ],
      "metadata": {
        "colab": {
          "base_uri": "https://localhost:8080/"
        },
        "id": "eAuNcY2sbNbi",
        "outputId": "964f1365-16cd-45e8-da3d-0ed492eedeb6"
      },
      "execution_count": 68,
      "outputs": [
        {
          "output_type": "stream",
          "name": "stdout",
          "text": [
            "Enter the String : Anmol hemani\n",
            "['n', 'm', 'o', 'l', 'h', 'e', 'm', 'a', 'n', 'i', 'A']\n"
          ]
        }
      ]
    },
    {
      "cell_type": "code",
      "source": [
        "# 3. Count all letters, digits, and special symbols from a given string\n",
        "# a. given-->str1 = \"P@#yn26at^&i5ve\"\n",
        "# b. expected-->Total counts of chars, digits, and symbols\n",
        "\n",
        "str1= \"P@#yn26at^&i5ve\"\n",
        "char=[]\n",
        "charcount=0\n",
        "digit=[]\n",
        "digitcount=0\n",
        "symbol=[]\n",
        "symbolcount=0\n",
        "for i in str1:\n",
        "  if(ord(i)>=65 and ord(i)<=90 or ord(i)>=97 and ord(i)<=122):\n",
        "    char.append(i)\n",
        "    charcount+=1\n",
        "  elif(ord(i)>=48 and ord(i)<=57):\n",
        "    digit.append(i)\n",
        "    digitcount+=1\n",
        "  else:\n",
        "    symbol.append(i)\n",
        "    symbolcount+=1\n",
        "print(\"count of char is :\",charcount)\n",
        "print(char)\n",
        "print(\"count of digit is :\",digitcount)\n",
        "print(digit)\n",
        "print(\"count of symbol is :\",symbolcount)\n",
        "print(symbol)"
      ],
      "metadata": {
        "colab": {
          "base_uri": "https://localhost:8080/"
        },
        "id": "xK8Yjy5SbPat",
        "outputId": "3337a0ea-8b68-477f-8c11-a84d53d5e3d6"
      },
      "execution_count": 70,
      "outputs": [
        {
          "output_type": "stream",
          "name": "stdout",
          "text": [
            "count of char is : 8\n",
            "['P', 'y', 'n', 'a', 't', 'i', 'v', 'e']\n",
            "count of digit is : 3\n",
            "['2', '6', '5']\n",
            "count of symbol is : 4\n",
            "['@', '#', '^', '&']\n"
          ]
        }
      ]
    },
    {
      "cell_type": "code",
      "source": [
        "# 4. Remove empty strings from a list of strings\n",
        "\n",
        "str1=input(\"Enter the String :\")\n",
        "mylist=[]\n",
        "for i in str1:\n",
        "  mylist.append(i)\n",
        "for i in str1:\n",
        "  if(ord(i)==32):\n",
        "    mylist.remove(i)\n",
        "print(mylist)"
      ],
      "metadata": {
        "colab": {
          "base_uri": "https://localhost:8080/"
        },
        "id": "FYtlpdembSRg",
        "outputId": "471a47e5-c38d-408b-82eb-39614567550f"
      },
      "execution_count": 73,
      "outputs": [
        {
          "output_type": "stream",
          "name": "stdout",
          "text": [
            "Enter the String :Anmol Hemani\n",
            "['A', 'n', 'm', 'o', 'l', 'H', 'e', 'm', 'a', 'n', 'i']\n"
          ]
        }
      ]
    },
    {
      "cell_type": "code",
      "source": [
        "# 5. Remove special symbols / punctuation from a string\n",
        "\n",
        "str1=input(\"Enter the string :\")\n",
        "mylist=[]\n",
        "for i in str1:\n",
        "  mylist.append(i)\n",
        "  if(ord(i)>=33 and ord(i)<=47 or ord(i)>=58 and ord(i)<=64 or ord(i)>=91 and ord(i)<=96 or ord(i)>=123 and ord(i)<=126 ):\n",
        "    mylist.remove(i)\n",
        "print(mylist)"
      ],
      "metadata": {
        "colab": {
          "base_uri": "https://localhost:8080/"
        },
        "id": "v8q-2LGpbToR",
        "outputId": "f521bbff-347f-4f81-c864-bcf4abedcf6e"
      },
      "execution_count": 80,
      "outputs": [
        {
          "output_type": "stream",
          "name": "stdout",
          "text": [
            "Enter the string :Anmol Hemani %#^*@#((\n",
            "['A', 'n', 'm', 'o', 'l', ' ', 'H', 'e', 'm', 'a', 'n', 'i', ' ']\n"
          ]
        }
      ]
    },
    {
      "cell_type": "code",
      "source": [
        "# 6. Removal all characters from a string except integers\n",
        "# a. str1 = 'I am 25 years and 10 months old'\n",
        "# b. expected-->2510\n",
        "\n",
        "str1 = 'I am 25 years and 10 months old'\n",
        "mylist=[]\n",
        "for i in str1:\n",
        "  if(ord(i)>=48 and ord(i)<=57):\n",
        "    a=int(i)\n",
        "    print(a,end=\"\")\n",
        "    mylist.append(i)\n",
        "print()\n",
        "print(mylist)"
      ],
      "metadata": {
        "colab": {
          "base_uri": "https://localhost:8080/"
        },
        "id": "ZrAoCBPHbU9V",
        "outputId": "2db2df93-cdb2-4157-f5b6-b2f7b5ce11b3"
      },
      "execution_count": 88,
      "outputs": [
        {
          "output_type": "stream",
          "name": "stdout",
          "text": [
            "2510\n",
            "['2', '5', '1', '0']\n"
          ]
        }
      ]
    }
  ]
}