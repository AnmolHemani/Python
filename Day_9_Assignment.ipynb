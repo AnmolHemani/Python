{
  "nbformat": 4,
  "nbformat_minor": 0,
  "metadata": {
    "colab": {
      "provenance": [],
      "authorship_tag": "ABX9TyObBKCgtVk+JC35AA+b2B4B",
      "include_colab_link": true
    },
    "kernelspec": {
      "name": "python3",
      "display_name": "Python 3"
    },
    "language_info": {
      "name": "python"
    }
  },
  "cells": [
    {
      "cell_type": "markdown",
      "metadata": {
        "id": "view-in-github",
        "colab_type": "text"
      },
      "source": [
        "<a href=\"https://colab.research.google.com/github/AnmolHemani/Python/blob/main/Day_9_Assignment.ipynb\" target=\"_parent\"><img src=\"https://colab.research.google.com/assets/colab-badge.svg\" alt=\"Open In Colab\"/></a>"
      ]
    },
    {
      "cell_type": "code",
      "execution_count": null,
      "metadata": {
        "colab": {
          "base_uri": "https://localhost:8080/"
        },
        "id": "tTe8XX-6a_1E",
        "outputId": "03fce08a-5ef5-4cd1-bfd2-d605d5ed30e8"
      },
      "outputs": [
        {
          "output_type": "stream",
          "name": "stdout",
          "text": [
            "[1, 3, 5, 7, 9, 11, 13, 15, 17, 19, 21, 23, 25, 27, 29, 31, 33, 35, 37, 39, 41, 43, 45, 47, 49]\n"
          ]
        }
      ],
      "source": [
        "# 1. Write a program to print the first 25 odd numbers in list\n",
        "\n",
        "mylist=[]\n",
        "count=0\n",
        "num=1\n",
        "while(count<25):\n",
        "  if(num%2!=0):\n",
        "    mylist.append(num)\n",
        "    count+=1\n",
        "  num+=1\n",
        "print(mylist)"
      ]
    },
    {
      "cell_type": "code",
      "source": [
        "# 2. Arrange string characters such that lowercase letters should come first\n",
        "\n",
        "string=input(\"Enter the String : \")\n",
        "mylist=[]\n",
        "for i in string:\n",
        "  if(ord(i)>=97 and ord(i)<=123):\n",
        "    mylist.append(i)\n",
        "for i in string:\n",
        "  if(ord(i)>=65 and ord(i)<=90):\n",
        "    mylist.append(i)\n",
        "print(mylist)"
      ],
      "metadata": {
        "colab": {
          "base_uri": "https://localhost:8080/"
        },
        "id": "eAuNcY2sbNbi",
        "outputId": "964f1365-16cd-45e8-da3d-0ed492eedeb6"
      },
      "execution_count": null,
      "outputs": [
        {
          "output_type": "stream",
          "name": "stdout",
          "text": [
            "Enter the String : Anmol hemani\n",
            "['n', 'm', 'o', 'l', 'h', 'e', 'm', 'a', 'n', 'i', 'A']\n"
          ]
        }
      ]
    },
    {
      "cell_type": "code",
      "source": [
        "# 3. Count all letters, digits, and special symbols from a given string\n",
        "# a. given-->str1 = \"P@#yn26at^&i5ve\"\n",
        "# b. expected-->Total counts of chars, digits, and symbols\n",
        "\n",
        "str1= \"P@#yn26at^&i5ve\"\n",
        "char=[]\n",
        "charcount=0\n",
        "digit=[]\n",
        "digitcount=0\n",
        "symbol=[]\n",
        "symbolcount=0\n",
        "for i in str1:\n",
        "  if(ord(i)>=65 and ord(i)<=90 or ord(i)>=97 and ord(i)<=122):\n",
        "    char.append(i)\n",
        "    charcount+=1\n",
        "  elif(ord(i)>=48 and ord(i)<=57):\n",
        "    digit.append(i)\n",
        "    digitcount+=1\n",
        "  else:\n",
        "    symbol.append(i)\n",
        "    symbolcount+=1\n",
        "print(\"count of char is :\",charcount)\n",
        "print(char)\n",
        "print(\"count of digit is :\",digitcount)\n",
        "print(digit)\n",
        "print(\"count of symbol is :\",symbolcount)\n",
        "print(symbol)"
      ],
      "metadata": {
        "colab": {
          "base_uri": "https://localhost:8080/"
        },
        "id": "xK8Yjy5SbPat",
        "outputId": "3337a0ea-8b68-477f-8c11-a84d53d5e3d6"
      },
      "execution_count": null,
      "outputs": [
        {
          "output_type": "stream",
          "name": "stdout",
          "text": [
            "count of char is : 8\n",
            "['P', 'y', 'n', 'a', 't', 'i', 'v', 'e']\n",
            "count of digit is : 3\n",
            "['2', '6', '5']\n",
            "count of symbol is : 4\n",
            "['@', '#', '^', '&']\n"
          ]
        }
      ]
    },
    {
      "cell_type": "code",
      "source": [
        "# 4. Remove empty strings from a list of strings\n",
        "\n",
        "str1=input(\"Enter the String :\")\n",
        "mylist=[]\n",
        "for i in str1:\n",
        "  mylist.append(i)\n",
        "for i in str1:\n",
        "  if(ord(i)==32):\n",
        "    mylist.remove(i)\n",
        "print(mylist)"
      ],
      "metadata": {
        "colab": {
          "base_uri": "https://localhost:8080/"
        },
        "id": "FYtlpdembSRg",
        "outputId": "471a47e5-c38d-408b-82eb-39614567550f"
      },
      "execution_count": null,
      "outputs": [
        {
          "output_type": "stream",
          "name": "stdout",
          "text": [
            "Enter the String :Anmol Hemani\n",
            "['A', 'n', 'm', 'o', 'l', 'H', 'e', 'm', 'a', 'n', 'i']\n"
          ]
        }
      ]
    },
    {
      "cell_type": "code",
      "source": [
        "# 5. Remove special symbols / punctuation from a string\n",
        "\n",
        "str1=input(\"Enter the string :\")\n",
        "mylist=[]\n",
        "for i in str1:\n",
        "  mylist.append(i)\n",
        "  if(ord(i)>=33 and ord(i)<=47 or ord(i)>=58 and ord(i)<=64 or ord(i)>=91 and ord(i)<=96 or ord(i)>=123 and ord(i)<=126 ):\n",
        "    mylist.remove(i)\n",
        "print(mylist)"
      ],
      "metadata": {
        "colab": {
          "base_uri": "https://localhost:8080/"
        },
        "id": "v8q-2LGpbToR",
        "outputId": "f521bbff-347f-4f81-c864-bcf4abedcf6e"
      },
      "execution_count": null,
      "outputs": [
        {
          "output_type": "stream",
          "name": "stdout",
          "text": [
            "Enter the string :Anmol Hemani %#^*@#((\n",
            "['A', 'n', 'm', 'o', 'l', ' ', 'H', 'e', 'm', 'a', 'n', 'i', ' ']\n"
          ]
        }
      ]
    },
    {
      "cell_type": "code",
      "source": [
        "# 6. Removal all characters from a string except integers\n",
        "# a. str1 = 'I am 25 years and 10 months old'\n",
        "# b. expected-->2510\n",
        "\n",
        "str1 = 'I am 25 years and 10 months old'\n",
        "mylist=[]\n",
        "for i in str1:\n",
        "  if(ord(i)>=48 and ord(i)<=57):\n",
        "    a=int(i)\n",
        "    print(a,end=\"\")\n",
        "    mylist.append(i)\n",
        "print(\"\")\n",
        "print(mylist)"
      ],
      "metadata": {
        "colab": {
          "base_uri": "https://localhost:8080/"
        },
        "id": "ZrAoCBPHbU9V",
        "outputId": "a708d5a1-90f6-4e08-e21d-8453a19d9de8"
      },
      "execution_count": 5,
      "outputs": [
        {
          "output_type": "stream",
          "name": "stdout",
          "text": [
            "2510\n",
            "['2', '5', '1', '0']\n"
          ]
        }
      ]
    },
    {
      "cell_type": "code",
      "source": [
        "# 7. extract the email service provider name\n",
        "# a. emaillist=[\"KSR@datavizion.com\",\"mymail@yahoo.com\",\"milindmali@google.\n",
        "# com\",\"snehal@health.com\"]\n",
        "\n",
        "emaillist=[\"KSR@datavizion.com\",\"mymail@yahoo.com\",\"milindmali@google.com\",\"snehal@health.com\"]\n",
        "newlist=[]\n",
        "for i in range(0,len(emaillist)):\n",
        "  str1=\"\"\n",
        "  for j in range(0,len(emaillist[i])):\n",
        "    if(emaillist[i][j]==\"@\"):\n",
        "      for k in range(j+1,len(emaillist[i])):\n",
        "        if(emaillist[i][k]==\".\"):\n",
        "          break\n",
        "        else:\n",
        "          str1+=emaillist[i][k]\n",
        "      print(str1)\n",
        "      newlist.append(str1)\n",
        "print(newlist)"
      ],
      "metadata": {
        "colab": {
          "base_uri": "https://localhost:8080/"
        },
        "id": "sgQT4LNy0fH2",
        "outputId": "88b68612-f503-4145-e102-ab6598f0c4ed"
      },
      "execution_count": null,
      "outputs": [
        {
          "output_type": "stream",
          "name": "stdout",
          "text": [
            "datavizion\n",
            "yahoo\n",
            "google\n",
            "health\n",
            "['datavizion', 'yahoo', 'google', 'health']\n"
          ]
        }
      ]
    },
    {
      "cell_type": "code",
      "source": [
        "# 8. extract all the emailid for the given string\n",
        "# a. string=\"Hi my name is Govind Das and my mail id is\n",
        "# milindmali108@gmail.com and my org\"\n",
        "# b. Output => milindmali108@gmail.com\n",
        "\n",
        "string=\"Hi my name is Govind Das and my mail id is milindmali108@gmail.com and my org\"\n",
        "string1=\"\"\n",
        "mylist=[]\n",
        "for i in range(0,len(string)):\n",
        "  if(string[i]==\" \"):\n",
        "    s=i\n",
        "  if(string[i]=='@'):\n",
        "    start=s\n",
        "    for j in range(i,len(string)):\n",
        "      if(string[j]==\" \"):\n",
        "        end=j\n",
        "        break\n",
        "for k in range(start+1,end):\n",
        "  string1+=string[k]\n",
        "mylist.append(string1)\n",
        "print(mylist)"
      ],
      "metadata": {
        "colab": {
          "base_uri": "https://localhost:8080/"
        },
        "id": "N3kM3GkTPbjz",
        "outputId": "7e4c3f66-69af-4e42-bb42-326b38bee4e8"
      },
      "execution_count": null,
      "outputs": [
        {
          "output_type": "stream",
          "name": "stdout",
          "text": [
            "['milindmali108@gmail.com']\n"
          ]
        }
      ]
    },
    {
      "cell_type": "code",
      "source": [
        "# 9. Create a Python set such that it shows the element from both lists in a pair\n",
        "# a. first_list = [2, 3, 4, 5, 6, 7, 8]\n",
        "# b. second_list = [4, 9, 16, 25, 36, 49, 64]\n",
        "# c. Result is {(6, 36), (8, 64), (4, 16), (5, 25), (3, 9), (7, 49), (2, 4)}\n",
        "\n",
        "first_list = [2, 3, 4, 5, 6, 7, 8]\n",
        "second_list = [4, 9, 16, 25, 36, 49, 64]\n",
        "result=set()\n",
        "for i in range(0,len(first_list)):\n",
        "  for j in range(0,len(second_list)):\n",
        "    if([i]==[j]):\n",
        "      pair=(first_list[i],second_list[j])\n",
        "      result.add(pair)\n",
        "print(result)"
      ],
      "metadata": {
        "colab": {
          "base_uri": "https://localhost:8080/"
        },
        "id": "top2WspcPba8",
        "outputId": "637e5697-6138-4883-e638-2f5b5403f4c6"
      },
      "execution_count": null,
      "outputs": [
        {
          "output_type": "stream",
          "name": "stdout",
          "text": [
            "{(7, 49), (2, 4), (4, 16), (8, 64), (6, 36), (3, 9), (5, 25)}\n"
          ]
        }
      ]
    },
    {
      "cell_type": "code",
      "source": [
        "# 10. Write a program to reverse a List in Python\n",
        "# a. list = [4, 5, 6, 7, 8, 9]\n",
        "# b. Output => [9, 8, 7, 6, 5, 4]\n",
        "\n",
        "list1 = [4, 5, 6, 7, 8, 9]\n",
        "list2=[]\n",
        "for i in range(len(list1)-1,-1,-1):\n",
        "  list2.append(list1[i])\n",
        "print(list2)"
      ],
      "metadata": {
        "colab": {
          "base_uri": "https://localhost:8080/"
        },
        "id": "_0vz7EHlPbRS",
        "outputId": "c19c5b28-689a-411c-cc8e-cf4d63ee50e3"
      },
      "execution_count": null,
      "outputs": [
        {
          "output_type": "stream",
          "name": "stdout",
          "text": [
            "[9, 8, 7, 6, 5, 4]\n"
          ]
        }
      ]
    },
    {
      "cell_type": "code",
      "source": [
        "# 11. Write a program to clone or copy the list:\n",
        "\n",
        "list1 = [4, 5, 6, 7, 8, 9]\n",
        "list2=[]\n",
        "for i in range(0,len(list1)):\n",
        "  list2.append(list1[i])\n",
        "print(list1)\n",
        "print(list2)"
      ],
      "metadata": {
        "colab": {
          "base_uri": "https://localhost:8080/"
        },
        "id": "4HNcQDUxPbFz",
        "outputId": "96efe692-e98f-49ed-d8a6-621201633734"
      },
      "execution_count": null,
      "outputs": [
        {
          "output_type": "stream",
          "name": "stdout",
          "text": [
            "[4, 5, 6, 7, 8, 9]\n",
            "[4, 5, 6, 7, 8, 9]\n"
          ]
        }
      ]
    },
    {
      "cell_type": "code",
      "source": [
        "# 12. Write a program to get sum of number of digit in a list\n",
        "\n",
        "list1 = [4, 5, 6, 7, 8, 9]\n",
        "sum=0\n",
        "for i in range(0,len(list1)):\n",
        "  sum+=list1[i]\n",
        "print(sum)"
      ],
      "metadata": {
        "colab": {
          "base_uri": "https://localhost:8080/"
        },
        "id": "qsIw5R5FPa9u",
        "outputId": "336ea977-92df-4c83-fd5a-dbed0c4102d0"
      },
      "execution_count": null,
      "outputs": [
        {
          "output_type": "stream",
          "name": "stdout",
          "text": [
            "39\n"
          ]
        }
      ]
    },
    {
      "cell_type": "code",
      "source": [
        "# 13. Write a program to get the smallest number in a list\n",
        "# Note => without using reverse(), sort() and slicing operator\n",
        "\n",
        "list1 = [5, 4, 6, 7, 8, 9]\n",
        "min=list1[0]\n",
        "for i in range(1,len(list1)):\n",
        "  if(list1[i]<min):\n",
        "    min=list1[i]\n",
        "print(\"Smallest num in the list is :\",min)"
      ],
      "metadata": {
        "colab": {
          "base_uri": "https://localhost:8080/"
        },
        "id": "b0BMpmFzPayw",
        "outputId": "2d21dec2-eecc-4a7d-e344-b247c795f0f6"
      },
      "execution_count": null,
      "outputs": [
        {
          "output_type": "stream",
          "name": "stdout",
          "text": [
            "Smallest num in the list is : 4\n"
          ]
        }
      ]
    },
    {
      "cell_type": "code",
      "source": [
        "# 14. Write a program to print the count of even and odd number from a list\n",
        "\n",
        "list1=[1,2,3,4,5,6,7,8,9,10,11,12,13,14,15,16,17,18,19]\n",
        "even_count=0\n",
        "odd_count=0\n",
        "for i in range(0,len(list1)):\n",
        "  if(list1[i]%2==0):\n",
        "    even_count+=1\n",
        "  else:\n",
        "    odd_count+=1\n",
        "print(\"total even num in the list is :\",even_count)\n",
        "print(\"total odd num in the list is :\",odd_count)"
      ],
      "metadata": {
        "colab": {
          "base_uri": "https://localhost:8080/"
        },
        "id": "i6CWfnQDPZ8Q",
        "outputId": "58d3fbf1-f80d-4cdb-bc0e-468bf9350730"
      },
      "execution_count": null,
      "outputs": [
        {
          "output_type": "stream",
          "name": "stdout",
          "text": [
            "total even num in the list is : 9\n",
            "total odd num in the list is : 10\n"
          ]
        }
      ]
    },
    {
      "cell_type": "code",
      "source": [
        "# 15. Write a program to get count of unique values inside a list\n",
        "# a. input_list = [1, 2, 2, 5, 8, 4, 4, 8]\n",
        "# b. Output => 5\n",
        "\n",
        "input_list = [1, 2, 2, 5, 8, 4, 4, 8]\n",
        "list1=[]\n",
        "for i in input_list:\n",
        "  if i not in list1:\n",
        "    list1.append(i)\n",
        "print(\"count of unique value inside a list is :\",len(list1))"
      ],
      "metadata": {
        "colab": {
          "base_uri": "https://localhost:8080/"
        },
        "id": "CFpCnXSjPZlG",
        "outputId": "185f33de-7dc4-4230-e7b2-27cb44a67a33"
      },
      "execution_count": null,
      "outputs": [
        {
          "output_type": "stream",
          "name": "stdout",
          "text": [
            "count of unique value inside a list is : 5\n"
          ]
        }
      ]
    }
  ]
}