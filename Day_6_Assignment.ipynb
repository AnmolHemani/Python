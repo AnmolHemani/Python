{
  "nbformat": 4,
  "nbformat_minor": 0,
  "metadata": {
    "colab": {
      "provenance": [],
      "authorship_tag": "ABX9TyP0IRjR1NQTmwg8spMBa7rS",
      "include_colab_link": true
    },
    "kernelspec": {
      "name": "python3",
      "display_name": "Python 3"
    },
    "language_info": {
      "name": "python"
    }
  },
  "cells": [
    {
      "cell_type": "markdown",
      "metadata": {
        "id": "view-in-github",
        "colab_type": "text"
      },
      "source": [
        "<a href=\"https://colab.research.google.com/github/AnmolHemani/Python/blob/main/Day_6_Assignment.ipynb\" target=\"_parent\"><img src=\"https://colab.research.google.com/assets/colab-badge.svg\" alt=\"Open In Colab\"/></a>"
      ]
    },
    {
      "cell_type": "code",
      "execution_count": 149,
      "metadata": {
        "colab": {
          "base_uri": "https://localhost:8080/"
        },
        "id": "Yjyv6cgFaBCJ",
        "outputId": "4632941d-51a4-48f1-b967-730f4fda53e0"
      },
      "outputs": [
        {
          "output_type": "stream",
          "name": "stdout",
          "text": [
            "****\n",
            " ****\n",
            "  ****\n",
            "   ****\n"
          ]
        }
      ],
      "source": [
        "# ****\n",
        "#  ****\n",
        "#   ****\n",
        "#    ****\n",
        "\n",
        "for i in range(1,5):\n",
        "  for k in range(1,i):\n",
        "    print(\" \",end=\"\")\n",
        "  for j in range(1,5):\n",
        "    print(\"*\",end=\"\")\n",
        "  print(\"\")"
      ]
    },
    {
      "cell_type": "code",
      "source": [
        "# ******\n",
        "# *    *\n",
        "# *    *\n",
        "# ******\n",
        "\n",
        "for i in range(1,5):\n",
        "  for j in range(1,7):\n",
        "    if(i==1 or i==4 or j==1 or j==6):\n",
        "      print(\"*\",end=\"\")\n",
        "    else:\n",
        "      print(\" \",end=\"\")\n",
        "  print(\"\")"
      ],
      "metadata": {
        "colab": {
          "base_uri": "https://localhost:8080/"
        },
        "id": "4wJu3ttKaB1c",
        "outputId": "8d4d4160-0f60-4c63-bd91-ecf0e7ed1021"
      },
      "execution_count": 150,
      "outputs": [
        {
          "output_type": "stream",
          "name": "stdout",
          "text": [
            "******\n",
            "*    *\n",
            "*    *\n",
            "******\n"
          ]
        }
      ]
    },
    {
      "cell_type": "code",
      "source": [
        "# A\n",
        "# AB\n",
        "# ABC\n",
        "# ABCD\n",
        "# ABCDE\n",
        "\n",
        "for i in range(1,6):\n",
        "  c=65\n",
        "  for j in range(1,i+1):\n",
        "    print(chr(c),end=\"\")\n",
        "    c+=1\n",
        "  print(\"\")"
      ],
      "metadata": {
        "colab": {
          "base_uri": "https://localhost:8080/"
        },
        "id": "8z0ATE07aGtG",
        "outputId": "1344754e-8acb-41be-f2f4-c7c840c5fc6d"
      },
      "execution_count": 151,
      "outputs": [
        {
          "output_type": "stream",
          "name": "stdout",
          "text": [
            "A\n",
            "AB\n",
            "ABC\n",
            "ABCD\n",
            "ABCDE\n"
          ]
        }
      ]
    },
    {
      "cell_type": "code",
      "source": [
        "# A\n",
        "# BB\n",
        "# CCC\n",
        "# DDDD\n",
        "# EEEEE\n",
        "\n",
        "c=65\n",
        "for i in range(1,6):\n",
        "  for j in range(1,i+1):\n",
        "    print(chr(c),end=\"\")\n",
        "  c+=1\n",
        "  print(\"\")"
      ],
      "metadata": {
        "colab": {
          "base_uri": "https://localhost:8080/"
        },
        "id": "mteEjTjqaHR2",
        "outputId": "547ff7d0-496b-4460-ba1f-2a284343ec71"
      },
      "execution_count": 152,
      "outputs": [
        {
          "output_type": "stream",
          "name": "stdout",
          "text": [
            "A\n",
            "BB\n",
            "CCC\n",
            "DDDD\n",
            "EEEEE\n"
          ]
        }
      ]
    },
    {
      "cell_type": "code",
      "source": [
        "# E\n",
        "# D E\n",
        "# C D E\n",
        "# B C D E\n",
        "# A B C D E\n",
        "\n",
        "for i in range(1,6):\n",
        "  c=70\n",
        "  c-=i\n",
        "  for j in range(1,i+1):\n",
        "    print(chr(c),end=\" \")\n",
        "    c+=1\n",
        "  print(\"\")"
      ],
      "metadata": {
        "colab": {
          "base_uri": "https://localhost:8080/"
        },
        "id": "483rirplbmEz",
        "outputId": "f49a401c-b1a3-4753-c19f-13f32ab993e2"
      },
      "execution_count": 153,
      "outputs": [
        {
          "output_type": "stream",
          "name": "stdout",
          "text": [
            "E \n",
            "D E \n",
            "C D E \n",
            "B C D E \n",
            "A B C D E \n"
          ]
        }
      ]
    },
    {
      "cell_type": "code",
      "source": [
        "#         *\n",
        "#       * *\n",
        "#     * * *\n",
        "#   * * * *\n",
        "# * * * * *\n",
        "\n",
        "for i in range(1,6):\n",
        "  for k in range(i,5):\n",
        "    print(\" \",end=\" \")\n",
        "  for j in range(1,i+1):\n",
        "    print(\"*\",end=\" \")\n",
        "  print(\"\")"
      ],
      "metadata": {
        "colab": {
          "base_uri": "https://localhost:8080/"
        },
        "id": "gQBPqFi8ckaA",
        "outputId": "ba6af6c4-88c7-4a3d-9211-4109d235219f"
      },
      "execution_count": 154,
      "outputs": [
        {
          "output_type": "stream",
          "name": "stdout",
          "text": [
            "        * \n",
            "      * * \n",
            "    * * * \n",
            "  * * * * \n",
            "* * * * * \n"
          ]
        }
      ]
    },
    {
      "cell_type": "code",
      "source": [
        "#         1\n",
        "#       1 2\n",
        "#     1 2 3\n",
        "#   1 2 3 4\n",
        "# 1 2 3 4 5\n",
        "\n",
        "for i in range(1,6):\n",
        "  for k in range(i,5):\n",
        "    print(\" \",end=\" \")\n",
        "  for j in range(1,i+1):\n",
        "    print(j,end=\" \")\n",
        "  print(\"\")"
      ],
      "metadata": {
        "colab": {
          "base_uri": "https://localhost:8080/"
        },
        "id": "RuREwibfg568",
        "outputId": "57cd88e6-d637-48fb-f0de-a82ba8211cd2"
      },
      "execution_count": 155,
      "outputs": [
        {
          "output_type": "stream",
          "name": "stdout",
          "text": [
            "        1 \n",
            "      1 2 \n",
            "    1 2 3 \n",
            "  1 2 3 4 \n",
            "1 2 3 4 5 \n"
          ]
        }
      ]
    },
    {
      "cell_type": "code",
      "source": [
        "# 1 2 3 4 5\n",
        "#   1 2 3 4\n",
        "#     1 2 3\n",
        "#       1 2\n",
        "#         1\n",
        "\n",
        "for i in range(5,0,-1):\n",
        "  for k in range(5,i,-1):\n",
        "    print(\" \",end=\" \")\n",
        "  for j in range(1,i+1):\n",
        "    print(j,end=\" \")\n",
        "  print(\"\")"
      ],
      "metadata": {
        "colab": {
          "base_uri": "https://localhost:8080/"
        },
        "id": "BIMcGsnBhLBN",
        "outputId": "135c7794-4ce7-4fa6-c8ce-12ac037a08de"
      },
      "execution_count": 156,
      "outputs": [
        {
          "output_type": "stream",
          "name": "stdout",
          "text": [
            "1 2 3 4 5 \n",
            "  1 2 3 4 \n",
            "    1 2 3 \n",
            "      1 2 \n",
            "        1 \n"
          ]
        }
      ]
    },
    {
      "cell_type": "code",
      "source": [
        "# A B C D E\n",
        "#   A B C D\n",
        "#     A B C\n",
        "#       A B\n",
        "#         A\n",
        "\n",
        "for i in range(5,0,-1):\n",
        "  c=65\n",
        "  for k in range(5,i,-1):\n",
        "    print(\" \",end=\" \")\n",
        "  for j in range(1,i+1):\n",
        "    print(chr(c),end=\" \")\n",
        "    c+=1\n",
        "  print(\"\")"
      ],
      "metadata": {
        "colab": {
          "base_uri": "https://localhost:8080/"
        },
        "id": "srj5z9yJiM4K",
        "outputId": "78dd17a8-01fd-410c-89f9-6b4c8f6940bb"
      },
      "execution_count": 157,
      "outputs": [
        {
          "output_type": "stream",
          "name": "stdout",
          "text": [
            "A B C D E \n",
            "  A B C D \n",
            "    A B C \n",
            "      A B \n",
            "        A \n"
          ]
        }
      ]
    },
    {
      "cell_type": "code",
      "source": [
        "#     * * * * *\n",
        "#    * * * * *\n",
        "#   * * * * *\n",
        "#  * * * * *\n",
        "# * * * * *\n",
        "\n",
        "for i in range(1,6):\n",
        "  for k in range(4,i-1,-1):\n",
        "    print(\" \",end=\"\")\n",
        "  for j in range(1,6):\n",
        "    print(\"*\",end=\" \")\n",
        "  print(\"\")"
      ],
      "metadata": {
        "colab": {
          "base_uri": "https://localhost:8080/"
        },
        "id": "sROtvw03iuaQ",
        "outputId": "a783c4c3-cc1b-4874-eaf2-29627bbbca89"
      },
      "execution_count": 158,
      "outputs": [
        {
          "output_type": "stream",
          "name": "stdout",
          "text": [
            "    * * * * * \n",
            "   * * * * * \n",
            "  * * * * * \n",
            " * * * * * \n",
            "* * * * * \n"
          ]
        }
      ]
    },
    {
      "cell_type": "code",
      "source": [
        "#     1 2 3 4 5\n",
        "#    1 2 3 4 5\n",
        "#   1 2 3 4 5\n",
        "#  1 2 3 4 5\n",
        "# 1 2 3 4 5\n",
        "\n",
        "for i in range(1,6):\n",
        "  for k in range(4,i-1,-1):\n",
        "    print(\" \",end=\"\")\n",
        "  for j in range(1,6):\n",
        "    print(j,end=\" \")\n",
        "  print(\"\")"
      ],
      "metadata": {
        "colab": {
          "base_uri": "https://localhost:8080/"
        },
        "id": "iy2LG4-ujwOO",
        "outputId": "068214ef-9420-4df1-d893-569e2ecd7057"
      },
      "execution_count": null,
      "outputs": [
        {
          "output_type": "stream",
          "name": "stdout",
          "text": [
            "    1 2 3 4 5 \n",
            "   1 2 3 4 5 \n",
            "  1 2 3 4 5 \n",
            " 1 2 3 4 5 \n",
            "1 2 3 4 5 \n"
          ]
        }
      ]
    },
    {
      "cell_type": "code",
      "source": [
        "#     A B C D E\n",
        "#    A B C D E\n",
        "#   A B C D E\n",
        "#  A B C D E\n",
        "# A B C D E\n",
        "\n",
        "for i in range(1,6):\n",
        "  c=65\n",
        "  for k in range(4,i-1,-1):\n",
        "    print(\" \",end=\"\")\n",
        "  for j in range(1,6):\n",
        "    print(chr(c),end=\" \")\n",
        "    c+=1\n",
        "  print(\"\")"
      ],
      "metadata": {
        "colab": {
          "base_uri": "https://localhost:8080/"
        },
        "id": "EXS497kIj3qC",
        "outputId": "2a82d9c5-5993-46f1-a370-785f28982613"
      },
      "execution_count": 159,
      "outputs": [
        {
          "output_type": "stream",
          "name": "stdout",
          "text": [
            "    A B C D E \n",
            "   A B C D E \n",
            "  A B C D E \n",
            " A B C D E \n",
            "A B C D E \n"
          ]
        }
      ]
    },
    {
      "cell_type": "code",
      "source": [
        "#    *\n",
        "#   ***\n",
        "#  *****\n",
        "# *******\n",
        "\n",
        "for i in range(1,5):\n",
        "  for k in range(1,5-i):\n",
        "    print(\" \",end=\"\")\n",
        "  for j in range(1,2*i):\n",
        "    print(\"*\",end=\"\")\n",
        "  print(\"\")"
      ],
      "metadata": {
        "colab": {
          "base_uri": "https://localhost:8080/"
        },
        "id": "-HeOOXzLLwAV",
        "outputId": "193f23b1-7ec8-4ca6-bfdf-915adfc9da07"
      },
      "execution_count": 160,
      "outputs": [
        {
          "output_type": "stream",
          "name": "stdout",
          "text": [
            "   *\n",
            "  ***\n",
            " *****\n",
            "*******\n"
          ]
        }
      ]
    },
    {
      "cell_type": "code",
      "source": [
        "#    *\n",
        "#   * *\n",
        "#  *   *\n",
        "# *******\n",
        "\n",
        "for i in range(1,5):\n",
        "  for k in range(1,5-i):\n",
        "    print(\" \",end=\"\")\n",
        "  for j in range(1,2*i):\n",
        "    if(i==4 or j==1 or j==2*i-1):\n",
        "      print(\"*\",end=\"\")\n",
        "    else:\n",
        "      print(\" \",end=\"\")\n",
        "  print(\"\")"
      ],
      "metadata": {
        "colab": {
          "base_uri": "https://localhost:8080/"
        },
        "id": "BAqUtc8uPdr1",
        "outputId": "04d892c9-5385-4e85-e4bb-82d1f03e508f"
      },
      "execution_count": 161,
      "outputs": [
        {
          "output_type": "stream",
          "name": "stdout",
          "text": [
            "   *\n",
            "  * *\n",
            " *   *\n",
            "*******\n"
          ]
        }
      ]
    },
    {
      "cell_type": "code",
      "source": [
        "# *******\n",
        "#  *****\n",
        "#   ***\n",
        "#    *\n",
        "\n",
        "for i in range(4,0,-1):\n",
        "  for k in range(1,5-i):\n",
        "    print(\" \",end=\"\")\n",
        "  for j in range(1,2*i):\n",
        "    print(\"*\",end=\"\")\n",
        "  print(\"\")"
      ],
      "metadata": {
        "colab": {
          "base_uri": "https://localhost:8080/"
        },
        "id": "QH3v0quBUDnp",
        "outputId": "417cb6de-d5d8-4b01-8dab-c58379563337"
      },
      "execution_count": 50,
      "outputs": [
        {
          "output_type": "stream",
          "name": "stdout",
          "text": [
            "*******\n",
            " *****\n",
            "  ***\n",
            "   *\n"
          ]
        }
      ]
    },
    {
      "cell_type": "code",
      "source": [
        "# *\n",
        "# **\n",
        "# ***\n",
        "# ****\n",
        "# ***\n",
        "# **\n",
        "# *\n",
        "\n",
        "for i in range(1,5):\n",
        "  for j in range(1,i+1):\n",
        "    print('*',end=\"\")\n",
        "  print(\"\")\n",
        "for i in range(1,4):\n",
        "  for j in range(i,4):\n",
        "    print(\"*\",end=\"\")\n",
        "  print(\"\")"
      ],
      "metadata": {
        "colab": {
          "base_uri": "https://localhost:8080/"
        },
        "id": "nFJC_uhBWytL",
        "outputId": "dfd9bd8d-5ee7-459a-987a-e3e206c9a3e6"
      },
      "execution_count": 162,
      "outputs": [
        {
          "output_type": "stream",
          "name": "stdout",
          "text": [
            "*\n",
            "**\n",
            "***\n",
            "****\n",
            "***\n",
            "**\n",
            "*\n"
          ]
        }
      ]
    },
    {
      "cell_type": "code",
      "source": [
        "#    *\n",
        "#   **\n",
        "#  ***\n",
        "# ****\n",
        "#  ***\n",
        "#   **\n",
        "#    *\n",
        "\n",
        "for i in range(1,5):\n",
        "  for k in range(4,i,-1):\n",
        "    print(\" \",end=\"\")\n",
        "  for j in range(1,i+1):\n",
        "    print('*',end=\"\")\n",
        "  print(\"\")\n",
        "for i in range(1,4):\n",
        "  for k in range(1,i+1):\n",
        "    print(\" \",end=\"\")\n",
        "  for j in range(i,4):\n",
        "    print(\"*\",end=\"\")\n",
        "  print(\"\")"
      ],
      "metadata": {
        "colab": {
          "base_uri": "https://localhost:8080/"
        },
        "id": "Qrgicnf1X2q_",
        "outputId": "87f74fe8-73cb-4f69-dfec-d009bc7a7291"
      },
      "execution_count": 163,
      "outputs": [
        {
          "output_type": "stream",
          "name": "stdout",
          "text": [
            "   *\n",
            "  **\n",
            " ***\n",
            "****\n",
            " ***\n",
            "  **\n",
            "   *\n"
          ]
        }
      ]
    },
    {
      "cell_type": "code",
      "source": [
        "#    *\n",
        "#   ***\n",
        "#  *****\n",
        "# *******\n",
        "#  *****\n",
        "#   ***\n",
        "#    *\n",
        "\n",
        "for i in range(1,5):\n",
        "  for k in range(1,5-i):\n",
        "    print(\" \",end=\"\")\n",
        "  for j in range(1,2*i):\n",
        "    print(\"*\",end=\"\")\n",
        "  print(\"\")\n",
        "for i in range(3,0,-1):\n",
        "  for k in range(1,5-i):\n",
        "    print(\" \",end=\"\")\n",
        "  for j in range(1,2*i):\n",
        "    print(\"*\",end=\"\")\n",
        "  print(\"\")"
      ],
      "metadata": {
        "colab": {
          "base_uri": "https://localhost:8080/"
        },
        "id": "jj9ypGQaYY5P",
        "outputId": "f07d2c05-a87a-451a-cf47-3b91d980ded7"
      },
      "execution_count": 164,
      "outputs": [
        {
          "output_type": "stream",
          "name": "stdout",
          "text": [
            "   *\n",
            "  ***\n",
            " *****\n",
            "*******\n",
            " *****\n",
            "  ***\n",
            "   *\n"
          ]
        }
      ]
    },
    {
      "cell_type": "code",
      "source": [
        "# 1\n",
        "# 1 2\n",
        "# 1 2 3\n",
        "# 1 2 3 4\n",
        "# 1 2 3 4 5\n",
        "\n",
        "for i in range(1,6):\n",
        "  for j in range(1,i+1):\n",
        "    print(j,end=\" \")\n",
        "  print(\"\")"
      ],
      "metadata": {
        "colab": {
          "base_uri": "https://localhost:8080/"
        },
        "id": "-LkvwK-lY8ZN",
        "outputId": "7779fef8-7f52-4385-bab5-7caa56b6f61a"
      },
      "execution_count": 165,
      "outputs": [
        {
          "output_type": "stream",
          "name": "stdout",
          "text": [
            "1 \n",
            "1 2 \n",
            "1 2 3 \n",
            "1 2 3 4 \n",
            "1 2 3 4 5 \n"
          ]
        }
      ]
    },
    {
      "cell_type": "code",
      "source": [
        "# 1 2 3 4 5\n",
        "# 1 2 3 4\n",
        "# 1 2 3\n",
        "# 1 2\n",
        "# 1\n",
        "\n",
        "for i in range(5,0,-1):\n",
        "  for j in range(1,i+1):\n",
        "    print(j,end=\" \")\n",
        "  print(\"\")"
      ],
      "metadata": {
        "colab": {
          "base_uri": "https://localhost:8080/"
        },
        "id": "V5ykqUDAZL6D",
        "outputId": "97653591-eb6d-4cc7-ce2d-c974f32e2e8a"
      },
      "execution_count": 166,
      "outputs": [
        {
          "output_type": "stream",
          "name": "stdout",
          "text": [
            "1 2 3 4 5 \n",
            "1 2 3 4 \n",
            "1 2 3 \n",
            "1 2 \n",
            "1 \n"
          ]
        }
      ]
    },
    {
      "cell_type": "code",
      "source": [
        "# 1\n",
        "# 1 2\n",
        "# 1   3\n",
        "# 1     4\n",
        "# 1 2 3 4 5\n",
        "\n",
        "for i in range(1,6):\n",
        "  for j in range(1,i+1):\n",
        "    if(j==1 or i==5 or j==i):\n",
        "      print(j,end=\" \")\n",
        "    else:\n",
        "      print(\" \",end=\" \")\n",
        "  print(\"\")"
      ],
      "metadata": {
        "colab": {
          "base_uri": "https://localhost:8080/"
        },
        "id": "JFTj4bxEZm8d",
        "outputId": "ae170e5e-9340-4a70-db04-e7788167e8d3"
      },
      "execution_count": 167,
      "outputs": [
        {
          "output_type": "stream",
          "name": "stdout",
          "text": [
            "1 \n",
            "1 2 \n",
            "1   3 \n",
            "1     4 \n",
            "1 2 3 4 5 \n"
          ]
        }
      ]
    },
    {
      "cell_type": "code",
      "source": [
        "#         1\n",
        "#       2 3 2\n",
        "#     3 4 5 4 3\n",
        "#   4 5 6 7 6 5 4\n",
        "# 5 6 7 8 9 8 7 6 5\n",
        "\n",
        "for i in range(1,6):\n",
        "  for k in range(i,5):\n",
        "    print(\" \",end=\" \")\n",
        "  for j in range(i,i*2):\n",
        "    print(j,end=\" \")\n",
        "  for l in range(i*2-2,i-1,-1):\n",
        "    print(l,end=\" \")\n",
        "  print(\"\")\n",
        "\n",
        "# 2 method\n",
        "# for i in range(1,6):\n",
        "#   x=i\n",
        "#   for s in range(i,5):\n",
        "#     print(\" \",end=\" \")\n",
        "#   for j in range(1,i+1):\n",
        "#     print(x,end=\" \")\n",
        "#     x+=1\n",
        "#   y=x\n",
        "#   y-=2\n",
        "#   for k in range(2,i+1):\n",
        "#     print(y,end=\" \")\n",
        "#     y-=1\n",
        "#   print(\"\")"
      ],
      "metadata": {
        "colab": {
          "base_uri": "https://localhost:8080/"
        },
        "id": "JBZF3sr8aYzf",
        "outputId": "3ba4a8e4-2355-44f3-cc0d-fa8150e6c5f9"
      },
      "execution_count": 168,
      "outputs": [
        {
          "output_type": "stream",
          "name": "stdout",
          "text": [
            "        1 \n",
            "      2 3 2 \n",
            "    3 4 5 4 3 \n",
            "  4 5 6 7 6 5 4 \n",
            "5 6 7 8 9 8 7 6 5 \n"
          ]
        }
      ]
    },
    {
      "cell_type": "code",
      "source": [
        "#     1\n",
        "#    1 2\n",
        "#   1   3\n",
        "#  1     4\n",
        "# 1 2 3 4 5\n",
        "\n",
        "for i in range(1,6):\n",
        "  for k in range(i,5):\n",
        "    print(\" \",end=\"\")\n",
        "  for j in range(1,i+1):\n",
        "    if(j==1 or i==5 or j==i):\n",
        "      print(j,end=\" \")\n",
        "    else:\n",
        "      print(\" \",end=\" \")\n",
        "  print(\"\")"
      ],
      "metadata": {
        "colab": {
          "base_uri": "https://localhost:8080/"
        },
        "id": "K9c5QCcwTqBm",
        "outputId": "1a2a11bd-9378-4b24-be54-be647c624f8f"
      },
      "execution_count": 169,
      "outputs": [
        {
          "output_type": "stream",
          "name": "stdout",
          "text": [
            "    1 \n",
            "   1 2 \n",
            "  1   3 \n",
            " 1     4 \n",
            "1 2 3 4 5 \n"
          ]
        }
      ]
    },
    {
      "cell_type": "code",
      "source": [
        "# 1 2 3 4 5\n",
        "# 2     5\n",
        "# 3   5\n",
        "# 4 5\n",
        "# 5\n",
        "\n",
        "for i in range(1,6):\n",
        "  for j in range(i,6):\n",
        "    if(i==j or i==1 or j==5):\n",
        "      print(j,end=\" \")\n",
        "    else:\n",
        "      print(\" \",end=\" \")\n",
        "  print(\"\")"
      ],
      "metadata": {
        "colab": {
          "base_uri": "https://localhost:8080/"
        },
        "id": "25Me7c9gUn5l",
        "outputId": "7457cb09-df26-4d4d-b676-32fa3bcc16fd"
      },
      "execution_count": 170,
      "outputs": [
        {
          "output_type": "stream",
          "name": "stdout",
          "text": [
            "1 2 3 4 5 \n",
            "2     5 \n",
            "3   5 \n",
            "4 5 \n",
            "5 \n"
          ]
        }
      ]
    },
    {
      "cell_type": "code",
      "source": [
        "#         *\n",
        "#       * * *\n",
        "#     * * * * *\n",
        "#   * * * * * * *\n",
        "# * * * * * * * * *\n",
        "#   * * * * * * *\n",
        "#     * * * * *\n",
        "#       * * *\n",
        "#         *\n",
        "\n",
        "for i in range(1,6):\n",
        "  for k in range(1,6-i):\n",
        "    print(\" \",end=\" \")\n",
        "  for j in range(1,2*i):\n",
        "    print(\"*\",end=\" \")\n",
        "  print(\"\")\n",
        "for i in range(4,0,-1):\n",
        "  for k in range(1,6-i):\n",
        "    print(\" \",end=\" \")\n",
        "  for j in range(1,2*i):\n",
        "    print(\"*\",end=\" \")\n",
        "  print(\"\")"
      ],
      "metadata": {
        "colab": {
          "base_uri": "https://localhost:8080/"
        },
        "id": "sduGp9rnWedN",
        "outputId": "046ea3cb-0fcf-4c15-a1d4-93afe86764c3"
      },
      "execution_count": 171,
      "outputs": [
        {
          "output_type": "stream",
          "name": "stdout",
          "text": [
            "        * \n",
            "      * * * \n",
            "    * * * * * \n",
            "  * * * * * * * \n",
            "* * * * * * * * * \n",
            "  * * * * * * * \n",
            "    * * * * * \n",
            "      * * * \n",
            "        * \n"
          ]
        }
      ]
    },
    {
      "cell_type": "code",
      "source": [
        "#         1\n",
        "#       1 2 3\n",
        "#     1 2 3 4 5\n",
        "#   1 2 3 4 5 6 7\n",
        "# 1 2 3 4 5 6 7 8 9\n",
        "#   1 2 3 4 5 6 7\n",
        "#     1 2 3 4 5\n",
        "#       1 2 3\n",
        "#         1\n",
        "\n",
        "for i in range(1,6):\n",
        "  for k in range(1,6-i):\n",
        "    print(\" \",end=\" \")\n",
        "  for j in range(1,2*i):\n",
        "    print(j,end=\" \")\n",
        "  print(\"\")\n",
        "for i in range(4,0,-1):\n",
        "  for k in range(1,6-i):\n",
        "    print(\" \",end=\" \")\n",
        "  for j in range(1,2*i):\n",
        "    print(j,end=\" \")\n",
        "  print(\"\")"
      ],
      "metadata": {
        "colab": {
          "base_uri": "https://localhost:8080/"
        },
        "id": "aap-jYqOYBbV",
        "outputId": "9e1b8f48-a876-4fce-ab79-2e457aba325e"
      },
      "execution_count": 172,
      "outputs": [
        {
          "output_type": "stream",
          "name": "stdout",
          "text": [
            "        1 \n",
            "      1 2 3 \n",
            "    1 2 3 4 5 \n",
            "  1 2 3 4 5 6 7 \n",
            "1 2 3 4 5 6 7 8 9 \n",
            "  1 2 3 4 5 6 7 \n",
            "    1 2 3 4 5 \n",
            "      1 2 3 \n",
            "        1 \n"
          ]
        }
      ]
    },
    {
      "cell_type": "code",
      "source": [
        "# 1 2 3 4 5 6 7 8 9\n",
        "#   1 2 3 4 5 6 7\n",
        "#     1 2 3 4 5\n",
        "#       1 2 3\n",
        "#         1\n",
        "#       1 2 3\n",
        "#     1 2 3 4 5\n",
        "#   1 2 3 4 5 6 7\n",
        "# 1 2 3 4 5 6 7 8 9\n",
        "\n",
        "for i in range(5,0,-1):\n",
        "  for k in range(1,6-i):\n",
        "    print(\" \",end=\" \")\n",
        "  for j in range(1,2*i):\n",
        "    print(j,end=\" \")\n",
        "  print(\"\")\n",
        "for i in range(2,6):\n",
        "  for k in range(1,6-i):\n",
        "    print(\" \",end=\" \")\n",
        "  for j in range(1,2*i):\n",
        "    print(j,end=\" \")\n",
        "  print(\"\")"
      ],
      "metadata": {
        "colab": {
          "base_uri": "https://localhost:8080/"
        },
        "id": "gGbsjD_nZe9w",
        "outputId": "8d05ab36-2175-442a-f1f9-191a9956d093"
      },
      "execution_count": 173,
      "outputs": [
        {
          "output_type": "stream",
          "name": "stdout",
          "text": [
            "1 2 3 4 5 6 7 8 9 \n",
            "  1 2 3 4 5 6 7 \n",
            "    1 2 3 4 5 \n",
            "      1 2 3 \n",
            "        1 \n",
            "      1 2 3 \n",
            "    1 2 3 4 5 \n",
            "  1 2 3 4 5 6 7 \n",
            "1 2 3 4 5 6 7 8 9 \n"
          ]
        }
      ]
    },
    {
      "cell_type": "code",
      "source": [
        "# A B C D E F G H I\n",
        "#   A B C D E F G\n",
        "#     A B C D E\n",
        "#       A B C\n",
        "#         A\n",
        "#       A B C\n",
        "#     A B C D E\n",
        "#   A B C D E F G\n",
        "# A B C D E F G H I\n",
        "\n",
        "for i in range(5,0,-1):\n",
        "  c=65\n",
        "  for k in range(1,6-i):\n",
        "    print(\" \",end=\" \")\n",
        "  for j in range(1,2*i):\n",
        "    print(chr(c),end=\" \")\n",
        "    c+=1\n",
        "  print(\"\")\n",
        "for i in range(2,6):\n",
        "  c=65\n",
        "  for k in range(1,6-i):\n",
        "    print(\" \",end=\" \")\n",
        "  for j in range(1,2*i):\n",
        "    print(chr(c),end=\" \")\n",
        "    c+=1\n",
        "  print(\"\")"
      ],
      "metadata": {
        "colab": {
          "base_uri": "https://localhost:8080/"
        },
        "id": "xslQP1gkjtZI",
        "outputId": "8b73246f-e91c-48b3-8ced-bfe0b11976cf"
      },
      "execution_count": 174,
      "outputs": [
        {
          "output_type": "stream",
          "name": "stdout",
          "text": [
            "A B C D E F G H I \n",
            "  A B C D E F G \n",
            "    A B C D E \n",
            "      A B C \n",
            "        A \n",
            "      A B C \n",
            "    A B C D E \n",
            "  A B C D E F G \n",
            "A B C D E F G H I \n"
          ]
        }
      ]
    },
    {
      "cell_type": "code",
      "source": [
        "# * * * * *\n",
        "# *       *\n",
        "# *       *\n",
        "# *       *\n",
        "# * * * * *\n",
        "\n",
        "for i in range(1,6):\n",
        "  for j in range(1,6):\n",
        "    if(i==1 or i==5 or j==1 or j==5):\n",
        "      print(\"*\",end=\" \")\n",
        "    else:\n",
        "      print(\" \",end=\" \")\n",
        "  print(\"\")"
      ],
      "metadata": {
        "colab": {
          "base_uri": "https://localhost:8080/"
        },
        "id": "ybMPhWlcj7dG",
        "outputId": "d318142e-0698-4df5-b6a6-7d87548f456f"
      },
      "execution_count": 175,
      "outputs": [
        {
          "output_type": "stream",
          "name": "stdout",
          "text": [
            "* * * * * \n",
            "*       * \n",
            "*       * \n",
            "*       * \n",
            "* * * * * \n"
          ]
        }
      ]
    },
    {
      "cell_type": "code",
      "source": [
        "# 1 2 3 4 5\n",
        "# 1       5\n",
        "# 1       5\n",
        "# 1       5\n",
        "# 1 2 3 4 5\n",
        "\n",
        "for i in range(1,6):\n",
        "  for j in range(1,6):\n",
        "    if(i==1 or i==5 or j==1 or j==5):\n",
        "      print(j,end=\" \")\n",
        "    else:\n",
        "      print(\" \",end=\" \")\n",
        "  print(\"\")"
      ],
      "metadata": {
        "colab": {
          "base_uri": "https://localhost:8080/"
        },
        "id": "InmM135jklN9",
        "outputId": "42e94601-6564-4d1a-e2a8-5e1e0bbbca40"
      },
      "execution_count": 176,
      "outputs": [
        {
          "output_type": "stream",
          "name": "stdout",
          "text": [
            "1 2 3 4 5 \n",
            "1       5 \n",
            "1       5 \n",
            "1       5 \n",
            "1 2 3 4 5 \n"
          ]
        }
      ]
    },
    {
      "cell_type": "code",
      "source": [
        "# A B C D E\n",
        "# A       E\n",
        "# A       E\n",
        "# A       E\n",
        "# A B C D E\n",
        "\n",
        "for i in range(1,6):\n",
        "  c=65\n",
        "  for j in range(1,6):\n",
        "    if(i==1 or i==5 or j==1 or j==5):\n",
        "      print(chr(c),end=\" \")\n",
        "    else:\n",
        "      print(\" \",end=\" \")\n",
        "    c+=1\n",
        "  print(\"\")"
      ],
      "metadata": {
        "colab": {
          "base_uri": "https://localhost:8080/"
        },
        "id": "CkWQh92Kkvzr",
        "outputId": "7990774c-e4e7-498f-8ca9-b1d31f48db47"
      },
      "execution_count": 177,
      "outputs": [
        {
          "output_type": "stream",
          "name": "stdout",
          "text": [
            "A B C D E \n",
            "A       E \n",
            "A       E \n",
            "A       E \n",
            "A B C D E \n"
          ]
        }
      ]
    },
    {
      "cell_type": "code",
      "source": [
        "#         *\n",
        "#       *   *\n",
        "#     *       *\n",
        "#   *           *\n",
        "# *               *\n",
        "#   *           *\n",
        "#     *       *\n",
        "#       *   *\n",
        "#         *\n",
        "\n",
        "for i in range(1,6):\n",
        "  for k in range(1,6-i):\n",
        "    print(\" \",end=\" \")\n",
        "  for j in range(1,2*i):\n",
        "    if(j==1 or j==2*i-1):\n",
        "      print(\"*\",end=\" \")\n",
        "    else:\n",
        "      print(\" \",end=\" \")\n",
        "  print(\"\")\n",
        "for i in range(4,0,-1):\n",
        "  for k in range(1,6-i):\n",
        "    print(\" \",end=\" \")\n",
        "  for j in range(1,2*i):\n",
        "    if(j==1 or j==2*i-1):\n",
        "      print(\"*\",end=\" \")\n",
        "    else:\n",
        "      print(\" \",end=\" \")\n",
        "  print(\"\")"
      ],
      "metadata": {
        "colab": {
          "base_uri": "https://localhost:8080/"
        },
        "id": "dOkMHG-xk4dv",
        "outputId": "82b5c035-feb5-4b5b-82f3-0da77edd3871"
      },
      "execution_count": 178,
      "outputs": [
        {
          "output_type": "stream",
          "name": "stdout",
          "text": [
            "        * \n",
            "      *   * \n",
            "    *       * \n",
            "  *           * \n",
            "*               * \n",
            "  *           * \n",
            "    *       * \n",
            "      *   * \n",
            "        * \n"
          ]
        }
      ]
    },
    {
      "cell_type": "code",
      "source": [
        "#         1\n",
        "#       1   3\n",
        "#     1       5\n",
        "#   1           7\n",
        "# 1               9\n",
        "#   1           7\n",
        "#     1       5\n",
        "#       1   3\n",
        "#         1\n",
        "\n",
        "for i in range(1,6):\n",
        "  for k in range(1,6-i):\n",
        "    print(\" \",end=\" \")\n",
        "  for j in range(1,2*i):\n",
        "    if(j==1 or j==2*i-1):\n",
        "      print(j,end=\" \")\n",
        "    else:\n",
        "      print(\" \",end=\" \")\n",
        "  print(\"\")\n",
        "for i in range(4,0,-1):\n",
        "  for k in range(1,6-i):\n",
        "    print(\" \",end=\" \")\n",
        "  for j in range(1,2*i):\n",
        "    if(j==1 or j==2*i-1):\n",
        "      print(j,end=\" \")\n",
        "    else:\n",
        "      print(\" \",end=\" \")\n",
        "  print(\"\")"
      ],
      "metadata": {
        "colab": {
          "base_uri": "https://localhost:8080/"
        },
        "id": "Q3cnYAVvolTw",
        "outputId": "8af171ab-5598-455f-9729-2a5d52c4cea0"
      },
      "execution_count": 179,
      "outputs": [
        {
          "output_type": "stream",
          "name": "stdout",
          "text": [
            "        1 \n",
            "      1   3 \n",
            "    1       5 \n",
            "  1           7 \n",
            "1               9 \n",
            "  1           7 \n",
            "    1       5 \n",
            "      1   3 \n",
            "        1 \n"
          ]
        }
      ]
    },
    {
      "cell_type": "code",
      "source": [
        "#         A\n",
        "#       A   C\n",
        "#     A       E\n",
        "#   A           G\n",
        "# A               I\n",
        "#   A           G\n",
        "#     A       E\n",
        "#       A   C\n",
        "#         A\n",
        "\n",
        "for i in range(1,6):\n",
        "  c=65\n",
        "  for k in range(1,6-i):\n",
        "    print(\" \",end=\" \")\n",
        "  for j in range(1,2*i):\n",
        "    if(j==1 or j==2*i-1):\n",
        "      print(chr(c),end=\" \")\n",
        "    else:\n",
        "      print(\" \",end=\" \")\n",
        "    c+=1\n",
        "  print(\"\")\n",
        "for i in range(4,0,-1):\n",
        "  c=65\n",
        "  for k in range(1,6-i):\n",
        "    print(\" \",end=\" \")\n",
        "  for j in range(1,2*i):\n",
        "    if(j==1 or j==2*i-1):\n",
        "      print(chr(c),end=\" \")\n",
        "    else:\n",
        "      print(\" \",end=\" \")\n",
        "    c+=1\n",
        "  print(\"\")"
      ],
      "metadata": {
        "colab": {
          "base_uri": "https://localhost:8080/"
        },
        "id": "DUoyrINMouGU",
        "outputId": "eb3dbbf1-2306-4164-94b7-ed0a26c8f14a"
      },
      "execution_count": 180,
      "outputs": [
        {
          "output_type": "stream",
          "name": "stdout",
          "text": [
            "        A \n",
            "      A   C \n",
            "    A       E \n",
            "  A           G \n",
            "A               I \n",
            "  A           G \n",
            "    A       E \n",
            "      A   C \n",
            "        A \n"
          ]
        }
      ]
    },
    {
      "cell_type": "code",
      "source": [
        "#     1\n",
        "#    1 1\n",
        "#   1 2 1\n",
        "#  1 3 3 1\n",
        "# 1 4 6 4 1\n",
        "\n",
        "for i in range(1,6):\n",
        "  c=1\n",
        "  for k in range(1,6-i):\n",
        "    print(\" \",end=\"\")\n",
        "  for j in range(1,i+1):\n",
        "    print(c,end=\" \")\n",
        "    c=c*(i-j)//j\n",
        "  print(\"\")"
      ],
      "metadata": {
        "colab": {
          "base_uri": "https://localhost:8080/"
        },
        "id": "PXHbEEJJq7Ty",
        "outputId": "c905a76d-95cb-46a1-c2a0-9ec5af5094c1"
      },
      "execution_count": 181,
      "outputs": [
        {
          "output_type": "stream",
          "name": "stdout",
          "text": [
            "    1 \n",
            "   1 1 \n",
            "  1 2 1 \n",
            " 1 3 3 1 \n",
            "1 4 6 4 1 \n"
          ]
        }
      ]
    },
    {
      "cell_type": "code",
      "source": [
        "# *        *\n",
        "# **      **\n",
        "# ***    ***\n",
        "# ****  ****\n",
        "# **********\n",
        "# ****  ****\n",
        "# ***    ***\n",
        "# **      **\n",
        "# *        *\n",
        "\n",
        "for i in range(1,6):\n",
        "  for j in range(1,i+1):\n",
        "    print(\"*\",end=\"\")\n",
        "  for k in range(1,6-i):\n",
        "    print(\" \",end=\"\")\n",
        "  for l in range(1,6-i):\n",
        "    print(\" \",end=\"\")\n",
        "  for m in range(1,i+1):\n",
        "    print(\"*\",end=\"\")\n",
        "  print(\"\")\n",
        "for i in range(1,5):\n",
        "  for j in range(i,5):\n",
        "    print(\"*\",end=\"\")\n",
        "  for k in range(5-i,5):\n",
        "    print(\" \",end=\"\")\n",
        "  for l in range(5-i,5):\n",
        "    print(\" \",end=\"\")\n",
        "  for m in range(i,5):\n",
        "    print(\"*\",end=\"\")\n",
        "  print(\"\")"
      ],
      "metadata": {
        "colab": {
          "base_uri": "https://localhost:8080/"
        },
        "id": "xAB3-6biuGge",
        "outputId": "0cd52c15-d476-48ed-c7a8-f70731dc2dad"
      },
      "execution_count": 182,
      "outputs": [
        {
          "output_type": "stream",
          "name": "stdout",
          "text": [
            "*        *\n",
            "**      **\n",
            "***    ***\n",
            "****  ****\n",
            "**********\n",
            "****  ****\n",
            "***    ***\n",
            "**      **\n",
            "*        *\n"
          ]
        }
      ]
    },
    {
      "cell_type": "code",
      "source": [
        "# * * * * * * * * * *\n",
        "# * * * *     * * * *\n",
        "# * * *         * * *\n",
        "# * *             * *\n",
        "# *                 *\n",
        "# *                 *\n",
        "# * *             * *\n",
        "# * * *         * * *\n",
        "# * * * *     * * * *\n",
        "# * * * * * * * * * *\n",
        "\n",
        "for i in range(1,6):\n",
        "  for j in range(i,6):\n",
        "    print(\"*\",end=\" \")\n",
        "  for k in range(6-i,5):\n",
        "    print(\" \",end=\" \")\n",
        "  for l in range(6-i,5):\n",
        "    print(\" \",end=\" \")\n",
        "  for m in range(i,6):\n",
        "    print(\"*\",end=\" \")\n",
        "  print(\"\")\n",
        "for i in range(1,6):\n",
        "  for j in range(1,i+1):\n",
        "    print(\"*\",end=\" \")\n",
        "  for k in range(1,6-i):\n",
        "    print(\" \",end=\" \")\n",
        "  for l in range(1,6-i):\n",
        "    print(\" \",end=\" \")\n",
        "  for m in range(1,i+1):\n",
        "    print(\"*\",end=\" \")\n",
        "  print(\"\")"
      ],
      "metadata": {
        "colab": {
          "base_uri": "https://localhost:8080/"
        },
        "id": "FxIjGwT3AyIK",
        "outputId": "f4e6d02a-a0e6-455d-8b7c-69ec59df23e9"
      },
      "execution_count": 183,
      "outputs": [
        {
          "output_type": "stream",
          "name": "stdout",
          "text": [
            "* * * * * * * * * * \n",
            "* * * *     * * * * \n",
            "* * *         * * * \n",
            "* *             * * \n",
            "*                 * \n",
            "*                 * \n",
            "* *             * * \n",
            "* * *         * * * \n",
            "* * * *     * * * * \n",
            "* * * * * * * * * * \n"
          ]
        }
      ]
    },
    {
      "cell_type": "code",
      "source": [
        "#         *\n",
        "#       * * *\n",
        "#     *   *   *\n",
        "#   *     *     *\n",
        "# * * * * * * * * *\n",
        "\n",
        "for i in range(1,6):\n",
        "  for k in range(1,6-i):\n",
        "    print(\" \",end=\" \")\n",
        "  for j in range(1,2*i):\n",
        "    if(i==5 or j==1 or j==2*i-1 or j==i):\n",
        "      print(\"*\",end=\" \")\n",
        "    else:\n",
        "      print(\" \",end=\" \")\n",
        "  print(\"\")"
      ],
      "metadata": {
        "colab": {
          "base_uri": "https://localhost:8080/"
        },
        "id": "Qt3s59r1CYil",
        "outputId": "a23aa8f2-54d0-42f8-e397-440a4224a168"
      },
      "execution_count": 184,
      "outputs": [
        {
          "output_type": "stream",
          "name": "stdout",
          "text": [
            "        * \n",
            "      * * * \n",
            "    *   *   * \n",
            "  *     *     * \n",
            "* * * * * * * * * \n"
          ]
        }
      ]
    }
  ]
}