{
  "nbformat": 4,
  "nbformat_minor": 0,
  "metadata": {
    "colab": {
      "provenance": [],
      "authorship_tag": "ABX9TyPovXBzzYCrLrqyq0Y7CD+I",
      "include_colab_link": true
    },
    "kernelspec": {
      "name": "python3",
      "display_name": "Python 3"
    },
    "language_info": {
      "name": "python"
    }
  },
  "cells": [
    {
      "cell_type": "markdown",
      "metadata": {
        "id": "view-in-github",
        "colab_type": "text"
      },
      "source": [
        "<a href=\"https://colab.research.google.com/github/AnmolHemani/Python/blob/main/Day_13_Learning_Assignment.ipynb\" target=\"_parent\"><img src=\"https://colab.research.google.com/assets/colab-badge.svg\" alt=\"Open In Colab\"/></a>"
      ]
    },
    {
      "cell_type": "code",
      "execution_count": 74,
      "metadata": {
        "id": "4fYlRBcE_iW9"
      },
      "outputs": [],
      "source": [
        "# learning assignment\n",
        "# Valid paranthesis we have done it with list but try to do it with dict\n",
        "# number to roman\n",
        "# list comprehension\n",
        "# dict comprehension"
      ]
    },
    {
      "cell_type": "code",
      "source": [
        "# Valid paranthesis we have done it with list but try to do it with dict\n",
        "s=input(\"Enter the string :\")\n",
        "dict1={1:\"(\",2:\"{\",3:\"[\",4:\")\",5:\"}\",6:\"]\"}\n",
        "x=-1\n",
        "a=0\n",
        "if(len(s)%2==0):\n",
        "  for i in range(0,len(s)):\n",
        "      if(s[i]==\"(\" and s[x]==dict1[4]):\n",
        "        x-=1\n",
        "      elif(s[i]==\"{\" and s[x]==dict1[5]):\n",
        "        x-=1\n",
        "      elif(s[i]==\"[\" and s[x]==dict1[6]):\n",
        "        x-=1\n",
        "else:\n",
        "  a=1\n",
        "if(a==0):\n",
        "  print(\"valid\")\n",
        "else:\n",
        "  print(\"Invalid\")"
      ],
      "metadata": {
        "colab": {
          "base_uri": "https://localhost:8080/"
        },
        "id": "qYvomen4_xzm",
        "outputId": "1b3673d9-8e4c-4b44-bb51-a781e4e95dc1"
      },
      "execution_count": 55,
      "outputs": [
        {
          "output_type": "stream",
          "name": "stdout",
          "text": [
            "Enter the string :(({{}})\n",
            "Invalid\n"
          ]
        }
      ]
    },
    {
      "cell_type": "code",
      "source": [
        "# number to roman\n",
        "num1=int(input(\"Enter the num to convert into roman :\"))\n",
        "dict1={1000:\"M\",500:\"D\",100:\"C\",50:\"L\",10:\"X\",5:\"V\",1:\"I\"}\n",
        "roman_num=\"\"\n",
        "for i in dict1:\n",
        "  while(num1>=i):\n",
        "    roman_num+=dict1[i]\n",
        "    num1-=i\n",
        "print(roman_num)"
      ],
      "metadata": {
        "colab": {
          "base_uri": "https://localhost:8080/"
        },
        "id": "SkkCncW0SCtr",
        "outputId": "0d118337-5d9c-42aa-fcac-7865921072b3"
      },
      "execution_count": 30,
      "outputs": [
        {
          "output_type": "stream",
          "name": "stdout",
          "text": [
            "Enter the num to convert into roman :45789\n",
            "MMMMMMMMMMMMMMMMMMMMMMMMMMMMMMMMMMMMMMMMMMMMMDCCLXXXVIIII\n"
          ]
        }
      ]
    },
    {
      "cell_type": "code",
      "source": [
        "# List Comprehension\n",
        "\n",
        "# It is a shorter syntax when we want to create a new list from the existing list which we have.\n",
        "\n",
        "# Example:\n",
        "a=[i for i in range(10)]\n",
        "print(a)\n",
        "\n",
        "b=[(x,y) for x in range(3) for y in range(3)]\n",
        "print(b)"
      ],
      "metadata": {
        "colab": {
          "base_uri": "https://localhost:8080/"
        },
        "id": "lTeR9pqZYZ-q",
        "outputId": "d6eae490-937c-4d37-f5b2-3eb77e602a4e"
      },
      "execution_count": 73,
      "outputs": [
        {
          "output_type": "stream",
          "name": "stdout",
          "text": [
            "[0, 1, 2, 3, 4, 5, 6, 7, 8, 9]\n",
            "[(0, 0), (0, 1), (0, 2), (1, 0), (1, 1), (1, 2), (2, 0), (2, 1), (2, 2)]\n"
          ]
        }
      ]
    },
    {
      "cell_type": "code",
      "source": [
        "# dict comprehension\n",
        "\n",
        "# It is a concise way to create a dict using simple expression\n",
        "\n",
        "# Example:\n",
        "key=[0,1,2,3,4]\n",
        "value=[\"a\",\"b\",\"c\",\"d\",\"e\"]\n",
        "mydict={k:v for (k,v) in zip(key,value)}\n",
        "print(mydict)\n",
        "\n",
        "# Example using fromkeys()\n",
        "mydict1=mydict.fromkeys(range(1,5),\"Anmol\")\n",
        "print(mydict1)\n",
        "\n",
        "# Example\n",
        "mydict2={x:x**2 for x in range(0,5)}\n",
        "print(mydict2)\n",
        "\n",
        "# Example\n",
        "mydict3={x:x.upper() for x in \"anmol\"}\n",
        "print(mydict3)"
      ],
      "metadata": {
        "colab": {
          "base_uri": "https://localhost:8080/"
        },
        "id": "Xz7oKXSOdTPC",
        "outputId": "81174d21-34e4-4e2a-df04-082b2bd67518"
      },
      "execution_count": 85,
      "outputs": [
        {
          "output_type": "stream",
          "name": "stdout",
          "text": [
            "{0: 'a', 1: 'b', 2: 'c', 3: 'd', 4: 'e'}\n",
            "{1: 'Anmol', 2: 'Anmol', 3: 'Anmol', 4: 'Anmol'}\n",
            "{0: 0, 1: 1, 2: 4, 3: 9, 4: 16}\n",
            "{'a': 'A', 'n': 'N', 'm': 'M', 'o': 'O', 'l': 'L'}\n"
          ]
        }
      ]
    }
  ]
}