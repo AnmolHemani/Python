{
  "nbformat": 4,
  "nbformat_minor": 0,
  "metadata": {
    "colab": {
      "provenance": [],
      "authorship_tag": "ABX9TyPKUCwTSf0NX38sYTASukq2",
      "include_colab_link": true
    },
    "kernelspec": {
      "name": "python3",
      "display_name": "Python 3"
    },
    "language_info": {
      "name": "python"
    }
  },
  "cells": [
    {
      "cell_type": "markdown",
      "metadata": {
        "id": "view-in-github",
        "colab_type": "text"
      },
      "source": [
        "<a href=\"https://colab.research.google.com/github/AnmolHemani/Python/blob/main/Day_11.ipynb\" target=\"_parent\"><img src=\"https://colab.research.google.com/assets/colab-badge.svg\" alt=\"Open In Colab\"/></a>"
      ]
    },
    {
      "cell_type": "code",
      "execution_count": 1,
      "metadata": {
        "colab": {
          "base_uri": "https://localhost:8080/"
        },
        "id": "tRbJZ-KEHf2R",
        "outputId": "5b98fd33-3fff-416f-d670-8afae65168cd"
      },
      "outputs": [
        {
          "output_type": "stream",
          "name": "stdout",
          "text": [
            "(1, 2, 3, 4, 'hey')\n"
          ]
        }
      ],
      "source": [
        "# tuple\n",
        "# it is immutable\n",
        "tuple1=(1,2,3,4,\"hey\")\n",
        "print(tuple1)"
      ]
    },
    {
      "cell_type": "code",
      "source": [
        "tuple1=1,2,3,4,\"hey\"\n",
        "print(tuple1)\n",
        "print(tuple1[0])"
      ],
      "metadata": {
        "colab": {
          "base_uri": "https://localhost:8080/"
        },
        "id": "okWvit8NI6pR",
        "outputId": "d88bc1cd-2738-4340-e7b9-74be815dec2f"
      },
      "execution_count": 3,
      "outputs": [
        {
          "output_type": "stream",
          "name": "stdout",
          "text": [
            "(1, 2, 3, 4, 'hey')\n",
            "1\n"
          ]
        }
      ]
    },
    {
      "cell_type": "code",
      "source": [
        "# datatype in python\n",
        "\n",
        "# 1. numeric --> int,float,complex,boolean\n",
        "# 2. sequence --> list,tuple,string\n",
        "# 3. dictionary\n",
        "# 4. set --> set and frozen set"
      ],
      "metadata": {
        "id": "wfNneImJJiEY"
      },
      "execution_count": 7,
      "outputs": []
    },
    {
      "cell_type": "code",
      "source": [
        "# list , dictionary and set are mutuable  and rest are immuatble datatype\n",
        "# if memory address is same when we change the values then it is mutuable data type\n",
        "# if u r creating a new memory address is it called immutable data type\n",
        "a=10\n",
        "b=a\n",
        "print(id(a),id(b))\n",
        "a=20\n",
        "print(id(a),id(b))"
      ],
      "metadata": {
        "colab": {
          "base_uri": "https://localhost:8080/"
        },
        "id": "rranKGMDJ75l",
        "outputId": "30971707-4177-4e57-ade5-42201667fe82"
      },
      "execution_count": 6,
      "outputs": [
        {
          "output_type": "stream",
          "name": "stdout",
          "text": [
            "10751144 10751144\n",
            "10751464 10751144\n"
          ]
        }
      ]
    },
    {
      "cell_type": "code",
      "source": [
        "# dictionary\n",
        "# key and value\n",
        "# key = unique (identifier)\n",
        "# value = duplicate or unique\n",
        "# {}\n",
        "# mutuable data type\n",
        "# there is no index position\n",
        "# ordered collection"
      ],
      "metadata": {
        "id": "RE4OWsgGNC6M"
      },
      "execution_count": 8,
      "outputs": []
    },
    {
      "cell_type": "code",
      "source": [
        "mydict={1:\"Anmol\", 2:\"Hemani\",\"city\":\"Jaipur\"}\n",
        "print(mydict)\n",
        "len(mydict)"
      ],
      "metadata": {
        "colab": {
          "base_uri": "https://localhost:8080/"
        },
        "id": "sBk2TyIwOoDd",
        "outputId": "93563271-9600-41d7-f69d-7d53d2eb308e"
      },
      "execution_count": 12,
      "outputs": [
        {
          "output_type": "stream",
          "name": "stdout",
          "text": [
            "{1: 'Anmol', 2: 'Hemani', 'city': 'Jaipur'}\n"
          ]
        },
        {
          "output_type": "execute_result",
          "data": {
            "text/plain": [
              "3"
            ]
          },
          "metadata": {},
          "execution_count": 12
        }
      ]
    },
    {
      "cell_type": "code",
      "source": [
        "mydict={1:\"Anmol\", 2:\"Hemani\",\"city\":\"Jaipur\"}\n",
        "mydict[2]=\"Dhruv\"   #update\n",
        "mydict[4]=\"Hemani\"  #insert\n",
        "print(mydict)"
      ],
      "metadata": {
        "colab": {
          "base_uri": "https://localhost:8080/"
        },
        "id": "EQlsmDmPO_kr",
        "outputId": "3189188a-a22d-4804-d394-5003bf5e6579"
      },
      "execution_count": 21,
      "outputs": [
        {
          "output_type": "stream",
          "name": "stdout",
          "text": [
            "{1: 'Anmol', 2: 'Dhruv', 'city': 'Jaipur', 4: 'Hemani'}\n"
          ]
        }
      ]
    },
    {
      "cell_type": "code",
      "source": [
        "mydict={1:\"Anmol\", 2:\"Hemani\",\"city\":\"Jaipur\"}\n",
        "# help(mydict)  to find out all data types and help will provide us the documentation\n",
        "\n",
        "for i in mydict:\n",
        "  print(i,mydict[i])"
      ],
      "metadata": {
        "colab": {
          "base_uri": "https://localhost:8080/"
        },
        "id": "bRON3OhjPc18",
        "outputId": "f8f8bb67-47e0-4cb9-e6e2-3860a89d6ab9"
      },
      "execution_count": 28,
      "outputs": [
        {
          "output_type": "stream",
          "name": "stdout",
          "text": [
            "1 Anmol\n",
            "2 Hemani\n",
            "city Jaipur\n"
          ]
        }
      ]
    },
    {
      "cell_type": "code",
      "source": [
        "mydict={1:\"Anmol\", 2:\"Hemani\",\"city\":\"Jaipur\"}\n",
        "for i in mydict.keys():\n",
        "  print(i)\n",
        "for i in mydict.values():\n",
        "  print(i)"
      ],
      "metadata": {
        "colab": {
          "base_uri": "https://localhost:8080/"
        },
        "id": "IUzAoVjfQ3qg",
        "outputId": "bd042661-3389-42ed-b914-5013b3864b4c"
      },
      "execution_count": 33,
      "outputs": [
        {
          "output_type": "stream",
          "name": "stdout",
          "text": [
            "1\n",
            "2\n",
            "city\n",
            "Anmol\n",
            "Hemani\n",
            "Jaipur\n"
          ]
        }
      ]
    },
    {
      "cell_type": "code",
      "source": [
        "mydict={1:\"Anmol\", 2:\"Hemani\",\"city\":\"Jaipur\"}\n",
        "for i in mydict.items():\n",
        "  print(i)\n",
        "  print(i[1])"
      ],
      "metadata": {
        "colab": {
          "base_uri": "https://localhost:8080/"
        },
        "id": "fBJGe2g3RUkD",
        "outputId": "dd2d1a23-ed13-4823-c9da-05b67666615c"
      },
      "execution_count": 42,
      "outputs": [
        {
          "output_type": "stream",
          "name": "stdout",
          "text": [
            "(1, 'Anmol')\n",
            "Anmol\n",
            "(2, 'Hemani')\n",
            "Hemani\n",
            "('city', 'Jaipur')\n",
            "Jaipur\n"
          ]
        }
      ]
    },
    {
      "cell_type": "code",
      "source": [
        "x=(10,20)\n",
        "a=x[0]\n",
        "b=x[1]\n",
        "print(a,b)"
      ],
      "metadata": {
        "colab": {
          "base_uri": "https://localhost:8080/"
        },
        "id": "1Xy8YlyiSFl2",
        "outputId": "6864e8a0-37c8-44e8-f7e7-d62d09f1cbd9"
      },
      "execution_count": 39,
      "outputs": [
        {
          "output_type": "stream",
          "name": "stdout",
          "text": [
            "10 20\n"
          ]
        }
      ]
    },
    {
      "cell_type": "code",
      "source": [
        "x=(10,20)\n",
        "a,b=x  #tuple unpacking\n",
        "print(a,b)"
      ],
      "metadata": {
        "colab": {
          "base_uri": "https://localhost:8080/"
        },
        "id": "L9V77hmER3Cs",
        "outputId": "b7aceec6-6d27-4284-9980-07dd3306d5af"
      },
      "execution_count": 40,
      "outputs": [
        {
          "output_type": "stream",
          "name": "stdout",
          "text": [
            "10 20\n"
          ]
        }
      ]
    },
    {
      "cell_type": "code",
      "source": [
        "mydict={\"x\":100}\n",
        "mydict[\"x\"]=mydict[\"x\"]+50\n",
        "print(mydict)"
      ],
      "metadata": {
        "colab": {
          "base_uri": "https://localhost:8080/"
        },
        "id": "pk_2fb0jSbdz",
        "outputId": "b7b23a98-7425-4be0-a4d3-7a66c0d5050e"
      },
      "execution_count": 44,
      "outputs": [
        {
          "output_type": "stream",
          "name": "stdout",
          "text": [
            "{'x': 150}\n"
          ]
        }
      ]
    },
    {
      "cell_type": "code",
      "source": [
        "mydict={\"count\":0}\n",
        "str1=\"hello\"\n",
        "for i in str1:\n",
        "  mydict[\"count\"]+=1\n",
        "print(mydict)"
      ],
      "metadata": {
        "colab": {
          "base_uri": "https://localhost:8080/"
        },
        "id": "NzKZeZ3PS_2c",
        "outputId": "cde879a1-83c5-43a9-9633-f065bd7f85a7"
      },
      "execution_count": 46,
      "outputs": [
        {
          "output_type": "stream",
          "name": "stdout",
          "text": [
            "{'count': 5}\n"
          ]
        }
      ]
    },
    {
      "cell_type": "code",
      "source": [
        "mydict={\"count\":0}\n",
        "str1=\"hello\"\n",
        "for i in str1:\n",
        "  if i in \"aeiouAEIOU\":\n",
        "    mydict[\"count\"]+=1\n",
        "print(mydict)"
      ],
      "metadata": {
        "colab": {
          "base_uri": "https://localhost:8080/"
        },
        "id": "58ENLwS5TqmL",
        "outputId": "b4caebd6-4dcd-4ee6-9909-187c5b80fb83"
      },
      "execution_count": 51,
      "outputs": [
        {
          "output_type": "stream",
          "name": "stdout",
          "text": [
            "{'count': 2}\n"
          ]
        }
      ]
    },
    {
      "cell_type": "code",
      "source": [
        "# \"hey\"={\"h\":1,\"e\":1,\"y\":1}\n",
        "mydict={}\n",
        "str1=\"hey\"\n",
        "for i in str1:\n",
        "  mydict[i]=1\n",
        "print(mydict)"
      ],
      "metadata": {
        "colab": {
          "base_uri": "https://localhost:8080/"
        },
        "id": "8md-q07GUxA3",
        "outputId": "b2dc25f7-b2d8-4d7b-91fa-6915ca11f593"
      },
      "execution_count": 55,
      "outputs": [
        {
          "output_type": "stream",
          "name": "stdout",
          "text": [
            "{'h': 1, 'e': 1, 'y': 1}\n"
          ]
        }
      ]
    },
    {
      "cell_type": "code",
      "source": [
        "# \"heey\"={\"h\":1,\"e\":1,\"e\":2,y\":1}\n",
        "mydict={}\n",
        "str1=\"heey\"\n",
        "for i in str1:\n",
        "  if i not in mydict:\n",
        "    mydict[i]=1\n",
        "  else:\n",
        "    mydict[i]+=1\n",
        "print(mydict)"
      ],
      "metadata": {
        "colab": {
          "base_uri": "https://localhost:8080/"
        },
        "id": "JSQNz07YVfWz",
        "outputId": "1fba22a8-0a9b-4aa3-de49-c7bf7f4c29b4"
      },
      "execution_count": 65,
      "outputs": [
        {
          "output_type": "stream",
          "name": "stdout",
          "text": [
            "{'h': 1, 'e': 2, 'y': 1}\n"
          ]
        }
      ]
    },
    {
      "cell_type": "code",
      "source": [
        "mydict={}\n",
        "str1=\"heey helloo\"\n",
        "for i in str1:\n",
        "  if i in \"aeiouAEIOU\":\n",
        "    if i not in mydict:\n",
        "      mydict[i]=1\n",
        "    else:\n",
        "      mydict[i]+=1\n",
        "print(mydict)\n",
        "\n",
        "# 2 method\n",
        "# mydict={\"a\":0,\"e\":0,\"i\":0,\"o\":0,\"u\":0}\n",
        "# str1=\"heey helloo\"\n",
        "# for i in str1:\n",
        "#   if i in \"aeiou\":\n",
        "#     mydict[i]+=1\n",
        "# print(mydict)"
      ],
      "metadata": {
        "colab": {
          "base_uri": "https://localhost:8080/"
        },
        "id": "ciL4NQxVWJAm",
        "outputId": "eacbce48-199b-41b8-abd5-23639dbcad9c"
      },
      "execution_count": 69,
      "outputs": [
        {
          "output_type": "stream",
          "name": "stdout",
          "text": [
            "{'e': 3, 'o': 2}\n"
          ]
        }
      ]
    },
    {
      "cell_type": "code",
      "source": [
        "# two sum\n",
        "list1=[1,2,3,7,11,13]\n",
        "mydict={}\n",
        "k=9\n",
        "for i in range(0,len(list1)):\n",
        "  mydict[list1[i]]=i\n",
        "print(mydict)\n",
        "for j in mydict:\n",
        "  if k-j in mydict:\n",
        "    print(j,k-j)"
      ],
      "metadata": {
        "colab": {
          "base_uri": "https://localhost:8080/"
        },
        "id": "LDT-Tnd5Y02W",
        "outputId": "f057c828-3c2a-4f9b-d551-e61596dcf2ef"
      },
      "execution_count": 97,
      "outputs": [
        {
          "output_type": "stream",
          "name": "stdout",
          "text": [
            "{1: 0, 2: 1, 3: 2, 7: 3, 11: 4, 13: 5}\n",
            "2 7\n",
            "7 2\n"
          ]
        }
      ]
    }
  ]
}