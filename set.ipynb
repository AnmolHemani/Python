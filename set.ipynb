{
  "nbformat": 4,
  "nbformat_minor": 0,
  "metadata": {
    "colab": {
      "provenance": [],
      "authorship_tag": "ABX9TyNskXxwfm3ufDI5JJ6KsAe9",
      "include_colab_link": true
    },
    "kernelspec": {
      "name": "python3",
      "display_name": "Python 3"
    },
    "language_info": {
      "name": "python"
    }
  },
  "cells": [
    {
      "cell_type": "markdown",
      "metadata": {
        "id": "view-in-github",
        "colab_type": "text"
      },
      "source": [
        "<a href=\"https://colab.research.google.com/github/AnmolHemani/Python/blob/main/set.ipynb\" target=\"_parent\"><img src=\"https://colab.research.google.com/assets/colab-badge.svg\" alt=\"Open In Colab\"/></a>"
      ]
    },
    {
      "cell_type": "code",
      "execution_count": 1,
      "metadata": {
        "id": "wzWs1MyJjhfX"
      },
      "outputs": [],
      "source": [
        "# set\n",
        "# datatype\n",
        "# unique element\n",
        "# no index\n",
        "\n",
        "myset=({}) #empty set"
      ]
    },
    {
      "cell_type": "code",
      "source": [
        "myset={10,20,505,10,10,204,60}\n",
        "print(myset)"
      ],
      "metadata": {
        "colab": {
          "base_uri": "https://localhost:8080/"
        },
        "id": "ZAyRWdU_j-1w",
        "outputId": "5e0e54de-3594-42a2-bfe2-a3512a4e0b5d"
      },
      "execution_count": 3,
      "outputs": [
        {
          "output_type": "stream",
          "name": "stdout",
          "text": [
            "{20, 505, 10, 204, 60}\n"
          ]
        }
      ]
    },
    {
      "cell_type": "code",
      "source": [
        "myset.add(500)\n",
        "print(myset)"
      ],
      "metadata": {
        "colab": {
          "base_uri": "https://localhost:8080/"
        },
        "id": "Nlndo752kbpQ",
        "outputId": "51c84be6-707d-4f1f-b989-ee3d78c1e717"
      },
      "execution_count": 8,
      "outputs": [
        {
          "output_type": "stream",
          "name": "stdout",
          "text": [
            "{20, 500, 505, 10, 204, 60}\n"
          ]
        }
      ]
    },
    {
      "cell_type": "code",
      "source": [
        "myset.discard(500)\n",
        "print(myset)"
      ],
      "metadata": {
        "colab": {
          "base_uri": "https://localhost:8080/"
        },
        "id": "MyCvg0HvlQnS",
        "outputId": "ec9b4e38-ddcb-481e-8946-d56d4682bf71"
      },
      "execution_count": 10,
      "outputs": [
        {
          "output_type": "stream",
          "name": "stdout",
          "text": [
            "{20, 505, 10, 204, 60}\n"
          ]
        }
      ]
    },
    {
      "cell_type": "code",
      "source": [
        "myset.update([100,200,300])\n",
        "print(myset)"
      ],
      "metadata": {
        "colab": {
          "base_uri": "https://localhost:8080/"
        },
        "id": "zFlAljCdlZnv",
        "outputId": "26c66da6-ef60-44e9-850d-41cdce124f22"
      },
      "execution_count": 12,
      "outputs": [
        {
          "output_type": "stream",
          "name": "stdout",
          "text": [
            "{20, 100, 300, 200, 505, 10, 204, 60}\n"
          ]
        }
      ]
    },
    {
      "cell_type": "code",
      "source": [
        "myset={1,2,3,4}\n",
        "myset1={4,5,6,3}\n",
        "myset.union(myset1)"
      ],
      "metadata": {
        "colab": {
          "base_uri": "https://localhost:8080/"
        },
        "id": "MTSKy481mFxt",
        "outputId": "fec139ee-81af-4682-fc8c-abdceae07261"
      },
      "execution_count": 18,
      "outputs": [
        {
          "output_type": "execute_result",
          "data": {
            "text/plain": [
              "{1, 2, 3, 4, 5, 6}"
            ]
          },
          "metadata": {},
          "execution_count": 18
        }
      ]
    },
    {
      "cell_type": "code",
      "source": [
        "myset={1,2,3,4}\n",
        "myset1={4,5,6,3}\n",
        "myset.difference(myset1)\n",
        "print(myset)\n",
        "print(myset1)"
      ],
      "metadata": {
        "colab": {
          "base_uri": "https://localhost:8080/"
        },
        "id": "kUE898aRmveN",
        "outputId": "5b4c6628-fb92-43cd-d1f5-d4c27a79be20"
      },
      "execution_count": 27,
      "outputs": [
        {
          "output_type": "stream",
          "name": "stdout",
          "text": [
            "{1, 2, 3, 4}\n",
            "{3, 4, 5, 6}\n"
          ]
        }
      ]
    },
    {
      "cell_type": "code",
      "source": [
        "myset={1,2,3,4}\n",
        "myset1={4,5,6,3}\n",
        "myset.difference_update(myset1)\n",
        "print(myset)\n",
        "print(myset1)"
      ],
      "metadata": {
        "colab": {
          "base_uri": "https://localhost:8080/"
        },
        "id": "csu_pQqam-Gt",
        "outputId": "bc628404-80de-4368-ffcb-55bd010c0183"
      },
      "execution_count": 26,
      "outputs": [
        {
          "output_type": "stream",
          "name": "stdout",
          "text": [
            "{1, 2}\n",
            "{3, 4, 5, 6}\n"
          ]
        }
      ]
    },
    {
      "cell_type": "code",
      "source": [
        "myset={1,2,3,4,5,6,7,8}\n",
        "myset1={4,5,6,3}\n",
        "s1=myset.issuperset(myset1)\n",
        "print(s1)"
      ],
      "metadata": {
        "colab": {
          "base_uri": "https://localhost:8080/"
        },
        "id": "ZRqmiKLIoQOT",
        "outputId": "8efc1fab-1944-49d6-b883-8d3d284451ed"
      },
      "execution_count": 45,
      "outputs": [
        {
          "output_type": "stream",
          "name": "stdout",
          "text": [
            "True\n"
          ]
        }
      ]
    },
    {
      "cell_type": "code",
      "source": [
        "myset={1,2,3,4,5,6,7,8}\n",
        "myset1={4,5,6,3}\n",
        "s1=myset.symmetric_difference(myset1)\n",
        "print(s1)"
      ],
      "metadata": {
        "colab": {
          "base_uri": "https://localhost:8080/"
        },
        "id": "1ly8FPI3o8RB",
        "outputId": "d0e0d2fb-40f6-477f-aba9-cecb4c4e103f"
      },
      "execution_count": 39,
      "outputs": [
        {
          "output_type": "stream",
          "name": "stdout",
          "text": [
            "{1, 2, 7, 8}\n"
          ]
        }
      ]
    },
    {
      "cell_type": "code",
      "source": [
        "myset={1,2,3,4,5,6,7,8}\n",
        "myset1={4,5,6,3}\n",
        "myset2={10,11,12}\n",
        "s1=myset.isdisjoint(myset1)\n",
        "print(s1)\n",
        "s2=myset.isdisjoint(myset2)\n",
        "print(s2)"
      ],
      "metadata": {
        "colab": {
          "base_uri": "https://localhost:8080/"
        },
        "id": "YPi253d4poWX",
        "outputId": "c052c1ee-b845-42f2-8804-44cb3ad2c807"
      },
      "execution_count": 44,
      "outputs": [
        {
          "output_type": "stream",
          "name": "stdout",
          "text": [
            "False\n",
            "True\n"
          ]
        }
      ]
    },
    {
      "cell_type": "code",
      "source": [
        "myset={1,2,3,4,5,6,7,8}\n",
        "myset1={4,5,6,3}\n",
        "s1=myset1.issubset(myset)\n",
        "print(s1)"
      ],
      "metadata": {
        "colab": {
          "base_uri": "https://localhost:8080/"
        },
        "id": "667N_uQSp7uk",
        "outputId": "344d077d-4c52-4ea1-da40-2246b0076f09"
      },
      "execution_count": 48,
      "outputs": [
        {
          "output_type": "stream",
          "name": "stdout",
          "text": [
            "True\n"
          ]
        }
      ]
    },
    {
      "cell_type": "code",
      "source": [
        "myset={1,2,3,4,5,6,7,8}\n",
        "myset1={4,5,6,3}\n",
        "s1=myset.intersection(myset1)\n",
        "print(s1)"
      ],
      "metadata": {
        "colab": {
          "base_uri": "https://localhost:8080/"
        },
        "id": "RVgQKlYrqNkq",
        "outputId": "d788c157-c2a6-4d40-8adf-ec24b53c03b4"
      },
      "execution_count": 50,
      "outputs": [
        {
          "output_type": "stream",
          "name": "stdout",
          "text": [
            "{3, 4, 5, 6}\n"
          ]
        }
      ]
    }
  ]
}