{
  "nbformat": 4,
  "nbformat_minor": 0,
  "metadata": {
    "colab": {
      "provenance": [],
      "authorship_tag": "ABX9TyO5e/oQT9HjbTGGPISXw+bC",
      "include_colab_link": true
    },
    "kernelspec": {
      "name": "python3",
      "display_name": "Python 3"
    },
    "language_info": {
      "name": "python"
    }
  },
  "cells": [
    {
      "cell_type": "markdown",
      "metadata": {
        "id": "view-in-github",
        "colab_type": "text"
      },
      "source": [
        "<a href=\"https://colab.research.google.com/github/AnmolHemani/Python/blob/main/Day_9.ipynb\" target=\"_parent\"><img src=\"https://colab.research.google.com/assets/colab-badge.svg\" alt=\"Open In Colab\"/></a>"
      ]
    },
    {
      "cell_type": "code",
      "execution_count": 4,
      "metadata": {
        "colab": {
          "base_uri": "https://localhost:8080/"
        },
        "id": "n7XylFu7qQ-N",
        "outputId": "ec440108-8741-43f5-8ffa-948927d8971c"
      },
      "outputs": [
        {
          "output_type": "stream",
          "name": "stdout",
          "text": [
            "2 + 7 = 9\n"
          ]
        }
      ],
      "source": [
        "# find sum of 2 num is == k from the list.\n",
        "list1=[0,1,2,3,4,7,11,13]\n",
        "k=9\n",
        "a=0\n",
        "b=len(list1)-1\n",
        "sum=0\n",
        "while(True):\n",
        "  sum=list1[a]+list1[b]\n",
        "  if(sum==k):\n",
        "    print(list1[a],\"+\",list1[b],\"=\",k)\n",
        "    sum=0\n",
        "    break\n",
        "  elif(sum>k):\n",
        "    b-=1\n",
        "  else:\n",
        "    a+=1"
      ]
    },
    {
      "cell_type": "code",
      "source": [
        "mylist=[10,[20,30]]\n",
        "print(mylist[0])\n",
        "print(mylist[1])\n",
        "print(mylist[1][0])"
      ],
      "metadata": {
        "colab": {
          "base_uri": "https://localhost:8080/"
        },
        "id": "mwd_nZt3vCKj",
        "outputId": "10dbf6a3-d654-4b08-e736-1e8e5bc86739"
      },
      "execution_count": 6,
      "outputs": [
        {
          "output_type": "stream",
          "name": "stdout",
          "text": [
            "10\n",
            "[20, 30]\n",
            "20\n"
          ]
        }
      ]
    },
    {
      "cell_type": "code",
      "source": [
        "# Pascal Triangle\n",
        "\n",
        "mylist=[]\n",
        "for i in range(0,5):\n",
        "  templist=[]\n",
        "  for j in range(0,i+1):\n",
        "    if(j==0 or j==i):\n",
        "      templist.append(1)\n",
        "    else:\n",
        "      templist.append(mylist[i-1][j-1]+mylist[i-1][j])\n",
        "  mylist.append(templist)\n",
        "print(mylist)"
      ],
      "metadata": {
        "colab": {
          "base_uri": "https://localhost:8080/"
        },
        "id": "nazpao3bvtmr",
        "outputId": "d8b10191-b440-4ac8-facc-a771341bbe5d"
      },
      "execution_count": 55,
      "outputs": [
        {
          "output_type": "stream",
          "name": "stdout",
          "text": [
            "[[1], [1, 1], [1, 2, 1], [1, 3, 3, 1], [1, 4, 6, 4, 1]]\n"
          ]
        }
      ]
    }
  ]
}