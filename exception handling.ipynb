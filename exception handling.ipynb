{
 "cells": [
  {
   "cell_type": "code",
   "execution_count": 8,
   "id": "570fd266-b877-43df-994a-7c06ce1b165b",
   "metadata": {},
   "outputs": [],
   "source": [
    "# Exception => unwanted conditon , situation\n",
    "# code => correct output\n",
    "\n",
    "# print(\"hello\")\n",
    "# z+10\n",
    "# print(\"hey\")\n",
    "\n",
    "# this will show an error because z is not defined in it so to handle this error we use this."
   ]
  },
  {
   "cell_type": "code",
   "execution_count": 27,
   "id": "97f1a726-4faa-4bce-a596-f7ec5f27c63b",
   "metadata": {},
   "outputs": [
    {
     "name": "stdout",
     "output_type": "stream",
     "text": [
      "hello\n",
      "error handling name 'z' is not defined\n"
     ]
    }
   ],
   "source": [
    "# exceptional handling is used to handle error and run the remaining program\n",
    "# we use try : and except: function \n",
    "# such as\n",
    "try: # if the code written in try function and error occur it enter to except function \n",
    "    print(\"hello\")\n",
    "    s=\"hey\"\n",
    "    s[0]\n",
    "    z+10  # when error occur it terminate the code to error \n",
    "    print(\"hey\")\n",
    "except (NameError,IndexError) as e: # when error occur the expect function starts running\n",
    "    #we can define mumtiple error in one except or also can single single\n",
    "    print(\"error handling\",e)"
   ]
  },
  {
   "cell_type": "code",
   "execution_count": 28,
   "id": "44715492-74c4-4416-80cc-1da7db7dbd3c",
   "metadata": {},
   "outputs": [
    {
     "name": "stdout",
     "output_type": "stream",
     "text": [
      "hello\n",
      "error string index out of range\n"
     ]
    }
   ],
   "source": [
    "try:\n",
    "    print(\"hello\")\n",
    "    s=\"st\"\n",
    "    s[5]\n",
    "    x+10\n",
    "    print(\"hey\")\n",
    "except NameError as e: #we can define mumtiple error in one except or also can single single\n",
    "    print(\"error\",e)\n",
    "except IndexError as e: #we can define mumtiple error in one except or also can single single\n",
    "    print(\"error\",e)"
   ]
  },
  {
   "cell_type": "code",
   "execution_count": 22,
   "id": "65b96c76-d52d-4bca-b58a-b56263360588",
   "metadata": {},
   "outputs": [
    {
     "name": "stdout",
     "output_type": "stream",
     "text": [
      "hello\n",
      "inner error\n",
      "hey\n"
     ]
    }
   ],
   "source": [
    "# nested try except\n",
    "try:\n",
    "    print(\"hello\")\n",
    "    try:\n",
    "        s=\"hey\"\n",
    "        s[5]\n",
    "    except:\n",
    "        print(\"inner error\")\n",
    "    print(\"hey\")\n",
    "except (NameError,IndexError) as e:\n",
    "    print(\"outer error\",e)"
   ]
  },
  {
   "cell_type": "code",
   "execution_count": 29,
   "id": "4e211e99-6447-4d60-9ae7-58079acf4702",
   "metadata": {},
   "outputs": [
    {
     "name": "stdout",
     "output_type": "stream",
     "text": [
      "hello\n",
      "outer error name 'z' is not defined\n"
     ]
    }
   ],
   "source": [
    "try:\n",
    "    print(\"hello\")\n",
    "    z+10\n",
    "    try:\n",
    "        s=\"hey\"\n",
    "        s[5]\n",
    "    except:\n",
    "        print(\"inner error\")\n",
    "    print(\"hey\")\n",
    "except (NameError,IndexError) as e:\n",
    "    print(\"outer error\",e)"
   ]
  },
  {
   "cell_type": "code",
   "execution_count": 35,
   "id": "fa5584ce-877d-46a1-b1c9-960922ec2175",
   "metadata": {},
   "outputs": [
    {
     "name": "stdout",
     "output_type": "stream",
     "text": [
      "hello\n",
      "outer error string index out of range\n"
     ]
    }
   ],
   "source": [
    "# else statement is used with try and except\n",
    "try:\n",
    "    print(\"hello\")\n",
    "    s=\"hey\"\n",
    "    s[5] # if there was an error else function doesn't work\n",
    "    print(\"hey\")\n",
    "except (NameError,IndexError) as e:\n",
    "    print(\"outer error\",e)\n",
    "else:\n",
    "    print(\"else statement\")"
   ]
  },
  {
   "cell_type": "code",
   "execution_count": 37,
   "id": "6a1856cf-bb27-4042-afc9-c6fa3ff6e6c2",
   "metadata": {},
   "outputs": [
    {
     "name": "stdout",
     "output_type": "stream",
     "text": [
      "hello\n",
      "hey\n",
      "else statement\n"
     ]
    }
   ],
   "source": [
    "try:\n",
    "    print(\"hello\")\n",
    "    s=\"hey\"\n",
    "    s[0]\n",
    "    print(\"hey\")\n",
    "except (NameError,IndexError) as e:\n",
    "    print(\"outer error\",e)\n",
    "else:  # it terminate when there is no error in try function \n",
    "    print(\"else statement\")"
   ]
  },
  {
   "cell_type": "code",
   "execution_count": 40,
   "id": "88d7d321-fcaf-4379-a7a8-7571de16fbe0",
   "metadata": {},
   "outputs": [
    {
     "name": "stdout",
     "output_type": "stream",
     "text": [
      "hello\n",
      "outer error string index out of range\n",
      "finally statement\n"
     ]
    }
   ],
   "source": [
    "# else and finally  function is used with try and except\n",
    "try:\n",
    "    print(\"hello\")\n",
    "    s=\"hey\"\n",
    "    s[5]\n",
    "    print(\"hey\")\n",
    "except (NameError,IndexError) as e:\n",
    "    print(\"outer error\",e)\n",
    "finally:\n",
    "    print(\"finally statement\")"
   ]
  },
  {
   "cell_type": "code",
   "execution_count": 43,
   "id": "ad0a7466-56f8-4869-a2d2-a542a7af096b",
   "metadata": {},
   "outputs": [
    {
     "name": "stdout",
     "output_type": "stream",
     "text": [
      "hello\n",
      "hey\n",
      "finally statement\n"
     ]
    }
   ],
   "source": [
    "try:\n",
    "    print(\"hello\")\n",
    "    s=\"hey\"\n",
    "    s[0]\n",
    "    print(\"hey\")\n",
    "except (NameError,IndexError) as e:\n",
    "    print(\"outer error\",e)\n",
    "finally:   # it doesn't matter error is there or not it always run.\n",
    "    print(\"finally statement\")"
   ]
  },
  {
   "cell_type": "code",
   "execution_count": 45,
   "id": "be45cc98-47d9-451e-9b0b-46f1b6701d39",
   "metadata": {},
   "outputs": [
    {
     "name": "stdout",
     "output_type": "stream",
     "text": [
      "hello\n",
      "outer error string index out of range\n",
      "finally statement\n"
     ]
    }
   ],
   "source": [
    "try:\n",
    "    print(\"hello\")\n",
    "    s=\"hey\"\n",
    "    s[5]\n",
    "    print(\"hey\")\n",
    "except (NameError,IndexError) as e:\n",
    "    print(\"outer error\",e)\n",
    "else:  # it terminate when there is no error in try function \n",
    "    print(\"else statement\")\n",
    "finally:   # it doesn't matter error is there or not it always run.\n",
    "    print(\"finally statement\")"
   ]
  },
  {
   "cell_type": "code",
   "execution_count": 47,
   "id": "40d4925f-8cb5-4746-b67f-df8dae845953",
   "metadata": {},
   "outputs": [
    {
     "name": "stdout",
     "output_type": "stream",
     "text": [
      "hello\n",
      "hey\n",
      "else statement\n",
      "finally statement\n"
     ]
    }
   ],
   "source": [
    "try:\n",
    "    print(\"hello\")\n",
    "    s=\"hey\"\n",
    "    s[0]\n",
    "    print(\"hey\")\n",
    "except (NameError,IndexError) as e:\n",
    "    print(\"outer error\",e)\n",
    "else:  # it terminate when there is no error in try function \n",
    "    print(\"else statement\")\n",
    "finally:   # it doesn't matter error is there or not it always run.\n",
    "    print(\"finally statement\")"
   ]
  },
  {
   "cell_type": "code",
   "execution_count": 51,
   "id": "2b59e32f-f87c-45bc-8aea-194aefcebd72",
   "metadata": {},
   "outputs": [
    {
     "name": "stdout",
     "output_type": "stream",
     "text": [
      "Invalid age \n"
     ]
    }
   ],
   "source": [
    "# raise funnction is used define the error \n",
    "age=17\n",
    "try:\n",
    "    if(age<18):\n",
    "        raise ValueError\n",
    "    else:\n",
    "        print(\"welcome user\")\n",
    "except ValueError as v: # in this we know the error is value error which is defined by raise function \n",
    "    print(\"Invalid age\",v)"
   ]
  },
  {
   "cell_type": "code",
   "execution_count": 53,
   "id": "0ea8d331-435a-4f5e-9bd1-be479682a21d",
   "metadata": {},
   "outputs": [],
   "source": [
    "# learning assignment for interview\n",
    "\n",
    "# Python 2 vs Python 3\n",
    "# call by object reference\n",
    "# list vs tuple\n",
    "# dictionary and set usecases\n",
    "# function => *args vs **kwargs\n",
    "# normal function vs lambda function\n",
    "# first class vs high order\n",
    "# assert\n",
    "# list/array/stack question => very important in terms of question (lifo and fifo)\n",
    "# stack/quene/linkedlist (important)\n",
    "# decorators/generator is important in data science\n",
    "\n",
    "# Today learning assignment\n",
    "\n",
    "# assert statement\n",
    "# what is generator and how it's different from normal function and it's return keyword."
   ]
  }
 ],
 "metadata": {
  "kernelspec": {
   "display_name": "Python 3 (ipykernel)",
   "language": "python",
   "name": "python3"
  },
  "language_info": {
   "codemirror_mode": {
    "name": "ipython",
    "version": 3
   },
   "file_extension": ".py",
   "mimetype": "text/x-python",
   "name": "python",
   "nbconvert_exporter": "python",
   "pygments_lexer": "ipython3",
   "version": "3.12.3"
  }
 },
 "nbformat": 4,
 "nbformat_minor": 5
}
