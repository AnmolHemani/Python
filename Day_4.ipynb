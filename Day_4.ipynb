{
  "nbformat": 4,
  "nbformat_minor": 0,
  "metadata": {
    "colab": {
      "provenance": [],
      "authorship_tag": "ABX9TyNH3EaJTbAR/JsElmeEDZp/",
      "include_colab_link": true
    },
    "kernelspec": {
      "name": "python3",
      "display_name": "Python 3"
    },
    "language_info": {
      "name": "python"
    }
  },
  "cells": [
    {
      "cell_type": "markdown",
      "metadata": {
        "id": "view-in-github",
        "colab_type": "text"
      },
      "source": [
        "<a href=\"https://colab.research.google.com/github/AnmolHemani/Python/blob/main/Day_4.ipynb\" target=\"_parent\"><img src=\"https://colab.research.google.com/assets/colab-badge.svg\" alt=\"Open In Colab\"/></a>"
      ]
    },
    {
      "cell_type": "code",
      "execution_count": 3,
      "metadata": {
        "colab": {
          "base_uri": "https://localhost:8080/"
        },
        "id": "bRaHwxGQcwhT",
        "outputId": "4b589477-6a8f-49fa-badf-620a4c1a56ab"
      },
      "outputs": [
        {
          "output_type": "stream",
          "name": "stdout",
          "text": [
            "0 r\n",
            "1 e\n",
            "2 g\n",
            "3 e\n",
            "4 x\n"
          ]
        }
      ],
      "source": [
        "data='regex'\n",
        "\n",
        "# 1 method\n",
        "# for i in data:\n",
        "#   print(i)\n",
        "\n",
        "# 2 method\n",
        "for i in range(0,5):\n",
        "  print(i,data[i])"
      ]
    },
    {
      "cell_type": "code",
      "source": [
        "data='regexsoftware'\n",
        "for i in range(0,len(data)):\n",
        "  print(i,data[i])"
      ],
      "metadata": {
        "colab": {
          "base_uri": "https://localhost:8080/"
        },
        "id": "sc4aK8PjeAWs",
        "outputId": "9df3c07f-344e-4cdc-e042-ec626e00b7c0"
      },
      "execution_count": 5,
      "outputs": [
        {
          "output_type": "stream",
          "name": "stdout",
          "text": [
            "0 r\n",
            "1 e\n",
            "2 g\n",
            "3 e\n",
            "4 x\n",
            "5 s\n",
            "6 o\n",
            "7 f\n",
            "8 t\n",
            "9 w\n",
            "10 a\n",
            "11 r\n",
            "12 e\n"
          ]
        }
      ]
    },
    {
      "cell_type": "code",
      "source": [
        "# take a str and print all the vowels\n",
        "# 1 method\n",
        "# str='Anmol Hemani'\n",
        "# for i in str:\n",
        "#   if i in 'aeiouAEIOU':\n",
        "#     print(i)\n",
        "\n",
        "# 2 method\n",
        "# str='anmol hemani'\n",
        "# for i in range(0,len(str)):\n",
        "#   if str[i] in 'aeiouAEIOU':\n",
        "#     print(str[i])\n",
        "\n",
        "# 3 method\n",
        "str='anmol hemani'\n",
        "for i in range(0,len(str)):\n",
        "  if str[i]=='a' or str[i]=='e' or str[i]=='i' or str[i]=='o' or str[i]=='u':\n",
        "    print(str[i])"
      ],
      "metadata": {
        "colab": {
          "base_uri": "https://localhost:8080/"
        },
        "id": "D3w1l3BSeSYL",
        "outputId": "d87c6d0f-3b35-4559-b5a6-ed900399b5e0"
      },
      "execution_count": 9,
      "outputs": [
        {
          "output_type": "stream",
          "name": "stdout",
          "text": [
            "a\n",
            "o\n",
            "e\n",
            "a\n",
            "i\n"
          ]
        }
      ]
    },
    {
      "cell_type": "code",
      "source": [
        "# count the consonant in a str\n",
        "# str='AnmolHemani'\n",
        "# count=0\n",
        "\n",
        "# 1 method\n",
        "# for i in str:\n",
        "#   if i not in 'aeiouAEIOU':\n",
        "#     count+=1\n",
        "# print(count)\n",
        "\n",
        "# 2 method\n",
        "# for i in range(0,len(str)):\n",
        "#   if str[i] not in 'aeiouAEIOU':\n",
        "#     count+=1\n",
        "# print(count)\n",
        "\n",
        "# 3 method\n",
        "str1='anmolhemani'\n",
        "count=0\n",
        "for i in range(0,len(str1)):\n",
        "  if str1[i]!='a' and str1[i]!='e' and str1[i]!='i' and str1[i]!='o' and str1[i]!='u':\n",
        "    count+=1\n",
        "print(count)"
      ],
      "metadata": {
        "colab": {
          "base_uri": "https://localhost:8080/"
        },
        "id": "nM1FFHief__q",
        "outputId": "1e046b00-3639-4476-aee1-de11cdc59c3b"
      },
      "execution_count": 22,
      "outputs": [
        {
          "output_type": "stream",
          "name": "stdout",
          "text": [
            "6\n"
          ]
        }
      ]
    },
    {
      "cell_type": "code",
      "source": [
        "# print half of the char of the str\n",
        "data='rajasthan'\n",
        "for i in range(0,len(data)//2):\n",
        "  print(i,data[i])"
      ],
      "metadata": {
        "colab": {
          "base_uri": "https://localhost:8080/"
        },
        "id": "7MrNhUXghMag",
        "outputId": "cd801808-9379-47e3-bee9-204f3d4265db"
      },
      "execution_count": 25,
      "outputs": [
        {
          "output_type": "stream",
          "name": "stdout",
          "text": [
            "0 r\n",
            "1 a\n",
            "2 j\n",
            "3 a\n"
          ]
        }
      ]
    },
    {
      "cell_type": "code",
      "source": [
        "# run a loop in which a num is divisible by 3 then skip it\n",
        "# and print the remaining num\n",
        "for i in range(1,21):\n",
        "  if(i%3==0):\n",
        "    continue\n",
        "  else:\n",
        "    print(i)"
      ],
      "metadata": {
        "colab": {
          "base_uri": "https://localhost:8080/"
        },
        "id": "xt0g3TS3kZEC",
        "outputId": "76e50af3-37f1-4c9c-bdc9-67bdb9cba4a9"
      },
      "execution_count": 30,
      "outputs": [
        {
          "output_type": "stream",
          "name": "stdout",
          "text": [
            "1\n",
            "2\n",
            "4\n",
            "5\n",
            "7\n",
            "8\n",
            "10\n",
            "11\n",
            "13\n",
            "14\n",
            "16\n",
            "17\n",
            "19\n",
            "20\n"
          ]
        }
      ]
    },
    {
      "cell_type": "code",
      "source": [
        "# find whether a num is prime or not\n",
        "x=int(input(\"Enter the num : \"))\n",
        "# condition=False\n",
        "a=0\n",
        "for i in range(2,x):\n",
        "  if x%i==0:\n",
        "    # condition=True\n",
        "    a=1\n",
        "    break\n",
        "# if condition==True:\n",
        "if a==1:\n",
        "  print(\"Not Prime\")\n",
        "else:\n",
        "  print(\"Prime\")\n",
        "\n",
        "# 2 method we can do in this way\n",
        "# but this approach is only use in python so avoid it\n",
        "\n",
        "# num=7\n",
        "# for i in range(2,num):\n",
        "#   if num%i==0:\n",
        "#     print(\"Not Prime\")\n",
        "#     break\n",
        "# else:\n",
        "#   print(\"Prime\")"
      ],
      "metadata": {
        "colab": {
          "base_uri": "https://localhost:8080/"
        },
        "id": "Ub1DWgyfl22M",
        "outputId": "4881df13-c949-4efa-eac0-af0c2671f8ab"
      },
      "execution_count": 38,
      "outputs": [
        {
          "output_type": "stream",
          "name": "stdout",
          "text": [
            "Enter the num : 14\n",
            "Not Prime\n"
          ]
        }
      ]
    },
    {
      "cell_type": "code",
      "source": [
        "# WHILE Loop\n",
        "\n",
        "# if we know the range of the loop then we use for loop else while loop\n",
        "# if we know the fix range of loop then we use for loop else while loop"
      ],
      "metadata": {
        "id": "xGPPUDQBqdF_"
      },
      "execution_count": 40,
      "outputs": []
    },
    {
      "cell_type": "code",
      "source": [
        "i=1\n",
        "while i<5:\n",
        "  print(i)\n",
        "  i+=1"
      ],
      "metadata": {
        "colab": {
          "base_uri": "https://localhost:8080/"
        },
        "id": "xTxPXpDSst1Y",
        "outputId": "f9e34c9d-d780-4ed6-aa88-ccaf3b8656a6"
      },
      "execution_count": 42,
      "outputs": [
        {
          "output_type": "stream",
          "name": "stdout",
          "text": [
            "1\n",
            "2\n",
            "3\n",
            "4\n"
          ]
        }
      ]
    },
    {
      "cell_type": "code",
      "source": [
        "# to find the starting 5 num which is div by 3\n",
        "i=1\n",
        "count=0\n",
        "while count<5:\n",
        "  if i%3==0:\n",
        "    print(i)\n",
        "    count+=1\n",
        "  i+=1"
      ],
      "metadata": {
        "colab": {
          "base_uri": "https://localhost:8080/"
        },
        "id": "u7i7dXpytEum",
        "outputId": "49c73154-0f63-4ddf-eb5e-8bb49728be8b"
      },
      "execution_count": 47,
      "outputs": [
        {
          "output_type": "stream",
          "name": "stdout",
          "text": [
            "3\n",
            "6\n",
            "9\n",
            "12\n",
            "15\n"
          ]
        }
      ]
    },
    {
      "cell_type": "code",
      "source": [
        "# take a random num between 1 to 10 and run the loop until the total is up to 100\n",
        "i=8\n",
        "total=0\n",
        "while total<100:\n",
        "  total+=i\n",
        "  print(i)\n",
        "  i+=1\n",
        "if total>100:\n",
        "  total-=i\n",
        "print(\"Total is : \",total)"
      ],
      "metadata": {
        "colab": {
          "base_uri": "https://localhost:8080/"
        },
        "id": "OdU30UM2uv4y",
        "outputId": "512c768b-b4fd-4e94-9405-f32c72a6e518"
      },
      "execution_count": 78,
      "outputs": [
        {
          "output_type": "stream",
          "name": "stdout",
          "text": [
            "8\n",
            "9\n",
            "10\n",
            "11\n",
            "12\n",
            "13\n",
            "14\n",
            "15\n",
            "16\n",
            "Total is :  91\n"
          ]
        }
      ]
    },
    {
      "cell_type": "code",
      "source": [
        "# Ascii value of A is 65 and a is 97."
      ],
      "metadata": {
        "id": "MbYpg4V9z7kL"
      },
      "execution_count": 80,
      "outputs": []
    },
    {
      "cell_type": "code",
      "source": [
        "# Learning Assignment\n",
        "# Armstrong num\n",
        "# fibonacci series"
      ],
      "metadata": {
        "id": "qlxYYFC60LHy"
      },
      "execution_count": 81,
      "outputs": []
    }
  ]
}
