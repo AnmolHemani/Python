{
  "nbformat": 4,
  "nbformat_minor": 0,
  "metadata": {
    "colab": {
      "provenance": [],
      "authorship_tag": "ABX9TyOXUE5pu1D6+7LIMuAdHl3b",
      "include_colab_link": true
    },
    "kernelspec": {
      "name": "python3",
      "display_name": "Python 3"
    },
    "language_info": {
      "name": "python"
    }
  },
  "cells": [
    {
      "cell_type": "markdown",
      "metadata": {
        "id": "view-in-github",
        "colab_type": "text"
      },
      "source": [
        "<a href=\"https://colab.research.google.com/github/AnmolHemani/Python/blob/main/Test_.ipynb\" target=\"_parent\"><img src=\"https://colab.research.google.com/assets/colab-badge.svg\" alt=\"Open In Colab\"/></a>"
      ]
    },
    {
      "cell_type": "code",
      "execution_count": 1,
      "metadata": {
        "id": "mu3a7Pr2ZLxE",
        "colab": {
          "base_uri": "https://localhost:8080/"
        },
        "outputId": "b41f4342-ff67-4c5d-deae-bb665cd6a760"
      },
      "outputs": [
        {
          "output_type": "stream",
          "name": "stdout",
          "text": [
            "enter a number121\n",
            "121\n",
            "True\n"
          ]
        }
      ],
      "source": [
        "def check(num):\n",
        "  temp=num\n",
        "  rem=0\n",
        "  sum=0\n",
        "  dict1={}\n",
        "  while num>0:\n",
        "    rem=num%10\n",
        "    sum=sum*10+rem\n",
        "    num=num//10\n",
        "  print(sum)\n",
        "  if temp==sum:\n",
        "      dict1[sum]=True\n",
        "  else:\n",
        "    dict1[sum]=False\n",
        "  return dict1[sum]\n",
        "num=int(input(\"enter a number\"))\n",
        "y=check(num)\n",
        "print(y)"
      ]
    },
    {
      "cell_type": "code",
      "source": [
        "dict1={}\n",
        "str1=\"ababa\"\n",
        "for i in range(0,len(str1)):\n",
        "  for j in range (1,len(str1)+1):\n",
        "    if str1[i:j] not in dict1:\n",
        "      dict1[str1[i:j]]=1\n",
        "    else:\n",
        "      dict1[str1[i:j]]+=1\n",
        "print(dict1)"
      ],
      "metadata": {
        "id": "2cwBUoXXZrBB",
        "colab": {
          "base_uri": "https://localhost:8080/"
        },
        "outputId": "a7710f6c-5946-4c7f-cff4-e8db87066195"
      },
      "execution_count": 2,
      "outputs": [
        {
          "metadata": {
            "tags": null
          },
          "name": "stdout",
          "output_type": "stream",
          "text": [
            "{'a': 3, 'ab': 2, 'aba': 2, 'abab': 1, 'ababa': 1, '': 10, 'b': 2, 'ba': 2, 'bab': 1, 'baba': 1}\n"
          ]
        }
      ]
    },
    {
      "cell_type": "code",
      "source": [
        "for i in range(1,6):\n",
        "  for j in range(1,i):\n",
        "    print(\" \",end=\" \")\n",
        "  for k in range(i,6):\n",
        "    if ( i==1 or k==5 or k==i):\n",
        "      print(\"*\",end=\" \")\n",
        "    else :\n",
        "      print(\" \",end=\" \")\n",
        "  print()"
      ],
      "metadata": {
        "id": "1HUbiDDjZvDv",
        "colab": {
          "base_uri": "https://localhost:8080/"
        },
        "outputId": "26e0e5c0-1f41-4e1b-f703-a4c2e8f3eb72"
      },
      "execution_count": 5,
      "outputs": [
        {
          "output_type": "stream",
          "name": "stdout",
          "text": [
            "* * * * * \n",
            "  *     * \n",
            "    *   * \n",
            "      * * \n",
            "        * \n"
          ]
        }
      ]
    },
    {
      "cell_type": "code",
      "source": [
        "for i in range(1,5):\n",
        "  for j in range(i,5):\n",
        "    print(\"\",j,end=\" \")\n",
        "  for k in range(i+1,5):\n",
        "    print(\" \",end=\"\")\n",
        "\n",
        "  print()"
      ],
      "metadata": {
        "colab": {
          "base_uri": "https://localhost:8080/"
        },
        "id": "7k0CWfurbZKH",
        "outputId": "0176fc9e-ede0-4d63-9c37-35ae7679bc22"
      },
      "execution_count": 6,
      "outputs": [
        {
          "output_type": "stream",
          "name": "stdout",
          "text": [
            " 1  2  3  4    \n",
            " 2  3  4   \n",
            " 3  4  \n",
            " 4 \n"
          ]
        }
      ]
    },
    {
      "cell_type": "code",
      "source": [
        "str1=\"aabcdeefa\"\n",
        "count=0\n",
        "char=\"\"\n",
        "list1=[]\n",
        "for i in str1:\n",
        "  if char==i:\n",
        "    count+=1\n",
        "  else:\n",
        "    if count!=0:\n",
        "      list1.append(count)\n",
        "    count=1\n",
        "    char=i\n",
        "print(list1)"
      ],
      "metadata": {
        "colab": {
          "base_uri": "https://localhost:8080/"
        },
        "id": "7Wd9HWjjbZm4",
        "outputId": "73b012cf-af65-4011-d6d3-acb12209b247"
      },
      "execution_count": 7,
      "outputs": [
        {
          "output_type": "stream",
          "name": "stdout",
          "text": [
            "[2, 1, 1, 1, 2, 1]\n"
          ]
        }
      ]
    },
    {
      "cell_type": "code",
      "source": [
        "for i in range(1,5):\n",
        "  for j in range(1,i):\n",
        "    print(\" \",end=\"\")\n",
        "  for k in range(i,5):\n",
        "    print(\"\",k,end=\"\")\n",
        "  print()"
      ],
      "metadata": {
        "colab": {
          "base_uri": "https://localhost:8080/"
        },
        "id": "_GjKUJjTbeSL",
        "outputId": "e879dfab-d456-4878-f57e-1620195ed27d"
      },
      "execution_count": 8,
      "outputs": [
        {
          "output_type": "stream",
          "name": "stdout",
          "text": [
            " 1 2 3 4\n",
            "  2 3 4\n",
            "   3 4\n",
            "    4\n"
          ]
        }
      ]
    }
  ]
}