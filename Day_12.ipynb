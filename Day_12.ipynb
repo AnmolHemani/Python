{
  "nbformat": 4,
  "nbformat_minor": 0,
  "metadata": {
    "colab": {
      "provenance": [],
      "authorship_tag": "ABX9TyPAWPDVKilvyfIS3j/9CQaQ",
      "include_colab_link": true
    },
    "kernelspec": {
      "name": "python3",
      "display_name": "Python 3"
    },
    "language_info": {
      "name": "python"
    }
  },
  "cells": [
    {
      "cell_type": "markdown",
      "metadata": {
        "id": "view-in-github",
        "colab_type": "text"
      },
      "source": [
        "<a href=\"https://colab.research.google.com/github/AnmolHemani/Python/blob/main/Day_12.ipynb\" target=\"_parent\"><img src=\"https://colab.research.google.com/assets/colab-badge.svg\" alt=\"Open In Colab\"/></a>"
      ]
    },
    {
      "cell_type": "code",
      "execution_count": 9,
      "metadata": {
        "colab": {
          "base_uri": "https://localhost:8080/"
        },
        "id": "eLXaHAbZQDVD",
        "outputId": "7f09c275-4ddf-4fa0-889e-e5a1ec26e5d4"
      },
      "outputs": [
        {
          "output_type": "stream",
          "name": "stdout",
          "text": [
            "Valid\n"
          ]
        }
      ],
      "source": [
        "# valid paranthesis\n",
        "# leetcode question 20\n",
        "s=\"()\"\n",
        "mylist=[]\n",
        "x=0\n",
        "for i in s:\n",
        "  if(i==\"(\"):\n",
        "    mylist.append(i)\n",
        "  # elif(i==\")\" and \"(\"==mylist[-1]):\n",
        "  #   continue\n",
        "  elif(i==\")\" and \"(\"!=mylist[-1]):\n",
        "    x=1\n",
        "    break\n",
        "if(x==1):\n",
        "  print(\"Invalid\")\n",
        "else:\n",
        "  print(\"Valid\")"
      ]
    },
    {
      "cell_type": "code",
      "source": [
        "s=\"(()\"\n",
        "mylist=[]\n",
        "x=0\n",
        "for i in s:\n",
        "  if(i==\"(\"):\n",
        "    mylist.append(i)\n",
        "  elif(i==\")\" and \"(\"!=mylist.pop()):\n",
        "    x=1\n",
        "    break\n",
        "if(x==1 or len(mylist)>0):\n",
        "  print(\"Invalid\")\n",
        "else:\n",
        "  print(\"Valid\")"
      ],
      "metadata": {
        "colab": {
          "base_uri": "https://localhost:8080/"
        },
        "id": "gp9YBaOcUn8t",
        "outputId": "6aa70f99-2120-4015-db26-1d6da3c06415"
      },
      "execution_count": 11,
      "outputs": [
        {
          "output_type": "stream",
          "name": "stdout",
          "text": [
            "Invalid\n"
          ]
        }
      ]
    },
    {
      "cell_type": "code",
      "source": [
        "s=\")\"\n",
        "mylist=[]\n",
        "x=0\n",
        "for i in s:\n",
        "  if(i==\"(\"):\n",
        "    mylist.append(i)\n",
        "  elif(len(mylist)>0 and i==\")\" and \"(\"!=mylist.pop()):\n",
        "    x=1\n",
        "    break\n",
        "  else:\n",
        "    x=1\n",
        "if(x==1 or len(mylist)>0):\n",
        "  print(\"Invalid\")\n",
        "else:\n",
        "  print(\"Valid\")"
      ],
      "metadata": {
        "colab": {
          "base_uri": "https://localhost:8080/"
        },
        "id": "ySlttjNbW9Ug",
        "outputId": "21d7f711-fcbc-4816-aac8-c264efb4b3c0"
      },
      "execution_count": 14,
      "outputs": [
        {
          "output_type": "stream",
          "name": "stdout",
          "text": [
            "Invalid\n"
          ]
        }
      ]
    },
    {
      "cell_type": "code",
      "source": [
        "s=\"({[})\"\n",
        "mylist=[]\n",
        "x=0\n",
        "for i in s:\n",
        "  if i in \"({[\":\n",
        "    mylist.append(i)\n",
        "  elif(mylist):\n",
        "    if(i==\")\" and \"(\"!=mylist.pop()):\n",
        "      x=1\n",
        "      break\n",
        "    elif(i==\"}\" and \"{\"!=mylist.pop()):\n",
        "      x=1\n",
        "      break\n",
        "    elif(i==\"]\" and \"[\"!=mylist.pop()):\n",
        "      x=1\n",
        "      break\n",
        "  else:\n",
        "    x=1\n",
        "if(x==1 or len(mylist)>0):\n",
        "  print(\"Invalid\")\n",
        "else:\n",
        "  print(\"Valid\")"
      ],
      "metadata": {
        "colab": {
          "base_uri": "https://localhost:8080/"
        },
        "id": "z9IizLESXzo-",
        "outputId": "86c2dd71-4c73-45fe-850c-ce20c43ce176"
      },
      "execution_count": 24,
      "outputs": [
        {
          "output_type": "stream",
          "name": "stdout",
          "text": [
            "Invalid\n"
          ]
        }
      ]
    },
    {
      "cell_type": "code",
      "source": [
        "# dictionary\n",
        "# valid anagram\n",
        "s=\"abcd\"\n",
        "s_dict={}\n",
        "b=\"badc\"\n",
        "b_dict={}\n",
        "for i in s:\n",
        "  if i not in s_dict:\n",
        "    s_dict[i]=1\n",
        "  else:\n",
        "    s_dict[i]+=1\n",
        "for i in b:\n",
        "  if i not in b_dict:\n",
        "    b_dict[i]=1\n",
        "  else:\n",
        "    b_dict[i]+=1\n",
        "print(s_dict)\n",
        "print(b_dict)\n",
        "if(s_dict==b_dict):\n",
        "  print(\"valid anagram\")\n",
        "else:\n",
        "  print(\"not a valid anagram\")"
      ],
      "metadata": {
        "colab": {
          "base_uri": "https://localhost:8080/"
        },
        "id": "6D4Dd2MPZhuV",
        "outputId": "0513a3f4-ea5f-4fa0-f0ed-b2edf69829cb"
      },
      "execution_count": 31,
      "outputs": [
        {
          "output_type": "stream",
          "name": "stdout",
          "text": [
            "{'a': 1, 'b': 1, 'c': 1, 'd': 1}\n",
            "{'b': 1, 'a': 1, 'd': 1, 'c': 1}\n",
            "valid anagram\n"
          ]
        }
      ]
    },
    {
      "cell_type": "code",
      "source": [
        "# learning assignment\n",
        "# 1. list comprehension\n",
        "# 2. what is set data type and its function\n",
        "# 3. real life use cases of list, dict and set\n"
      ],
      "metadata": {
        "id": "qs1iB4iYgyAB"
      },
      "execution_count": 32,
      "outputs": []
    }
  ]
}