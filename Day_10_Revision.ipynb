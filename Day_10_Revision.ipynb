{
  "nbformat": 4,
  "nbformat_minor": 0,
  "metadata": {
    "colab": {
      "provenance": [],
      "authorship_tag": "ABX9TyO7AJNnPtP0Ri9sAmJWZWqU",
      "include_colab_link": true
    },
    "kernelspec": {
      "name": "python3",
      "display_name": "Python 3"
    },
    "language_info": {
      "name": "python"
    }
  },
  "cells": [
    {
      "cell_type": "markdown",
      "metadata": {
        "id": "view-in-github",
        "colab_type": "text"
      },
      "source": [
        "<a href=\"https://colab.research.google.com/github/AnmolHemani/Python/blob/main/Day_10_Revision.ipynb\" target=\"_parent\"><img src=\"https://colab.research.google.com/assets/colab-badge.svg\" alt=\"Open In Colab\"/></a>"
      ]
    },
    {
      "cell_type": "code",
      "execution_count": null,
      "metadata": {
        "colab": {
          "base_uri": "https://localhost:8080/"
        },
        "id": "AXd9nMUe0sEC",
        "outputId": "a3c2b015-dc76-4438-9407-3c6dd9359fae"
      },
      "outputs": [
        {
          "output_type": "stream",
          "name": "stdout",
          "text": [
            "[0, 0, 0, 0, 0]\n",
            "[0, 0, 10, 0, 0]\n",
            "[0, 0, 10, 20, 0]\n",
            "[0, 0, 10, 20, 40]\n",
            "[60, 0, 10, 20, 40]\n",
            "[60, 7, 10, 20, 40]\n"
          ]
        }
      ],
      "source": [
        "# shift the index value according to k value\n",
        "mylist=[10,20,40,60,7]\n",
        "k=2\n",
        "\n",
        "k=k%len(mylist)\n",
        "list1=[]\n",
        "\n",
        "list1=[0]*len(mylist)\n",
        "print(list1)\n",
        "for i in range(0,len(mylist)):\n",
        "  list1[(i+k)%len(mylist)]=mylist[i]\n",
        "  print(list1)\n",
        "\n",
        "# 2 method\n",
        "\n",
        "# for i in range(0,len(mylist)):\n",
        "#   list1.append(mylist[i-k])\n",
        "#   print(list1)"
      ]
    }
  ]
}