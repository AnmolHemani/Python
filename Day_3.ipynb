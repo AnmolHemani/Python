{
  "nbformat": 4,
  "nbformat_minor": 0,
  "metadata": {
    "colab": {
      "provenance": [],
      "authorship_tag": "ABX9TyMx2QJlgVopJ6/wN+SGjHUd",
      "include_colab_link": true
    },
    "kernelspec": {
      "name": "python3",
      "display_name": "Python 3"
    },
    "language_info": {
      "name": "python"
    }
  },
  "cells": [
    {
      "cell_type": "markdown",
      "metadata": {
        "id": "view-in-github",
        "colab_type": "text"
      },
      "source": [
        "<a href=\"https://colab.research.google.com/github/AnmolHemani/Python/blob/main/Day_3.ipynb\" target=\"_parent\"><img src=\"https://colab.research.google.com/assets/colab-badge.svg\" alt=\"Open In Colab\"/></a>"
      ]
    },
    {
      "cell_type": "code",
      "execution_count": 1,
      "metadata": {
        "id": "W83Bjx9KTJ5u"
      },
      "outputs": [],
      "source": [
        "# String indexing and slicing\n",
        "# collection of character\n",
        "#          -4-3-2-1\n",
        "city=\"RAJASTHAN\"\n",
        "#     0123....."
      ]
    },
    {
      "cell_type": "code",
      "source": [
        "city='Rajasthan'\n",
        "print(city[0])\n",
        "print(city[0:4])\n",
        "print(city[0:4:1])\n",
        "print(city[0:])\n",
        "print(city[:4])"
      ],
      "metadata": {
        "colab": {
          "base_uri": "https://localhost:8080/"
        },
        "id": "oJAJYu-MU0dt",
        "outputId": "b9cdc709-f69d-43f7-c4e8-a3f3602d4c61"
      },
      "execution_count": 4,
      "outputs": [
        {
          "output_type": "stream",
          "name": "stdout",
          "text": [
            "R\n",
            "Raja\n",
            "Raja\n",
            "Rajasthan\n",
            "Raja\n"
          ]
        }
      ]
    },
    {
      "cell_type": "code",
      "source": [
        "# There are 7 operators in python\n",
        "# 1. airthmetic\n",
        "# 2. comparison\n",
        "# 3. assignment\n",
        "# 4. logical\n",
        "# 5. membership\n",
        "# 6. identity\n",
        "# 7. bitwise"
      ],
      "metadata": {
        "id": "umS8KdsfjKdq"
      },
      "execution_count": 28,
      "outputs": []
    },
    {
      "cell_type": "code",
      "source": [
        "# airthmetic operator\n",
        "# when we do normal division we get answer in float\n",
        "# and floor division gives answer in int\n",
        "print(10/2)\n",
        "print(10//2)"
      ],
      "metadata": {
        "colab": {
          "base_uri": "https://localhost:8080/"
        },
        "id": "lc4cUU3CWsaN",
        "outputId": "53a3bbe4-15c6-4453-85b1-67ac07e41008"
      },
      "execution_count": 7,
      "outputs": [
        {
          "output_type": "stream",
          "name": "stdout",
          "text": [
            "5.0\n",
            "5\n"
          ]
        }
      ]
    },
    {
      "cell_type": "code",
      "source": [
        "# comparison operator\n",
        "# < > ....."
      ],
      "metadata": {
        "id": "dBuTUid3aQgc"
      },
      "execution_count": 8,
      "outputs": []
    },
    {
      "cell_type": "code",
      "source": [
        "# assignment operator\n",
        "x=10\n",
        "x=x+15 # x+=5\n",
        "print(x)"
      ],
      "metadata": {
        "colab": {
          "base_uri": "https://localhost:8080/"
        },
        "id": "PKUSw1Lbagi9",
        "outputId": "5ec93509-0e33-40ed-fa9b-2c74f5f7bd8d"
      },
      "execution_count": 9,
      "outputs": [
        {
          "output_type": "stream",
          "name": "stdout",
          "text": [
            "25\n"
          ]
        }
      ]
    },
    {
      "cell_type": "code",
      "source": [
        "# logical operator\n",
        "# and or not"
      ],
      "metadata": {
        "id": "-kK5IOBqbOVv"
      },
      "execution_count": 10,
      "outputs": []
    },
    {
      "cell_type": "code",
      "source": [
        "# membership operator\n",
        "\"y\" in \"yash\"\n",
        "# \"Y\" not in \"yash\""
      ],
      "metadata": {
        "colab": {
          "base_uri": "https://localhost:8080/"
        },
        "id": "XD3Ve5BnbTEh",
        "outputId": "c927f85b-0297-424a-afc3-06dc656e7b5a"
      },
      "execution_count": 15,
      "outputs": [
        {
          "output_type": "execute_result",
          "data": {
            "text/plain": [
              "True"
            ]
          },
          "metadata": {},
          "execution_count": 15
        }
      ]
    },
    {
      "cell_type": "code",
      "source": [
        "# identity operator\n",
        "# to check whether a var is a instance of class or not\n",
        "# to check the memory address\n",
        "x=10\n",
        "# print(type(x))\n",
        "type(x) is int\n",
        "# type(x) is not str"
      ],
      "metadata": {
        "colab": {
          "base_uri": "https://localhost:8080/"
        },
        "id": "7Z9cCwg0b812",
        "outputId": "aed1917f-4460-421d-b42f-a3c3aa9fe840"
      },
      "execution_count": 19,
      "outputs": [
        {
          "output_type": "execute_result",
          "data": {
            "text/plain": [
              "True"
            ]
          },
          "metadata": {},
          "execution_count": 19
        }
      ]
    },
    {
      "cell_type": "code",
      "source": [
        "# bitwise operator\n",
        "# 0,1\n",
        "# 8421 -->  0-15\n",
        "# 128 64 32 16    8421 --> 0-255\n",
        "\n",
        "#       8421\n",
        "# 11 -> 1011\n",
        "# 14 -> 1110\n",
        "\n",
        "# if we use and operator\n",
        "# 11 & 14 -> 1010\n",
        "# 11 & 14\n",
        "# 13 & 7 #-> 0101  # 13 -> 1101 7 -> 0111\n",
        "\n",
        "# if we use or operator\n",
        "10 | 14 #10->1010 14->1110  -> 1110"
      ],
      "metadata": {
        "colab": {
          "base_uri": "https://localhost:8080/"
        },
        "id": "OyQxcjzNdNoh",
        "outputId": "e2e8d44e-4782-4ed9-e331-8fa9d52ba7c3"
      },
      "execution_count": 23,
      "outputs": [
        {
          "output_type": "execute_result",
          "data": {
            "text/plain": [
              "14"
            ]
          },
          "metadata": {},
          "execution_count": 23
        }
      ]
    },
    {
      "cell_type": "code",
      "source": [
        "# number // 2**bit (right shift)\n",
        "# number * 2**bit (left shift)\n",
        "#54>>1\n",
        "# 54//2**1\n",
        "# 54//2->27\n",
        "# 54>>1"
      ],
      "metadata": {
        "id": "Pu47RvBsiSy8"
      },
      "execution_count": 29,
      "outputs": []
    },
    {
      "cell_type": "code",
      "source": [
        "# basic loops\n",
        "# loops\n",
        "# for loop\n",
        "# for(int i=0;i<10,i++) in c\n",
        "# range(start,stop,[step=1])\n",
        "for i in range(0,10):\n",
        "    print(i)"
      ],
      "metadata": {
        "colab": {
          "base_uri": "https://localhost:8080/"
        },
        "id": "EwdclB1IjW16",
        "outputId": "0c2bc063-f12d-4bee-9e97-c22d7e3b07dd"
      },
      "execution_count": 32,
      "outputs": [
        {
          "output_type": "stream",
          "name": "stdout",
          "text": [
            "0\n",
            "1\n",
            "2\n",
            "3\n",
            "4\n",
            "5\n",
            "6\n",
            "7\n",
            "8\n",
            "9\n"
          ]
        }
      ]
    },
    {
      "cell_type": "code",
      "source": [
        "# for i in range(50,9,-1):\n",
        "#   print(i)\n",
        "\n",
        "# sum of 1 to 10\n",
        "sum=0\n",
        "for i in range(1,11):\n",
        "    sum+=i\n",
        "print(sum)"
      ],
      "metadata": {
        "colab": {
          "base_uri": "https://localhost:8080/"
        },
        "id": "L-p8bjt_lkOJ",
        "outputId": "a57d67c6-87cb-41e3-9c71-5e7b84539404"
      },
      "execution_count": 43,
      "outputs": [
        {
          "output_type": "stream",
          "name": "stdout",
          "text": [
            "55\n"
          ]
        }
      ]
    },
    {
      "cell_type": "code",
      "source": [
        "# count the num bte 70 to 3 in which 70 and 3 not included\n",
        "count=0\n",
        "for i in range(69,3,-1):\n",
        "    count+=1\n",
        "print(count)"
      ],
      "metadata": {
        "colab": {
          "base_uri": "https://localhost:8080/"
        },
        "id": "dhv5vlj-nTwM",
        "outputId": "dea77384-7073-4879-8418-a41eac1f1c1f"
      },
      "execution_count": 46,
      "outputs": [
        {
          "output_type": "stream",
          "name": "stdout",
          "text": [
            "66\n"
          ]
        }
      ]
    },
    {
      "cell_type": "code",
      "source": [
        "# print the num which is div by 3\n",
        "for i in range(1,14):\n",
        "  if i%3==0:\n",
        "    print(i)"
      ],
      "metadata": {
        "colab": {
          "base_uri": "https://localhost:8080/"
        },
        "id": "t2cugqSkoI8l",
        "outputId": "2038488c-6803-4453-e9f9-7a1b74130756"
      },
      "execution_count": 48,
      "outputs": [
        {
          "output_type": "stream",
          "name": "stdout",
          "text": [
            "3\n",
            "6\n",
            "9\n",
            "12\n"
          ]
        }
      ]
    },
    {
      "cell_type": "code",
      "source": [
        "sum=0\n",
        "sum1=0\n",
        "for i in range(55,21,-1):\n",
        "  if(i%2==0):\n",
        "    sum+=i\n",
        "  elif(i%2!=0):\n",
        "    sum1+=i\n",
        "print(sum)\n",
        "print(sum1)"
      ],
      "metadata": {
        "colab": {
          "base_uri": "https://localhost:8080/"
        },
        "id": "EO_0dRydokw3",
        "outputId": "1874b6d5-14cc-46af-d4ad-33823a1de426"
      },
      "execution_count": 55,
      "outputs": [
        {
          "output_type": "stream",
          "name": "stdout",
          "text": [
            "646\n",
            "663\n"
          ]
        }
      ]
    },
    {
      "cell_type": "code",
      "source": [
        "# learning assignment\n",
        "# what is the diff btw call by value and call by reference\n",
        "# what is ascii value and utf value\n",
        "# different data types in python\n",
        "# difference btw is operator and == operator"
      ],
      "metadata": {
        "id": "lkvYCSEYpoMb"
      },
      "execution_count": 59,
      "outputs": []
    }
  ]
}
