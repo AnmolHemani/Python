{
  "cells": [
    {
      "cell_type": "markdown",
      "metadata": {
        "id": "view-in-github",
        "colab_type": "text"
      },
      "source": [
        "<a href=\"https://colab.research.google.com/github/AnmolHemani/Python/blob/main/Day_7.ipynb\" target=\"_parent\"><img src=\"https://colab.research.google.com/assets/colab-badge.svg\" alt=\"Open In Colab\"/></a>"
      ]
    },
    {
      "cell_type": "code",
      "execution_count": null,
      "metadata": {
        "colab": {
          "base_uri": "https://localhost:8080/"
        },
        "id": "-8Y0prpsWv8e",
        "outputId": "28adb5b0-c17f-476c-cd9e-78e48e3cb22a"
      },
      "outputs": [
        {
          "name": "stdout",
          "output_type": "stream",
          "text": [
            "   * \n",
            "  * * \n",
            " * * * \n",
            "* * * * \n"
          ]
        }
      ],
      "source": [
        "for i in range(1,5):\n",
        "  for k in range(i,4):\n",
        "    print(\" \",end=\"\")\n",
        "  for j in range(1,i+1):\n",
        "    print(\"*\",end=\" \")\n",
        "  print(\"\")"
      ]
    },
    {
      "cell_type": "code",
      "execution_count": null,
      "metadata": {
        "colab": {
          "base_uri": "https://localhost:8080/"
        },
        "id": "fMlI0VWrY3oA",
        "outputId": "d7f1f7d9-28fe-43c2-b78f-437498d7219e"
      },
      "outputs": [
        {
          "name": "stdout",
          "output_type": "stream",
          "text": [
            "* * * * \n",
            " * * * \n",
            "  * * \n",
            "   * \n"
          ]
        }
      ],
      "source": [
        "for i in range(1,5):\n",
        "  for k in range(1,i):\n",
        "    print(\" \",end=\"\")\n",
        "  for j in range(i,5):\n",
        "    print(\"*\",end=\" \")\n",
        "  print(\"\")"
      ]
    },
    {
      "cell_type": "code",
      "execution_count": null,
      "metadata": {
        "colab": {
          "base_uri": "https://localhost:8080/"
        },
        "id": "-OhWflGnZxyT",
        "outputId": "ec4c9a7a-0d5c-4590-cc40-cf1da1ff52a7"
      },
      "outputs": [
        {
          "name": "stdout",
          "output_type": "stream",
          "text": [
            "A B C D \n",
            " A B C \n",
            "  A B \n",
            "   A \n"
          ]
        }
      ],
      "source": [
        "for i in range(1,5):\n",
        "  c=65\n",
        "  for k in range(1,i):\n",
        "    print(\" \",end=\"\")\n",
        "  for j in range(i,5):\n",
        "    print(chr(c),end=\" \")\n",
        "    c+=1\n",
        "  print(\"\")"
      ]
    },
    {
      "cell_type": "code",
      "execution_count": null,
      "metadata": {
        "colab": {
          "base_uri": "https://localhost:8080/"
        },
        "id": "JJw-fiHmaEvb",
        "outputId": "4d03ef8e-c845-46a1-a4a7-1e35117b6267"
      },
      "outputs": [
        {
          "name": "stdout",
          "output_type": "stream",
          "text": [
            "   A \n",
            "  A B \n",
            " A B C \n",
            "A B C D \n"
          ]
        }
      ],
      "source": [
        "for i in range(1,5):\n",
        "  c=65\n",
        "  for k in range(i,4):\n",
        "    print(\" \",end=\"\")\n",
        "  for j in range(1,i+1):\n",
        "    print(chr(c),end=\" \")\n",
        "    c+=1\n",
        "  print(\"\")"
      ]
    },
    {
      "cell_type": "code",
      "execution_count": 22,
      "metadata": {
        "colab": {
          "base_uri": "https://localhost:8080/"
        },
        "id": "Sa90eRXDaT7P",
        "outputId": "8043d9e0-884b-4d9c-b95a-ffa8c43e1a00"
      },
      "outputs": [
        {
          "output_type": "stream",
          "name": "stdout",
          "text": [
            "* \n",
            "* * \n",
            "*   * \n",
            "*     * \n",
            "* * * * * \n"
          ]
        }
      ],
      "source": [
        "for i in range(1,6):\n",
        "  for j in range(1,i+1):\n",
        "    if(j==1 or i==5 or j==i):\n",
        "      print(\"*\",end=\" \")\n",
        "    else:\n",
        "      print(\" \",end=\" \")\n",
        "  print(\"\")"
      ]
    },
    {
      "cell_type": "code",
      "source": [
        "c=1\n",
        "for i in range(1,6):\n",
        "  for k in range(i,5):\n",
        "    print(\" \",end=\"\")\n",
        "  for j in range(1,i+1):\n",
        "    if(i==5 or j==1 or j==i):\n",
        "      if(c<=10):\n",
        "        print(c,end=\" \")\n",
        "      else:\n",
        "        print(c,end=\"\")\n",
        "    else:\n",
        "      print(\" \",end=\" \")\n",
        "    c+=1\n",
        "  print(\"\")"
      ],
      "metadata": {
        "colab": {
          "base_uri": "https://localhost:8080/"
        },
        "id": "yCbRlsfMd0eR",
        "outputId": "05dc41d9-7bb9-4375-d6f1-4e8d6eb09f5e"
      },
      "execution_count": 50,
      "outputs": [
        {
          "output_type": "stream",
          "name": "stdout",
          "text": [
            "    1 \n",
            "   2 3 \n",
            "  4   6 \n",
            " 7     10 \n",
            "1112131415\n"
          ]
        }
      ]
    },
    {
      "cell_type": "code",
      "source": [
        "# list datatype\n",
        "# collection of element\n",
        "# stored based on index position\n",
        "# liat mutuable database\n",
        "# sequence datatype\n",
        "\n",
        "x=[10,20,30,\"hey\",100.00]\n",
        "print(type(x))"
      ],
      "metadata": {
        "colab": {
          "base_uri": "https://localhost:8080/"
        },
        "id": "tTdFGwzfg_X-",
        "outputId": "469ec453-6ecf-4581-f875-ef8046416b29"
      },
      "execution_count": 35,
      "outputs": [
        {
          "output_type": "stream",
          "name": "stdout",
          "text": [
            "<class 'list'>\n"
          ]
        }
      ]
    },
    {
      "cell_type": "code",
      "source": [
        "mylist=[10,20,30,40,\"hey\",100.00]\n",
        "print(mylist[0:3])"
      ],
      "metadata": {
        "colab": {
          "base_uri": "https://localhost:8080/"
        },
        "id": "1SkX864Phe1t",
        "outputId": "8b6f08ed-ca9d-40c3-9121-bcc12e4a63cb"
      },
      "execution_count": 37,
      "outputs": [
        {
          "output_type": "stream",
          "name": "stdout",
          "text": [
            "[10, 20, 30]\n"
          ]
        }
      ]
    },
    {
      "cell_type": "code",
      "source": [
        "mylist=[10,20,30,40,\"hey\",100.00]\n",
        "mylist[0]=90 #update\n",
        "print(mylist)"
      ],
      "metadata": {
        "colab": {
          "base_uri": "https://localhost:8080/"
        },
        "id": "i0DeLT0ThxLg",
        "outputId": "d5af6781-6c31-4119-beaf-ba4cbe32db7b"
      },
      "execution_count": 39,
      "outputs": [
        {
          "output_type": "stream",
          "name": "stdout",
          "text": [
            "[90, 20, 30, 40, 'hey', 100.0]\n"
          ]
        }
      ]
    },
    {
      "cell_type": "code",
      "source": [
        "mylist=[10,20,30,40,\"hey\",100.00]\n",
        "mylist.append(500)     #added new data in list and append store only one data at a time.\n",
        "print(mylist)"
      ],
      "metadata": {
        "colab": {
          "base_uri": "https://localhost:8080/"
        },
        "id": "x2CXp7Hbh7yo",
        "outputId": "823e4774-c64b-41a3-c2a9-d2f48d71fe4f"
      },
      "execution_count": 42,
      "outputs": [
        {
          "output_type": "stream",
          "name": "stdout",
          "text": [
            "[10, 20, 30, 40, 'hey', 100.0, 500]\n"
          ]
        }
      ]
    },
    {
      "cell_type": "code",
      "source": [
        "mylist=[10,20,30,40,\"hey\",100.00]\n",
        "mylist.extend(\"hello\")    #to add multiple data in the list but it can't able to add int and uses for loop in it.\n",
        "mylist.extend([999,\"hello\"])\n",
        "print(mylist)"
      ],
      "metadata": {
        "colab": {
          "base_uri": "https://localhost:8080/"
        },
        "id": "XIMIH5criSEr",
        "outputId": "f44ee6dd-2581-429c-bc06-be4dc785b3ce"
      },
      "execution_count": 44,
      "outputs": [
        {
          "output_type": "stream",
          "name": "stdout",
          "text": [
            "[10, 20, 30, 40, 'hey', 100.0, 'h', 'e', 'l', 'l', 'o', 999, 'hello']\n"
          ]
        }
      ]
    },
    {
      "cell_type": "code",
      "source": [
        "mylist=[10,20,30,40,\"hey\",100.00]\n",
        "z=mylist.pop()\n",
        "y=mylist.pop(0)\n",
        "print(mylist)\n",
        "print(\"z: \",z)\n",
        "print(\"y: \",y)"
      ],
      "metadata": {
        "colab": {
          "base_uri": "https://localhost:8080/"
        },
        "id": "NHcr6O9Wi4zp",
        "outputId": "eeb9c9a4-5df0-4dfe-95a9-40ca8f541c37"
      },
      "execution_count": 51,
      "outputs": [
        {
          "output_type": "stream",
          "name": "stdout",
          "text": [
            "[20, 30, 40, 'hey']\n",
            "z:  100.0\n",
            "y:  10\n"
          ]
        }
      ]
    },
    {
      "cell_type": "code",
      "source": [
        "mylist=[10,20,30,40,\"hey\",100.00]\n",
        "mylist.remove(30)  #in remove we give value to the remove to delete the data from the list\n",
        "print(mylist)"
      ],
      "metadata": {
        "colab": {
          "base_uri": "https://localhost:8080/"
        },
        "id": "82Au1OZckd4H",
        "outputId": "63f48ad8-2d8d-4046-f983-35f71aed4cd5"
      },
      "execution_count": 53,
      "outputs": [
        {
          "output_type": "stream",
          "name": "stdout",
          "text": [
            "[10, 20, 40, 'hey', 100.0]\n"
          ]
        }
      ]
    },
    {
      "cell_type": "code",
      "source": [
        "mylist=[10,20,30,40,\"hey\",100.00]\n",
        "for x in mylist:\n",
        "  print(x)"
      ],
      "metadata": {
        "colab": {
          "base_uri": "https://localhost:8080/"
        },
        "id": "aw1iRxxUlLaY",
        "outputId": "dcfa7ded-89f1-40bb-818d-dd4a858288be"
      },
      "execution_count": 55,
      "outputs": [
        {
          "output_type": "stream",
          "name": "stdout",
          "text": [
            "10\n",
            "20\n",
            "30\n",
            "40\n",
            "hey\n",
            "100.0\n"
          ]
        }
      ]
    },
    {
      "cell_type": "code",
      "source": [
        "mylist=[10,20,30,40,\"hey\",100.00]\n",
        "for x in range(0,len(mylist)):\n",
        "  print(x,mylist[x])"
      ],
      "metadata": {
        "colab": {
          "base_uri": "https://localhost:8080/"
        },
        "id": "zhbPMCsnld9y",
        "outputId": "1643eaa0-59ea-4db6-b1ae-b8a3effaf069"
      },
      "execution_count": 58,
      "outputs": [
        {
          "output_type": "stream",
          "name": "stdout",
          "text": [
            "0 10\n",
            "1 20\n",
            "2 30\n",
            "3 40\n",
            "4 hey\n",
            "5 100.0\n"
          ]
        }
      ]
    },
    {
      "cell_type": "code",
      "source": [
        "mylist=[10,20,30,40,\"hey\",100.00]\n",
        "for i in range(0,len(mylist)):\n",
        "  if (type(mylist[i])==int):\n",
        "    print(mylist[i])"
      ],
      "metadata": {
        "colab": {
          "base_uri": "https://localhost:8080/"
        },
        "id": "1xgIBOA8lxWU",
        "outputId": "bb604745-4603-4c02-b320-706a74025c81"
      },
      "execution_count": 68,
      "outputs": [
        {
          "output_type": "stream",
          "name": "stdout",
          "text": [
            "10\n",
            "20\n",
            "30\n",
            "40\n"
          ]
        }
      ]
    }
  ],
  "metadata": {
    "colab": {
      "provenance": [],
      "authorship_tag": "ABX9TyOKnZbRuAdV8R9Fbh2LxqoF",
      "include_colab_link": true
    },
    "kernelspec": {
      "display_name": "Python 3",
      "name": "python3"
    },
    "language_info": {
      "name": "python"
    }
  },
  "nbformat": 4,
  "nbformat_minor": 0
}