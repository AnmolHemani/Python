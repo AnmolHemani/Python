{
  "nbformat": 4,
  "nbformat_minor": 0,
  "metadata": {
    "colab": {
      "provenance": [],
      "authorship_tag": "ABX9TyMnldfXNddRw/2jYXlfyx/M",
      "include_colab_link": true
    },
    "kernelspec": {
      "name": "python3",
      "display_name": "Python 3"
    },
    "language_info": {
      "name": "python"
    }
  },
  "cells": [
    {
      "cell_type": "markdown",
      "metadata": {
        "id": "view-in-github",
        "colab_type": "text"
      },
      "source": [
        "<a href=\"https://colab.research.google.com/github/AnmolHemani/Python/blob/main/Day_2_assignment.ipynb\" target=\"_parent\"><img src=\"https://colab.research.google.com/assets/colab-badge.svg\" alt=\"Open In Colab\"/></a>"
      ]
    },
    {
      "cell_type": "code",
      "execution_count": null,
      "metadata": {
        "colab": {
          "base_uri": "https://localhost:8080/"
        },
        "id": "3vokUjyHZs0e",
        "outputId": "6d9ba7ad-ad22-4c5f-abb4-9503be503a2e"
      },
      "outputs": [
        {
          "output_type": "stream",
          "name": "stdout",
          "text": [
            "Enter the num : 6\n",
            "Even\n"
          ]
        }
      ],
      "source": [
        "# Q1 Write a program that takes an integer input from the user\n",
        "# and checks whether the number is odd or even.\n",
        "\n",
        "num=int(input(\"Enter the num : \"))\n",
        "if num%2==0:\n",
        "    print(\"Even\")\n",
        "else:\n",
        "    print(\"Odd\")"
      ]
    },
    {
      "cell_type": "code",
      "source": [
        "# Q2 Write a program that takes three numbers as input and\n",
        "# prints the largest of the three.\n",
        "46\n",
        "num1=int(input(\"Enter the num1 : \"))\n",
        "num2=int(input(\"Enter the num2 : \"))\n",
        "num3=int(input(\"Enter the num3 : \"))\n",
        "if num1>num2 and num1>num3:\n",
        "    print(\"num1 is largest\")\n",
        "elif num2>num1 and num2>num3:\n",
        "    print(\"num2 is largest\")\n",
        "elif num3>num1 and num3>num2:\n",
        "    print(\"num3 is largest\")\n",
        "else:\n",
        "    print(\"All are equal\")"
      ],
      "metadata": {
        "colab": {
          "base_uri": "https://localhost:8080/"
        },
        "id": "pHpj1fZxbDCT",
        "outputId": "9094bee2-b7de-4063-ff32-95159dd2cc12"
      },
      "execution_count": null,
      "outputs": [
        {
          "output_type": "stream",
          "name": "stdout",
          "text": [
            "Enter the num1 : 4\n",
            "Enter the num2 : 5\n",
            "Enter the num3 : 6\n",
            "num3 is largest\n"
          ]
        }
      ]
    },
    {
      "cell_type": "code",
      "source": [
        "# Q3 Write a program to check if a given year is a leap year.\n",
        "# A leap year is divisible by 4 but not by 100\n",
        "# unless it is also divisible by 400.\n",
        "\n",
        "year=int(input(\"Enter the year : \"))\n",
        "if year%4==0 and (year%100!=0 or year%400==0):\n",
        "    print(\"Leap year\")\n",
        "else:\n",
        "    print(\"Not a leap year\")"
      ],
      "metadata": {
        "colab": {
          "base_uri": "https://localhost:8080/"
        },
        "id": "Ql1ehH-2bh58",
        "outputId": "85f11359-18b3-4cf2-bf29-88c0b20f743f"
      },
      "execution_count": null,
      "outputs": [
        {
          "output_type": "stream",
          "name": "stdout",
          "text": [
            "Enter the year : 3000\n",
            "Not a leap year\n"
          ]
        }
      ]
    },
    {
      "cell_type": "code",
      "source": [
        "# Q4 Write a program that takes a percentage (integer) as input and\n",
        "# prints the corresponding grade based\n",
        "# on the following criteria:\n",
        "# >= 90: Grade A\n",
        "# >= 80: Grade B\n",
        "# >= 70: Grade C\n",
        "# >= 60: Grade D\n",
        "# < 60: Grade F\n",
        "\n",
        "percentage=int(input(\"Enter the percentage : \"))\n",
        "if percentage>=90:\n",
        "    print(\"Grade A\")\n",
        "elif percentage>=80:\n",
        "    print(\"Grade B\")\n",
        "elif percentage>=70:\n",
        "    print(\"Grade C\")\n",
        "elif percentage>=60:\n",
        "    print(\"Grade D\")\n",
        "else:\n",
        "    print(\"Grade F\")"
      ],
      "metadata": {
        "colab": {
          "base_uri": "https://localhost:8080/"
        },
        "id": "F1kOSFSGdSZd",
        "outputId": "e5cee11e-8e07-4d14-bdb4-61e0990fd912"
      },
      "execution_count": null,
      "outputs": [
        {
          "output_type": "stream",
          "name": "stdout",
          "text": [
            "Enter the percentage : 89\n",
            "Grade B\n"
          ]
        }
      ]
    },
    {
      "cell_type": "code",
      "source": [
        "# Q5 Write a program that checks if a given letter is a\n",
        "# vowel (a, e, i, o, u) or a consonant.\n",
        "\n",
        "letter=input(\"Enter the letter : \")\n",
        "if letter==\"a\" or letter==\"e\" or letter==\"i\" or letter==\"o\" or letter==\"u\":\n",
        "    print(\"Vowel\")\n",
        "else:\n",
        "    print(\"Consonant\")"
      ],
      "metadata": {
        "colab": {
          "base_uri": "https://localhost:8080/"
        },
        "id": "E8GSNPnXd0QE",
        "outputId": "077bd2a1-9268-4413-ae93-02ae35fd7586"
      },
      "execution_count": null,
      "outputs": [
        {
          "output_type": "stream",
          "name": "stdout",
          "text": [
            "Enter the letter : a\n",
            "Vowel\n"
          ]
        }
      ]
    },
    {
      "cell_type": "code",
      "source": [
        "# Q6 Write a basic calculator program that takes two numbers and\n",
        "# an operator (+, -, *, /) as input and\n",
        "# performs the specified operation. Print the result based on the operation.\n",
        "\n",
        "num1=int(input(\"Enter the num1 : \"))\n",
        "num2=int(input(\"Enter the num2 : \"))\n",
        "operator=input(\"Enter the operator (+,-.*,/): \")\n",
        "if operator==\"+\":\n",
        "    print(num1+num2)\n",
        "elif operator==\"-\":\n",
        "    print(num1-num2)\n",
        "elif operator==\"*\":\n",
        "    print(num1*num2)\n",
        "elif operator==\"/\":\n",
        "    print(num1/num2)\n",
        "else:\n",
        "    print(\"Invalid operator\")"
      ],
      "metadata": {
        "colab": {
          "base_uri": "https://localhost:8080/"
        },
        "id": "jqfHKre7ggNA",
        "outputId": "ffb23265-f0b5-4389-d4e1-9b85a5770866"
      },
      "execution_count": null,
      "outputs": [
        {
          "output_type": "stream",
          "name": "stdout",
          "text": [
            "Enter the num1 : 5\n",
            "Enter the num2 : 6\n",
            "Enter the operator (+,-.*,/): +\n",
            "11\n"
          ]
        }
      ]
    },
    {
      "cell_type": "code",
      "source": [
        "# Q7 Write a program that takes a number as input and\n",
        "# checks whether it is positive, negative, or zero.\n",
        "\n",
        "num=int(input(\"Enter the num : \"))\n",
        "if num>0:\n",
        "    print(\"Positive\")\n",
        "elif num<0:\n",
        "    print(\"Negative\")\n",
        "else:\n",
        "    print(\"Zero\")"
      ],
      "metadata": {
        "colab": {
          "base_uri": "https://localhost:8080/"
        },
        "id": "KI3WLk6ghPRs",
        "outputId": "c4a7c1c5-084e-4183-bc37-b53260fe495e"
      },
      "execution_count": null,
      "outputs": [
        {
          "output_type": "stream",
          "name": "stdout",
          "text": [
            "Enter the num : 5\n",
            "Positive\n"
          ]
        }
      ]
    },
    {
      "cell_type": "code",
      "source": [
        "# Q8 Write a program that checks\n",
        "# if a username and password entered by the user match the pre-set values\n",
        "# username = \"admin\" and password = \"1234\".\n",
        "# If both match, print \"Login Successful\", otherwise print \"Login Failed\".\n",
        "\n",
        "user=\"admin\"\n",
        "pas=\"1234\"\n",
        "username=input(\"Enter the username : \")\n",
        "password=input(\"Enter the password : \")\n",
        "if username==user and password==pas:\n",
        "  print(\"Login Successful\")\n",
        "else:\n",
        "  print(\"Login Failed\")"
      ],
      "metadata": {
        "colab": {
          "base_uri": "https://localhost:8080/"
        },
        "id": "W6zg6ru5hgkW",
        "outputId": "248292f6-b8da-4018-e6bc-6c7015a37c48"
      },
      "execution_count": null,
      "outputs": [
        {
          "output_type": "stream",
          "name": "stdout",
          "text": [
            "Enter the username : admin\n",
            "Enter the password : 1234\n",
            "Login Successful\n"
          ]
        }
      ]
    },
    {
      "cell_type": "code",
      "source": [
        "# Q9 Write a program that takes three sides of a triangle as input and\n",
        "# checks if those sides form a valid triangle.\n",
        "# A triangle is valid if the sum of any two sides is greater than the third side.\n",
        "# Check conditions like a + b > c, b + c > a, and a + c > b.\n",
        "\n",
        "s1=int(input(\"Enter the s1 of a triangle : \"))\n",
        "s2=int(input(\"Enter the s2 of a triangle : \"))\n",
        "s3=int(input(\"Enter the s3 of a triangle : \"))\n",
        "if s1+s2>s3 and s2+s3>s1 and s3+s1>s2:\n",
        "  print(\"Valid Triangle\")\n",
        "else:\n",
        "  print(\"Not a Valid Triangle\")"
      ],
      "metadata": {
        "colab": {
          "base_uri": "https://localhost:8080/"
        },
        "id": "zHQnkFwKsXWU",
        "outputId": "5a663bf6-d2bc-4061-9ca5-86efe7946255"
      },
      "execution_count": null,
      "outputs": [
        {
          "output_type": "stream",
          "name": "stdout",
          "text": [
            "Enter the s1 of a triangle : 4\n",
            "Enter the s2 of a triangle : 5\n",
            "Enter the s3 of a triangle : 6\n",
            "Valid Triangle\n"
          ]
        }
      ]
    },
    {
      "cell_type": "code",
      "source": [
        "# Q10 Write a program that calculates the Body Mass Index (BMI)\n",
        "# based on user input for weight (in\n",
        "# kilograms) and height (in meters).\n",
        "# Then categorize the BMI into:\n",
        "# Underweight (BMI < 18.5)\n",
        "# Normal weight (18.5 <= BMI < 24.9)\n",
        "# Overweight (25 <= BMI < 29.9)\n",
        "# Obesity (BMI >= 30)\n",
        "# Use the formula: BMI = weight / (height ** 2)\n",
        "\n",
        "weight=int(input(\"Enter the weight(in kg) : \"))\n",
        "height=float(input(\"Enter the height(in m) : \"))\n",
        "BMI=weight/(height**2)\n",
        "if BMI<18.5:\n",
        "  print(\"underweight\")\n",
        "elif 18.5<=BMI<24.9:\n",
        "  print(\"normal weight\")\n",
        "elif 25<=BMI<29.9:\n",
        "  print(\"overweight\")\n",
        "elif BMI>=30:\n",
        "  print(\"obesity\")\n",
        "else:\n",
        "  print(\"not a valid input\")"
      ],
      "metadata": {
        "colab": {
          "base_uri": "https://localhost:8080/"
        },
        "id": "lwMC1HG6t7Q8",
        "outputId": "8b0ab8ef-ceb7-4c71-e03d-7c29b63e1722"
      },
      "execution_count": null,
      "outputs": [
        {
          "output_type": "stream",
          "name": "stdout",
          "text": [
            "Enter the weight(in kg) : 65\n",
            "Enter the height(in m) : 1.75\n",
            "normal weight\n"
          ]
        }
      ]
    },
    {
      "cell_type": "code",
      "source": [
        "# Q11 Write a program that calculates the discount for a product based on its price:\n",
        "# If price is greater than 1000, discount is 10%\n",
        "# If price is between 500 and 1000, discount is 5%\n",
        "# Otherwise, no discount\n",
        "# Print the final price after applying the discount.\n",
        "\n",
        "price=float(input(\"Enter the price of the product : \"))\n",
        "if price>=1000:\n",
        "  print(\"the final price after applying the discount is : \",price-(price*0.1))\n",
        "elif 500<=price<1000:\n",
        "  print(\"the final price after applying the discount is : \",price-(price*0.05))\n",
        "else:\n",
        "  print(\"the final price is : \",price)"
      ],
      "metadata": {
        "colab": {
          "base_uri": "https://localhost:8080/"
        },
        "id": "ZtWkgxz9wbt5",
        "outputId": "c8d12c3f-f6aa-4ce6-b7d3-d864e17c6364"
      },
      "execution_count": null,
      "outputs": [
        {
          "output_type": "stream",
          "name": "stdout",
          "text": [
            "Enter the price of the product : 400\n",
            "the final price is :  400.0\n"
          ]
        }
      ]
    },
    {
      "cell_type": "code",
      "source": [
        "# Q12 Write a program that takes the name of a month as input and\n",
        "#  prints the number of days in that month. Consider leap years for February.\n",
        "\n",
        "month=input(\"Enter the name of the month : \")\n",
        "if month=='january' or month=='march' or month=='may' or month=='july' or month=='august' or month=='october' or month=='december':\n",
        "  print(\"31 Days\")\n",
        "elif month=='february':\n",
        "  print(\"29 Days\")\n",
        "elif month=='april' or month=='june' or month=='september' or month=='november':\n",
        "  print(\"30 Days\")\n",
        "else:\n",
        "  print(\"Error please enter a valid month name.\")\n"
      ],
      "metadata": {
        "colab": {
          "base_uri": "https://localhost:8080/"
        },
        "id": "ap37v_NixqIF",
        "outputId": "7b059922-9160-4e67-9b12-8591995a221a"
      },
      "execution_count": null,
      "outputs": [
        {
          "output_type": "stream",
          "name": "stdout",
          "text": [
            "Enter the name of the month : april\n",
            "30 Days\n"
          ]
        }
      ]
    },
    {
      "cell_type": "code",
      "source": [
        "# Q13 Write a program that simulates a simple ATM. The user should be able to:\n",
        "# Check balance\n",
        "# Deposit money\n",
        "# Withdraw money (ensure the balance doesn't go negative)\n",
        "# Use an if-else structure to handle the user's\n",
        "# choices.\n",
        "\n",
        "total_balance=1000000000\n",
        "num=int(input(\" 1. press 1 to check the balance \\n 2. press 2 to deposit money \\n 3. press 3 to withdrawl the money\\n\"))\n",
        "if num==1:\n",
        "  printf(\"Tha balance is : \",total_balance)\n",
        "elif num==2:\n",
        "  deposit_money=int(input(\"Enter the amount you want to deposit : \"))\n",
        "  total_balance=total_balance+deposit_money\n",
        "  print(\"The balance after deposit the money is : \",total_balance)\n",
        "elif num==3:\n",
        "  withdrawl_money=int(input(\"Enter the amount you want to withdraw : \"))\n",
        "  if withdrawl_money>total_balance:\n",
        "    print(\"Insufficient Balance\")\n",
        "  else:\n",
        "    total_balance=total_balance-withdrawl_money\n",
        "    print(\"The balance remaining after withdrawl is : \",total_balance)\n",
        "else:\n",
        "  print(\"Invalid.\")\n"
      ],
      "metadata": {
        "colab": {
          "base_uri": "https://localhost:8080/"
        },
        "id": "JwkWlQlp0tYF",
        "outputId": "53671d8b-3b32-4e33-9898-019d3363857d"
      },
      "execution_count": null,
      "outputs": [
        {
          "output_type": "stream",
          "name": "stdout",
          "text": [
            " 1. press 1 to check the balance \n",
            " 2. press 2 to deposit money \n",
            " 3. press 3 to withdrawl the money\n",
            "3\n",
            "Enter the amount you want to withdraw : 100000000\n",
            "The balance remaining after withdrawl is :  900000000\n"
          ]
        }
      ]
    },
    {
      "cell_type": "code",
      "source": [
        "# Q14 Write a program that categorizes a given age into different groups:\n",
        "# Infant (0-1 year)\n",
        "# Toddler (2-4 years)\n",
        "# Child (5-12 years)\n",
        "# Teenager (13-19 years)\n",
        "# Adult (20-59 years)\n",
        "# Senior (60 years and above)\n",
        "\n",
        "age=int(input(\"Enter the age : \"))\n",
        "if 0<=age<=1:\n",
        "  print(\"infant\")\n",
        "elif 2<=age<=4:\n",
        "  print(\"toddler\")\n",
        "elif 5<=age<=12:\n",
        "  print(\"child\")\n",
        "elif 13<=age<=19:\n",
        "  print(\"teenager\")\n",
        "elif 20<=age<=59:\n",
        "  print(\"adult\")\n",
        "elif age>=60:\n",
        "  print(\"senior\")\n",
        "else:\n",
        "  print(\"Invalid, enter the correct age.\")"
      ],
      "metadata": {
        "colab": {
          "base_uri": "https://localhost:8080/"
        },
        "id": "26bIXXm94xBK",
        "outputId": "20200dab-a413-4d37-ba53-40fdf6285430"
      },
      "execution_count": null,
      "outputs": [
        {
          "output_type": "stream",
          "name": "stdout",
          "text": [
            "Enter the age : 61\n",
            "senior\n"
          ]
        }
      ]
    },
    {
      "cell_type": "code",
      "source": [
        "# Q15 Write a program that takes an integer (1-7) as input and\n",
        "# prints the corresponding day of the week (1\n",
        "# for Monday, 2 for Tuesday, etc.).\n",
        "\n",
        "num=int(input(\"Enter the num btw 1-7 : \"))\n",
        "if num==1:\n",
        "  print(\"1 : Monday\")\n",
        "elif num==2:\n",
        "  print(\"2 : Tuesday\")\n",
        "elif num==3:\n",
        "  print(\"3 : Wednesday\")\n",
        "elif num==4:\n",
        "  print(\"4 : Thursday\")\n",
        "elif num==5:\n",
        "  print(\"5 : Friday\")\n",
        "elif num==6:\n",
        "  print(\"6 : Saturday\")\n",
        "elif num==7:\n",
        "  print(\"7 : Sunday\")\n",
        "else:\n",
        "  print(\"Error, enter the num btw 1-7.\")"
      ],
      "metadata": {
        "colab": {
          "base_uri": "https://localhost:8080/"
        },
        "id": "MCwjIGVK6tfP",
        "outputId": "b652d146-7503-4e75-96a4-b8cc46d4f606"
      },
      "execution_count": null,
      "outputs": [
        {
          "output_type": "stream",
          "name": "stdout",
          "text": [
            "Enter the num btw 1-7 : 5\n",
            "5 : Friday\n"
          ]
        }
      ]
    }
  ]
}