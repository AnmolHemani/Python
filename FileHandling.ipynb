{
 "cells": [
  {
   "cell_type": "code",
   "execution_count": 2,
   "id": "4a9551b9-a1f9-4a21-a816-f02be928e299",
   "metadata": {},
   "outputs": [],
   "source": [
    "# File Handling\n",
    "# Mechanism => to store the data in the file permanently because if we want to process the data in a easy way.\n",
    "\n",
    "# open => access mode \n",
    "# read / write \n",
    "# close"
   ]
  },
  {
   "cell_type": "code",
   "execution_count": 27,
   "id": "2f25a7ed-574a-4afd-9c24-2342f037ad1d",
   "metadata": {},
   "outputs": [
    {
     "name": "stdout",
     "output_type": "stream",
     "text": [
      "Anmol\n"
     ]
    }
   ],
   "source": [
    "fileobj=open(\"FileHandling.txt\")\n",
    "x_data=fileobj.read()\n",
    "fileobj.close()\n",
    "print(x_data)"
   ]
  },
  {
   "cell_type": "code",
   "execution_count": 28,
   "id": "54b5f7b4-2f82-45f4-869a-a4d1706d5f6d",
   "metadata": {},
   "outputs": [],
   "source": [
    "fileobj=open(\"FileHandling.txt\",\"w\")\n",
    "# w => overwrite all its previous content\n",
    "fileobj.write(\"Japan\")\n",
    "fileobj.close()"
   ]
  },
  {
   "cell_type": "code",
   "execution_count": 29,
   "id": "31b10c04-2cfd-48d2-85f6-33a4a1dc7ff6",
   "metadata": {},
   "outputs": [
    {
     "name": "stdout",
     "output_type": "stream",
     "text": [
      "Japan\n"
     ]
    }
   ],
   "source": [
    "fileobj=open(\"FileHandling.txt\",\"r+\")\n",
    "x_data=fileobj.read()\n",
    "fileobj.write(\"##\")\n",
    "fileobj.close()\n",
    "# show\n",
    "print(x_data)"
   ]
  },
  {
   "cell_type": "code",
   "execution_count": 30,
   "id": "d0633484-d369-4420-8ba8-24ad6c1f0b89",
   "metadata": {},
   "outputs": [
    {
     "name": "stdout",
     "output_type": "stream",
     "text": [
      "pan##\n"
     ]
    }
   ],
   "source": [
    "fileobj=open(\"FileHandling.txt\",\"r+\")\n",
    "fileobj.write(\"##\")\n",
    "x_data=fileobj.read()\n",
    "fileobj.close()\n",
    "# show\n",
    "print(x_data)"
   ]
  },
  {
   "cell_type": "code",
   "execution_count": 57,
   "id": "44dcda95-38bd-499f-828c-49bb4800210f",
   "metadata": {},
   "outputs": [
    {
     "name": "stdin",
     "output_type": "stream",
     "text": [
      "Enter the num : 121\n"
     ]
    },
    {
     "name": "stdout",
     "output_type": "stream",
     "text": [
      "Palindrome num.\n"
     ]
    },
    {
     "name": "stdin",
     "output_type": "stream",
     "text": [
      "Enter the String Character : Anmmna\n"
     ]
    },
    {
     "name": "stdout",
     "output_type": "stream",
     "text": [
      "Palindrome\n"
     ]
    },
    {
     "name": "stdin",
     "output_type": "stream",
     "text": [
      "Enter the num : 12\n"
     ]
    },
    {
     "name": "stdout",
     "output_type": "stream",
     "text": [
      "The factor of 12 are :\n",
      "2 3 4 6 \n",
      "[40123, 123, 124]\n",
      "Pair is : 20 123\n",
      "  * \n",
      " * * \n",
      "* * * \n",
      "\n",
      "* * * * \n",
      " * * * \n",
      "  * * \n",
      "   * \n"
     ]
    }
   ],
   "source": [
    "# A1 \n",
    "\n",
    "# Practice Question on HackerRank\n",
    "\n",
    "# A2\n",
    "\n",
    "# to check whether a number is a palindrome or not\n",
    "\n",
    "num=int(input(\"Enter the num :\"))\n",
    "sum1=0\n",
    "temp=num\n",
    "while(num>0):\n",
    "    rem=num%10\n",
    "    sum1=sum1*10+rem\n",
    "    num=num//10\n",
    "if(temp==sum1):\n",
    "    print(\"Palindrome num.\")\n",
    "else:\n",
    "    print(\"Not a Palindrome num.\")\n",
    "\n",
    "# to check whether a string is a palindrome or not\n",
    "\n",
    "str1=input(\"Enter the String Character :\").lower()\n",
    "if(str1==str1[::-1]):\n",
    "    print(\"Palindrome\")\n",
    "else:\n",
    "    print(\"Not Palindrome\")\n",
    "\n",
    "# to take a number and print all its factor\n",
    "\n",
    "num=int(input(\"Enter the num :\"))\n",
    "print(\"The factor of\", num ,\"are :\")\n",
    "i=2\n",
    "while(i<num):\n",
    "    if(num%i==0):\n",
    "        print(i,end=\" \")\n",
    "    i+=1\n",
    "print(\"\")\n",
    "\n",
    "# list => [10,20,30,40123,123,124]\n",
    "# --> to check which number are more than target=70\n",
    "\n",
    "list1=[10,20,30,40123,123,124]\n",
    "list2=[]\n",
    "target=70\n",
    "for i in list1:\n",
    "    if(i>target):\n",
    "        list2.append(i)\n",
    "print(list2)\n",
    "\n",
    "# --> to check a list which two number make the value 143\n",
    "\n",
    "list1=[10,20,30,40123,123,124]\n",
    "target=143\n",
    "for i in range(0,len(list1)):\n",
    "    for j in range(i+1,len(list1)):\n",
    "        if(list1[i]+list1[j]==target):\n",
    "            print(\"Pair is :\",list1[i],list1[j])\n",
    "\n",
    "# Pyramid =>\n",
    "#   *\n",
    "#  * *\n",
    "# * * *\n",
    "\n",
    "for i in range(1,4):\n",
    "    for k in range(3,i,-1):\n",
    "        print(\"\",end=\" \")\n",
    "    for j in range(1,i+1):\n",
    "        print(\"*\",end=\" \")\n",
    "    print(\"\")\n",
    "print(\"\")\n",
    "\n",
    "# * * * *\n",
    "#  * * *\n",
    "#   * *\n",
    "#    *\n",
    "\n",
    "for i in range(1,5):\n",
    "    for k in range(1,i):\n",
    "        print(\"\",end=\" \")\n",
    "    for j in range(5,i,-1):\n",
    "        print(\"*\",end=\" \")\n",
    "    print(\"\")"
   ]
  }
 ],
 "metadata": {
  "kernelspec": {
   "display_name": "Python 3 (ipykernel)",
   "language": "python",
   "name": "python3"
  },
  "language_info": {
   "codemirror_mode": {
    "name": "ipython",
    "version": 3
   },
   "file_extension": ".py",
   "mimetype": "text/x-python",
   "name": "python",
   "nbconvert_exporter": "python",
   "pygments_lexer": "ipython3",
   "version": "3.12.3"
  }
 },
 "nbformat": 4,
 "nbformat_minor": 5
}
