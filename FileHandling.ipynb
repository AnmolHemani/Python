{
 "cells": [
  {
   "cell_type": "code",
   "execution_count": 36,
   "id": "4a9551b9-a1f9-4a21-a816-f02be928e299",
   "metadata": {},
   "outputs": [],
   "source": [
    "# File Handling\n",
    "# Mechanism => to store the data in the file permanently because if we want to process the data in a easy way.\n",
    "\n",
    "# open => access mode \n",
    "# read / write \n",
    "# close\n",
    "\n",
    "# r mode is used to read the file \n",
    "# w mode is used to write in file (overwrite the data )\n",
    "# w+ mode first delete the data then we can update the data\n",
    "# r+ mode is used to read and write the data (this function is depend on the task first argument )\n",
    "# .tell() is used to return the position of cursur\n",
    "# .seek() function is used to change the position of cursur\n",
    "# with open function is used to access the file from memory address \n",
    "# read() to read function is used to read all data only\n",
    "# readline() is used to read the line only\n",
    "# readlines() is used to read the lines in form of list\n",
    "# .strip() is used to remove unwanted character starting and ending\n",
    "# .split() function is used to remove the space and store data in list\n",
    "# .join() is used to convert list to string with white space\n",
    "# import csv is used to read comma seperated value (it is a package )"
   ]
  },
  {
   "cell_type": "code",
   "execution_count": 1,
   "id": "2f25a7ed-574a-4afd-9c24-2342f037ad1d",
   "metadata": {},
   "outputs": [
    {
     "name": "stdout",
     "output_type": "stream",
     "text": [
      "hey anmol\n"
     ]
    }
   ],
   "source": [
    "fileobj=open(\"FileHandling.txt\")\n",
    "x_data=fileobj.read()\n",
    "fileobj.close()\n",
    "print(x_data)"
   ]
  },
  {
   "cell_type": "code",
   "execution_count": 2,
   "id": "54b5f7b4-2f82-45f4-869a-a4d1706d5f6d",
   "metadata": {},
   "outputs": [],
   "source": [
    "fileobj=open(\"FileHandling.txt\",\"w\")\n",
    "# w => overwrite all its previous content\n",
    "fileobj.write(\"#\")\n",
    "fileobj.close()"
   ]
  },
  {
   "cell_type": "code",
   "execution_count": 3,
   "id": "31b10c04-2cfd-48d2-85f6-33a4a1dc7ff6",
   "metadata": {},
   "outputs": [
    {
     "name": "stdout",
     "output_type": "stream",
     "text": [
      "hey hello\n",
      "anmol\n"
     ]
    }
   ],
   "source": [
    "fileobj=open(\"FileHandling.txt\",\"r+\")\n",
    "x_data=fileobj.read()\n",
    "fileobj.write(\"#\")\n",
    "fileobj.close()\n",
    "# show\n",
    "print(x_data)"
   ]
  },
  {
   "cell_type": "code",
   "execution_count": 5,
   "id": "d0633484-d369-4420-8ba8-24ad6c1f0b89",
   "metadata": {},
   "outputs": [
    {
     "name": "stdout",
     "output_type": "stream",
     "text": [
      "y hello\n",
      "anmol#\n"
     ]
    }
   ],
   "source": [
    "fileobj=open(\"FileHandling.txt\",\"r+\")\n",
    "fileobj.write(\"##\")\n",
    "x_data=fileobj.read()\n",
    "fileobj.close()\n",
    "# show\n",
    "print(x_data)"
   ]
  },
  {
   "cell_type": "code",
   "execution_count": 58,
   "id": "44dcda95-38bd-499f-828c-49bb4800210f",
   "metadata": {},
   "outputs": [
    {
     "name": "stdin",
     "output_type": "stream",
     "text": [
      "Enter the num : 121\n"
     ]
    },
    {
     "name": "stdout",
     "output_type": "stream",
     "text": [
      "Palindrome num.\n"
     ]
    },
    {
     "name": "stdin",
     "output_type": "stream",
     "text": [
      "Enter the String Character : anmmna\n"
     ]
    },
    {
     "name": "stdout",
     "output_type": "stream",
     "text": [
      "Palindrome\n"
     ]
    },
    {
     "name": "stdin",
     "output_type": "stream",
     "text": [
      "Enter the num : 12\n"
     ]
    },
    {
     "name": "stdout",
     "output_type": "stream",
     "text": [
      "The factor of 12 are :\n",
      "2 3 4 6 \n",
      "[40123, 123, 124]\n",
      "Pair is : 20 123\n",
      "  * \n",
      " * * \n",
      "* * * \n",
      "\n",
      "* * * * \n",
      " * * * \n",
      "  * * \n",
      "   * \n"
     ]
    }
   ],
   "source": [
    "# A1 \n",
    "\n",
    "# Practice Question on HackerRank\n",
    "\n",
    "# A2\n",
    "\n",
    "# to check whether a number is a palindrome or not\n",
    "\n",
    "num=int(input(\"Enter the num :\"))\n",
    "sum1=0\n",
    "temp=num\n",
    "while(num>0):\n",
    "    rem=num%10\n",
    "    sum1=sum1*10+rem\n",
    "    num=num//10\n",
    "if(temp==sum1):\n",
    "    print(\"Palindrome num.\")\n",
    "else:\n",
    "    print(\"Not a Palindrome num.\")\n",
    "\n",
    "# to check whether a string is a palindrome or not\n",
    "\n",
    "str1=input(\"Enter the String Character :\").lower()\n",
    "if(str1==str1[::-1]):\n",
    "    print(\"Palindrome\")\n",
    "else:\n",
    "    print(\"Not Palindrome\")\n",
    "\n",
    "# to take a number and print all its factor\n",
    "\n",
    "num=int(input(\"Enter the num :\"))\n",
    "print(\"The factor of\", num ,\"are :\")\n",
    "i=2\n",
    "while(i<num):\n",
    "    if(num%i==0):\n",
    "        print(i,end=\" \")\n",
    "    i+=1\n",
    "print(\"\")\n",
    "\n",
    "# list => [10,20,30,40123,123,124]\n",
    "# --> to check which number are more than target=70\n",
    "\n",
    "list1=[10,20,30,40123,123,124]\n",
    "list2=[]\n",
    "target=70\n",
    "for i in list1:\n",
    "    if(i>target):\n",
    "        list2.append(i)\n",
    "print(list2)\n",
    "\n",
    "# --> to check a list which two number make the value 143\n",
    "\n",
    "list1=[10,20,30,40123,123,124]\n",
    "target=143\n",
    "for i in range(0,len(list1)):\n",
    "    for j in range(i+1,len(list1)):\n",
    "        if(list1[i]+list1[j]==target):\n",
    "            print(\"Pair is :\",list1[i],list1[j])\n",
    "\n",
    "# Pyramid =>\n",
    "#   *\n",
    "#  * *\n",
    "# * * *\n",
    "\n",
    "for i in range(1,4):\n",
    "    for k in range(3,i,-1):\n",
    "        print(\"\",end=\" \")\n",
    "    for j in range(1,i+1):\n",
    "        print(\"*\",end=\" \")\n",
    "    print(\"\")\n",
    "print(\"\")\n",
    "\n",
    "# * * * *\n",
    "#  * * *\n",
    "#   * *\n",
    "#    *\n",
    "\n",
    "for i in range(1,5):\n",
    "    for k in range(1,i):\n",
    "        print(\"\",end=\" \")\n",
    "    for j in range(5,i,-1):\n",
    "        print(\"*\",end=\" \")\n",
    "    print(\"\")"
   ]
  },
  {
   "cell_type": "code",
   "execution_count": 6,
   "id": "7a630ea9-35e5-4eb3-b784-0d0760817478",
   "metadata": {},
   "outputs": [
    {
     "name": "stdout",
     "output_type": "stream",
     "text": [
      "\n"
     ]
    }
   ],
   "source": [
    "fileobj=open(\"FileHandling.txt\",\"w+\")\n",
    "fileobj.write(\"$$\")\n",
    "x_data=fileobj.read()\n",
    "fileobj.close()\n",
    "# show\n",
    "print(x_data)"
   ]
  },
  {
   "cell_type": "code",
   "execution_count": 10,
   "id": "bab7df67-4038-4cbb-83ff-c1e6625f351c",
   "metadata": {},
   "outputs": [
    {
     "name": "stdout",
     "output_type": "stream",
     "text": [
      "1: 0\n",
      "2: 9\n",
      "\n"
     ]
    }
   ],
   "source": [
    "fileobj=open(\"FileHandling.txt\",\"w+\")\n",
    "print(\"1:\",fileobj.tell()) #cursor position\n",
    "fileobj.write(\"rajasthan\")\n",
    "print(\"2:\",fileobj.tell()) #cursor position\n",
    "x_data=fileobj.read()\n",
    "fileobj.close()\n",
    "# show\n",
    "print(x_data)"
   ]
  },
  {
   "cell_type": "code",
   "execution_count": 11,
   "id": "0a01c06b-6576-4679-9807-19b77ce06141",
   "metadata": {},
   "outputs": [
    {
     "name": "stdout",
     "output_type": "stream",
     "text": [
      "1: 0\n",
      "2: 9\n",
      "3: 4\n",
      "sthan\n"
     ]
    }
   ],
   "source": [
    "# seek function change the position of the cursor in the file.\n",
    "\n",
    "fileobj=open(\"FileHandling.txt\",\"w+\")\n",
    "print(\"1:\",fileobj.tell()) #cursor position\n",
    "fileobj.write(\"rajasthan\")\n",
    "print(\"2:\",fileobj.tell()) #cursor position\n",
    "\n",
    "# changing cursor position\n",
    "fileobj.seek(4)\n",
    "print(\"3:\",fileobj.tell()) #cursor position\n",
    "\n",
    "x_data=fileobj.read()\n",
    "fileobj.close()\n",
    "# show\n",
    "print(x_data)"
   ]
  },
  {
   "cell_type": "code",
   "execution_count": 13,
   "id": "f5668ef2-de6e-4ddb-9cc2-10e8dbe00d24",
   "metadata": {},
   "outputs": [
    {
     "name": "stdout",
     "output_type": "stream",
     "text": [
      "rajasthan\n"
     ]
    }
   ],
   "source": [
    "# Method 2\n",
    "# in method 2 it is not necessary to close the file\n",
    "\n",
    "with open(\"FileHandling.txt\") as f:\n",
    "    x=f.read()\n",
    "print(x)"
   ]
  },
  {
   "cell_type": "code",
   "execution_count": 20,
   "id": "6f6a68a0-5aae-4754-b37f-f1a0fd8ce218",
   "metadata": {},
   "outputs": [
    {
     "name": "stdout",
     "output_type": "stream",
     "text": [
      "anmol\n",
      "\n",
      "prankul\n",
      "\n"
     ]
    }
   ],
   "source": [
    "with open(\"FileHandling.txt\") as f:\n",
    "    print(f.readline())\n",
    "    print(f.readline())"
   ]
  },
  {
   "cell_type": "code",
   "execution_count": 18,
   "id": "e85e73bc-703e-4287-857c-36ddd1a45dcf",
   "metadata": {},
   "outputs": [
    {
     "name": "stdout",
     "output_type": "stream",
     "text": [
      "anmol\n",
      "\n",
      "prankul\n",
      "\n",
      "vineet\n"
     ]
    }
   ],
   "source": [
    "with open(\"FileHandling.txt\") as f:\n",
    "    for line in f:\n",
    "        print(line)"
   ]
  },
  {
   "cell_type": "code",
   "execution_count": 22,
   "id": "00e6b979-bd22-4122-827d-4e3f4da12161",
   "metadata": {},
   "outputs": [
    {
     "name": "stdout",
     "output_type": "stream",
     "text": [
      "['anmol\\n', 'prankul\\n', 'vineet']\n"
     ]
    }
   ],
   "source": [
    "with open(\"FileHandling.txt\") as f:\n",
    "    print(f.readlines())"
   ]
  },
  {
   "cell_type": "code",
   "execution_count": 32,
   "id": "f7f8e68b-8ded-444c-bd80-9b0182296267",
   "metadata": {},
   "outputs": [
    {
     "name": "stdout",
     "output_type": "stream",
     "text": [
      "name : anmol age : 10\n",
      "name : prankul age : 20\n",
      "name : vineet age : 30\n"
     ]
    }
   ],
   "source": [
    "with open(\"FileHandling.txt\") as f:\n",
    "    for line in f:\n",
    "        line=line.strip()\n",
    "        name,age=line.split(\",\")\n",
    "        print(\"name :\",name,\"age :\",age)"
   ]
  },
  {
   "cell_type": "code",
   "execution_count": 35,
   "id": "83a6046b-527b-42ea-b753-a0079c1acc12",
   "metadata": {},
   "outputs": [
    {
     "name": "stdout",
     "output_type": "stream",
     "text": [
      "name : anmol age : 10\n",
      "name : prankul age : 20\n",
      "name : vineet age : 30\n"
     ]
    }
   ],
   "source": [
    "import csv\n",
    "# fileobj=open(\"FileHandling.txt\",\"r\")\n",
    "with open(\"FileHandling.txt\",\"r\") as fileobj:\n",
    "    fcsv=csv.reader(fileobj)\n",
    "    for line in fcsv:\n",
    "        name,age=line\n",
    "        print(\"name :\",name,\"age :\",age)"
   ]
  },
  {
   "cell_type": "code",
   "execution_count": 37,
   "id": "99c8dacc-b798-43fa-92bc-106b37c67a48",
   "metadata": {},
   "outputs": [],
   "source": [
    "# A1\n",
    "\n",
    "# leetcode isomorphic string\n",
    "# leetcode three sum smaller\n",
    "# leetcode three sum closer\n",
    "\n",
    "# A2\n",
    "\n",
    "# *******\n",
    "#  *   *\n",
    "#   * *\n",
    "#    *\n",
    "\n",
    "# ****\n",
    "# ***\n",
    "# **\n",
    "# *\n",
    "# **\n",
    "# ***\n",
    "# ****\n",
    "\n",
    "# Sum of all digit in a list.\n",
    "# [10,20,121,142,10000] target=131 do it with single loop\n",
    "# to read dict abd how to insert and delete element\n",
    "# take a string and print all character in key value pair\n",
    "# take a string and print all character exact count in key value pair\n",
    "# take a string and print all consonant in key value pair with exact counts.\n"
   ]
  }
 ],
 "metadata": {
  "kernelspec": {
   "display_name": "Python 3 (ipykernel)",
   "language": "python",
   "name": "python3"
  },
  "language_info": {
   "codemirror_mode": {
    "name": "ipython",
    "version": 3
   },
   "file_extension": ".py",
   "mimetype": "text/x-python",
   "name": "python",
   "nbconvert_exporter": "python",
   "pygments_lexer": "ipython3",
   "version": "3.12.3"
  }
 },
 "nbformat": 4,
 "nbformat_minor": 5
}
