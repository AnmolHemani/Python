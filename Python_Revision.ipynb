{
 "cells": [
  {
   "cell_type": "markdown",
   "id": "1a4a236b-9f92-4fb9-85c5-47c2d0baea4c",
   "metadata": {},
   "source": [
    "# Pattern"
   ]
  },
  {
   "cell_type": "code",
   "execution_count": 8,
   "id": "9fae823e-2da7-4ad2-855b-ea48844fad19",
   "metadata": {},
   "outputs": [
    {
     "name": "stdout",
     "output_type": "stream",
     "text": [
      "* * * * \n",
      "* * * * \n",
      "* * * * \n",
      "* * * * \n"
     ]
    }
   ],
   "source": [
    "for i in range(0,4):\n",
    "    for j in range(0,4):\n",
    "        print(\"*\",end=\" \")\n",
    "    print(\"\")"
   ]
  },
  {
   "cell_type": "code",
   "execution_count": 2,
   "id": "85c851a6-b210-4db2-8d24-fd0fedf88d94",
   "metadata": {},
   "outputs": [
    {
     "name": "stdout",
     "output_type": "stream",
     "text": [
      "* \n",
      "* * \n",
      "* * * \n",
      "* * * * \n"
     ]
    }
   ],
   "source": [
    "for i in range(0,4):\n",
    "    for j in range(0,i+1):\n",
    "        print(\"*\",end=\" \")\n",
    "    print(\"\")"
   ]
  },
  {
   "cell_type": "code",
   "execution_count": 4,
   "id": "d88cb00a-b1d6-4e26-acc2-f8e446a4ac86",
   "metadata": {},
   "outputs": [
    {
     "name": "stdout",
     "output_type": "stream",
     "text": [
      "0 \n",
      "0 1 \n",
      "0 1 2 \n",
      "0 1 2 3 \n"
     ]
    }
   ],
   "source": [
    "for i in range(0,4):\n",
    "    for j in range(0,i+1):\n",
    "        print(j,end=\" \")\n",
    "    print(\"\")"
   ]
  },
  {
   "cell_type": "code",
   "execution_count": 7,
   "id": "169927ab-b730-4260-afd2-7a0e50e78f4c",
   "metadata": {},
   "outputs": [
    {
     "name": "stdout",
     "output_type": "stream",
     "text": [
      "2 \n",
      "2 3 \n",
      "2 3 4 \n",
      "2 3 4 5 \n"
     ]
    }
   ],
   "source": [
    "for i in range(0,4):\n",
    "    for j in range(0,i+1):\n",
    "        print(j+2,end=\" \")\n",
    "    print(\"\")"
   ]
  },
  {
   "cell_type": "code",
   "execution_count": 10,
   "id": "349b8e60-d15a-4fb4-997f-312327edf63d",
   "metadata": {},
   "outputs": [
    {
     "name": "stdout",
     "output_type": "stream",
     "text": [
      "65 \n",
      "66 67 \n",
      "68 69 70 \n"
     ]
    }
   ],
   "source": [
    "num=65\n",
    "for i in range(0,3):\n",
    "    for j in range(0,i+1):\n",
    "        print(num,end=\" \")\n",
    "        num+=1\n",
    "    print(\"\")"
   ]
  },
  {
   "cell_type": "code",
   "execution_count": 11,
   "id": "f26d500f-17ce-42f4-8573-fc89f17a6ef9",
   "metadata": {},
   "outputs": [
    {
     "name": "stdout",
     "output_type": "stream",
     "text": [
      "A \n",
      "B C \n",
      "D E F \n"
     ]
    }
   ],
   "source": [
    "num=65\n",
    "for i in range(0,3):\n",
    "    for j in range(0,i+1):\n",
    "        print(chr(num),end=\" \")\n",
    "        num+=1\n",
    "    print(\"\")"
   ]
  },
  {
   "cell_type": "code",
   "execution_count": 14,
   "id": "0fbf4dbe-2d80-42d8-90b3-baf18f523fc9",
   "metadata": {},
   "outputs": [
    {
     "name": "stdout",
     "output_type": "stream",
     "text": [
      "* * * * \n",
      "* * * \n",
      "* * \n",
      "* \n"
     ]
    }
   ],
   "source": [
    "for i in range(0,4):\n",
    "    for j in range(i,4):\n",
    "        print(\"*\",end=\" \")\n",
    "    print(\"\")"
   ]
  },
  {
   "cell_type": "code",
   "execution_count": 17,
   "id": "e4da9a15-8103-4697-8777-94ad70a7f924",
   "metadata": {},
   "outputs": [
    {
     "name": "stdout",
     "output_type": "stream",
     "text": [
      "0 1 2 3 \n",
      "0 1 2 \n",
      "0 1 \n",
      "0 \n"
     ]
    }
   ],
   "source": [
    "for i in range(0,4):\n",
    "    num=0\n",
    "    for j in range(i,4):\n",
    "        print(num,end=\" \")\n",
    "        num+=1\n",
    "    print(\"\")"
   ]
  },
  {
   "cell_type": "code",
   "execution_count": 19,
   "id": "ad1c0f7f-6235-4527-be41-ef829a819fe9",
   "metadata": {},
   "outputs": [
    {
     "name": "stdout",
     "output_type": "stream",
     "text": [
      "10 11 12 13 14 \n",
      "15 16 17 18 \n",
      "19 20 21 \n",
      "22 23 \n",
      "24 \n"
     ]
    }
   ],
   "source": [
    "num=10\n",
    "for i in range(0,5):\n",
    "    for j in range(i,5):\n",
    "        print(num,end=\" \")\n",
    "        num+=1\n",
    "    print(\"\")"
   ]
  },
  {
   "cell_type": "code",
   "execution_count": 21,
   "id": "aff5df3c-1b23-4881-8ff6-7a5a452c5932",
   "metadata": {},
   "outputs": [
    {
     "name": "stdout",
     "output_type": "stream",
     "text": [
      "1 2 3 4 \n",
      "2 3 4 \n",
      "3 4 \n",
      "4 \n"
     ]
    }
   ],
   "source": [
    "for i in range(1,5):\n",
    "    for j in range(i,5):\n",
    "        print(j,end=\" \")\n",
    "    print(\"\")"
   ]
  },
  {
   "cell_type": "code",
   "execution_count": 24,
   "id": "e2730753-9837-4bac-b8db-386b212005a4",
   "metadata": {},
   "outputs": [
    {
     "name": "stdout",
     "output_type": "stream",
     "text": [
      "1 2 3 4 \n",
      "2 3 4 \n",
      "3 4 \n",
      "4 \n"
     ]
    }
   ],
   "source": [
    "for i in range(0,4):\n",
    "    for j in range(i,4):\n",
    "        print(j+1,end=\" \")\n",
    "    print(\"\")"
   ]
  },
  {
   "cell_type": "code",
   "execution_count": 1,
   "id": "e545a0b8-2d71-41cc-a129-dd357793e9a1",
   "metadata": {},
   "outputs": [
    {
     "name": "stdout",
     "output_type": "stream",
     "text": [
      "1 0 1 0 1 \n",
      "1 0 1 0 \n",
      "1 0 1 \n",
      "1 0 \n",
      "1 \n"
     ]
    }
   ],
   "source": [
    "for i in range(0,5):\n",
    "    for j in range(0,5-i):\n",
    "        print((j+1)%2,end=\" \")\n",
    "    print(\"\")\n",
    "\n",
    "# or \n",
    "\n",
    "# for i in range(0,5):\n",
    "#     for j in range(1,6-i):\n",
    "#         print(j%2,end=\" \")\n",
    "#     print(\"\")\n",
    "\n",
    "# or \n",
    "\n",
    "# for i in range(0,5):\n",
    "#     for j in range(0,5-i):\n",
    "#         if j%2==0:\n",
    "#             print(\"1\",end=\" \")\n",
    "#         else:\n",
    "#             print(\"0\",end=\" \")\n",
    "#     print(\"\")"
   ]
  },
  {
   "cell_type": "code",
   "execution_count": 39,
   "id": "ef17f568-2478-4b27-a70a-6886ddaa5fd0",
   "metadata": {},
   "outputs": [
    {
     "name": "stdout",
     "output_type": "stream",
     "text": [
      "1 0 1 0 1 \n",
      "2 0 2 0 \n",
      "3 0 3 \n",
      "4 0 \n",
      "5 \n"
     ]
    }
   ],
   "source": [
    "num=1\n",
    "for i in range(0,5):\n",
    "    for j in range(0,5-i):\n",
    "        if j%2==0:\n",
    "            print(num,end=\" \")\n",
    "        else:\n",
    "            print(\"0\",end=\" \")\n",
    "    num+=1\n",
    "    print(\"\")\n",
    "\n",
    "# or\n",
    "\n",
    "# for i in range(0,5):\n",
    "#     for j in range(0,5-i):\n",
    "#         if j%2==0:\n",
    "#             print(i+1,end=\" \")\n",
    "#         else:\n",
    "#             print(\"0\",end=\" \")\n",
    "#     print(\"\")"
   ]
  },
  {
   "cell_type": "code",
   "execution_count": 42,
   "id": "d80baa7b-af0c-4dbe-8111-5a08f2fa6313",
   "metadata": {},
   "outputs": [
    {
     "name": "stdout",
     "output_type": "stream",
     "text": [
      "      * \n",
      "    * * \n",
      "  * * * \n",
      "* * * * \n"
     ]
    }
   ],
   "source": [
    "for i in range(0,4):\n",
    "    for k in range(i,3):\n",
    "        print(\" \",end=\" \")\n",
    "    for j in range(0,i+1):\n",
    "        print(\"*\",end=\" \")\n",
    "    print(\"\")"
   ]
  },
  {
   "cell_type": "code",
   "execution_count": 47,
   "id": "9b49fb41-18e7-4b16-9636-85654b9a493a",
   "metadata": {},
   "outputs": [
    {
     "name": "stdout",
     "output_type": "stream",
     "text": [
      "* * * * * \n",
      "  * * * * \n",
      "    * * * \n",
      "      * * \n",
      "        * \n"
     ]
    }
   ],
   "source": [
    "for i in range(0,5):\n",
    "    for k in range(0,i):\n",
    "        print(\" \",end=\" \")\n",
    "    for j in range(i,5):\n",
    "        print(\"*\",end=\" \")\n",
    "    print(\"\")"
   ]
  },
  {
   "cell_type": "code",
   "execution_count": 50,
   "id": "e7350a69-bf6c-4320-9783-0516b2d30dd5",
   "metadata": {},
   "outputs": [
    {
     "name": "stdout",
     "output_type": "stream",
     "text": [
      "* * * * * \n",
      "  *     * \n",
      "    *   * \n",
      "      * * \n",
      "        * \n"
     ]
    }
   ],
   "source": [
    "for i in range(0,5):\n",
    "    for k in range(0,i):\n",
    "        print(\" \",end=\" \")\n",
    "    for j in range(i,5):\n",
    "        if(i==j or i==0 or j==4):\n",
    "            print(\"*\",end=\" \")\n",
    "        else:\n",
    "            print(\" \",end=\" \")   \n",
    "    print(\"\")"
   ]
  },
  {
   "cell_type": "code",
   "execution_count": 51,
   "id": "6db5fedf-92ac-494e-8d8d-b6149300f89a",
   "metadata": {},
   "outputs": [
    {
     "name": "stdout",
     "output_type": "stream",
     "text": [
      "* * * * * \n",
      "*     * \n",
      "*   * \n",
      "* * \n",
      "* \n"
     ]
    }
   ],
   "source": [
    "for i in range(0,5):\n",
    "    for j in range(i,5):\n",
    "        if(i==j or i==0 or j==4):\n",
    "            print(\"*\",end=\" \")\n",
    "        else:\n",
    "            print(\" \",end=\" \")   \n",
    "    print(\"\")"
   ]
  },
  {
   "cell_type": "code",
   "execution_count": 10,
   "id": "7bb5b07e-4f73-4e15-8393-9f91da16b2ce",
   "metadata": {},
   "outputs": [
    {
     "name": "stdout",
     "output_type": "stream",
     "text": [
      "1 2 3 4 5 \n",
      "6     9 \n",
      "10   12 \n",
      "13 14 \n",
      "15 \n"
     ]
    }
   ],
   "source": [
    "num=1\n",
    "for i in range(0,5):\n",
    "    for j in range(i,5):\n",
    "        if(i==j or i==0 or j==4):\n",
    "            print(num,end=\" \")\n",
    "        else:\n",
    "            print(\" \",end=\" \") \n",
    "        num+=1\n",
    "    print(\"\")"
   ]
  },
  {
   "cell_type": "markdown",
   "id": "53c9c8d7-561f-4b10-be42-a5838df10a4f",
   "metadata": {},
   "source": [
    "# Day 2"
   ]
  },
  {
   "cell_type": "code",
   "execution_count": 17,
   "id": "9b523a40-8df9-4071-8724-1413f5c904e0",
   "metadata": {},
   "outputs": [
    {
     "name": "stdout",
     "output_type": "stream",
     "text": [
      "    * \n",
      "  * * * \n",
      "* * * * * \n"
     ]
    }
   ],
   "source": [
    "for i in range(0,3):\n",
    "    for k in range(0,2-i):\n",
    "        print(\" \",end=\" \")\n",
    "    for j in range(0,2*i+1):\n",
    "        print(\"*\",end=\" \")\n",
    "    print(\"\")"
   ]
  },
  {
   "cell_type": "code",
   "execution_count": 29,
   "id": "5cbe4adf-a19d-4c37-a822-83161a23b599",
   "metadata": {},
   "outputs": [
    {
     "name": "stdout",
     "output_type": "stream",
     "text": [
      "* * * * * * * \n",
      "  * * * * * \n",
      "    * * * \n",
      "      * \n"
     ]
    }
   ],
   "source": [
    "for i in range(0,4):\n",
    "    for k in range(0,i):\n",
    "        print(\" \",end=\" \")\n",
    "    for j in range(0,2*4-2*i-1):\n",
    "        print(\"*\",end=\" \")\n",
    "    print(\"\")"
   ]
  },
  {
   "cell_type": "markdown",
   "id": "5b3040d8-54dd-4c3f-b10a-40930aa531fd",
   "metadata": {},
   "source": [
    "# List"
   ]
  },
  {
   "cell_type": "markdown",
   "id": "48995bf6-ca02-44e3-9325-ccb12796c235",
   "metadata": {},
   "source": [
    "-> Collection of elements of different multiple data types\n",
    "-> Mutuable \n",
    "-> index position"
   ]
  },
  {
   "cell_type": "code",
   "execution_count": 32,
   "id": "a0dc4488-594b-45c8-b134-af0604aa005f",
   "metadata": {},
   "outputs": [
    {
     "name": "stdout",
     "output_type": "stream",
     "text": [
      "Sorting =  [80, 10, 20, 60, 9]\n",
      "Sorting =  [80, 60, 10, 20, 9]\n",
      "Sorting =  [80, 60, 20, 10, 9]\n",
      "Sorting =  [80, 60, 20, 10, 9]\n",
      "Sorting =  [80, 60, 20, 10, 9]\n"
     ]
    }
   ],
   "source": [
    "list1=[10,20,60,80,9]\n",
    "for i in range(0,len(list1)):\n",
    "    for j in range(i+1,len(list1)):\n",
    "        if(list1[i]<list1[j]):\n",
    "            list1[i],list1[j]=list1[j],list1[i]\n",
    "    print(\"Sorting = \", list1)"
   ]
  },
  {
   "cell_type": "markdown",
   "id": "d197966a-f290-4b92-a10b-409566603577",
   "metadata": {},
   "source": [
    "Leetcode => Best Time to Buy and Sell Stock"
   ]
  },
  {
   "cell_type": "code",
   "execution_count": 36,
   "id": "d88f513c-1590-4862-8152-7a1477b4e92a",
   "metadata": {},
   "outputs": [
    {
     "name": "stdout",
     "output_type": "stream",
     "text": [
      "5\n"
     ]
    }
   ],
   "source": [
    "l1=[7,1,5,3,6,4]\n",
    "max1=0\n",
    "for i in range(0,len(l1)):\n",
    "    for j in range(i+1,len(l1)):\n",
    "        if(max1<l1[j]-l1[i]):\n",
    "            max1=l1[j]-l1[i]\n",
    "print(max1)"
   ]
  },
  {
   "cell_type": "code",
   "execution_count": 37,
   "id": "7c9fd64e-5c4b-42ad-80fb-015916ec89f8",
   "metadata": {},
   "outputs": [],
   "source": [
    "# Assignment\n",
    "# We have a list and sort it with one loop\n",
    "# Best time to buy and sell stock with one loop\n",
    "# Leetcode two sum problem\n",
    "# Leetcode plus 1\n",
    "# You have been given two list and having same num of elements and have to merge both the list by removing the duplicate elements but with a single loop"
   ]
  },
  {
   "cell_type": "code",
   "execution_count": 1,
   "id": "c6b5029b-6776-40af-b040-853e15a2097e",
   "metadata": {},
   "outputs": [
    {
     "name": "stdout",
     "output_type": "stream",
     "text": [
      "[80, 60, 20, 10, 9]\n"
     ]
    }
   ],
   "source": [
    "# We have a list and sort it with one loop\n",
    "l1=[10,20,60,80,9]\n",
    "a=0\n",
    "while(a<len(l1)-1):\n",
    "    if(l1[a]<l1[a+1]):\n",
    "        l1[a],l1[a+1]=l1[a+1],l1[a]\n",
    "        a=0\n",
    "    else:\n",
    "        a+=1\n",
    "print(l1)"
   ]
  },
  {
   "cell_type": "code",
   "execution_count": 4,
   "id": "8c93a874-8d2b-435a-838d-80b008b4701a",
   "metadata": {},
   "outputs": [
    {
     "name": "stdout",
     "output_type": "stream",
     "text": [
      "5\n"
     ]
    }
   ],
   "source": [
    "# Best time to buy and sell stock with one loop\n",
    "l1=[7,1,5,3,6,4]\n",
    "a=0\n",
    "b=1\n",
    "max1=0\n",
    "while(b<len(l1)):\n",
    "    if(l1[a]<l1[b]):\n",
    "        profit=l1[b]-l1[a]\n",
    "        if(profit>max1):\n",
    "            max1=profit\n",
    "    else:\n",
    "        a=b\n",
    "    b+=1\n",
    "print(max1)"
   ]
  },
  {
   "cell_type": "code",
   "execution_count": 8,
   "id": "4a2da7f9-9f36-4c63-b4c7-041b0aa8ac66",
   "metadata": {},
   "outputs": [
    {
     "name": "stdout",
     "output_type": "stream",
     "text": [
      "Index position :  0 1\n",
      "Elements : 2 7\n"
     ]
    }
   ],
   "source": [
    "# two sum problem\n",
    "nums = [2,7,11,15]\n",
    "target = 9\n",
    "for i in range(0,len(nums)):\n",
    "    for j in range(i+1,len(nums)):\n",
    "        if(nums[i]+nums[j]==target):\n",
    "            print(\"Index position : \",i,j)\n",
    "            print(\"Elements :\",nums[i],nums[j])"
   ]
  },
  {
   "cell_type": "code",
   "execution_count": 9,
   "id": "03f93d18-cfb6-48c5-8513-698b4abdd126",
   "metadata": {},
   "outputs": [
    {
     "name": "stdout",
     "output_type": "stream",
     "text": [
      "[1, 2, 3, 4, 5, 6, 7, 8]\n"
     ]
    }
   ],
   "source": [
    "# You have been given two list and having same num of elements and have to merge both the list by removing the duplicate elements but with a single loop\n",
    "l1 = [1, 2, 3, 4, 5]\n",
    "l2 = [4, 5, 6, 7, 8]\n",
    "res=[]\n",
    "for i in l1+l2:\n",
    "    if i not in res:\n",
    "        res.append(i)\n",
    "print(res)"
   ]
  },
  {
   "cell_type": "code",
   "execution_count": 23,
   "id": "6145a7b0-1763-493e-af2d-ba7318c9afec",
   "metadata": {},
   "outputs": [
    {
     "name": "stdout",
     "output_type": "stream",
     "text": [
      "[1, 2, 4]\n"
     ]
    }
   ],
   "source": [
    "# Leetcode plus 1\n",
    "digits = [1,2,3]\n",
    "str1=\"\"\n",
    "res=[]\n",
    "for i in digits:\n",
    "    str1+=str(i)\n",
    "s1=int(str1)+1\n",
    "for i in str(s1):\n",
    "    res.append(int(i))\n",
    "print(res)"
   ]
  },
  {
   "cell_type": "markdown",
   "id": "c3bf676f-d872-4935-afd9-dde8ec7c35f3",
   "metadata": {},
   "source": [
    "# Day 3"
   ]
  },
  {
   "cell_type": "code",
   "execution_count": 27,
   "id": "38532f22-07ef-40ea-a020-aa962b8b7c9e",
   "metadata": {},
   "outputs": [
    {
     "name": "stdout",
     "output_type": "stream",
     "text": [
      "[[-1, -1, 2], [-1, 0, 1]]\n"
     ]
    }
   ],
   "source": [
    "# 3 sum\n",
    "nums = [-1,0,1,2,-1,-4]\n",
    "list1=[]\n",
    "nums.sort()\n",
    "for i in range(0,len(nums)):\n",
    "    for j in range(i+1,len(nums)):\n",
    "        for k in range(j+1,len(nums)):\n",
    "            if (i != j and i != k and j != k and nums[i] + nums[j] + nums[k] == 0) :\n",
    "                if [nums[i] , nums[j] , nums[k]] in list1:\n",
    "                    continue\n",
    "                else:\n",
    "                    list1.append([nums[i] , nums[j] , nums[k]])\n",
    "print(list1)"
   ]
  },
  {
   "cell_type": "code",
   "execution_count": 1,
   "id": "a4127579-a20c-4362-969b-26b2e7348744",
   "metadata": {},
   "outputs": [
    {
     "name": "stdout",
     "output_type": "stream",
     "text": [
      "[[-1, -1, 2], [-1, 0, 1], [-1, 0, 1]]\n"
     ]
    }
   ],
   "source": [
    "# 3 sum\n",
    "nums = [-1,0,1,2,-1,-4]\n",
    "list1=[]\n",
    "nums.sort()\n",
    "for i in range(0,len(nums)-2):\n",
    "    start=i+1\n",
    "    end=len(nums)-1\n",
    "    while(start<end):\n",
    "        if (i != start and i != end and start != end and nums[i] + nums[start] + nums[end] == 0):\n",
    "            list1.append([nums[i] , nums[start] , nums[end]])\n",
    "            start+=1\n",
    "            end-=1\n",
    "        elif(nums[i] + nums[start] + nums[end] > 0):\n",
    "            end-=1\n",
    "        else:\n",
    "            start+=1\n",
    "print(list1)"
   ]
  },
  {
   "cell_type": "markdown",
   "id": "2c54f705-a4d1-4a33-9c52-8c51dc730124",
   "metadata": {},
   "source": [
    "# Dict"
   ]
  },
  {
   "cell_type": "markdown",
   "id": "85d8dbb8-6987-47cc-b57f-30137319d572",
   "metadata": {},
   "source": [
    "Key value pair  ,  value can be duplicate or unique ,  keys are immutable datatype  ,  dict is ordered"
   ]
  },
  {
   "cell_type": "code",
   "execution_count": 9,
   "id": "cbae88df-0bbb-4965-a733-5f2571296b66",
   "metadata": {},
   "outputs": [],
   "source": [
    "# [10,25,14,6,8,1,78,521,8,654,1,2,521] find k highest\n",
    "# dict , list comprehension , set comprehension"
   ]
  },
  {
   "cell_type": "code",
   "execution_count": 6,
   "id": "a596ceb6-b138-421c-932e-3670db1767bb",
   "metadata": {},
   "outputs": [
    {
     "name": "stdout",
     "output_type": "stream",
     "text": [
      "[654, 521, 78, 25, 14, 10, 8, 6, 2, 1]\n"
     ]
    },
    {
     "name": "stdin",
     "output_type": "stream",
     "text": [
      "Enter the position : 5\n"
     ]
    },
    {
     "name": "stdout",
     "output_type": "stream",
     "text": [
      "The highest value on 5 position in the list 14\n"
     ]
    }
   ],
   "source": [
    "# Find k highest value\n",
    "l1=[10,25,14,6,8,1,78,521,8,654,1,2,521] \n",
    "l1.sort(reverse=True)\n",
    "a=0\n",
    "while(a<len(l1)-1):\n",
    "    if(l1[a]==l1[a+1]):\n",
    "        l1.remove(l1[a+1])\n",
    "    else:\n",
    "        a+=1\n",
    "print(l1)\n",
    "k=int(input(\"Enter the position :\"))\n",
    "if(k>len(l1)):\n",
    "    print(\"Error : Out of Range , Enter the position of k in range of the list.\")\n",
    "else:\n",
    "    print(f\"The highest value on {k} position in the list\",l1[k-1])"
   ]
  },
  {
   "cell_type": "code",
   "execution_count": 9,
   "id": "9200b3ef-5c47-47cd-bb79-15a8fcde9abe",
   "metadata": {},
   "outputs": [
    {
     "name": "stdout",
     "output_type": "stream",
     "text": [
      "{0: 0, 2: 4, 4: 16, 6: 36, 8: 64}\n",
      "[0, 2, 4, 6, 8]\n",
      "{0, 2, 4, 6, 8}\n"
     ]
    }
   ],
   "source": [
    "# Dict comprehension\n",
    "dict1 = {x:x**2 for x in range(10) if x%2==0}\n",
    "print(dict1)\n",
    "\n",
    "# list comprehension\n",
    "list1=[x for x in range(10) if x%2==0]\n",
    "print(list1)\n",
    "\n",
    "# set comprehension\n",
    "set1={x for x in range(10) if x%2==0}\n",
    "print(set1)"
   ]
  },
  {
   "cell_type": "markdown",
   "id": "efe506a3-3df4-4086-b8a3-bd7f63b2298d",
   "metadata": {},
   "source": [
    "# Day 4"
   ]
  },
  {
   "cell_type": "code",
   "execution_count": 2,
   "id": "2769a04b-c518-4d90-a8bb-2f0d738d3389",
   "metadata": {},
   "outputs": [
    {
     "name": "stdin",
     "output_type": "stream",
     "text": [
      "Enter the num to convert into roman : 7854\n"
     ]
    },
    {
     "name": "stdout",
     "output_type": "stream",
     "text": [
      "MMMMMMMDCCCLIV\n"
     ]
    }
   ],
   "source": [
    "# convert the integer num to roman num using dict\n",
    "num1=int(input(\"Enter the num to convert into roman :\"))\n",
    "dict1={1000:\"M\",900:\"CM\",500:\"D\",400:\"CD\",100:\"C\",90:\"XC\",50:\"L\",40:\"XL\",10:\"X\",9:\"IX\",5:\"V\",4:\"IV\",1:\"I\"}\n",
    "roman_num=\"\"\n",
    "for i in dict1:\n",
    "  while(num1>=i):\n",
    "    roman_num+=dict1[i]\n",
    "    num1-=i\n",
    "print(roman_num)"
   ]
  },
  {
   "cell_type": "markdown",
   "id": "31dea948-f5b0-4562-aff8-f588a4a513ab",
   "metadata": {},
   "source": [
    "# Set"
   ]
  },
  {
   "cell_type": "markdown",
   "id": "19402db8-43da-4a86-adba-b63762cea2ab",
   "metadata": {},
   "source": [
    "datatype    unique    {}   myset=set({})"
   ]
  },
  {
   "cell_type": "code",
   "execution_count": 3,
   "id": "5469c540-22cb-4efb-bcf8-3d0603d75b24",
   "metadata": {},
   "outputs": [
    {
     "name": "stdout",
     "output_type": "stream",
     "text": [
      "{10, 20, 34, 30}\n"
     ]
    }
   ],
   "source": [
    "myset={10,20,30,34,10}\n",
    "print(myset)"
   ]
  },
  {
   "cell_type": "code",
   "execution_count": 5,
   "id": "5c2ee6bd-0c1f-41ea-bfd1-080e7ef0ce44",
   "metadata": {},
   "outputs": [
    {
     "name": "stdout",
     "output_type": "stream",
     "text": [
      "{34, 10, 50, 20, 30}\n"
     ]
    }
   ],
   "source": [
    "myset.add(50)\n",
    "print(myset)"
   ]
  },
  {
   "cell_type": "code",
   "execution_count": 6,
   "id": "64e7f34e-e99e-42b9-950d-7e4cc18aa8eb",
   "metadata": {},
   "outputs": [
    {
     "name": "stdout",
     "output_type": "stream",
     "text": [
      "{34, 100, 200, 10, 50, 20, 30}\n"
     ]
    }
   ],
   "source": [
    "# for adding more then one element\n",
    "myset.update({100,200})\n",
    "print(myset)"
   ]
  },
  {
   "cell_type": "code",
   "execution_count": 7,
   "id": "f6892af7-440d-48cc-b321-9dc91577aaff",
   "metadata": {},
   "outputs": [
    {
     "data": {
      "text/plain": [
       "34"
      ]
     },
     "execution_count": 7,
     "metadata": {},
     "output_type": "execute_result"
    }
   ],
   "source": [
    "myset.pop() #delete the random element"
   ]
  },
  {
   "cell_type": "code",
   "execution_count": 8,
   "id": "b1f00ec9-357b-4485-ae64-db474bd64f79",
   "metadata": {},
   "outputs": [],
   "source": [
    "#  diff between list and tuple\n",
    "# list vs dict"
   ]
  },
  {
   "cell_type": "code",
   "execution_count": 14,
   "id": "0ceaa2cd-0c24-4668-b003-24a6044f4866",
   "metadata": {},
   "outputs": [
    {
     "name": "stdout",
     "output_type": "stream",
     "text": [
      "140730001653392 140730002454936\n"
     ]
    },
    {
     "data": {
      "text/plain": [
       "True"
      ]
     },
     "execution_count": 14,
     "metadata": {},
     "output_type": "execute_result"
    }
   ],
   "source": [
    "# identity operator reference to memory address\n",
    "# python store 0-256 num in cache memory\n",
    "x=256\n",
    "a=256\n",
    "a=x is a\n",
    "print(id(a),id(x))\n",
    "a"
   ]
  },
  {
   "cell_type": "code",
   "execution_count": 12,
   "id": "eb807cef-4955-4d6b-8725-f04f3a5169c8",
   "metadata": {},
   "outputs": [
    {
     "name": "stdout",
     "output_type": "stream",
     "text": [
      "140730001653424 2981343799248\n"
     ]
    },
    {
     "data": {
      "text/plain": [
       "False"
      ]
     },
     "execution_count": 12,
     "metadata": {},
     "output_type": "execute_result"
    }
   ],
   "source": [
    "x=257\n",
    "a=257\n",
    "a=x is a\n",
    "print(id(a),id(x))\n",
    "a"
   ]
  },
  {
   "cell_type": "code",
   "execution_count": 15,
   "id": "a0c50eb9-a5ba-456d-8452-e7098a02814b",
   "metadata": {},
   "outputs": [
    {
     "name": "stdout",
     "output_type": "stream",
     "text": [
      "140730001653392 2981343799024\n"
     ]
    },
    {
     "data": {
      "text/plain": [
       "True"
      ]
     },
     "execution_count": 15,
     "metadata": {},
     "output_type": "execute_result"
    }
   ],
   "source": [
    "# Call  by object reference\n",
    "x=257\n",
    "a=x\n",
    "a=x is a\n",
    "print(id(a),id(x))\n",
    "a"
   ]
  },
  {
   "cell_type": "markdown",
   "id": "3c7da79b-506f-4e47-a054-6caf5a906169",
   "metadata": {},
   "source": [
    "# Functions"
   ]
  },
  {
   "cell_type": "code",
   "execution_count": 19,
   "id": "2da11e84-0832-43ba-bcb7-5d4b25db23f7",
   "metadata": {},
   "outputs": [],
   "source": [
    "# collection of statement or block of code \n",
    "# write a logic and use it multiple times\n",
    "# code reusability\n",
    "\n",
    "# def func():\n",
    "#    logic"
   ]
  },
  {
   "cell_type": "code",
   "execution_count": 24,
   "id": "215ae574-3004-43e1-8083-f26905bfc33f",
   "metadata": {},
   "outputs": [
    {
     "name": "stdout",
     "output_type": "stream",
     "text": [
      "hey anmol 10 20\n",
      "20\n"
     ]
    }
   ],
   "source": [
    "y=20 #global var\n",
    "def func():\n",
    "    x1=10 #local var\n",
    "    print(\"hey anmol\",x1,y)\n",
    "func()\n",
    "print(y)"
   ]
  },
  {
   "cell_type": "code",
   "execution_count": 25,
   "id": "16e31db3-98ad-4218-980d-80ac5a4f5205",
   "metadata": {},
   "outputs": [],
   "source": [
    "# life scope of a var : esi jgh jha jha hm us var ko use kr skte h"
   ]
  },
  {
   "cell_type": "code",
   "execution_count": 32,
   "id": "92ef4758-664c-4c27-80f5-f83d165c809a",
   "metadata": {},
   "outputs": [],
   "source": [
    "# global var : we have changed the var globally outside the func then we see this changes for all time\n",
    "# global var ka local m koi change kia to vo change local hi hoga global nhi"
   ]
  },
  {
   "cell_type": "code",
   "execution_count": 30,
   "id": "a9194f4c-6421-43b3-8eec-859fee6f6c16",
   "metadata": {},
   "outputs": [
    {
     "name": "stdout",
     "output_type": "stream",
     "text": [
      "hey anmol 10 500\n",
      "500\n"
     ]
    }
   ],
   "source": [
    "y=20 \n",
    "def func():\n",
    "    global y\n",
    "    x1=10 \n",
    "    y=500\n",
    "    print(\"hey anmol\",x1,y)\n",
    "func()\n",
    "print(y)"
   ]
  },
  {
   "cell_type": "code",
   "execution_count": 31,
   "id": "222dca44-e849-45a5-a6a9-8e1e1270bc7d",
   "metadata": {},
   "outputs": [
    {
     "name": "stdout",
     "output_type": "stream",
     "text": [
      "hey anmol 10 500\n",
      "20\n"
     ]
    }
   ],
   "source": [
    "y=20 \n",
    "def func():\n",
    "    x1=10 \n",
    "    y=500\n",
    "    print(\"hey anmol\",x1,y)\n",
    "func()\n",
    "print(y)"
   ]
  },
  {
   "cell_type": "code",
   "execution_count": 36,
   "id": "7069142c-c8e2-4d9b-b7e7-030f6477d7a5",
   "metadata": {},
   "outputs": [
    {
     "name": "stdout",
     "output_type": "stream",
     "text": [
      "hey anmol 20\n",
      "hey anmol hemani\n"
     ]
    }
   ],
   "source": [
    "def func(z):\n",
    "    print(\"hey anmol\",z)\n",
    "func(20)\n",
    "func(\"hemani\")"
   ]
  },
  {
   "cell_type": "code",
   "execution_count": 37,
   "id": "e1f67e55-c58c-4405-bc52-7ed0efa73daa",
   "metadata": {},
   "outputs": [
    {
     "name": "stdout",
     "output_type": "stream",
     "text": [
      "hey anmol 20\n",
      "hey anmol hemani\n"
     ]
    }
   ],
   "source": [
    "# we write z:int for understanding that give int value to z but it can be any type of data\n",
    "def func(z:int):\n",
    "    print(\"hey anmol\",z)\n",
    "func(20)\n",
    "func(\"hemani\")"
   ]
  },
  {
   "cell_type": "code",
   "execution_count": 42,
   "id": "1dda7291-9709-4823-b193-e1ac311cbed4",
   "metadata": {},
   "outputs": [
    {
     "name": "stdout",
     "output_type": "stream",
     "text": [
      "hey anmol 20 hemani\n",
      "hey anmol hemani 20\n"
     ]
    }
   ],
   "source": [
    "def func(z:int,k:str): #parameter\n",
    "    print(\"hey anmol\",z,k)\n",
    "func(20,\"hemani\") #argument\n",
    "func(\"hemani\",20)"
   ]
  },
  {
   "cell_type": "code",
   "execution_count": 43,
   "id": "2b0d649c-b902-4229-b84f-7a282090d346",
   "metadata": {},
   "outputs": [],
   "source": [
    "# learning assignment\n",
    "# keyword argument and default argument\n",
    "# var len argument and keyword len argument (args and kwargs)\n",
    "# high order func and first class func"
   ]
  },
  {
   "cell_type": "code",
   "execution_count": null,
   "id": "815122ce-19a1-4fc1-b642-611b09bc4da3",
   "metadata": {},
   "outputs": [],
   "source": []
  }
 ],
 "metadata": {
  "kernelspec": {
   "display_name": "Python 3 (ipykernel)",
   "language": "python",
   "name": "python3"
  },
  "language_info": {
   "codemirror_mode": {
    "name": "ipython",
    "version": 3
   },
   "file_extension": ".py",
   "mimetype": "text/x-python",
   "name": "python",
   "nbconvert_exporter": "python",
   "pygments_lexer": "ipython3",
   "version": "3.12.3"
  }
 },
 "nbformat": 4,
 "nbformat_minor": 5
}
