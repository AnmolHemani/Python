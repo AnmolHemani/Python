{
 "cells": [
  {
   "cell_type": "markdown",
   "id": "1a4a236b-9f92-4fb9-85c5-47c2d0baea4c",
   "metadata": {},
   "source": [
    "# Pattern"
   ]
  },
  {
   "cell_type": "code",
   "execution_count": 8,
   "id": "9fae823e-2da7-4ad2-855b-ea48844fad19",
   "metadata": {},
   "outputs": [
    {
     "name": "stdout",
     "output_type": "stream",
     "text": [
      "* * * * \n",
      "* * * * \n",
      "* * * * \n",
      "* * * * \n"
     ]
    }
   ],
   "source": [
    "for i in range(0,4):\n",
    "    for j in range(0,4):\n",
    "        print(\"*\",end=\" \")\n",
    "    print(\"\")"
   ]
  },
  {
   "cell_type": "code",
   "execution_count": 2,
   "id": "85c851a6-b210-4db2-8d24-fd0fedf88d94",
   "metadata": {},
   "outputs": [
    {
     "name": "stdout",
     "output_type": "stream",
     "text": [
      "* \n",
      "* * \n",
      "* * * \n",
      "* * * * \n"
     ]
    }
   ],
   "source": [
    "for i in range(0,4):\n",
    "    for j in range(0,i+1):\n",
    "        print(\"*\",end=\" \")\n",
    "    print(\"\")"
   ]
  },
  {
   "cell_type": "code",
   "execution_count": 4,
   "id": "d88cb00a-b1d6-4e26-acc2-f8e446a4ac86",
   "metadata": {},
   "outputs": [
    {
     "name": "stdout",
     "output_type": "stream",
     "text": [
      "0 \n",
      "0 1 \n",
      "0 1 2 \n",
      "0 1 2 3 \n"
     ]
    }
   ],
   "source": [
    "for i in range(0,4):\n",
    "    for j in range(0,i+1):\n",
    "        print(j,end=\" \")\n",
    "    print(\"\")"
   ]
  },
  {
   "cell_type": "code",
   "execution_count": 7,
   "id": "169927ab-b730-4260-afd2-7a0e50e78f4c",
   "metadata": {},
   "outputs": [
    {
     "name": "stdout",
     "output_type": "stream",
     "text": [
      "2 \n",
      "2 3 \n",
      "2 3 4 \n",
      "2 3 4 5 \n"
     ]
    }
   ],
   "source": [
    "for i in range(0,4):\n",
    "    for j in range(0,i+1):\n",
    "        print(j+2,end=\" \")\n",
    "    print(\"\")"
   ]
  },
  {
   "cell_type": "code",
   "execution_count": 10,
   "id": "349b8e60-d15a-4fb4-997f-312327edf63d",
   "metadata": {},
   "outputs": [
    {
     "name": "stdout",
     "output_type": "stream",
     "text": [
      "65 \n",
      "66 67 \n",
      "68 69 70 \n"
     ]
    }
   ],
   "source": [
    "num=65\n",
    "for i in range(0,3):\n",
    "    for j in range(0,i+1):\n",
    "        print(num,end=\" \")\n",
    "        num+=1\n",
    "    print(\"\")"
   ]
  },
  {
   "cell_type": "code",
   "execution_count": 11,
   "id": "f26d500f-17ce-42f4-8573-fc89f17a6ef9",
   "metadata": {},
   "outputs": [
    {
     "name": "stdout",
     "output_type": "stream",
     "text": [
      "A \n",
      "B C \n",
      "D E F \n"
     ]
    }
   ],
   "source": [
    "num=65\n",
    "for i in range(0,3):\n",
    "    for j in range(0,i+1):\n",
    "        print(chr(num),end=\" \")\n",
    "        num+=1\n",
    "    print(\"\")"
   ]
  },
  {
   "cell_type": "code",
   "execution_count": 14,
   "id": "0fbf4dbe-2d80-42d8-90b3-baf18f523fc9",
   "metadata": {},
   "outputs": [
    {
     "name": "stdout",
     "output_type": "stream",
     "text": [
      "* * * * \n",
      "* * * \n",
      "* * \n",
      "* \n"
     ]
    }
   ],
   "source": [
    "for i in range(0,4):\n",
    "    for j in range(i,4):\n",
    "        print(\"*\",end=\" \")\n",
    "    print(\"\")"
   ]
  },
  {
   "cell_type": "code",
   "execution_count": 17,
   "id": "e4da9a15-8103-4697-8777-94ad70a7f924",
   "metadata": {},
   "outputs": [
    {
     "name": "stdout",
     "output_type": "stream",
     "text": [
      "0 1 2 3 \n",
      "0 1 2 \n",
      "0 1 \n",
      "0 \n"
     ]
    }
   ],
   "source": [
    "for i in range(0,4):\n",
    "    num=0\n",
    "    for j in range(i,4):\n",
    "        print(num,end=\" \")\n",
    "        num+=1\n",
    "    print(\"\")"
   ]
  },
  {
   "cell_type": "code",
   "execution_count": 19,
   "id": "ad1c0f7f-6235-4527-be41-ef829a819fe9",
   "metadata": {},
   "outputs": [
    {
     "name": "stdout",
     "output_type": "stream",
     "text": [
      "10 11 12 13 14 \n",
      "15 16 17 18 \n",
      "19 20 21 \n",
      "22 23 \n",
      "24 \n"
     ]
    }
   ],
   "source": [
    "num=10\n",
    "for i in range(0,5):\n",
    "    for j in range(i,5):\n",
    "        print(num,end=\" \")\n",
    "        num+=1\n",
    "    print(\"\")"
   ]
  },
  {
   "cell_type": "code",
   "execution_count": 21,
   "id": "aff5df3c-1b23-4881-8ff6-7a5a452c5932",
   "metadata": {},
   "outputs": [
    {
     "name": "stdout",
     "output_type": "stream",
     "text": [
      "1 2 3 4 \n",
      "2 3 4 \n",
      "3 4 \n",
      "4 \n"
     ]
    }
   ],
   "source": [
    "for i in range(1,5):\n",
    "    for j in range(i,5):\n",
    "        print(j,end=\" \")\n",
    "    print(\"\")"
   ]
  },
  {
   "cell_type": "code",
   "execution_count": 24,
   "id": "e2730753-9837-4bac-b8db-386b212005a4",
   "metadata": {},
   "outputs": [
    {
     "name": "stdout",
     "output_type": "stream",
     "text": [
      "1 2 3 4 \n",
      "2 3 4 \n",
      "3 4 \n",
      "4 \n"
     ]
    }
   ],
   "source": [
    "for i in range(0,4):\n",
    "    for j in range(i,4):\n",
    "        print(j+1,end=\" \")\n",
    "    print(\"\")"
   ]
  },
  {
   "cell_type": "code",
   "execution_count": 1,
   "id": "e545a0b8-2d71-41cc-a129-dd357793e9a1",
   "metadata": {},
   "outputs": [
    {
     "name": "stdout",
     "output_type": "stream",
     "text": [
      "1 0 1 0 1 \n",
      "1 0 1 0 \n",
      "1 0 1 \n",
      "1 0 \n",
      "1 \n"
     ]
    }
   ],
   "source": [
    "for i in range(0,5):\n",
    "    for j in range(0,5-i):\n",
    "        print((j+1)%2,end=\" \")\n",
    "    print(\"\")\n",
    "\n",
    "# or \n",
    "\n",
    "# for i in range(0,5):\n",
    "#     for j in range(1,6-i):\n",
    "#         print(j%2,end=\" \")\n",
    "#     print(\"\")\n",
    "\n",
    "# or \n",
    "\n",
    "# for i in range(0,5):\n",
    "#     for j in range(0,5-i):\n",
    "#         if j%2==0:\n",
    "#             print(\"1\",end=\" \")\n",
    "#         else:\n",
    "#             print(\"0\",end=\" \")\n",
    "#     print(\"\")"
   ]
  },
  {
   "cell_type": "code",
   "execution_count": 39,
   "id": "ef17f568-2478-4b27-a70a-6886ddaa5fd0",
   "metadata": {},
   "outputs": [
    {
     "name": "stdout",
     "output_type": "stream",
     "text": [
      "1 0 1 0 1 \n",
      "2 0 2 0 \n",
      "3 0 3 \n",
      "4 0 \n",
      "5 \n"
     ]
    }
   ],
   "source": [
    "num=1\n",
    "for i in range(0,5):\n",
    "    for j in range(0,5-i):\n",
    "        if j%2==0:\n",
    "            print(num,end=\" \")\n",
    "        else:\n",
    "            print(\"0\",end=\" \")\n",
    "    num+=1\n",
    "    print(\"\")\n",
    "\n",
    "# or\n",
    "\n",
    "# for i in range(0,5):\n",
    "#     for j in range(0,5-i):\n",
    "#         if j%2==0:\n",
    "#             print(i+1,end=\" \")\n",
    "#         else:\n",
    "#             print(\"0\",end=\" \")\n",
    "#     print(\"\")"
   ]
  },
  {
   "cell_type": "code",
   "execution_count": 42,
   "id": "d80baa7b-af0c-4dbe-8111-5a08f2fa6313",
   "metadata": {},
   "outputs": [
    {
     "name": "stdout",
     "output_type": "stream",
     "text": [
      "      * \n",
      "    * * \n",
      "  * * * \n",
      "* * * * \n"
     ]
    }
   ],
   "source": [
    "for i in range(0,4):\n",
    "    for k in range(i,3):\n",
    "        print(\" \",end=\" \")\n",
    "    for j in range(0,i+1):\n",
    "        print(\"*\",end=\" \")\n",
    "    print(\"\")"
   ]
  },
  {
   "cell_type": "code",
   "execution_count": 47,
   "id": "9b49fb41-18e7-4b16-9636-85654b9a493a",
   "metadata": {},
   "outputs": [
    {
     "name": "stdout",
     "output_type": "stream",
     "text": [
      "* * * * * \n",
      "  * * * * \n",
      "    * * * \n",
      "      * * \n",
      "        * \n"
     ]
    }
   ],
   "source": [
    "for i in range(0,5):\n",
    "    for k in range(0,i):\n",
    "        print(\" \",end=\" \")\n",
    "    for j in range(i,5):\n",
    "        print(\"*\",end=\" \")\n",
    "    print(\"\")"
   ]
  },
  {
   "cell_type": "code",
   "execution_count": 50,
   "id": "e7350a69-bf6c-4320-9783-0516b2d30dd5",
   "metadata": {},
   "outputs": [
    {
     "name": "stdout",
     "output_type": "stream",
     "text": [
      "* * * * * \n",
      "  *     * \n",
      "    *   * \n",
      "      * * \n",
      "        * \n"
     ]
    }
   ],
   "source": [
    "for i in range(0,5):\n",
    "    for k in range(0,i):\n",
    "        print(\" \",end=\" \")\n",
    "    for j in range(i,5):\n",
    "        if(i==j or i==0 or j==4):\n",
    "            print(\"*\",end=\" \")\n",
    "        else:\n",
    "            print(\" \",end=\" \")   \n",
    "    print(\"\")"
   ]
  },
  {
   "cell_type": "code",
   "execution_count": 51,
   "id": "6db5fedf-92ac-494e-8d8d-b6149300f89a",
   "metadata": {},
   "outputs": [
    {
     "name": "stdout",
     "output_type": "stream",
     "text": [
      "* * * * * \n",
      "*     * \n",
      "*   * \n",
      "* * \n",
      "* \n"
     ]
    }
   ],
   "source": [
    "for i in range(0,5):\n",
    "    for j in range(i,5):\n",
    "        if(i==j or i==0 or j==4):\n",
    "            print(\"*\",end=\" \")\n",
    "        else:\n",
    "            print(\" \",end=\" \")   \n",
    "    print(\"\")"
   ]
  },
  {
   "cell_type": "code",
   "execution_count": 10,
   "id": "7bb5b07e-4f73-4e15-8393-9f91da16b2ce",
   "metadata": {},
   "outputs": [
    {
     "name": "stdout",
     "output_type": "stream",
     "text": [
      "1 2 3 4 5 \n",
      "6     9 \n",
      "10   12 \n",
      "13 14 \n",
      "15 \n"
     ]
    }
   ],
   "source": [
    "num=1\n",
    "for i in range(0,5):\n",
    "    for j in range(i,5):\n",
    "        if(i==j or i==0 or j==4):\n",
    "            print(num,end=\" \")\n",
    "        else:\n",
    "            print(\" \",end=\" \") \n",
    "        num+=1\n",
    "    print(\"\")"
   ]
  },
  {
   "cell_type": "markdown",
   "id": "53c9c8d7-561f-4b10-be42-a5838df10a4f",
   "metadata": {},
   "source": [
    "# Day 2"
   ]
  },
  {
   "cell_type": "code",
   "execution_count": 17,
   "id": "9b523a40-8df9-4071-8724-1413f5c904e0",
   "metadata": {},
   "outputs": [
    {
     "name": "stdout",
     "output_type": "stream",
     "text": [
      "    * \n",
      "  * * * \n",
      "* * * * * \n"
     ]
    }
   ],
   "source": [
    "for i in range(0,3):\n",
    "    for k in range(0,2-i):\n",
    "        print(\" \",end=\" \")\n",
    "    for j in range(0,2*i+1):\n",
    "        print(\"*\",end=\" \")\n",
    "    print(\"\")"
   ]
  },
  {
   "cell_type": "code",
   "execution_count": 29,
   "id": "5cbe4adf-a19d-4c37-a822-83161a23b599",
   "metadata": {},
   "outputs": [
    {
     "name": "stdout",
     "output_type": "stream",
     "text": [
      "* * * * * * * \n",
      "  * * * * * \n",
      "    * * * \n",
      "      * \n"
     ]
    }
   ],
   "source": [
    "for i in range(0,4):\n",
    "    for k in range(0,i):\n",
    "        print(\" \",end=\" \")\n",
    "    for j in range(0,2*4-2*i-1):\n",
    "        print(\"*\",end=\" \")\n",
    "    print(\"\")"
   ]
  },
  {
   "cell_type": "markdown",
   "id": "5b3040d8-54dd-4c3f-b10a-40930aa531fd",
   "metadata": {},
   "source": [
    "# List"
   ]
  },
  {
   "cell_type": "markdown",
   "id": "48995bf6-ca02-44e3-9325-ccb12796c235",
   "metadata": {},
   "source": [
    "-> Collection of elements of different multiple data types\n",
    "-> Mutuable \n",
    "-> index position"
   ]
  },
  {
   "cell_type": "code",
   "execution_count": 32,
   "id": "a0dc4488-594b-45c8-b134-af0604aa005f",
   "metadata": {},
   "outputs": [
    {
     "name": "stdout",
     "output_type": "stream",
     "text": [
      "Sorting =  [80, 10, 20, 60, 9]\n",
      "Sorting =  [80, 60, 10, 20, 9]\n",
      "Sorting =  [80, 60, 20, 10, 9]\n",
      "Sorting =  [80, 60, 20, 10, 9]\n",
      "Sorting =  [80, 60, 20, 10, 9]\n"
     ]
    }
   ],
   "source": [
    "list1=[10,20,60,80,9]\n",
    "for i in range(0,len(list1)):\n",
    "    for j in range(i+1,len(list1)):\n",
    "        if(list1[i]<list1[j]):\n",
    "            list1[i],list1[j]=list1[j],list1[i]\n",
    "    print(\"Sorting = \", list1)"
   ]
  },
  {
   "cell_type": "markdown",
   "id": "d197966a-f290-4b92-a10b-409566603577",
   "metadata": {},
   "source": [
    "Leetcode => Best Time to Buy and Sell Stock"
   ]
  },
  {
   "cell_type": "code",
   "execution_count": 36,
   "id": "d88f513c-1590-4862-8152-7a1477b4e92a",
   "metadata": {},
   "outputs": [
    {
     "name": "stdout",
     "output_type": "stream",
     "text": [
      "5\n"
     ]
    }
   ],
   "source": [
    "l1=[7,1,5,3,6,4]\n",
    "max1=0\n",
    "for i in range(0,len(l1)):\n",
    "    for j in range(i+1,len(l1)):\n",
    "        if(max1<l1[j]-l1[i]):\n",
    "            max1=l1[j]-l1[i]\n",
    "print(max1)"
   ]
  },
  {
   "cell_type": "code",
   "execution_count": 37,
   "id": "7c9fd64e-5c4b-42ad-80fb-015916ec89f8",
   "metadata": {},
   "outputs": [],
   "source": [
    "# Assignment\n",
    "# We have a list and sort it with one loop\n",
    "# Best time to buy and sell stock with one loop\n",
    "# Leetcode two sum problem\n",
    "# Leetcode plus 1\n",
    "# You have been given two list and having same num of elements and have to merge both the list by removing the duplicate elements but with a single loop"
   ]
  },
  {
   "cell_type": "code",
   "execution_count": 1,
   "id": "c6b5029b-6776-40af-b040-853e15a2097e",
   "metadata": {},
   "outputs": [
    {
     "name": "stdout",
     "output_type": "stream",
     "text": [
      "[80, 60, 20, 10, 9]\n"
     ]
    }
   ],
   "source": [
    "# We have a list and sort it with one loop\n",
    "l1=[10,20,60,80,9]\n",
    "a=0\n",
    "while(a<len(l1)-1):\n",
    "    if(l1[a]<l1[a+1]):\n",
    "        l1[a],l1[a+1]=l1[a+1],l1[a]\n",
    "        a=0\n",
    "    else:\n",
    "        a+=1\n",
    "print(l1)"
   ]
  },
  {
   "cell_type": "code",
   "execution_count": 4,
   "id": "8c93a874-8d2b-435a-838d-80b008b4701a",
   "metadata": {},
   "outputs": [
    {
     "name": "stdout",
     "output_type": "stream",
     "text": [
      "5\n"
     ]
    }
   ],
   "source": [
    "# Best time to buy and sell stock with one loop\n",
    "l1=[7,1,5,3,6,4]\n",
    "a=0\n",
    "b=1\n",
    "max1=0\n",
    "while(b<len(l1)):\n",
    "    if(l1[a]<l1[b]):\n",
    "        profit=l1[b]-l1[a]\n",
    "        if(profit>max1):\n",
    "            max1=profit\n",
    "    else:\n",
    "        a=b\n",
    "    b+=1\n",
    "print(max1)"
   ]
  },
  {
   "cell_type": "code",
   "execution_count": 8,
   "id": "4a2da7f9-9f36-4c63-b4c7-041b0aa8ac66",
   "metadata": {},
   "outputs": [
    {
     "name": "stdout",
     "output_type": "stream",
     "text": [
      "Index position :  0 1\n",
      "Elements : 2 7\n"
     ]
    }
   ],
   "source": [
    "# two sum problem\n",
    "nums = [2,7,11,15]\n",
    "target = 9\n",
    "for i in range(0,len(nums)):\n",
    "    for j in range(i+1,len(nums)):\n",
    "        if(nums[i]+nums[j]==target):\n",
    "            print(\"Index position : \",i,j)\n",
    "            print(\"Elements :\",nums[i],nums[j])"
   ]
  },
  {
   "cell_type": "code",
   "execution_count": 9,
   "id": "03f93d18-cfb6-48c5-8513-698b4abdd126",
   "metadata": {},
   "outputs": [
    {
     "name": "stdout",
     "output_type": "stream",
     "text": [
      "[1, 2, 3, 4, 5, 6, 7, 8]\n"
     ]
    }
   ],
   "source": [
    "# You have been given two list and having same num of elements and have to merge both the list by removing the duplicate elements but with a single loop\n",
    "l1 = [1, 2, 3, 4, 5]\n",
    "l2 = [4, 5, 6, 7, 8]\n",
    "res=[]\n",
    "for i in l1+l2:\n",
    "    if i not in res:\n",
    "        res.append(i)\n",
    "print(res)"
   ]
  },
  {
   "cell_type": "code",
   "execution_count": 23,
   "id": "6145a7b0-1763-493e-af2d-ba7318c9afec",
   "metadata": {},
   "outputs": [
    {
     "name": "stdout",
     "output_type": "stream",
     "text": [
      "[1, 2, 4]\n"
     ]
    }
   ],
   "source": [
    "# Leetcode plus 1\n",
    "digits = [1,2,3]\n",
    "str1=\"\"\n",
    "res=[]\n",
    "for i in digits:\n",
    "    str1+=str(i)\n",
    "s1=int(str1)+1\n",
    "for i in str(s1):\n",
    "    res.append(int(i))\n",
    "print(res)"
   ]
  },
  {
   "cell_type": "markdown",
   "id": "c3bf676f-d872-4935-afd9-dde8ec7c35f3",
   "metadata": {},
   "source": [
    "# Day 3"
   ]
  },
  {
   "cell_type": "code",
   "execution_count": 27,
   "id": "38532f22-07ef-40ea-a020-aa962b8b7c9e",
   "metadata": {},
   "outputs": [
    {
     "name": "stdout",
     "output_type": "stream",
     "text": [
      "[[-1, -1, 2], [-1, 0, 1]]\n"
     ]
    }
   ],
   "source": [
    "# 3 sum\n",
    "nums = [-1,0,1,2,-1,-4]\n",
    "list1=[]\n",
    "nums.sort()\n",
    "for i in range(0,len(nums)):\n",
    "    for j in range(i+1,len(nums)):\n",
    "        for k in range(j+1,len(nums)):\n",
    "            if (i != j and i != k and j != k and nums[i] + nums[j] + nums[k] == 0) :\n",
    "                if [nums[i] , nums[j] , nums[k]] in list1:\n",
    "                    continue\n",
    "                else:\n",
    "                    list1.append([nums[i] , nums[j] , nums[k]])\n",
    "print(list1)"
   ]
  },
  {
   "cell_type": "code",
   "execution_count": 1,
   "id": "a4127579-a20c-4362-969b-26b2e7348744",
   "metadata": {},
   "outputs": [
    {
     "name": "stdout",
     "output_type": "stream",
     "text": [
      "[[-1, -1, 2], [-1, 0, 1], [-1, 0, 1]]\n"
     ]
    }
   ],
   "source": [
    "# 3 sum\n",
    "nums = [-1,0,1,2,-1,-4]\n",
    "list1=[]\n",
    "nums.sort()\n",
    "for i in range(0,len(nums)-2):\n",
    "    start=i+1\n",
    "    end=len(nums)-1\n",
    "    while(start<end):\n",
    "        if (i != start and i != end and start != end and nums[i] + nums[start] + nums[end] == 0):\n",
    "            list1.append([nums[i] , nums[start] , nums[end]])\n",
    "            start+=1\n",
    "            end-=1\n",
    "        elif(nums[i] + nums[start] + nums[end] > 0):\n",
    "            end-=1\n",
    "        else:\n",
    "            start+=1\n",
    "print(list1)"
   ]
  },
  {
   "cell_type": "markdown",
   "id": "2c54f705-a4d1-4a33-9c52-8c51dc730124",
   "metadata": {},
   "source": [
    "# Dict"
   ]
  },
  {
   "cell_type": "markdown",
   "id": "85d8dbb8-6987-47cc-b57f-30137319d572",
   "metadata": {},
   "source": [
    "Key value pair  ,  value can be duplicate or unique ,  keys are immutable datatype  ,  dict is ordered"
   ]
  },
  {
   "cell_type": "code",
   "execution_count": 9,
   "id": "cbae88df-0bbb-4965-a733-5f2571296b66",
   "metadata": {},
   "outputs": [],
   "source": [
    "# [10,25,14,6,8,1,78,521,8,654,1,2,521] find k highest\n",
    "# dict , list comprehension , set comprehension"
   ]
  },
  {
   "cell_type": "code",
   "execution_count": 3,
   "id": "a596ceb6-b138-421c-932e-3670db1767bb",
   "metadata": {},
   "outputs": [
    {
     "name": "stdout",
     "output_type": "stream",
     "text": [
      "[654, 521, 78, 25, 14, 10, 8, 6, 2, 1]\n"
     ]
    },
    {
     "name": "stdin",
     "output_type": "stream",
     "text": [
      "Enter the position : 5\n"
     ]
    },
    {
     "name": "stdout",
     "output_type": "stream",
     "text": [
      "The highest value on 5 position in the list 14\n"
     ]
    }
   ],
   "source": [
    "# Find k highest value\n",
    "l1=[10,25,14,6,8,1,78,521,8,654,1,2,521] \n",
    "l1.sort(reverse=True)\n",
    "a=0\n",
    "while(a<len(l1)-1):\n",
    "    if(l1[a]==l1[a+1]):\n",
    "        l1.remove(l1[a+1])\n",
    "    else:\n",
    "        a+=1\n",
    "print(l1)\n",
    "k=int(input(\"Enter the position :\"))\n",
    "if(k>len(l1)):\n",
    "    print(\"Error : Out of Range , Enter the position of k in range of the list.\")\n",
    "else:\n",
    "    print(f\"The highest value on {k} position in the list\",l1[k-1])"
   ]
  },
  {
   "cell_type": "code",
   "execution_count": 9,
   "id": "9200b3ef-5c47-47cd-bb79-15a8fcde9abe",
   "metadata": {},
   "outputs": [
    {
     "name": "stdout",
     "output_type": "stream",
     "text": [
      "{0: 0, 2: 4, 4: 16, 6: 36, 8: 64}\n",
      "[0, 2, 4, 6, 8]\n",
      "{0, 2, 4, 6, 8}\n"
     ]
    }
   ],
   "source": [
    "# Dict comprehension\n",
    "dict1 = {x:x**2 for x in range(10) if x%2==0}\n",
    "print(dict1)\n",
    "\n",
    "# list comprehension\n",
    "list1=[x for x in range(10) if x%2==0]\n",
    "print(list1)\n",
    "\n",
    "# set comprehension\n",
    "set1={x for x in range(10) if x%2==0}\n",
    "print(set1)"
   ]
  },
  {
   "cell_type": "markdown",
   "id": "efe506a3-3df4-4086-b8a3-bd7f63b2298d",
   "metadata": {},
   "source": [
    "# Day 4"
   ]
  },
  {
   "cell_type": "code",
   "execution_count": 2,
   "id": "2769a04b-c518-4d90-a8bb-2f0d738d3389",
   "metadata": {},
   "outputs": [
    {
     "name": "stdin",
     "output_type": "stream",
     "text": [
      "Enter the num to convert into roman : 7854\n"
     ]
    },
    {
     "name": "stdout",
     "output_type": "stream",
     "text": [
      "MMMMMMMDCCCLIV\n"
     ]
    }
   ],
   "source": [
    "# convert the integer num to roman num using dict\n",
    "num1=int(input(\"Enter the num to convert into roman :\"))\n",
    "dict1={1000:\"M\",900:\"CM\",500:\"D\",400:\"CD\",100:\"C\",90:\"XC\",50:\"L\",40:\"XL\",10:\"X\",9:\"IX\",5:\"V\",4:\"IV\",1:\"I\"}\n",
    "roman_num=\"\"\n",
    "for i in dict1:\n",
    "  while(num1>=i):\n",
    "    roman_num+=dict1[i]\n",
    "    num1-=i\n",
    "print(roman_num)"
   ]
  },
  {
   "cell_type": "markdown",
   "id": "31dea948-f5b0-4562-aff8-f588a4a513ab",
   "metadata": {},
   "source": [
    "# Set"
   ]
  },
  {
   "cell_type": "markdown",
   "id": "19402db8-43da-4a86-adba-b63762cea2ab",
   "metadata": {},
   "source": [
    "datatype    unique    {}   myset=set({})"
   ]
  },
  {
   "cell_type": "code",
   "execution_count": 3,
   "id": "5469c540-22cb-4efb-bcf8-3d0603d75b24",
   "metadata": {},
   "outputs": [
    {
     "name": "stdout",
     "output_type": "stream",
     "text": [
      "{10, 20, 34, 30}\n"
     ]
    }
   ],
   "source": [
    "myset={10,20,30,34,10}\n",
    "print(myset)"
   ]
  },
  {
   "cell_type": "code",
   "execution_count": 5,
   "id": "5c2ee6bd-0c1f-41ea-bfd1-080e7ef0ce44",
   "metadata": {},
   "outputs": [
    {
     "name": "stdout",
     "output_type": "stream",
     "text": [
      "{34, 10, 50, 20, 30}\n"
     ]
    }
   ],
   "source": [
    "myset.add(50)\n",
    "print(myset)"
   ]
  },
  {
   "cell_type": "code",
   "execution_count": 6,
   "id": "64e7f34e-e99e-42b9-950d-7e4cc18aa8eb",
   "metadata": {},
   "outputs": [
    {
     "name": "stdout",
     "output_type": "stream",
     "text": [
      "{34, 100, 200, 10, 50, 20, 30}\n"
     ]
    }
   ],
   "source": [
    "# for adding more then one element\n",
    "myset.update({100,200})\n",
    "print(myset)"
   ]
  },
  {
   "cell_type": "code",
   "execution_count": 7,
   "id": "f6892af7-440d-48cc-b321-9dc91577aaff",
   "metadata": {},
   "outputs": [
    {
     "data": {
      "text/plain": [
       "34"
      ]
     },
     "execution_count": 7,
     "metadata": {},
     "output_type": "execute_result"
    }
   ],
   "source": [
    "myset.pop() #delete the random element"
   ]
  },
  {
   "cell_type": "code",
   "execution_count": 8,
   "id": "b1f00ec9-357b-4485-ae64-db474bd64f79",
   "metadata": {},
   "outputs": [],
   "source": [
    "#  diff between list and tuple\n",
    "# list vs dict"
   ]
  },
  {
   "cell_type": "code",
   "execution_count": 14,
   "id": "0ceaa2cd-0c24-4668-b003-24a6044f4866",
   "metadata": {},
   "outputs": [
    {
     "name": "stdout",
     "output_type": "stream",
     "text": [
      "140730001653392 140730002454936\n"
     ]
    },
    {
     "data": {
      "text/plain": [
       "True"
      ]
     },
     "execution_count": 14,
     "metadata": {},
     "output_type": "execute_result"
    }
   ],
   "source": [
    "# identity operator reference to memory address\n",
    "# python store 0-256 num in cache memory\n",
    "x=256\n",
    "a=256\n",
    "a=x is a\n",
    "print(id(a),id(x))\n",
    "a"
   ]
  },
  {
   "cell_type": "code",
   "execution_count": 12,
   "id": "eb807cef-4955-4d6b-8725-f04f3a5169c8",
   "metadata": {},
   "outputs": [
    {
     "name": "stdout",
     "output_type": "stream",
     "text": [
      "140730001653424 2981343799248\n"
     ]
    },
    {
     "data": {
      "text/plain": [
       "False"
      ]
     },
     "execution_count": 12,
     "metadata": {},
     "output_type": "execute_result"
    }
   ],
   "source": [
    "x=257\n",
    "a=257\n",
    "a=x is a\n",
    "print(id(a),id(x))\n",
    "a"
   ]
  },
  {
   "cell_type": "code",
   "execution_count": 15,
   "id": "a0c50eb9-a5ba-456d-8452-e7098a02814b",
   "metadata": {},
   "outputs": [
    {
     "name": "stdout",
     "output_type": "stream",
     "text": [
      "140730001653392 2981343799024\n"
     ]
    },
    {
     "data": {
      "text/plain": [
       "True"
      ]
     },
     "execution_count": 15,
     "metadata": {},
     "output_type": "execute_result"
    }
   ],
   "source": [
    "# Call  by object reference\n",
    "x=257\n",
    "a=x\n",
    "a=x is a\n",
    "print(id(a),id(x))\n",
    "a"
   ]
  },
  {
   "cell_type": "markdown",
   "id": "3c7da79b-506f-4e47-a054-6caf5a906169",
   "metadata": {},
   "source": [
    "# Functions"
   ]
  },
  {
   "cell_type": "code",
   "execution_count": 76,
   "id": "2da11e84-0832-43ba-bcb7-5d4b25db23f7",
   "metadata": {},
   "outputs": [],
   "source": [
    "# collection of statement or block of code \n",
    "# write a logic and use it multiple times\n",
    "# code reusability\n",
    "# debugginf the code\n",
    "#  code readability\n",
    "\n",
    "# def func():\n",
    "#    logic"
   ]
  },
  {
   "cell_type": "code",
   "execution_count": 24,
   "id": "215ae574-3004-43e1-8083-f26905bfc33f",
   "metadata": {},
   "outputs": [
    {
     "name": "stdout",
     "output_type": "stream",
     "text": [
      "hey anmol 10 20\n",
      "20\n"
     ]
    }
   ],
   "source": [
    "y=20 #global var\n",
    "def func():\n",
    "    x1=10 #local var\n",
    "    print(\"hey anmol\",x1,y)\n",
    "func()\n",
    "print(y)"
   ]
  },
  {
   "cell_type": "code",
   "execution_count": 25,
   "id": "16e31db3-98ad-4218-980d-80ac5a4f5205",
   "metadata": {},
   "outputs": [],
   "source": [
    "# life scope of a var : esi jgh jha jha hm us var ko use kr skte h"
   ]
  },
  {
   "cell_type": "code",
   "execution_count": 32,
   "id": "92ef4758-664c-4c27-80f5-f83d165c809a",
   "metadata": {},
   "outputs": [],
   "source": [
    "# global var : we have changed the var globally outside the func then we see this changes for all time\n",
    "# global var ka local m koi change kia to vo change local hi hoga global nhi"
   ]
  },
  {
   "cell_type": "code",
   "execution_count": 30,
   "id": "a9194f4c-6421-43b3-8eec-859fee6f6c16",
   "metadata": {},
   "outputs": [
    {
     "name": "stdout",
     "output_type": "stream",
     "text": [
      "hey anmol 10 500\n",
      "500\n"
     ]
    }
   ],
   "source": [
    "y=20 \n",
    "def func():\n",
    "    global y\n",
    "    x1=10 \n",
    "    y=500\n",
    "    print(\"hey anmol\",x1,y)\n",
    "func()\n",
    "print(y)"
   ]
  },
  {
   "cell_type": "code",
   "execution_count": 31,
   "id": "222dca44-e849-45a5-a6a9-8e1e1270bc7d",
   "metadata": {},
   "outputs": [
    {
     "name": "stdout",
     "output_type": "stream",
     "text": [
      "hey anmol 10 500\n",
      "20\n"
     ]
    }
   ],
   "source": [
    "y=20 \n",
    "def func():\n",
    "    x1=10 \n",
    "    y=500\n",
    "    print(\"hey anmol\",x1,y)\n",
    "func()\n",
    "print(y)"
   ]
  },
  {
   "cell_type": "code",
   "execution_count": 36,
   "id": "7069142c-c8e2-4d9b-b7e7-030f6477d7a5",
   "metadata": {},
   "outputs": [
    {
     "name": "stdout",
     "output_type": "stream",
     "text": [
      "hey anmol 20\n",
      "hey anmol hemani\n"
     ]
    }
   ],
   "source": [
    "def func(z):\n",
    "    print(\"hey anmol\",z)\n",
    "func(20)\n",
    "func(\"hemani\")"
   ]
  },
  {
   "cell_type": "code",
   "execution_count": 37,
   "id": "e1f67e55-c58c-4405-bc52-7ed0efa73daa",
   "metadata": {},
   "outputs": [
    {
     "name": "stdout",
     "output_type": "stream",
     "text": [
      "hey anmol 20\n",
      "hey anmol hemani\n"
     ]
    }
   ],
   "source": [
    "# we write z:int for understanding that give int value to z but it can be any type of data\n",
    "def func(z:int):\n",
    "    print(\"hey anmol\",z)\n",
    "func(20)\n",
    "func(\"hemani\")"
   ]
  },
  {
   "cell_type": "code",
   "execution_count": 42,
   "id": "1dda7291-9709-4823-b193-e1ac311cbed4",
   "metadata": {},
   "outputs": [
    {
     "name": "stdout",
     "output_type": "stream",
     "text": [
      "hey anmol 20 hemani\n",
      "hey anmol hemani 20\n"
     ]
    }
   ],
   "source": [
    "def func(z:int,k:str): #parameter\n",
    "    print(\"hey anmol\",z,k)\n",
    "func(20,\"hemani\") #argument\n",
    "func(\"hemani\",20)"
   ]
  },
  {
   "cell_type": "code",
   "execution_count": 43,
   "id": "2b0d649c-b902-4229-b84f-7a282090d346",
   "metadata": {},
   "outputs": [],
   "source": [
    "# learning assignment\n",
    "# keyword argument and default argument\n",
    "# var len argument and keyword len argument (args and kwargs)\n",
    "# high order func and first class func"
   ]
  },
  {
   "cell_type": "markdown",
   "id": "19e4fca3-06a4-45fd-a168-16537bd4d0b7",
   "metadata": {},
   "source": [
    "# Day 5"
   ]
  },
  {
   "cell_type": "code",
   "execution_count": 72,
   "id": "815122ce-19a1-4fc1-b642-611b09bc4da3",
   "metadata": {},
   "outputs": [
    {
     "name": "stdout",
     "output_type": "stream",
     "text": [
      "[True, True, True, True, False, False]\n",
      "[20, 40, 60, 80, 110, 122]\n"
     ]
    }
   ],
   "source": [
    "list1=list(map(lambda num: num%2==0,[10,20,30,40,55,61]))\n",
    "list2=list(map(lambda num: num*2,[10,20,30,40,55,61]))\n",
    "print(list1)\n",
    "print(list2)"
   ]
  },
  {
   "cell_type": "code",
   "execution_count": 73,
   "id": "0aceac1b-bcdc-42ca-8b23-0cfd712a50d3",
   "metadata": {},
   "outputs": [
    {
     "data": {
      "text/plain": [
       "[10, 20, 30, 40]"
      ]
     },
     "execution_count": 73,
     "metadata": {},
     "output_type": "execute_result"
    }
   ],
   "source": [
    "list2=list(filter(lambda num: num%2==0,[10,20,30,40,55,61]))\n",
    "list2"
   ]
  },
  {
   "cell_type": "code",
   "execution_count": 75,
   "id": "bf8bfee2-1e1b-4cba-9728-4fe575d936e5",
   "metadata": {},
   "outputs": [
    {
     "data": {
      "text/plain": [
       "320"
      ]
     },
     "execution_count": 75,
     "metadata": {},
     "output_type": "execute_result"
    }
   ],
   "source": [
    "list2=reduce(lambda x,y:x*2,[10,20,30,40,55,61])\n",
    "list2"
   ]
  },
  {
   "cell_type": "code",
   "execution_count": 78,
   "id": "084ca9f6-2ba8-4a54-94da-15003d07fdd9",
   "metadata": {},
   "outputs": [
    {
     "data": {
      "text/plain": [
       "'side'"
      ]
     },
     "execution_count": 78,
     "metadata": {},
     "output_type": "execute_result"
    }
   ],
   "source": [
    "a=lambda x:x.split(\" \")[-1]\n",
    "a(\"hey anmol this side\")"
   ]
  },
  {
   "cell_type": "code",
   "execution_count": 87,
   "id": "c39c8cb3-496f-4509-94c2-053dc941664a",
   "metadata": {},
   "outputs": [
    {
     "name": "stdout",
     "output_type": "stream",
     "text": [
      "side ['anmol', 'this'] hey\n",
      "['side', 'anmol', 'this', 'hey']\n"
     ]
    },
    {
     "data": {
      "text/plain": [
       "'side anmol this hey'"
      ]
     },
     "execution_count": 87,
     "metadata": {},
     "output_type": "execute_result"
    }
   ],
   "source": [
    "a=\"hey anmol this side\".split(\" \")\n",
    "print(a[-1],a[1:len(a)-1],a[0])\n",
    "a[0],a[-1]=a[-1],a[0]\n",
    "print(a)\n",
    "\" \".join(a)"
   ]
  },
  {
   "cell_type": "code",
   "execution_count": 90,
   "id": "2fcfab51-bbae-47bc-b030-97f32a4e63df",
   "metadata": {},
   "outputs": [
    {
     "name": "stdout",
     "output_type": "stream",
     "text": [
      "15\n"
     ]
    }
   ],
   "source": [
    "# map func\n",
    "def func(a):\n",
    "    return a+5\n",
    "mylist=[10,20,30,40]\n",
    "x=map(func,mylist)\n",
    "print(next(x))"
   ]
  },
  {
   "cell_type": "code",
   "execution_count": 100,
   "id": "ec8da986-4531-4583-bea0-e22d500b03c8",
   "metadata": {},
   "outputs": [
    {
     "name": "stdout",
     "output_type": "stream",
     "text": [
      "15\n",
      "[15, 25, 35, 45]\n"
     ]
    }
   ],
   "source": [
    "mylist=[10,20,30,40]\n",
    "x=map(lambda a:a+5,mylist)\n",
    "y=list(map(lambda a:a+5,mylist))\n",
    "print(next(x))\n",
    "print(y)"
   ]
  },
  {
   "cell_type": "code",
   "execution_count": 99,
   "id": "22220d70-9dbe-4b52-8a18-81de55148fe1",
   "metadata": {},
   "outputs": [
    {
     "name": "stdout",
     "output_type": "stream",
     "text": [
      "[True, True, True, True, False, False]\n"
     ]
    }
   ],
   "source": [
    "list1=[10,20,30,40,55,61]\n",
    "a=list(map(lambda a: a%2==0,[10,20,30,40,55,61]))\n",
    "print(a)"
   ]
  },
  {
   "cell_type": "code",
   "execution_count": 101,
   "id": "b981648e-7ae4-44b3-9045-5b8ea169837e",
   "metadata": {},
   "outputs": [
    {
     "name": "stdout",
     "output_type": "stream",
     "text": [
      "[10, 20, 30, 40]\n"
     ]
    }
   ],
   "source": [
    "list1=[10,20,30,40,55,61]\n",
    "a=list(filter(lambda a: a%2==0,[10,20,30,40,55,61]))\n",
    "print(a)"
   ]
  },
  {
   "cell_type": "code",
   "execution_count": 143,
   "id": "665e8a9a-1be6-471d-9c98-513be2827554",
   "metadata": {},
   "outputs": [],
   "source": [
    "# Dictionary practice assignment"
   ]
  },
  {
   "cell_type": "code",
   "execution_count": 112,
   "id": "e249bd31-8811-452c-acd2-60e30edae3ab",
   "metadata": {},
   "outputs": [
    {
     "name": "stdout",
     "output_type": "stream",
     "text": [
      "{10: 40, 20: 50, 300: 60}\n",
      "{10: 40, 20: 50, 300: 60}\n"
     ]
    }
   ],
   "source": [
    "# Q1\n",
    "l1=[10,20,300]\n",
    "l2=[40,50,60]\n",
    "# {10:40,  20:50,  300:60}\n",
    "# note using zip and without zip\n",
    "\n",
    "# using zip\n",
    "dict1={k:v for k,v in zip(l1,l2)}\n",
    "print(dict1)\n",
    "# or\n",
    "# dict2=dict(zip(l1,l2))\n",
    "# print(dict2)\n",
    "\n",
    "# without using zip\n",
    "dict2={}\n",
    "for i in range(len(l1)):\n",
    "    dict2[l1[i]]=l2[i]\n",
    "print(dict2)"
   ]
  },
  {
   "cell_type": "code",
   "execution_count": 129,
   "id": "7052f9a1-08b3-43a4-8d43-eb89a505f86a",
   "metadata": {},
   "outputs": [
    {
     "name": "stdin",
     "output_type": "stream",
     "text": [
      "Enter the score :  85\n"
     ]
    },
    {
     "name": "stdout",
     "output_type": "stream",
     "text": [
      "The student who scored more then 85 is :\n",
      "{'Charlie': 90, 'Emma': 95}\n"
     ]
    }
   ],
   "source": [
    "# Q2 {name: marks .. . . . .  ======>} multiple elements\n",
    "# now take a input from the user for score variable\n",
    "# - print the key who have more value then the score variable\n",
    "\n",
    "marks = {\"Alice\": 85,\"Bob\": 70,\"Charlie\": 90,\"David\": 60,\"Emma\": 95}\n",
    "dict1={}\n",
    "score = int(input(\"Enter the score : \"))\n",
    "print(\"The student who scored more then\",score,\"is :\")\n",
    "for k,v in marks.items():\n",
    "    if (v>score):\n",
    "        dict1[k]=v\n",
    "print(dict1)"
   ]
  },
  {
   "cell_type": "code",
   "execution_count": 126,
   "id": "fd60eced-17d1-4b6d-8bba-a10ce4a4aeda",
   "metadata": {},
   "outputs": [
    {
     "name": "stdout",
     "output_type": "stream",
     "text": [
      "{10: 19, 11: 20}\n"
     ]
    }
   ],
   "source": [
    "# Q3 \n",
    "dict1={10:19,  11:20,  13:None}\n",
    "# delete the key-value pair where the value is none\n",
    "\n",
    "# dict2={}\n",
    "# for i in dict1:\n",
    "#     if dict1[i] != None:\n",
    "#         dict2[i]=dict1[i]\n",
    "# print(dict2)\n",
    "\n",
    "# or\n",
    "\n",
    "d1={k:v for k,v in dict1.items() if v!=None}\n",
    "print(d1)"
   ]
  },
  {
   "cell_type": "code",
   "execution_count": 138,
   "id": "6efffeca-9924-46d8-a8e5-ac4e06a4b398",
   "metadata": {},
   "outputs": [
    {
     "name": "stdout",
     "output_type": "stream",
     "text": [
      "{'x': 25, 'y': 49, 'z': 100}\n"
     ]
    }
   ],
   "source": [
    "# Q4:   \n",
    "dict1={\"x\":5, \"y\":7, \"z\":10}\n",
    "# print new dictionary as square of each key {x:25, y:49,  z:100}\n",
    "\n",
    "d1={k:v**2 for k,v in dict1.items()}\n",
    "print(d1)\n",
    "\n",
    "# or \n",
    "\n",
    "# d2={}\n",
    "# for k,v in dict1.items():\n",
    "#     d2[k]=v**2\n",
    "# print(d2)"
   ]
  },
  {
   "cell_type": "code",
   "execution_count": 137,
   "id": "75b55efb-75f9-44e6-8aa2-d1734a2a84a5",
   "metadata": {},
   "outputs": [
    {
     "name": "stdout",
     "output_type": "stream",
     "text": [
      "{1: 1, 2: 8, 3: 27, 4: 64, 5: 125}\n"
     ]
    }
   ],
   "source": [
    "# Q5\n",
    "# create a dictionary as cube of number from 1 to 5\n",
    "# {1:1, 2:8, 3:27, 4:64, 5:125}\n",
    "# Note use only thing we have learnt\n",
    "\n",
    "dict1={x:x**3 for x in range(1,6)}\n",
    "print(dict1)\n",
    "\n",
    "# or\n",
    "\n",
    "# dict2 = {}\n",
    "# for i in range(1,6):  \n",
    "#     dict2[i]=i**3 \n",
    "# print(dict2)"
   ]
  },
  {
   "cell_type": "code",
   "execution_count": 16,
   "id": "dc749294-8abc-47e8-aa55-b21883686592",
   "metadata": {},
   "outputs": [
    {
     "name": "stdout",
     "output_type": "stream",
     "text": [
      "{'average': 7.3, 'max': 10}\n"
     ]
    }
   ],
   "source": [
    "# Q6 \n",
    "dict1={\"x\":5, \"y\":7, \"z\":10}\n",
    "# get the ans in new dictionary {\"average\":7.3 ,   \"max\":10}\n",
    "average=sum(dict1.values())/len(dict1)\n",
    "maxi=max(dict1.values())\n",
    "dict2={\"average\":round(average,1),\"max\":maxi}\n",
    "print(dict2)\n",
    "\n",
    "# or\n",
    "\n",
    "# a=0\n",
    "# b=0\n",
    "# for i in dict1.values():\n",
    "#    if i>b:\n",
    "#        b=i\n",
    "#    a+=i\n",
    "# d1={\"average\":round(a,1),\"max\":b}\n",
    "# print(d1)"
   ]
  },
  {
   "cell_type": "markdown",
   "id": "ea428c1e-2453-49ab-bd8a-7eab7d6e5c00",
   "metadata": {},
   "source": [
    "# Day 6"
   ]
  },
  {
   "cell_type": "code",
   "execution_count": 41,
   "id": "e8aa0cf3-6039-423d-aa5d-99e2e373ea43",
   "metadata": {},
   "outputs": [],
   "source": [
    "# Generators\n",
    "# it is a special type of func which remember the last running lines and resume from where it left\n",
    "# if it doesn't find any value then it will raise an error which is stop iteration error"
   ]
  },
  {
   "cell_type": "code",
   "execution_count": 42,
   "id": "2357b52c-c9e1-460a-94f1-3eb6da7b32d8",
   "metadata": {},
   "outputs": [
    {
     "name": "stdout",
     "output_type": "stream",
     "text": [
      "first line\n"
     ]
    },
    {
     "data": {
      "text/plain": [
       "1"
      ]
     },
     "execution_count": 42,
     "metadata": {},
     "output_type": "execute_result"
    }
   ],
   "source": [
    "def func():\n",
    "    print(\"first line\")\n",
    "    yield 1\n",
    "gen=func()\n",
    "next(gen)"
   ]
  },
  {
   "cell_type": "code",
   "execution_count": 43,
   "id": "652e2d56-1209-4feb-a2b8-63365fc08c43",
   "metadata": {},
   "outputs": [
    {
     "name": "stdout",
     "output_type": "stream",
     "text": [
      "first line\n",
      "second line\n"
     ]
    },
    {
     "data": {
      "text/plain": [
       "2"
      ]
     },
     "execution_count": 43,
     "metadata": {},
     "output_type": "execute_result"
    }
   ],
   "source": [
    "def func():\n",
    "    print(\"first line\")\n",
    "    yield 1\n",
    "    print(\"second line\")\n",
    "    yield 2\n",
    "gen=func()\n",
    "next(gen)\n",
    "next(gen)"
   ]
  },
  {
   "cell_type": "code",
   "execution_count": 44,
   "id": "5a0046d9-d8a9-4e01-8834-88fee1db88f2",
   "metadata": {},
   "outputs": [
    {
     "data": {
      "text/plain": [
       "0"
      ]
     },
     "execution_count": 44,
     "metadata": {},
     "output_type": "execute_result"
    }
   ],
   "source": [
    "def func():\n",
    "    for i in range(10):\n",
    "        yield i\n",
    "a=func()\n",
    "next(a)"
   ]
  },
  {
   "cell_type": "code",
   "execution_count": 46,
   "id": "73690c95-6520-46ca-8bea-496dfc7a703f",
   "metadata": {},
   "outputs": [
    {
     "name": "stdout",
     "output_type": "stream",
     "text": [
      "0 1 1 2 3 5 8 13 21 34 "
     ]
    }
   ],
   "source": [
    "def f_series(n):\n",
    "    a,b=0,1\n",
    "    for i in range(n):\n",
    "        yield a\n",
    "        a,b=b,a+b\n",
    "n=10\n",
    "for i in f_series(n):\n",
    "    print(i,end=\" \")"
   ]
  },
  {
   "cell_type": "code",
   "execution_count": 50,
   "id": "ef22cc4d-b793-4902-90e5-7ed146bfaeb9",
   "metadata": {},
   "outputs": [
    {
     "name": "stdout",
     "output_type": "stream",
     "text": [
      "0 1 1 2 3 5 8 13 21 34 "
     ]
    }
   ],
   "source": [
    "a=0\n",
    "b=1\n",
    "for i in range(n):\n",
    "    print(a ,end=\" \")\n",
    "    c=a+b\n",
    "    a=b\n",
    "    b=c"
   ]
  },
  {
   "cell_type": "code",
   "execution_count": 51,
   "id": "055e1b1c-7651-45d0-a27d-f975b1ce6d85",
   "metadata": {},
   "outputs": [],
   "source": [
    "# iterable is data type on which we can run loop and contains iter method\n",
    "# iterator is to access the value"
   ]
  },
  {
   "cell_type": "code",
   "execution_count": 53,
   "id": "a7b5145a-6b5e-45b7-8373-1018505ffda4",
   "metadata": {},
   "outputs": [],
   "source": [
    "# decorator\n",
    "#  it is a design pattern which allow us to add a functionality to an object without modifying its structure\n",
    "# it is basically a pattern which is used to change the behaviour of the func without changing the code structure."
   ]
  },
  {
   "cell_type": "code",
   "execution_count": 61,
   "id": "e6c0e93d-af7b-474c-b2ab-f22b0c0afadc",
   "metadata": {},
   "outputs": [
    {
     "name": "stdout",
     "output_type": "stream",
     "text": [
      "n value 10 1\n"
     ]
    }
   ],
   "source": [
    "# what is closure\n",
    "# => closure is basically a func that remember the environment of outer func \n",
    "# => simple meaning => any inner func or nested func can access the var of outer func\n",
    "# lexical scope is nested value\n",
    "\n",
    "def func_add(num):\n",
    "    def add_one(n):\n",
    "        print(\"n value\",n,num)\n",
    "    return add_one\n",
    "x=func_add(1)\n",
    "x(10)"
   ]
  },
  {
   "cell_type": "code",
   "execution_count": 76,
   "id": "b2737457-e72a-42d6-8b67-4a71fb80b696",
   "metadata": {},
   "outputs": [
    {
     "data": {
      "text/plain": [
       "'HELLO ANMOL'"
      ]
     },
     "execution_count": 76,
     "metadata": {},
     "output_type": "execute_result"
    }
   ],
   "source": [
    "def func_add(func):\n",
    "    def add_one():\n",
    "        result=func()\n",
    "        result2=result.upper()\n",
    "        # print(\"inside add_one func value => \",result2)\n",
    "        return result2\n",
    "    return add_one\n",
    "\n",
    "# normal func\n",
    "def test():\n",
    "    return \"hello AnmOL\"\n",
    "\n",
    "test=func_add(test)\n",
    "test()"
   ]
  },
  {
   "cell_type": "code",
   "execution_count": 78,
   "id": "eab64c27-945e-47f1-8c16-b5b1f357cc24",
   "metadata": {},
   "outputs": [
    {
     "data": {
      "text/plain": [
       "'HELLO ANMOL'"
      ]
     },
     "execution_count": 78,
     "metadata": {},
     "output_type": "execute_result"
    }
   ],
   "source": [
    "def func_add(func):\n",
    "    def add_one():\n",
    "        result=func()\n",
    "        result2=result.upper()\n",
    "        # print(\"inside add_one func value => \",result2)\n",
    "        return result2\n",
    "    return add_one\n",
    "\n",
    "# normal func\n",
    "\n",
    "@func_add\n",
    "def test():\n",
    "    return \"hello AnmOL\"\n",
    "    \n",
    "test()"
   ]
  },
  {
   "cell_type": "code",
   "execution_count": null,
   "id": "d7f39666-25c1-493e-bd03-9449a58a82af",
   "metadata": {},
   "outputs": [],
   "source": [
    "# learning assignemnt\n",
    "# decorator generator function\n",
    "# what is closure\n",
    "# diff b/w closure and decorators"
   ]
  },
  {
   "cell_type": "code",
   "execution_count": 1,
   "id": "eb9f916c-b8dc-4645-8f82-7344cec85d50",
   "metadata": {},
   "outputs": [],
   "source": [
    "# List Practice Assignment"
   ]
  },
  {
   "cell_type": "code",
   "execution_count": 14,
   "id": "b8175d7c-1fad-4f26-8e89-60cc30ebca38",
   "metadata": {},
   "outputs": [
    {
     "name": "stdout",
     "output_type": "stream",
     "text": [
      "Index is : 4\n",
      "maximum num is : 99\n"
     ]
    }
   ],
   "source": [
    "# 1. Write a Python program to find the maximum element in a list of numbers without\n",
    "# max functions\n",
    "# numbers = [10, 20, 4, 45, 99]\n",
    "# The maximum element is: 99\n",
    "\n",
    "num = [10, 20, 4, 45, 99]\n",
    "maxi=0\n",
    "for i in range(len(num)):\n",
    "    if num[i]>num[maxi]:\n",
    "        maxi=i\n",
    "print(\"Index is :\",maxi)\n",
    "print(\"maximum num is :\",num[maxi])"
   ]
  },
  {
   "cell_type": "code",
   "execution_count": 16,
   "id": "485490a2-a1bb-4e10-8125-a1397344c54e",
   "metadata": {},
   "outputs": [
    {
     "name": "stdout",
     "output_type": "stream",
     "text": [
      "Sum of all elements : 100\n"
     ]
    }
   ],
   "source": [
    "# 2. Write a Python program to sum all the elements in a list of numbers.\n",
    "# a. numbers = [10, 20, 30, 40]\n",
    "# b. The sum of all elements is: 100\n",
    "\n",
    "num = [10, 20, 30, 40]\n",
    "sum=0\n",
    "for i in range(len(num)):\n",
    "    sum+=num[i]\n",
    "print(\"Sum of all elements :\",sum)"
   ]
  },
  {
   "cell_type": "code",
   "execution_count": 19,
   "id": "2693c1ee-9b45-4522-bd74-dbd8bbe58247",
   "metadata": {},
   "outputs": [
    {
     "name": "stdout",
     "output_type": "stream",
     "text": [
      "reversed list : [5, 4, 3, 2, 1]\n"
     ]
    }
   ],
   "source": [
    "# 3. Write a Python program to reverse a list without reverse or slicing operator\n",
    "# a. numbers = [1, 2, 3, 4, 5]\n",
    "# b. Reversed list: [5, 4, 3, 2, 1]\n",
    "\n",
    "num = [1, 2, 3, 4, 5]\n",
    "rev_list=[]\n",
    "for i in range(len(num),0,-1):\n",
    "    rev_list.append(i)\n",
    "print(\"reversed list :\",rev_list)"
   ]
  },
  {
   "cell_type": "code",
   "execution_count": 22,
   "id": "c0bd1634-1299-47f5-9ea2-942ff6e8c07a",
   "metadata": {},
   "outputs": [
    {
     "name": "stdout",
     "output_type": "stream",
     "text": [
      "Sorted list in ascending order : [4, 10, 20, 45, 99]\n"
     ]
    }
   ],
   "source": [
    "# 4. Write a Python program to sort a list in ascending order without sort functions\n",
    "\n",
    "num = [10, 20, 4, 45, 99]\n",
    "a=0\n",
    "while(a<len(num)-1):\n",
    "    if(num[a]>num[a+1]):\n",
    "        num[a],num[a+1]=num[a+1],num[a]\n",
    "        a=0\n",
    "    else:\n",
    "        a+=1\n",
    "print(\"Sorted list in ascending order :\",num)"
   ]
  },
  {
   "cell_type": "code",
   "execution_count": 25,
   "id": "01930c19-5b65-474c-9c90-7c4cc04641e2",
   "metadata": {},
   "outputs": [
    {
     "name": "stdout",
     "output_type": "stream",
     "text": [
      "list after removing duplicated : [1, 2, 3, 4, 5]\n"
     ]
    }
   ],
   "source": [
    "# 5. Write a Python program to remove duplicates from a list while maintaining the order\n",
    "# of elements.\n",
    "# a. numbers = [1, 2, 2, 3, 4, 4, 5]\n",
    "# b. List after removing duplicates: [1, 2, 3, 4, 5]\n",
    "\n",
    "num = [1, 2, 2, 3, 4, 4, 5]\n",
    "l1=[]\n",
    "for i in num:\n",
    "    if i not in l1:\n",
    "        l1.append(i)\n",
    "print(\"list after removing duplicated :\",l1)"
   ]
  },
  {
   "cell_type": "code",
   "execution_count": 31,
   "id": "10c68c89-5ebb-41de-a1c4-897efff1035c",
   "metadata": {},
   "outputs": [
    {
     "name": "stdout",
     "output_type": "stream",
     "text": [
      "Pairs that match the target : [(1, 5), (2, 4), (3, 3)]\n"
     ]
    }
   ],
   "source": [
    "# 6. Write a Python program to find all pairs of numbers in a list that add up to a specific\n",
    "# target sum.\n",
    "# a. numbers = [1, 2, 3, 4, 3, 5, 6] target_sum = 6\n",
    "# b. Pairs that add up to 6: [(3, 3), (2, 4), (1, 5)]\n",
    "\n",
    "num = [1, 2, 3, 4, 3, 5, 6] \n",
    "num.sort()\n",
    "l1=[]\n",
    "target = 6\n",
    "start=0\n",
    "end=len(num)-1\n",
    "while(start<end):\n",
    "    if num[start]+num[end]==target:\n",
    "        l1.append((num[start],num[end]))\n",
    "        start+=1\n",
    "        end-=1\n",
    "    elif num[start]+num[end]>target:\n",
    "        end-=1\n",
    "    else:\n",
    "        start+=1   \n",
    "print(\"Pairs that match the target :\",l1)"
   ]
  },
  {
   "cell_type": "code",
   "execution_count": 51,
   "id": "cc9f2c76-509a-4745-9bb8-33d143f57624",
   "metadata": {},
   "outputs": [
    {
     "name": "stdout",
     "output_type": "stream",
     "text": [
      "converted the nested list to flattend list : [1, 2, 3, 4, 5, 6, 7, 8]\n"
     ]
    }
   ],
   "source": [
    "# 7. Write a Python program to flatten a nested list (list within lists) into a single list.\n",
    "# a. nested_list = [1, [2, 3], [4, [5, 6], 7], 8]\n",
    "# b. Flattened list: [1, 2, 3, 4, 5, 6, 7, 8]\n",
    "\n",
    "nested_list = [1, [2, 3], [4, [5, 6], 7], 8]\n",
    "flattened_list=[]\n",
    "for i in range(len(nested_list)):\n",
    "    if type(nested_list[i])==list:\n",
    "        for j in nested_list[i]:\n",
    "            if type(j)==list:\n",
    "                for k in j:\n",
    "                    flattened_list.append(k)\n",
    "            else:\n",
    "                flattened_list.append(j)\n",
    "    else:\n",
    "        flattened_list.append(nested_list[i])\n",
    "print(\"converted the nested list to flattend list :\",flattened_list)"
   ]
  },
  {
   "cell_type": "code",
   "execution_count": 67,
   "id": "da76cbef-38c9-4ad8-bfa8-71f503e3a4ca",
   "metadata": {},
   "outputs": [
    {
     "name": "stdout",
     "output_type": "stream",
     "text": [
      "Sum excluding the largest and smallest element : 9\n"
     ]
    }
   ],
   "source": [
    "# 8. Write a Python program to find the sum of the elements in a list, excluding the largest\n",
    "# and smallest element. Don’t use max or min functions\n",
    "# a. numbers = [1, 2, 3, 4, 5]\n",
    "# b. Sum excluding the largest and smallest element: 9\n",
    "\n",
    "num = [1, 2, 3, 4, 5]\n",
    "sum1=0\n",
    "mini=0\n",
    "maxi=0\n",
    "for i in range(len(num)):\n",
    "    sum1+=num[i]\n",
    "    if num[i]>num[maxi]:\n",
    "        maxi=i\n",
    "    if num[i]<num[mini]:\n",
    "        mini=i\n",
    "sum2=sum1-num[mini]-num[maxi]\n",
    "print(\"Sum excluding the largest and smallest element :\",sum2)"
   ]
  },
  {
   "cell_type": "code",
   "execution_count": 70,
   "id": "2e72b803-83f3-4603-82af-29e74ab76bdf",
   "metadata": {},
   "outputs": [
    {
     "name": "stdout",
     "output_type": "stream",
     "text": [
      "List is a palindrome :\n",
      "True\n"
     ]
    }
   ],
   "source": [
    "# 9. Write a Python program to check if a list is a palindrome (reads the same backward\n",
    "# as forward) using two pointer approach\n",
    "# a. numbers = [1, 2, 3, 2, 1]\n",
    "# b. True\n",
    "\n",
    "num = [1, 2, 3, 2, 1]\n",
    "a=0\n",
    "start=0\n",
    "end=len(num)-1\n",
    "while(start<end):\n",
    "    if num[start]==num[end]:\n",
    "        a=1\n",
    "        start+=1\n",
    "        end-=1\n",
    "print(\"List is a palindrome :\")\n",
    "if a==1:\n",
    "    print(\"True\")\n",
    "else:\n",
    "    print(\"False\")"
   ]
  },
  {
   "cell_type": "code",
   "execution_count": 73,
   "id": "20138509-9990-47d2-b5ed-10c3869e3af6",
   "metadata": {},
   "outputs": [
    {
     "name": "stdout",
     "output_type": "stream",
     "text": [
      "List after removing duplicate elements : [1, 2, 3, 4, 5, 6]\n"
     ]
    }
   ],
   "source": [
    "# 10. Write a function to remove duplicate elements from a list.\n",
    "# a. numbers = [1, 2, 3, 2, 4, 5, 1, 6]\n",
    "# b. [1, 2, 3, 4, 5, 6]\n",
    "\n",
    "def remove_duplicate(num):\n",
    "    l1=[]\n",
    "    for i in num:\n",
    "        if i not in l1:\n",
    "            l1.append(i)\n",
    "    return l1\n",
    "num=[1, 2, 3, 2, 4, 5, 1, 6]\n",
    "a=remove_duplicate(num)\n",
    "print(\"List after removing duplicate elements :\",a)"
   ]
  },
  {
   "cell_type": "code",
   "execution_count": 75,
   "id": "c833c90d-0a05-4ae6-85c3-0f57523de367",
   "metadata": {},
   "outputs": [
    {
     "name": "stdout",
     "output_type": "stream",
     "text": [
      "Common Elements in two list : [3, 4, 5]\n"
     ]
    }
   ],
   "source": [
    "# 11. Find Common Elements in Two Lists\n",
    "# a. list1 = [1, 2, 3, 4, 5]\n",
    "# b. list2 = [3, 4, 5, 6, 7]\n",
    "# c. Result: [3, 4, 5]\n",
    "\n",
    "list1 = [1, 2, 3, 4, 5]\n",
    "list2 = [3, 4, 5, 6, 7]\n",
    "result=[]\n",
    "for i in list1:\n",
    "    if i in list2:\n",
    "        result.append(i)\n",
    "print(\"Common Elements in two list :\",result)"
   ]
  },
  {
   "cell_type": "code",
   "execution_count": 77,
   "id": "f518b822-b2e0-4f46-afe4-b217d5cb2f05",
   "metadata": {},
   "outputs": [
    {
     "name": "stdout",
     "output_type": "stream",
     "text": [
      "Longest word in the list : strawberry\n"
     ]
    }
   ],
   "source": [
    "# 12. Find the Longest Word in a List\n",
    "# a. words = [\"apple\", \"banana\", \"strawberry\", \"kiwi\"]\n",
    "# b. Strawberry\n",
    "\n",
    "words = [\"apple\", \"banana\", \"strawberry\", \"kiwi\"]\n",
    "longest_word=\"\"\n",
    "for i in words:\n",
    "    if len(i)>len(longest_word):\n",
    "        longest_word=i\n",
    "print(\"Longest word in the list :\",longest_word)"
   ]
  },
  {
   "cell_type": "code",
   "execution_count": 80,
   "id": "8be738b2-19d9-4eb4-a22f-f1574413801a",
   "metadata": {},
   "outputs": [
    {
     "name": "stdout",
     "output_type": "stream",
     "text": [
      "Missing num is a list is : 3\n"
     ]
    }
   ],
   "source": [
    "# 13. Find Missing Number in a List\n",
    "list1=[1, 2, 4, 5, 6]\n",
    "for i in range(1,6):\n",
    "    if i not in list1:\n",
    "        print(\"Missing num is a list is :\",i)"
   ]
  },
  {
   "cell_type": "code",
   "execution_count": 81,
   "id": "3e5a40df-8889-47fe-acca-ff74f9d190f9",
   "metadata": {},
   "outputs": [
    {
     "name": "stdout",
     "output_type": "stream",
     "text": [
      "Missing num is a list is : 3\n"
     ]
    }
   ],
   "source": [
    "# 14. Find Missing Number in a List\n",
    "# You are given a list of n-1 numbers in the range 1 to n. One number is missing\n",
    "# from the sequence. Find the missing number.\n",
    "# a. numbers = [1, 2, 4, 5, 6]\n",
    "# b. 3\n",
    "\n",
    "num=[1, 2, 4, 5, 6]\n",
    "for i in range(1,6):\n",
    "    if i not in num:\n",
    "        print(\"Missing num is a list is :\",i)"
   ]
  },
  {
   "cell_type": "code",
   "execution_count": 86,
   "id": "0fca105b-961e-424b-9408-b58b1908b17a",
   "metadata": {},
   "outputs": [
    {
     "name": "stdout",
     "output_type": "stream",
     "text": [
      "the First Non-Repeating Element is : 1\n"
     ]
    }
   ],
   "source": [
    "# 15. Find the First Non-Repeating Element\n",
    "# Given a list of integers, find the first element that appears only once.\n",
    "# a. numbers = [4, 5, 1, 2, 0, 4, 5, 2]\n",
    "# b. Expected Output: 1\n",
    "\n",
    "num = [4, 5, 1, 2, 0, 4, 5, 2]\n",
    "count=0\n",
    "for i in num:\n",
    "    if num.count(i)==1:\n",
    "        print(\"the First Non-Repeating Element is :\",i)\n",
    "        break"
   ]
  },
  {
   "cell_type": "code",
   "execution_count": 92,
   "id": "5bc627ca-5133-41c1-ad7a-eed31f66324f",
   "metadata": {},
   "outputs": [
    {
     "name": "stdout",
     "output_type": "stream",
     "text": [
      "Moves all zero to the end : [1, 3, 12, 0, 0]\n"
     ]
    }
   ],
   "source": [
    "# 16. Move All Zeros to the End\n",
    "# Given a list of integers, move all zeros to the end while maintaining the relative order\n",
    "# of non-zero elements. Don’t use any inbuilt functions\n",
    "# a. numbers = [0, 1, 0, 3, 12]\n",
    "# b. [1, 3, 12, 0, 0]\n",
    "\n",
    "num = [0, 1, 0, 3, 12]\n",
    "idx=0\n",
    "for i in range(len(num)):\n",
    "    if num[i]!=0:\n",
    "        num[idx],num[i] = num[i],num[idx]\n",
    "        idx+=1\n",
    "print(\"Moves all zero to the end :\",num)"
   ]
  },
  {
   "cell_type": "code",
   "execution_count": 2,
   "id": "b3712efc-f554-44ed-8e53-37302757c8e4",
   "metadata": {},
   "outputs": [
    {
     "name": "stdout",
     "output_type": "stream",
     "text": [
      "Elements Greater Than Their Left Neighbor : [3, 6, 8]\n"
     ]
    }
   ],
   "source": [
    "# 17. Find Elements Greater Than Their Left Neighbor\n",
    "# a. numbers = [1, 3, 2, 6, 5, 8, 7]\n",
    "# b. [3, 6, 8]\n",
    "\n",
    "num = [1, 3, 2, 6, 5, 8, 7]\n",
    "l1=[]\n",
    "start=0\n",
    "while(start<len(num)-1):\n",
    "    if num[start]>num[start+1]:\n",
    "        l1.append(num[start])\n",
    "    start+=1\n",
    "print(\"Elements Greater Than Their Left Neighbor :\",l1)"
   ]
  },
  {
   "cell_type": "code",
   "execution_count": 1,
   "id": "b0248ee9-09e9-4ae0-a014-0c4964d42f21",
   "metadata": {},
   "outputs": [
    {
     "name": "stdout",
     "output_type": "stream",
     "text": [
      "Triplets that sum to zero : [[-1, -1, 2], [-1, 0, 1]]\n"
     ]
    }
   ],
   "source": [
    "# 18. Find Triplets That Sum to Zero\n",
    "# Given a list of numbers, find all unique triplets (a, b, c) such that a + b + c = 0.\n",
    "# a. numbers = [-1, 0, 1, 2, -1, -4]\n",
    "# b. Expected Output: [(-1, -1, 2), (-1, 0, 1)]\n",
    "\n",
    "nums = [-1,0,1,2,-1,-4]\n",
    "list1=[]\n",
    "nums.sort()\n",
    "for i in range(0,len(nums)-2):\n",
    "    start=i+1\n",
    "    end=len(nums)-1\n",
    "    while(start<end):\n",
    "        if (i != start and i != end and start != end and nums[i] + nums[start] + nums[end] == 0):\n",
    "            if [nums[i] , nums[start] , nums[end]] not in list1:\n",
    "                list1.append([nums[i] , nums[start] , nums[end]])\n",
    "            start+=1\n",
    "            end-=1\n",
    "        elif(nums[i] + nums[start] + nums[end] > 0):\n",
    "            end-=1\n",
    "        else:\n",
    "            start+=1\n",
    "print(\"Triplets that sum to zero :\",list1)"
   ]
  },
  {
   "cell_type": "code",
   "execution_count": 2,
   "id": "2b3b7cc7-1896-4b59-aecd-b4cd394280a1",
   "metadata": {},
   "outputs": [],
   "source": [
    "# OOPS"
   ]
  },
  {
   "cell_type": "code",
   "execution_count": 30,
   "id": "46884b78-271f-4c96-be9d-3480e0700c96",
   "metadata": {},
   "outputs": [],
   "source": [
    "# object oriented programming system\n",
    "# object : instance of class\n",
    "# real time entity => charactertics and behaviour or (functionality)\n",
    "\n",
    "# class is a blueprint for an object\n",
    "# collection of object is a class\n",
    "\n",
    "# class var => are the var associated with the class.\n",
    "    # these var can be accessed by class also and object also\n",
    "    # if we want to make a change in class var then change it with the class name and it will change the var for all\n",
    "    # but if we change the class var with the help of obj then it will change the var for the specific object\n",
    "    # class var can only able to access the class var but can't able to access the instance var or obj var"
   ]
  },
  {
   "cell_type": "code",
   "execution_count": 31,
   "id": "e750bf67-cbf4-48a1-974c-fc6d29614a7e",
   "metadata": {},
   "outputs": [
    {
     "name": "stdout",
     "output_type": "stream",
     "text": [
      "hero\n"
     ]
    }
   ],
   "source": [
    "class BikeDesign:\n",
    "    company=\"hero\"  # class var\n",
    "    model=\"splendor\"\n",
    "\n",
    "b1=BikeDesign()\n",
    "print(b1.company)"
   ]
  },
  {
   "cell_type": "code",
   "execution_count": 1,
   "id": "79a2e9b0-d09f-495a-93e3-c09e819bdd15",
   "metadata": {},
   "outputs": [],
   "source": [
    "# constructure are nothing they are the special type of func used to intialize the memory address to the object of a class"
   ]
  },
  {
   "cell_type": "code",
   "execution_count": 33,
   "id": "558783e8-3088-488a-8c8c-c858ebd80371",
   "metadata": {},
   "outputs": [],
   "source": [
    "# agr constructor mene bnaya it is parameterized constructure\n",
    "# agr constructure khud aaya it is default constructure\n",
    "\n",
    "#  self is a var which store the current object ref"
   ]
  },
  {
   "cell_type": "code",
   "execution_count": 34,
   "id": "b44dd0a5-366d-4d4b-889d-c8d541edbe13",
   "metadata": {},
   "outputs": [
    {
     "name": "stdout",
     "output_type": "stream",
     "text": [
      "bike ka model bta do <__main__.BikeDesign object at 0x000001AFFC6FB110>\n",
      "object ki value <__main__.BikeDesign object at 0x000001AFFC6FB110>\n"
     ]
    }
   ],
   "source": [
    "class BikeDesign:\n",
    "    company=\"hero\"\n",
    "    def __init__(self):\n",
    "        print(\"bike ka model bta do\",self)\n",
    "\n",
    "b1=BikeDesign()\n",
    "print(\"object ki value\",b1)"
   ]
  },
  {
   "cell_type": "code",
   "execution_count": 35,
   "id": "9e2ce0b5-9d5a-4557-8b07-de70a334b298",
   "metadata": {},
   "outputs": [],
   "source": [
    "# interview question\n",
    "# can we change the self parameter to any other var"
   ]
  },
  {
   "cell_type": "code",
   "execution_count": 36,
   "id": "f314c4dd-30db-4603-b4d0-c801bb9be360",
   "metadata": {},
   "outputs": [
    {
     "name": "stdout",
     "output_type": "stream",
     "text": [
      "bike ka model bta do splendor\n"
     ]
    }
   ],
   "source": [
    "class BikeDesign:\n",
    "    company=\"hero\"\n",
    "    def __init__(self,model):\n",
    "        print(\"bike ka model bta do\",model)\n",
    "\n",
    "b1=BikeDesign(\"splendor\")"
   ]
  },
  {
   "cell_type": "code",
   "execution_count": 2,
   "id": "f811c998-d727-4d4a-b1bd-8d735706ebad",
   "metadata": {},
   "outputs": [],
   "source": [
    "#  self k sath jo var bnta h vo instance var or object var\n",
    "# instance var are unique to every obj of a class"
   ]
  },
  {
   "cell_type": "code",
   "execution_count": 38,
   "id": "ef6b2316-57a2-42e7-87c4-cdc927a499e9",
   "metadata": {},
   "outputs": [
    {
     "name": "stdout",
     "output_type": "stream",
     "text": [
      "splendor\n",
      "shine\n"
     ]
    }
   ],
   "source": [
    "class BikeDesign:\n",
    "    company=\"hero\"\n",
    "    def __init__(self,model):\n",
    "        self.model=model  # self.model is instance var and model is local var\n",
    "\n",
    "b1=BikeDesign(\"splendor\")\n",
    "print(b1.model)\n",
    "\n",
    "b2=BikeDesign(\"shine\")\n",
    "print(b2.model)"
   ]
  },
  {
   "cell_type": "code",
   "execution_count": 39,
   "id": "3b20f044-c5ec-496f-a0ec-7f87cd99f938",
   "metadata": {},
   "outputs": [
    {
     "name": "stdout",
     "output_type": "stream",
     "text": [
      "student details :  10 anmol\n",
      "student details :  11 shubham\n"
     ]
    }
   ],
   "source": [
    "# a method declared inside a class is a class method\n",
    "\n",
    "class Student:\n",
    "    college=\"regex\"\n",
    "    def __init__(self,sid,sname,semail):\n",
    "        self.sid=sid\n",
    "        self.sname=sname\n",
    "        self.semail=semail\n",
    "\n",
    "    def info(self):\n",
    "        print(\"student details : \",self.sid,self.sname)\n",
    "\n",
    "s1=Student(10,\"anmol\",\"anmol@gmail.com\")\n",
    "s1.info()\n",
    "s2=Student(11,\"shubham\",\"shubham@gmail.com\")\n",
    "s2.info()"
   ]
  },
  {
   "cell_type": "code",
   "execution_count": 13,
   "id": "2bf91ad3-36bc-4b64-8419-18de6c7a68c0",
   "metadata": {},
   "outputs": [
    {
     "name": "stdout",
     "output_type": "stream",
     "text": [
      "student details :  19 yash yash@gmail.com\n",
      "subject : Science\n"
     ]
    }
   ],
   "source": [
    "# inherit is a mechanish in which we can access all the property from one class to another class\n",
    "# code reusability\n",
    "\n",
    "# super is basically a built-in func which call the func or method of a parent class\n",
    "class Student:\n",
    "    college=\"regex\"\n",
    "    def __init__(self,sid,sname,semail):\n",
    "        self.sid=sid\n",
    "        self.sname=sname\n",
    "        self.semail=semail\n",
    "\n",
    "    def info(self):\n",
    "        print(\"student details : \",self.sid,self.sname,self.semail)\n",
    "\n",
    "class CollegeAdmission(Student):\n",
    "    def __init__(self,sid,sname,semail,subject):\n",
    "        self.subject=subject\n",
    "        super().__init__(sid,sname,semail)\n",
    "\n",
    "    def cinfo(self):\n",
    "        super().info()\n",
    "        print(\"subject :\",self.subject)\n",
    "\n",
    "c1=CollegeAdmission(19,\"yash\",\"yash@gmail.com\",\"Science\")\n",
    "c1.cinfo()"
   ]
  },
  {
   "cell_type": "code",
   "execution_count": 14,
   "id": "ba3b5834-472d-4191-b9c8-9e4611f96980",
   "metadata": {},
   "outputs": [],
   "source": [
    "# learning assignment\n",
    "# method overloading vs method overriding\n",
    "# multilevel vs miltiple inheritance\n",
    "# interview question : can we overload the constructor in python"
   ]
  },
  {
   "cell_type": "code",
   "execution_count": 19,
   "id": "62885848-b451-4035-9065-4c1eb7672385",
   "metadata": {},
   "outputs": [
    {
     "name": "stdout",
     "output_type": "stream",
     "text": [
      "50000\n",
      "100000\n",
      "500\n"
     ]
    }
   ],
   "source": [
    "# Multilevel Inheritance\n",
    "\n",
    "#  constructure chaining => mechanism in which we call the constructor from the another class\n",
    "    #  works from bottom to top\n",
    "\n",
    "class GP:\n",
    "    def __init__(self):\n",
    "        self.amount=500\n",
    "    \n",
    "class Parent(GP):\n",
    "    def __init__(self):\n",
    "        self.business=100000\n",
    "        super().__init__() # constrictor of GP class\n",
    "    \n",
    "class Child(Parent):\n",
    "    def __init__(self):\n",
    "        self.spend=50000\n",
    "        super().__init__()  # constructor of father class\n",
    "        \n",
    "c1=Child()\n",
    "print(c1.spend)\n",
    "print(c1.business)\n",
    "print(c1.amount)"
   ]
  },
  {
   "cell_type": "code",
   "execution_count": 26,
   "id": "17c7378d-b09e-4c60-8bc9-12c43751143f",
   "metadata": {},
   "outputs": [
    {
     "name": "stdout",
     "output_type": "stream",
     "text": [
      "4.0\n",
      "25\n",
      "100\n"
     ]
    }
   ],
   "source": [
    "# multiple inheritance\n",
    "\n",
    "class Multiply:\n",
    "    def mul(self,x,y):\n",
    "        return x*y\n",
    "\n",
    "class Add:\n",
    "    def add(self,a,b):\n",
    "        return a+b\n",
    "\n",
    "class Arithmetic(Add,Multiply):\n",
    "    def divide(self,d,e):\n",
    "        return d/e\n",
    "\n",
    "a1=Arithmetic()\n",
    "print(a1.divide(20,5))\n",
    "print(a1.add(20,5))\n",
    "print(a1.mul(20,5))"
   ]
  },
  {
   "cell_type": "code",
   "execution_count": 42,
   "id": "126d404d-778e-45ab-bdb8-1a9cf1f64e6e",
   "metadata": {},
   "outputs": [
    {
     "name": "stdout",
     "output_type": "stream",
     "text": [
      "4.0\n",
      "25\n"
     ]
    }
   ],
   "source": [
    "# MRO => Method Resolution Order \n",
    "class Multiply:\n",
    "    def calculation(self,x,y):\n",
    "        return x*y\n",
    "\n",
    "class Add:\n",
    "    def calculation(self,a,b):\n",
    "        return a+b\n",
    "\n",
    "class Arithmetic(Add,Multiply):\n",
    "    def divide(self,d,e):\n",
    "        return d/e\n",
    "\n",
    "a1=Arithmetic()\n",
    "print(a1.divide(20,5))\n",
    "print(a1.calculation(20,5))"
   ]
  },
  {
   "cell_type": "code",
   "execution_count": 45,
   "id": "d59f0319-bafa-45fc-b05d-4f7d55bd514a",
   "metadata": {},
   "outputs": [],
   "source": [
    "# polymorphism\n",
    "# poly + morphism\n",
    "# multiple + forms\n",
    "#  feature of programming in which we can things in the multiple forms\n",
    "# object , method => see these in different forms this is known as polymorphism"
   ]
  },
  {
   "cell_type": "code",
   "execution_count": 46,
   "id": "ccd07954-3c9c-4b7d-aeee-8abb8528ffc6",
   "metadata": {},
   "outputs": [],
   "source": [
    "# Method overloading\n",
    "# method overriding\n",
    "# operator overloading"
   ]
  },
  {
   "cell_type": "code",
   "execution_count": 65,
   "id": "11457a88-1aa7-4450-ad25-31b04e055cca",
   "metadata": {},
   "outputs": [],
   "source": [
    "# method overload\n",
    "# python doesn't support method overloading directly but we can achieve it indirectly\n",
    "# it supports in statuc type langauge (java)"
   ]
  },
  {
   "cell_type": "code",
   "execution_count": 50,
   "id": "c0aa9fc0-f3fc-4ce6-8f7d-287fd4cea080",
   "metadata": {},
   "outputs": [
    {
     "ename": "TypeError",
     "evalue": "father.func() missing 1 required positional argument: 'c'",
     "output_type": "error",
     "traceback": [
      "\u001b[1;31m---------------------------------------------------------------------------\u001b[0m",
      "\u001b[1;31mTypeError\u001b[0m                                 Traceback (most recent call last)",
      "Cell \u001b[1;32mIn[50], line 9\u001b[0m\n\u001b[0;32m      6\u001b[0m         \u001b[38;5;28;01mreturn\u001b[39;00m a\u001b[38;5;241m+\u001b[39mb\u001b[38;5;241m+\u001b[39mc\n\u001b[0;32m      8\u001b[0m f1\u001b[38;5;241m=\u001b[39mfather()\n\u001b[1;32m----> 9\u001b[0m \u001b[43mf1\u001b[49m\u001b[38;5;241;43m.\u001b[39;49m\u001b[43mfunc\u001b[49m\u001b[43m(\u001b[49m\u001b[38;5;241;43m10\u001b[39;49m\u001b[43m,\u001b[49m\u001b[38;5;241;43m20\u001b[39;49m\u001b[43m)\u001b[49m\n",
      "\u001b[1;31mTypeError\u001b[0m: father.func() missing 1 required positional argument: 'c'"
     ]
    }
   ],
   "source": [
    "class father:\n",
    "    def func(self,a,b):\n",
    "        return a+b\n",
    "\n",
    "    def func(self,a,b,c):\n",
    "        return a+b+c\n",
    "\n",
    "f1=father()\n",
    "f1.func(10,20)"
   ]
  },
  {
   "cell_type": "code",
   "execution_count": 53,
   "id": "f6bff3f0-ca16-4b78-a5ad-f450ad8117d1",
   "metadata": {},
   "outputs": [
    {
     "ename": "TypeError",
     "evalue": "child.func() missing 1 required positional argument: 'c'",
     "output_type": "error",
     "traceback": [
      "\u001b[1;31m---------------------------------------------------------------------------\u001b[0m",
      "\u001b[1;31mTypeError\u001b[0m                                 Traceback (most recent call last)",
      "Cell \u001b[1;32mIn[53], line 10\u001b[0m\n\u001b[0;32m      7\u001b[0m         \u001b[38;5;28mprint\u001b[39m(\u001b[38;5;124m\"\u001b[39m\u001b[38;5;124mchild class : \u001b[39m\u001b[38;5;124m\"\u001b[39m,a\u001b[38;5;241m+\u001b[39mb\u001b[38;5;241m+\u001b[39mc)\n\u001b[0;32m      9\u001b[0m c1\u001b[38;5;241m=\u001b[39mchild()\n\u001b[1;32m---> 10\u001b[0m \u001b[43mc1\u001b[49m\u001b[38;5;241;43m.\u001b[39;49m\u001b[43mfunc\u001b[49m\u001b[43m(\u001b[49m\u001b[38;5;241;43m10\u001b[39;49m\u001b[43m,\u001b[49m\u001b[38;5;241;43m20\u001b[39;49m\u001b[43m)\u001b[49m\n",
      "\u001b[1;31mTypeError\u001b[0m: child.func() missing 1 required positional argument: 'c'"
     ]
    }
   ],
   "source": [
    "class father:\n",
    "    def func(self,a,b):\n",
    "        print(\"father class : \",a+b)\n",
    "\n",
    "class child(father):\n",
    "    def func(self,a,b,c):\n",
    "        print(\"child class : \",a+b+c)\n",
    "\n",
    "c1=child()\n",
    "c1.func(10,20)"
   ]
  },
  {
   "cell_type": "code",
   "execution_count": 56,
   "id": "1c62180a-ba74-4e8a-9a98-25f994dd01f4",
   "metadata": {},
   "outputs": [],
   "source": [
    "# whenever we talk about python and we have the same func in both class and count of parameter should be same\n",
    "# then it call child class func because python support method overriding"
   ]
  },
  {
   "cell_type": "code",
   "execution_count": 64,
   "id": "c8a7abce-d37f-4cbf-921a-9cc8d05599f9",
   "metadata": {},
   "outputs": [
    {
     "name": "stdout",
     "output_type": "stream",
     "text": [
      "child class :  200\n"
     ]
    }
   ],
   "source": [
    "# this is method overriding => override the parent class to the child class\n",
    "# when we want to change the fucntionality of a parent class \n",
    "    # then we use method override inside my child class\n",
    "# Child class ki implementation different hogi parent class se.\n",
    "\n",
    "# we have same func same argument but implementation change then method overriding\n",
    "# func ka name same h parameter change ho jay then method overloading\n",
    "\n",
    "class father:\n",
    "    def func(self,a,b):\n",
    "        print(\"father class : \",a+b)\n",
    "\n",
    "class child(father):\n",
    "    def func(self,x,y):\n",
    "        print(\"child class : \",x*y)\n",
    "\n",
    "c1=child()\n",
    "c1.func(10,20)"
   ]
  },
  {
   "cell_type": "code",
   "execution_count": 67,
   "id": "41049624-f92f-4a08-8730-c8fd6806aef5",
   "metadata": {},
   "outputs": [],
   "source": [
    "# function will run from bottom to top\n",
    "# we achieve polymorphism by overriding\n",
    "# by default python can't able to achieve method overloading but we can achieve method overloading by variable len argument"
   ]
  },
  {
   "cell_type": "code",
   "execution_count": 84,
   "id": "ae486c98-0206-4b3d-bb75-977e27e2c43b",
   "metadata": {},
   "outputs": [
    {
     "name": "stdout",
     "output_type": "stream",
     "text": [
      "AddNo has a total of 30\n",
      "30\n",
      "AddNo has a total of 35\n",
      "hey hello\n",
      "None\n",
      "greater than value\n",
      "None\n"
     ]
    }
   ],
   "source": [
    "# Operator Overloading\n",
    "\n",
    "# repr is a func which change the ref of the object\n",
    "# we use repr for testing the code\n",
    "# changes the bahviour of the operator\n",
    "\n",
    "class addno:\n",
    "    def __init__(self,num,num1):\n",
    "        self.total=num+num1\n",
    "\n",
    "    def __repr__(self):\n",
    "        return f\"AddNo has a total of {self.total}\"\n",
    "\n",
    "    def __add__(self,x):  #x is the overloading parameter\n",
    "        print(\"hey hello\")\n",
    "\n",
    "    def __gt__(self,y):  #here y is the overloading parameter\n",
    "        print(\"greater than value\")\n",
    "\n",
    "a1=addno(10,20)\n",
    "print(a1)\n",
    "print(a1.total)\n",
    "\n",
    "a2=addno(15,20)\n",
    "print(a2)\n",
    "\n",
    "print(a1+a2) # a1.__add__(a2) # a1 take the ref of self and x takes the ref of a2\n",
    "print(a1>a2)"
   ]
  },
  {
   "cell_type": "code",
   "execution_count": 85,
   "id": "3bb9b6ff-f2a4-4f34-acc1-fcf5710c973f",
   "metadata": {},
   "outputs": [],
   "source": [
    "# + => __add__ , - => __sub__ , > => __gt__\n",
    "# dunder func are spaeicial func or magic func they are built in func in python or defined in it."
   ]
  },
  {
   "cell_type": "code",
   "execution_count": 86,
   "id": "2d191405-e006-46aa-90f4-0a75617ec6b0",
   "metadata": {},
   "outputs": [],
   "source": [
    "# Encapsulation\n",
    "# It is used to bind methods and var together for accessing \n",
    "# public , protected , private , default"
   ]
  },
  {
   "cell_type": "code",
   "execution_count": 87,
   "id": "c8935fc6-2844-4072-aed5-1fa00d6463cf",
   "metadata": {},
   "outputs": [],
   "source": [
    "# we have 4 modifiers => public means open to all  protected => only the child class can use it \n",
    "# private => private with in the class  default => package protected => we can use it in the place only where it is created"
   ]
  },
  {
   "cell_type": "code",
   "execution_count": 88,
   "id": "75ff92ed-4e6f-4fb2-86d2-c9424c16e11b",
   "metadata": {},
   "outputs": [],
   "source": [
    "# We can achieve encapsulation but reality m python m hota nhi h"
   ]
  },
  {
   "cell_type": "code",
   "execution_count": 102,
   "id": "c9bf5002-3160-4473-8ba3-11e38e513f32",
   "metadata": {},
   "outputs": [
    {
     "name": "stdout",
     "output_type": "stream",
     "text": [
      "amount is 1000\n"
     ]
    },
    {
     "data": {
      "text/plain": [
       "1000"
      ]
     },
     "execution_count": 102,
     "metadata": {},
     "output_type": "execute_result"
    }
   ],
   "source": [
    "class register:\n",
    "    _amount=100 #protected => single underscore => this var should act as a protected var but reality m hota nhi h\n",
    "    company='regex' #public\n",
    "    __salary=1000 #private => kisi class ya kisi var k aage double underscore lgado\n",
    "\n",
    "    def abc(self):\n",
    "        print(\"amount is\",self.__salary)\n",
    "\n",
    "r1=register()\n",
    "r1.abc()\n",
    "r1._amount\n",
    "r1._register__salary # we can access private by this in reality ntg is like private  _class__var"
   ]
  },
  {
   "cell_type": "code",
   "execution_count": 119,
   "id": "8ff64b8c-c76d-4b62-bd55-92e0af7b9350",
   "metadata": {},
   "outputs": [
    {
     "name": "stdout",
     "output_type": "stream",
     "text": [
      "python test marks is 20\n"
     ]
    }
   ],
   "source": [
    "# Abstraction\n",
    "# it is feature in which we hide the unwanted details\n",
    "# we use parent class as a blueprint for all the child class\n",
    "# the parent class which we use as a blue print is an abstract class\n",
    "# abstract class should have atleast one abstract method\n",
    "# abstract method are those method which are not implemented\n",
    "\n",
    "from abc import ABC, abstractmethod\n",
    "# this ABC is abtract base class\n",
    "\n",
    "class testTemplate(ABC):\n",
    "    year=2025\n",
    "    \n",
    "    @abstractmethod\n",
    "    def marks(self):\n",
    "        pass\n",
    "\n",
    "class pythonTest(testTemplate):\n",
    "    def marks(self):\n",
    "        print(\"python test marks is 20\")\n",
    "\n",
    "pt1=pythonTest()\n",
    "pt1.marks()\n",
    "\n",
    "# tt1=testTemplate()\n",
    "# tt1.marks() # we can't able to create an object of abstract class"
   ]
  },
  {
   "cell_type": "code",
   "execution_count": 120,
   "id": "8cca0e5d-c2ed-4323-8fad-4441bc9d82e1",
   "metadata": {},
   "outputs": [],
   "source": [
    "# class method static method instance method\n",
    "\n",
    "# class => class var associated with the class\n",
    "# only class var can be accessed\n",
    "# in class method first para is cls\n",
    "# @classmethod\n",
    "\n",
    "# instance => instamce var associated with the object\n",
    "# instance and class both can be accessed\n",
    "# in this first para is self\n",
    "\n",
    "# static => can be accessed by class as well as object\n",
    "# instance and class both can't able to access\n",
    "# @staticmethod"
   ]
  },
  {
   "cell_type": "code",
   "execution_count": 2,
   "id": "fa59636b-b66a-4bd9-96b6-93c736cfddeb",
   "metadata": {},
   "outputs": [],
   "source": [
    "# which class will be the base class of the one class => object is the base class of all classes in python\n",
    "\n",
    "# if__name__==_main__ =>youtube => corey schafer\n",
    "\n",
    "# obj = new classname() =>is incorrect because Python does not use new like some other languages (e.g., Java, C++).\n",
    "    # In Python, we directly call the class name (like a function) to create an object.\n",
    "    # The __init__() method (constructor) is automatically executed when an object is instantiated.\n",
    "\n",
    "# diff between __init__ vs __new__\n",
    "    # __new__ (Handles Object Creation)\n",
    "    # Purpose: It is responsible for creating a new instance of a class.\n",
    "    # Returns: It must return a new instance of the class.\n",
    "    # When to Use: Typically used when inheriting from immutable types (e.g., int, str, tuple) or for singleton patterns.\n",
    "    # Called Before __init__.\n",
    "\n",
    "    # __init__ (Handles Object Initialization)\n",
    "    # Purpose: It is used to initialize the attributes of an instance.\n",
    "    # Returns: It does not return anything (None).\n",
    "    # When to Use: To set up instance variables.\n",
    "\n",
    "# constructor chaining"
   ]
  },
  {
   "cell_type": "code",
   "execution_count": null,
   "id": "f762896e-cf20-4e5a-8684-ec2dd20dc6ea",
   "metadata": {},
   "outputs": [],
   "source": []
  }
 ],
 "metadata": {
  "kernelspec": {
   "display_name": "Python 3 (ipykernel)",
   "language": "python",
   "name": "python3"
  },
  "language_info": {
   "codemirror_mode": {
    "name": "ipython",
    "version": 3
   },
   "file_extension": ".py",
   "mimetype": "text/x-python",
   "name": "python",
   "nbconvert_exporter": "python",
   "pygments_lexer": "ipython3",
   "version": "3.12.3"
  }
 },
 "nbformat": 4,
 "nbformat_minor": 5
}
